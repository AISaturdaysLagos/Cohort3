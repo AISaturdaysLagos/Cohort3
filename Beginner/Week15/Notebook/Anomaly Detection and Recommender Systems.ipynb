{
 "cells": [
  {
   "cell_type": "markdown",
   "metadata": {},
   "source": [
    "# Anomaly Detection and Recommender Systems"
   ]
  },
  {
   "cell_type": "markdown",
   "metadata": {},
   "source": [
    "#### AI Saturday Lagos Begineers Class (Instructors: `Tejumade Afonja`, `Kenechi Dukor`)\n",
    "This exercise is adopted from [Andrew Ng Machine Learning Course](https://www.coursera.org/learn/machine-learning)"
   ]
  },
  {
   "cell_type": "code",
   "execution_count": 1,
   "metadata": {},
   "outputs": [],
   "source": [
    "import numpy as np\n",
    "import pandas as pd\n",
    "import matplotlib.pyplot as plt\n",
    "from scipy.io import loadmat\n",
    "from scipy.optimize import minimize\n",
    "import scipy as sp\n",
    "import re"
   ]
  },
  {
   "cell_type": "markdown",
   "metadata": {},
   "source": [
    "### Anomaly Detection\n",
    "\n",
    "In this exercise, you will implement an anomaly detection algorithm to detect anomalous behavior in server computers. The features measure the throughput (mb/s) and latency (ms) of response of each server."
   ]
  },
  {
   "cell_type": "code",
   "execution_count": null,
   "metadata": {},
   "outputs": [],
   "source": [
    "data = loadmat('data/ex8data1.mat')\n",
    "data.keys()"
   ]
  },
  {
   "cell_type": "code",
   "execution_count": null,
   "metadata": {},
   "outputs": [],
   "source": [
    "X = data['X']\n",
    "X_val = data['Xval']\n",
    "y_val = data['yval']"
   ]
  },
  {
   "cell_type": "code",
   "execution_count": null,
   "metadata": {},
   "outputs": [],
   "source": [
    "print(f'Shape of Training Data: {X.shape}')\n",
    "print(f'Shape of Validation: {X_val.shape}')"
   ]
  },
  {
   "cell_type": "code",
   "execution_count": null,
   "metadata": {},
   "outputs": [],
   "source": [
    "plt.figure(figsize=(10,5))\n",
    "plt.scatter(X[:,0], X[:,1], marker='+')\n",
    "plt.xlabel('Latency (ms)')\n",
    "plt.ylabel('Throughput (mb/s)');"
   ]
  },
  {
   "cell_type": "markdown",
   "metadata": {},
   "source": [
    "### Estimate parameters for the gaussian"
   ]
  },
  {
   "cell_type": "markdown",
   "metadata": {},
   "source": [
    "To perform anomaly detection, you will first need to fit a model to the data’s distribution. Given a training set {x(1), …, x(m)} (where x(i) ∈ R^n, here n = 2), you want to estimate the Gaussian distribution for each of the features. For each feature (i = 1 . . . n), you need to find parameters mean and variance(mu, sigma²). "
   ]
  },
  {
   "cell_type": "code",
   "execution_count": null,
   "metadata": {},
   "outputs": [],
   "source": [
    "mu = np.mean(X, axis=0) # Mean\n",
    "std = np.std(X, axis=0) # Standard Deviation"
   ]
  },
  {
   "cell_type": "code",
   "execution_count": null,
   "metadata": {},
   "outputs": [],
   "source": [
    "print(f'the mean is: {list(mu)}')\n",
    "print(f'the std is: {list(std)}')"
   ]
  },
  {
   "cell_type": "code",
   "execution_count": null,
   "metadata": {},
   "outputs": [],
   "source": [
    "def gaussian_2d(X, mu, std):\n",
    "    k = mu.size\n",
    "\n",
    "    sigma2 = std**2\n",
    "    Sigma2 = np.diag(sigma2)\n",
    "\n",
    "    X = X - mu\n",
    "    p = (2 * np.pi) ** (- k / 2) * np.linalg.det(Sigma2) ** (-0.5)\\\n",
    "    * np.exp(-0.5 * np.sum(np.dot(X, np.linalg.pinv(Sigma2)) * X, axis=1))\n",
    "    \n",
    "    return p\n",
    "\n",
    "def visualizeGaussian(X, mu, std, X_val=None):\n",
    "    \n",
    "    X1, X2 = np.meshgrid(np.arange(0, 35.5, 0.5), np.arange(0, 35.5, 0.5))\n",
    "    Z = gaussian_2d(np.stack([X1.ravel(), X2.ravel()], axis=1), mu, std)\n",
    "    Z = Z.reshape(X1.shape)\n",
    "    \n",
    "    plt.figure(figsize=(10,5))\n",
    "\n",
    "    plt.scatter(X[:, 0], X[:, 1], marker='+')\n",
    "    \n",
    "    \n",
    "    if np.all(abs(Z) != np.inf):\n",
    "        plt.contour(X1, X2, Z, levels=10**(np.arange(-20., 1, 3)), zorder=100)"
   ]
  },
  {
   "cell_type": "code",
   "execution_count": null,
   "metadata": {},
   "outputs": [],
   "source": [
    "visualizeGaussian(X,mu,std,X_val)"
   ]
  },
  {
   "cell_type": "markdown",
   "metadata": {},
   "source": [
    "### Selecting the threshold, ε"
   ]
  },
  {
   "cell_type": "code",
   "execution_count": null,
   "metadata": {},
   "outputs": [],
   "source": [
    "def selectThresh(y,p):\n",
    "    beste = 0\n",
    "    bestF1 = 0\n",
    "    F1 = 0\n",
    "    y = y.ravel()\n",
    "    es = []\n",
    "    bfs = []\n",
    "    \n",
    "   # we find the stepsize to have a wide range of threshold values to decide the best one.\n",
    "    for e in np.linspace(1.01*min(p), max(p), 1000): \n",
    "        # ====================== YOUR CODE HERE =======================\n",
    "        res = (p < e)*1\n",
    "        tp = np.sum((res == 1) * (y == 1))\n",
    "        fp = np.sum((res == 1) * (y == 0))\n",
    "        fn = np.sum((res == 0) * (y == 1))\n",
    "        \n",
    "        precision = tp/(tp+fp)\n",
    "        recall = tp/(tp+fn)\n",
    "        F1 = (2*precision*recall)/(precision+recall)\n",
    "        es.append(e)\n",
    "        bfs.append(F1)\n",
    "        # =============================================================\n",
    "        \n",
    "        if F1 > bestF1:\n",
    "            print(f'-- F1:{F1}, bestF1:{bestF1}, beste:{e}')\n",
    "            bestF1 = F1\n",
    "            beste = e\n",
    "    history = [es, bfs]\n",
    "    return beste, bestF1, history"
   ]
  },
  {
   "cell_type": "code",
   "execution_count": null,
   "metadata": {},
   "outputs": [],
   "source": [
    "y_val.shape"
   ]
  },
  {
   "cell_type": "code",
   "execution_count": null,
   "metadata": {},
   "outputs": [],
   "source": []
  },
  {
   "cell_type": "code",
   "execution_count": null,
   "metadata": {},
   "outputs": [],
   "source": [
    "p = gaussian_2d(X_val,mu,std)\n",
    "epsilon, bF1, history = selectThresh(y_val,p)"
   ]
  },
  {
   "cell_type": "code",
   "execution_count": null,
   "metadata": {},
   "outputs": [],
   "source": [
    "plt.plot(history[0], history[1])\n",
    "plt.xlabel('epsilon')\n",
    "plt.ylabel('F1 score')"
   ]
  },
  {
   "cell_type": "code",
   "execution_count": null,
   "metadata": {},
   "outputs": [],
   "source": [
    "pred_anom = ((p < epsilon)*1 == y_val.ravel())*1\n",
    "pred_anom"
   ]
  },
  {
   "cell_type": "code",
   "execution_count": null,
   "metadata": {},
   "outputs": [],
   "source": [
    "pred = (p < epsilon)*1"
   ]
  },
  {
   "cell_type": "code",
   "execution_count": null,
   "metadata": {},
   "outputs": [],
   "source": [
    "pred"
   ]
  },
  {
   "cell_type": "markdown",
   "metadata": {},
   "source": [
    "validation anomalies"
   ]
  },
  {
   "cell_type": "code",
   "execution_count": null,
   "metadata": {},
   "outputs": [],
   "source": [
    "plt.figure(figsize=(10,8))\n",
    "plt.scatter(X_val[pred == 0][:,0],X_val[pred == 0][:,1])\n",
    "plt.scatter(X_val[pred == 1][:,0],X_val[pred == 1][:,1], c='red')"
   ]
  },
  {
   "cell_type": "markdown",
   "metadata": {},
   "source": [
    "# Recommender System"
   ]
  },
  {
   "cell_type": "markdown",
   "metadata": {},
   "source": [
    "We will implement the collaborative filtering learning algorithm and apply it to a dataset of movie ratings (MovieLens 100k Dataset from GroupLens Research). This dataset consists of ratings on a scale of 1 to 5. The dataset has $n_u = 943$ users, and $n_m = 1682$ movies."
   ]
  },
  {
   "cell_type": "markdown",
   "metadata": {},
   "source": [
    "### Load Data"
   ]
  },
  {
   "cell_type": "markdown",
   "metadata": {},
   "source": [
    "#### Movies rating dataset\n",
    "\n",
    "We will load the dataset `ex8_movies.mat`, providing the variables `Y` and `R`. The matrix `Y` (a num_movies $\\times$ num_users matrix) stores the ratings $y^{(i,j)}$ (from 1 to 5). The matrix `R` is an binary-valued indicator matrix, where $R(i, j) = 1$ if user $j$ gave a rating to movie $i$, and $R(i, j) = 0$ otherwise. The objective of collaborative filtering is to predict movie ratings for the movies that users have not yet rated, that is, the entries with $R(i, j) = 0$. This will allow us to recommend the movies with the highest predicted ratings to the user."
   ]
  },
  {
   "cell_type": "code",
   "execution_count": 2,
   "metadata": {},
   "outputs": [],
   "source": [
    "data2 = loadmat('data/ex8_movies.mat')"
   ]
  },
  {
   "cell_type": "code",
   "execution_count": 3,
   "metadata": {},
   "outputs": [
    {
     "data": {
      "text/plain": [
       "dict_keys(['__header__', '__version__', '__globals__', 'Y', 'R'])"
      ]
     },
     "execution_count": 3,
     "metadata": {},
     "output_type": "execute_result"
    }
   ],
   "source": [
    "data2.keys()"
   ]
  },
  {
   "cell_type": "code",
   "execution_count": 4,
   "metadata": {},
   "outputs": [],
   "source": [
    "Y = data2['Y']\n",
    "R = data2['R']"
   ]
  },
  {
   "cell_type": "code",
   "execution_count": 5,
   "metadata": {},
   "outputs": [
    {
     "name": "stdout",
     "output_type": "stream",
     "text": [
      "Y shape:  (1682, 943) and R shape:  (1682, 943)\n"
     ]
    }
   ],
   "source": [
    "print(\"Y shape: \", Y.shape, \"and R shape: \", R.shape)"
   ]
  },
  {
   "cell_type": "markdown",
   "metadata": {},
   "source": [
    "Lets take a look at the actual movies that exist in the dataset and preprocess them into a `word_index`"
   ]
  },
  {
   "cell_type": "code",
   "execution_count": 6,
   "metadata": {},
   "outputs": [],
   "source": [
    "data_movie_ids = np.loadtxt('data/movie_ids.txt', dtype=np.str, delimiter='\\n')"
   ]
  },
  {
   "cell_type": "code",
   "execution_count": 7,
   "metadata": {},
   "outputs": [
    {
     "data": {
      "text/plain": [
       "array(['1 Toy Story (1995)', '2 GoldenEye (1995)', '3 Four Rooms (1995)',\n",
       "       ..., '1680 Sliding Doors (1998)', '1681 You So Crazy (1994)',\n",
       "       '1682 Scream of Stone (Schrei aus Stein) (1991)'], dtype='<U86')"
      ]
     },
     "execution_count": 7,
     "metadata": {},
     "output_type": "execute_result"
    }
   ],
   "source": [
    "data_movie_ids"
   ]
  },
  {
   "cell_type": "code",
   "execution_count": 8,
   "metadata": {},
   "outputs": [],
   "source": [
    "# Restructuring to word_index\n",
    "index_movie_list = [re.split(' ', row, maxsplit=1) for row in data_movie_ids]\n",
    "movie_index_dict = {movie: int(index) - 1 for index, movie in index_movie_list}"
   ]
  },
  {
   "cell_type": "code",
   "execution_count": 9,
   "metadata": {},
   "outputs": [
    {
     "data": {
      "text/plain": [
       "{'Toy Story (1995)': 0,\n",
       " 'GoldenEye (1995)': 1,\n",
       " 'Four Rooms (1995)': 2,\n",
       " 'Get Shorty (1995)': 3,\n",
       " 'Copycat (1995)': 4,\n",
       " 'Shanghai Triad (Yao a yao yao dao waipo qiao) (1995)': 5,\n",
       " 'Twelve Monkeys (1995)': 6,\n",
       " 'Babe (1995)': 7,\n",
       " 'Dead Man Walking (1995)': 8,\n",
       " 'Richard III (1995)': 9,\n",
       " 'Seven (Se7en) (1995)': 10,\n",
       " 'Usual Suspects, The (1995)': 11,\n",
       " 'Mighty Aphrodite (1995)': 12,\n",
       " 'Postino, Il (1994)': 13,\n",
       " \"Mr. Holland's Opus (1995)\": 14,\n",
       " 'French Twist (Gazon maudit) (1995)': 15,\n",
       " 'From Dusk Till Dawn (1996)': 16,\n",
       " 'White Balloon, The (1995)': 17,\n",
       " \"Antonia's Line (1995)\": 18,\n",
       " 'Angels and Insects (1995)': 19,\n",
       " 'Muppet Treasure Island (1996)': 20,\n",
       " 'Braveheart (1995)': 21,\n",
       " 'Taxi Driver (1976)': 22,\n",
       " 'Rumble in the Bronx (1995)': 23,\n",
       " 'Birdcage, The (1996)': 24,\n",
       " 'Brothers McMullen, The (1995)': 25,\n",
       " 'Bad Boys (1995)': 26,\n",
       " 'Apollo 13 (1995)': 27,\n",
       " 'Batman Forever (1995)': 28,\n",
       " 'Belle de jour (1967)': 29,\n",
       " 'Crimson Tide (1995)': 30,\n",
       " 'Crumb (1994)': 31,\n",
       " 'Desperado (1995)': 32,\n",
       " 'Doom Generation, The (1995)': 33,\n",
       " 'Free Willy 2: The Adventure Home (1995)': 34,\n",
       " 'Mad Love (1995)': 35,\n",
       " 'Nadja (1994)': 36,\n",
       " 'Net, The (1995)': 37,\n",
       " 'Strange Days (1995)': 38,\n",
       " 'To Wong Foo, Thanks for Everything! Julie Newmar (1995)': 39,\n",
       " 'Billy Madison (1995)': 40,\n",
       " 'Clerks (1994)': 41,\n",
       " 'Disclosure (1994)': 42,\n",
       " 'Dolores Claiborne (1994)': 43,\n",
       " 'Eat Drink Man Woman (1994)': 44,\n",
       " 'Exotica (1994)': 45,\n",
       " 'Ed Wood (1994)': 46,\n",
       " 'Hoop Dreams (1994)': 47,\n",
       " 'I.Q. (1994)': 48,\n",
       " 'Star Wars (1977)': 49,\n",
       " 'Legends of the Fall (1994)': 50,\n",
       " 'Madness of King George, The (1994)': 51,\n",
       " 'Natural Born Killers (1994)': 52,\n",
       " 'Outbreak (1995)': 53,\n",
       " 'Professional, The (1994)': 54,\n",
       " 'Pulp Fiction (1994)': 55,\n",
       " 'Priest (1994)': 56,\n",
       " 'Quiz Show (1994)': 57,\n",
       " 'Three Colors: Red (1994)': 58,\n",
       " 'Three Colors: Blue (1993)': 59,\n",
       " 'Three Colors: White (1994)': 60,\n",
       " 'Stargate (1994)': 61,\n",
       " 'Santa Clause, The (1994)': 62,\n",
       " 'Shawshank Redemption, The (1994)': 63,\n",
       " \"What's Eating Gilbert Grape (1993)\": 64,\n",
       " 'While You Were Sleeping (1995)': 65,\n",
       " 'Ace Ventura: Pet Detective (1994)': 66,\n",
       " 'Crow, The (1994)': 67,\n",
       " 'Forrest Gump (1994)': 68,\n",
       " 'Four Weddings and a Funeral (1994)': 69,\n",
       " 'Lion King, The (1994)': 70,\n",
       " 'Mask, The (1994)': 71,\n",
       " 'Maverick (1994)': 72,\n",
       " 'Faster Pussycat! Kill! Kill! (1965)': 73,\n",
       " 'Brother Minister: The Assassination of Malcolm X (1994)': 74,\n",
       " \"Carlito's Way (1993)\": 75,\n",
       " 'Firm, The (1993)': 76,\n",
       " 'Free Willy (1993)': 77,\n",
       " 'Fugitive, The (1993)': 78,\n",
       " 'Hot Shots! Part Deux (1993)': 79,\n",
       " 'Hudsucker Proxy, The (1994)': 80,\n",
       " 'Jurassic Park (1993)': 81,\n",
       " 'Much Ado About Nothing (1993)': 82,\n",
       " \"Robert A. Heinlein's The Puppet Masters (1994)\": 83,\n",
       " 'Ref, The (1994)': 84,\n",
       " 'Remains of the Day, The (1993)': 85,\n",
       " 'Searching for Bobby Fischer (1993)': 86,\n",
       " 'Sleepless in Seattle (1993)': 87,\n",
       " 'Blade Runner (1982)': 88,\n",
       " 'So I Married an Axe Murderer (1993)': 89,\n",
       " 'Nightmare Before Christmas, The (1993)': 90,\n",
       " 'True Romance (1993)': 91,\n",
       " 'Welcome to the Dollhouse (1995)': 92,\n",
       " 'Home Alone (1990)': 93,\n",
       " 'Aladdin (1992)': 94,\n",
       " 'Terminator 2: Judgment Day (1991)': 95,\n",
       " 'Dances with Wolves (1990)': 96,\n",
       " 'Silence of the Lambs, The (1991)': 97,\n",
       " 'Snow White and the Seven Dwarfs (1937)': 98,\n",
       " 'Fargo (1996)': 99,\n",
       " 'Heavy Metal (1981)': 100,\n",
       " 'Aristocats, The (1970)': 101,\n",
       " 'All Dogs Go to Heaven 2 (1996)': 102,\n",
       " 'Theodore Rex (1995)': 103,\n",
       " 'Sgt. Bilko (1996)': 104,\n",
       " 'Diabolique (1996)': 105,\n",
       " 'Moll Flanders (1996)': 106,\n",
       " 'Kids in the Hall: Brain Candy (1996)': 107,\n",
       " 'Mystery Science Theater 3000: The Movie (1996)': 108,\n",
       " 'Operation Dumbo Drop (1995)': 109,\n",
       " 'Truth About Cats & Dogs, The (1996)': 110,\n",
       " 'Flipper (1996)': 111,\n",
       " 'Horseman on the Roof, The (Hussard sur le toit, Le) (1995)': 112,\n",
       " 'Wallace & Gromit: The Best of Aardman Animation (1996)': 113,\n",
       " 'Haunted World of Edward D. Wood Jr., The (1995)': 114,\n",
       " 'Cold Comfort Farm (1995)': 115,\n",
       " 'Rock, The (1996)': 116,\n",
       " 'Twister (1996)': 117,\n",
       " 'Maya Lin: A Strong Clear Vision (1994)': 118,\n",
       " 'Striptease (1996)': 119,\n",
       " 'Independence Day (ID4) (1996)': 120,\n",
       " 'Cable Guy, The (1996)': 121,\n",
       " 'Frighteners, The (1996)': 122,\n",
       " 'Lone Star (1996)': 123,\n",
       " 'Phenomenon (1996)': 124,\n",
       " 'Spitfire Grill, The (1996)': 125,\n",
       " 'Godfather, The (1972)': 126,\n",
       " 'Supercop (1992)': 127,\n",
       " 'Bound (1996)': 128,\n",
       " 'Kansas City (1996)': 129,\n",
       " \"Breakfast at Tiffany's (1961)\": 130,\n",
       " 'Wizard of Oz, The (1939)': 131,\n",
       " 'Gone with the Wind (1939)': 132,\n",
       " 'Citizen Kane (1941)': 133,\n",
       " '2001: A Space Odyssey (1968)': 134,\n",
       " 'Mr. Smith Goes to Washington (1939)': 135,\n",
       " 'Big Night (1996)': 136,\n",
       " 'D3: The Mighty Ducks (1996)': 137,\n",
       " 'Love Bug, The (1969)': 138,\n",
       " 'Homeward Bound: The Incredible Journey (1993)': 139,\n",
       " '20,000 Leagues Under the Sea (1954)': 140,\n",
       " 'Bedknobs and Broomsticks (1971)': 141,\n",
       " 'Sound of Music, The (1965)': 142,\n",
       " 'Die Hard (1988)': 143,\n",
       " 'Lawnmower Man, The (1992)': 144,\n",
       " 'Unhook the Stars (1996)': 145,\n",
       " 'Long Kiss Goodnight, The (1996)': 146,\n",
       " 'Ghost and the Darkness, The (1996)': 147,\n",
       " 'Jude (1996)': 148,\n",
       " 'Swingers (1996)': 149,\n",
       " 'Willy Wonka and the Chocolate Factory (1971)': 150,\n",
       " 'Sleeper (1973)': 151,\n",
       " 'Fish Called Wanda, A (1988)': 152,\n",
       " \"Monty Python's Life of Brian (1979)\": 153,\n",
       " 'Dirty Dancing (1987)': 154,\n",
       " 'Reservoir Dogs (1992)': 155,\n",
       " 'Platoon (1986)': 156,\n",
       " \"Weekend at Bernie's (1989)\": 157,\n",
       " 'Basic Instinct (1992)': 158,\n",
       " 'Glengarry Glen Ross (1992)': 159,\n",
       " 'Top Gun (1986)': 160,\n",
       " 'On Golden Pond (1981)': 161,\n",
       " 'Return of the Pink Panther, The (1974)': 162,\n",
       " 'Abyss, The (1989)': 163,\n",
       " 'Jean de Florette (1986)': 164,\n",
       " 'Manon of the Spring (Manon des sources) (1986)': 165,\n",
       " 'Private Benjamin (1980)': 166,\n",
       " 'Monty Python and the Holy Grail (1974)': 167,\n",
       " 'Wrong Trousers, The (1993)': 168,\n",
       " 'Cinema Paradiso (1988)': 169,\n",
       " 'Delicatessen (1991)': 170,\n",
       " 'Empire Strikes Back, The (1980)': 171,\n",
       " 'Princess Bride, The (1987)': 172,\n",
       " 'Raiders of the Lost Ark (1981)': 173,\n",
       " 'Brazil (1985)': 174,\n",
       " 'Aliens (1986)': 175,\n",
       " 'Good, The Bad and The Ugly, The (1966)': 176,\n",
       " '12 Angry Men (1957)': 177,\n",
       " 'Clockwork Orange, A (1971)': 178,\n",
       " 'Apocalypse Now (1979)': 179,\n",
       " 'Return of the Jedi (1983)': 180,\n",
       " 'GoodFellas (1990)': 181,\n",
       " 'Alien (1979)': 182,\n",
       " 'Army of Darkness (1993)': 183,\n",
       " 'Psycho (1960)': 184,\n",
       " 'Blues Brothers, The (1980)': 185,\n",
       " 'Godfather: Part II, The (1974)': 186,\n",
       " 'Full Metal Jacket (1987)': 187,\n",
       " 'Grand Day Out, A (1992)': 188,\n",
       " 'Henry V (1989)': 189,\n",
       " 'Amadeus (1984)': 190,\n",
       " 'Raging Bull (1980)': 191,\n",
       " 'Right Stuff, The (1983)': 192,\n",
       " 'Sting, The (1973)': 193,\n",
       " 'Terminator, The (1984)': 194,\n",
       " 'Dead Poets Society (1989)': 195,\n",
       " 'Graduate, The (1967)': 196,\n",
       " 'Nikita (La Femme Nikita) (1990)': 197,\n",
       " 'Bridge on the River Kwai, The (1957)': 198,\n",
       " 'Shining, The (1980)': 199,\n",
       " 'Evil Dead II (1987)': 200,\n",
       " 'Groundhog Day (1993)': 201,\n",
       " 'Unforgiven (1992)': 202,\n",
       " 'Back to the Future (1985)': 203,\n",
       " 'Patton (1970)': 204,\n",
       " 'Akira (1988)': 205,\n",
       " 'Cyrano de Bergerac (1990)': 206,\n",
       " 'Young Frankenstein (1974)': 207,\n",
       " 'This Is Spinal Tap (1984)': 208,\n",
       " 'Indiana Jones and the Last Crusade (1989)': 209,\n",
       " 'M*A*S*H (1970)': 210,\n",
       " 'Unbearable Lightness of Being, The (1988)': 211,\n",
       " 'Room with a View, A (1986)': 212,\n",
       " 'Pink Floyd - The Wall (1982)': 213,\n",
       " 'Field of Dreams (1989)': 214,\n",
       " 'When Harry Met Sally... (1989)': 215,\n",
       " \"Bram Stoker's Dracula (1992)\": 216,\n",
       " 'Cape Fear (1991)': 217,\n",
       " 'Nightmare on Elm Street, A (1984)': 218,\n",
       " 'Mirror Has Two Faces, The (1996)': 219,\n",
       " 'Breaking the Waves (1996)': 220,\n",
       " 'Star Trek: First Contact (1996)': 221,\n",
       " 'Sling Blade (1996)': 222,\n",
       " 'Ridicule (1996)': 223,\n",
       " '101 Dalmatians (1996)': 224,\n",
       " 'Die Hard 2 (1990)': 225,\n",
       " 'Star Trek VI: The Undiscovered Country (1991)': 226,\n",
       " 'Star Trek: The Wrath of Khan (1982)': 227,\n",
       " 'Star Trek III: The Search for Spock (1984)': 228,\n",
       " 'Star Trek IV: The Voyage Home (1986)': 229,\n",
       " 'Batman Returns (1992)': 230,\n",
       " 'Young Guns (1988)': 231,\n",
       " 'Under Siege (1992)': 232,\n",
       " 'Jaws (1975)': 233,\n",
       " 'Mars Attacks! (1996)': 234,\n",
       " 'Citizen Ruth (1996)': 235,\n",
       " 'Jerry Maguire (1996)': 236,\n",
       " 'Raising Arizona (1987)': 237,\n",
       " 'Sneakers (1992)': 238,\n",
       " 'Beavis and Butt-head Do America (1996)': 239,\n",
       " 'Last of the Mohicans, The (1992)': 240,\n",
       " 'Kolya (1996)': 241,\n",
       " 'Jungle2Jungle (1997)': 242,\n",
       " \"Smilla's Sense of Snow (1997)\": 243,\n",
       " \"Devil's Own, The (1997)\": 244,\n",
       " 'Chasing Amy (1997)': 267,\n",
       " 'Turbo: A Power Rangers Movie (1997)': 246,\n",
       " 'Grosse Pointe Blank (1997)': 247,\n",
       " 'Austin Powers: International Man of Mystery (1997)': 248,\n",
       " 'Fifth Element, The (1997)': 249,\n",
       " 'Shall We Dance? (1996)': 250,\n",
       " 'Lost World: Jurassic Park, The (1997)': 251,\n",
       " 'Pillow Book, The (1995)': 252,\n",
       " 'Batman & Robin (1997)': 253,\n",
       " \"My Best Friend's Wedding (1997)\": 254,\n",
       " 'When the Cats Away (Chacun cherche son chat) (1996)': 255,\n",
       " 'Men in Black (1997)': 256,\n",
       " 'Contact (1997)': 257,\n",
       " 'George of the Jungle (1997)': 258,\n",
       " 'Event Horizon (1997)': 259,\n",
       " 'Air Bud (1997)': 260,\n",
       " 'In the Company of Men (1997)': 261,\n",
       " 'Steel (1997)': 262,\n",
       " 'Mimic (1997)': 263,\n",
       " 'Hunt for Red October, The (1990)': 264,\n",
       " 'Kull the Conqueror (1997)': 679,\n",
       " 'unknown': 266,\n",
       " 'Full Monty, The (1997)': 268,\n",
       " 'Gattaca (1997)': 269,\n",
       " 'Starship Troopers (1997)': 270,\n",
       " 'Good Will Hunting (1997)': 271,\n",
       " 'Heat (1995)': 272,\n",
       " 'Sabrina (1995)': 273,\n",
       " 'Sense and Sensibility (1995)': 274,\n",
       " 'Leaving Las Vegas (1995)': 275,\n",
       " 'Restoration (1995)': 276,\n",
       " 'Bed of Roses (1996)': 277,\n",
       " 'Once Upon a Time... When We Were Colored (1995)': 278,\n",
       " 'Up Close and Personal (1996)': 279,\n",
       " 'River Wild, The (1994)': 280,\n",
       " 'Time to Kill, A (1996)': 281,\n",
       " 'Emma (1996)': 282,\n",
       " 'Tin Cup (1996)': 283,\n",
       " 'Secrets & Lies (1996)': 284,\n",
       " 'English Patient, The (1996)': 285,\n",
       " \"Marvin's Room (1996)\": 286,\n",
       " 'Scream (1996)': 287,\n",
       " 'Evita (1996)': 288,\n",
       " 'Fierce Creatures (1997)': 289,\n",
       " 'Absolute Power (1997)': 290,\n",
       " 'Rosewood (1997)': 291,\n",
       " 'Donnie Brasco (1997)': 292,\n",
       " 'Liar Liar (1997)': 293,\n",
       " 'Breakdown (1997)': 294,\n",
       " 'Promesse, La (1996)': 295,\n",
       " \"Ulee's Gold (1997)\": 302,\n",
       " 'Face/Off (1997)': 297,\n",
       " 'Hoodlum (1997)': 298,\n",
       " 'Air Force One (1997)': 299,\n",
       " 'In & Out (1997)': 300,\n",
       " 'L.A. Confidential (1997)': 301,\n",
       " 'Fly Away Home (1996)': 499,\n",
       " 'Ice Storm, The (1997)': 864,\n",
       " 'Mrs. Brown (Her Majesty, Mrs. Brown) (1997)': 305,\n",
       " \"Devil's Advocate, The (1997)\": 306,\n",
       " 'FairyTale: A True Story (1997)': 307,\n",
       " 'Deceiver (1997)': 1605,\n",
       " 'Rainmaker, The (1997)': 309,\n",
       " 'Wings of the Dove, The (1997)': 310,\n",
       " 'Midnight in the Garden of Good and Evil (1997)': 311,\n",
       " 'Titanic (1997)': 312,\n",
       " '3 Ninjas: High Noon At Mega Mountain (1998)': 313,\n",
       " 'Apt Pupil (1998)': 314,\n",
       " 'As Good As It Gets (1997)': 315,\n",
       " 'In the Name of the Father (1993)': 316,\n",
       " \"Schindler's List (1993)\": 317,\n",
       " 'Everyone Says I Love You (1996)': 318,\n",
       " 'Paradise Lost: The Child Murders at Robin Hood Hills (1996)': 319,\n",
       " 'Mother (1996)': 320,\n",
       " 'Murder at 1600 (1997)': 321,\n",
       " \"Dante's Peak (1997)\": 322,\n",
       " 'Lost Highway (1997)': 323,\n",
       " 'Crash (1996)': 324,\n",
       " 'G.I. Jane (1997)': 325,\n",
       " 'Cop Land (1997)': 326,\n",
       " 'Conspiracy Theory (1997)': 327,\n",
       " 'Desperate Measures (1998)': 347,\n",
       " '187 (1997)': 329,\n",
       " 'Edge, The (1997)': 330,\n",
       " 'Kiss the Girls (1997)': 331,\n",
       " 'Game, The (1997)': 332,\n",
       " 'U Turn (1997)': 333,\n",
       " 'How to Be a Player (1997)': 334,\n",
       " 'Playing God (1997)': 335,\n",
       " 'House of Yes, The (1997)': 336,\n",
       " 'Bean (1997)': 337,\n",
       " 'Mad City (1997)': 338,\n",
       " 'Boogie Nights (1997)': 339,\n",
       " 'Critical Care (1997)': 340,\n",
       " 'Man Who Knew Too Little, The (1997)': 341,\n",
       " 'Alien: Resurrection (1997)': 342,\n",
       " 'Apostle, The (1997)': 343,\n",
       " 'Deconstructing Harry (1997)': 344,\n",
       " 'Jackie Brown (1997)': 345,\n",
       " 'Wag the Dog (1997)': 346,\n",
       " 'Hard Rain (1998)': 348,\n",
       " 'Fallen (1998)': 349,\n",
       " 'Prophecy II, The (1998)': 350,\n",
       " 'Spice World (1997)': 351,\n",
       " 'Deep Rising (1998)': 352,\n",
       " 'Wedding Singer, The (1998)': 353,\n",
       " 'Sphere (1998)': 354,\n",
       " 'Client, The (1994)': 355,\n",
       " \"One Flew Over the Cuckoo's Nest (1975)\": 356,\n",
       " 'Spawn (1997)': 357,\n",
       " 'Assignment, The (1997)': 358,\n",
       " 'Wonderland (1997)': 359,\n",
       " 'Incognito (1997)': 360,\n",
       " 'Blues Brothers 2000 (1998)': 361,\n",
       " 'Sudden Death (1995)': 362,\n",
       " 'Ace Ventura: When Nature Calls (1995)': 363,\n",
       " 'Powder (1995)': 364,\n",
       " 'Dangerous Minds (1995)': 365,\n",
       " 'Clueless (1995)': 366,\n",
       " 'Bio-Dome (1996)': 367,\n",
       " 'Black Sheep (1996)': 368,\n",
       " 'Mary Reilly (1996)': 369,\n",
       " 'Bridges of Madison County, The (1995)': 370,\n",
       " 'Jeffrey (1995)': 371,\n",
       " 'Judge Dredd (1995)': 372,\n",
       " 'Mighty Morphin Power Rangers: The Movie (1995)': 373,\n",
       " 'Showgirls (1995)': 374,\n",
       " 'Houseguest (1994)': 375,\n",
       " 'Heavyweights (1994)': 376,\n",
       " 'Miracle on 34th Street (1994)': 377,\n",
       " 'Tales From the Crypt Presents: Demon Knight (1995)': 378,\n",
       " 'Star Trek: Generations (1994)': 379,\n",
       " \"Muriel's Wedding (1994)\": 380,\n",
       " 'Adventures of Priscilla, Queen of the Desert, The (1994)': 381,\n",
       " 'Flintstones, The (1994)': 382,\n",
       " 'Naked Gun 33 1/3: The Final Insult (1994)': 383,\n",
       " 'True Lies (1994)': 384,\n",
       " 'Addams Family Values (1993)': 385,\n",
       " 'Age of Innocence, The (1993)': 386,\n",
       " 'Beverly Hills Cop III (1994)': 387,\n",
       " 'Black Beauty (1994)': 388,\n",
       " 'Fear of a Black Hat (1993)': 389,\n",
       " 'Last Action Hero (1993)': 390,\n",
       " 'Man Without a Face, The (1993)': 391,\n",
       " 'Mrs. Doubtfire (1993)': 392,\n",
       " 'Radioland Murders (1994)': 393,\n",
       " 'Robin Hood: Men in Tights (1993)': 394,\n",
       " 'Serial Mom (1994)': 395,\n",
       " 'Striking Distance (1993)': 396,\n",
       " 'Super Mario Bros. (1993)': 397,\n",
       " 'Three Musketeers, The (1993)': 398,\n",
       " 'Little Rascals, The (1994)': 399,\n",
       " 'Brady Bunch Movie, The (1995)': 400,\n",
       " 'Ghost (1990)': 401,\n",
       " 'Batman (1989)': 402,\n",
       " 'Pinocchio (1940)': 403,\n",
       " 'Mission: Impossible (1996)': 404,\n",
       " 'Thinner (1996)': 405,\n",
       " 'Spy Hard (1996)': 406,\n",
       " 'Close Shave, A (1995)': 407,\n",
       " 'Jack (1996)': 408,\n",
       " 'Kingpin (1996)': 409,\n",
       " 'Nutty Professor, The (1996)': 410,\n",
       " 'Very Brady Sequel, A (1996)': 411,\n",
       " 'Tales from the Crypt Presents: Bordello of Blood (1996)': 412,\n",
       " 'My Favorite Year (1982)': 413,\n",
       " 'Apple Dumpling Gang, The (1975)': 414,\n",
       " 'Old Yeller (1957)': 415,\n",
       " 'Parent Trap, The (1961)': 416,\n",
       " 'Cinderella (1950)': 417,\n",
       " 'Mary Poppins (1964)': 418,\n",
       " 'Alice in Wonderland (1951)': 419,\n",
       " \"William Shakespeare's Romeo and Juliet (1996)\": 420,\n",
       " 'Aladdin and the King of Thieves (1996)': 421,\n",
       " 'E.T. the Extra-Terrestrial (1982)': 422,\n",
       " 'Children of the Corn: The Gathering (1996)': 423,\n",
       " 'Bob Roberts (1992)': 424,\n",
       " 'Transformers: The Movie, The (1986)': 425,\n",
       " 'To Kill a Mockingbird (1962)': 426,\n",
       " 'Harold and Maude (1971)': 427,\n",
       " 'Day the Earth Stood Still, The (1951)': 428,\n",
       " 'Duck Soup (1933)': 429,\n",
       " 'Highlander (1986)': 430,\n",
       " 'Fantasia (1940)': 431,\n",
       " 'Heathers (1989)': 432,\n",
       " 'Forbidden Planet (1956)': 433,\n",
       " 'Butch Cassidy and the Sundance Kid (1969)': 434,\n",
       " 'American Werewolf in London, An (1981)': 435,\n",
       " \"Amityville 1992: It's About Time (1992)\": 436,\n",
       " 'Amityville 3-D (1983)': 437,\n",
       " 'Amityville: A New Generation (1993)': 438,\n",
       " 'Amityville II: The Possession (1982)': 439,\n",
       " 'Amityville Horror, The (1979)': 440,\n",
       " 'Amityville Curse, The (1990)': 441,\n",
       " 'Birds, The (1963)': 442,\n",
       " 'Blob, The (1958)': 443,\n",
       " 'Body Snatcher, The (1945)': 444,\n",
       " 'Burnt Offerings (1976)': 445,\n",
       " 'Carrie (1976)': 446,\n",
       " 'Omen, The (1976)': 447,\n",
       " 'Star Trek: The Motion Picture (1979)': 448,\n",
       " 'Star Trek V: The Final Frontier (1989)': 449,\n",
       " 'Grease (1978)': 450,\n",
       " 'Jaws 2 (1978)': 451,\n",
       " 'Jaws 3-D (1983)': 452,\n",
       " 'Bastard Out of Carolina (1996)': 453,\n",
       " \"Jackie Chan's First Strike (1996)\": 454,\n",
       " 'Beverly Hills Ninja (1997)': 455,\n",
       " 'Free Willy 3: The Rescue (1997)': 456,\n",
       " 'Nixon (1995)': 457,\n",
       " 'Cry, the Beloved Country (1995)': 458,\n",
       " 'Crossing Guard, The (1995)': 459,\n",
       " 'Smoke (1995)': 460,\n",
       " 'Like Water For Chocolate (Como agua para chocolate) (1992)': 461,\n",
       " 'Secret of Roan Inish, The (1994)': 462,\n",
       " 'Vanya on 42nd Street (1994)': 463,\n",
       " 'Jungle Book, The (1994)': 464,\n",
       " 'Red Rock West (1992)': 465,\n",
       " 'Bronx Tale, A (1993)': 466,\n",
       " 'Rudy (1993)': 467,\n",
       " 'Short Cuts (1993)': 468,\n",
       " 'Tombstone (1993)': 469,\n",
       " 'Courage Under Fire (1996)': 470,\n",
       " 'Dragonheart (1996)': 471,\n",
       " 'James and the Giant Peach (1996)': 472,\n",
       " 'Dr. Strangelove or: How I Learned to Stop Worrying and Love the Bomb (1963)': 473,\n",
       " 'Trainspotting (1996)': 474,\n",
       " 'First Wives Club, The (1996)': 475,\n",
       " 'Matilda (1996)': 476,\n",
       " 'Philadelphia Story, The (1940)': 477,\n",
       " 'Vertigo (1958)': 478,\n",
       " 'North by Northwest (1959)': 479,\n",
       " 'Apartment, The (1960)': 480,\n",
       " 'Some Like It Hot (1959)': 481,\n",
       " 'Casablanca (1942)': 482,\n",
       " 'Maltese Falcon, The (1941)': 483,\n",
       " 'My Fair Lady (1964)': 484,\n",
       " 'Sabrina (1954)': 485,\n",
       " 'Roman Holiday (1953)': 486,\n",
       " 'Sunset Blvd. (1950)': 487,\n",
       " 'Notorious (1946)': 488,\n",
       " 'To Catch a Thief (1955)': 489,\n",
       " 'Adventures of Robin Hood, The (1938)': 490,\n",
       " 'East of Eden (1955)': 491,\n",
       " 'Thin Man, The (1934)': 492,\n",
       " 'His Girl Friday (1940)': 493,\n",
       " 'Around the World in 80 Days (1956)': 494,\n",
       " \"It's a Wonderful Life (1946)\": 495,\n",
       " 'Bringing Up Baby (1938)': 496,\n",
       " 'African Queen, The (1951)': 497,\n",
       " 'Cat on a Hot Tin Roof (1958)': 498,\n",
       " 'Dumbo (1941)': 500,\n",
       " 'Bananas (1971)': 501,\n",
       " 'Candidate, The (1972)': 502,\n",
       " 'Bonnie and Clyde (1967)': 503,\n",
       " 'Dial M for Murder (1954)': 504,\n",
       " 'Rebel Without a Cause (1955)': 505,\n",
       " 'Streetcar Named Desire, A (1951)': 506,\n",
       " 'People vs. Larry Flynt, The (1996)': 507,\n",
       " 'My Left Foot (1989)': 508,\n",
       " 'Magnificent Seven, The (1954)': 509,\n",
       " 'Lawrence of Arabia (1962)': 510,\n",
       " 'Wings of Desire (1987)': 511,\n",
       " 'Third Man, The (1949)': 512,\n",
       " 'Annie Hall (1977)': 513,\n",
       " 'Boot, Das (1981)': 514,\n",
       " 'Local Hero (1983)': 515,\n",
       " 'Manhattan (1979)': 516,\n",
       " \"Miller's Crossing (1990)\": 517,\n",
       " 'Treasure of the Sierra Madre, The (1948)': 518,\n",
       " 'Great Escape, The (1963)': 519,\n",
       " 'Deer Hunter, The (1978)': 520,\n",
       " 'Down by Law (1986)': 521,\n",
       " 'Cool Hand Luke (1967)': 522,\n",
       " 'Great Dictator, The (1940)': 523,\n",
       " 'Big Sleep, The (1946)': 524,\n",
       " 'Ben-Hur (1959)': 525,\n",
       " 'Gandhi (1982)': 526,\n",
       " 'Killing Fields, The (1984)': 527,\n",
       " 'My Life as a Dog (Mitt liv som hund) (1985)': 528,\n",
       " 'Man Who Would Be King, The (1975)': 529,\n",
       " 'Shine (1996)': 530,\n",
       " 'Kama Sutra: A Tale of Love (1996)': 531,\n",
       " 'Daytrippers, The (1996)': 532,\n",
       " 'Traveller (1997)': 533,\n",
       " 'Addicted to Love (1997)': 534,\n",
       " 'Ponette (1996)': 535,\n",
       " 'My Own Private Idaho (1991)': 536,\n",
       " 'Anastasia (1997)': 537,\n",
       " 'Mouse Hunt (1997)': 538,\n",
       " 'Money Train (1995)': 539,\n",
       " 'Mortal Kombat (1995)': 540,\n",
       " 'Pocahontas (1995)': 541,\n",
       " 'Miserables, Les (1995)': 542,\n",
       " \"Things to Do in Denver when You're Dead (1995)\": 543,\n",
       " 'Vampire in Brooklyn (1995)': 544,\n",
       " 'Broken Arrow (1996)': 545,\n",
       " \"Young Poisoner's Handbook, The (1995)\": 546,\n",
       " 'NeverEnding Story III, The (1994)': 547,\n",
       " 'Rob Roy (1995)': 548,\n",
       " 'Die Hard: With a Vengeance (1995)': 549,\n",
       " 'Lord of Illusions (1995)': 550,\n",
       " 'Species (1995)': 551,\n",
       " 'Walk in the Clouds, A (1995)': 552,\n",
       " 'Waterworld (1995)': 553,\n",
       " \"White Man's Burden (1995)\": 554,\n",
       " 'Wild Bill (1995)': 555,\n",
       " 'Farinelli: il castrato (1994)': 556,\n",
       " 'Heavenly Creatures (1994)': 557,\n",
       " 'Interview with the Vampire (1994)': 558,\n",
       " \"Kid in King Arthur's Court, A (1995)\": 559,\n",
       " \"Mary Shelley's Frankenstein (1994)\": 560,\n",
       " 'Quick and the Dead, The (1995)': 561,\n",
       " \"Stephen King's The Langoliers (1995)\": 562,\n",
       " 'Tales from the Hood (1995)': 563,\n",
       " 'Village of the Damned (1995)': 564,\n",
       " 'Clear and Present Danger (1994)': 565,\n",
       " \"Wes Craven's New Nightmare (1994)\": 566,\n",
       " 'Speed (1994)': 567,\n",
       " 'Wolf (1994)': 568,\n",
       " 'Wyatt Earp (1994)': 569,\n",
       " 'Another Stakeout (1993)': 570,\n",
       " 'Blown Away (1994)': 571,\n",
       " 'Body Snatchers (1993)': 669,\n",
       " 'Boxing Helena (1993)': 573,\n",
       " \"City Slickers II: The Legend of Curly's Gold (1994)\": 574,\n",
       " 'Cliffhanger (1993)': 575,\n",
       " 'Coneheads (1993)': 576,\n",
       " 'Demolition Man (1993)': 577,\n",
       " 'Fatal Instinct (1993)': 578,\n",
       " 'Englishman Who Went Up a Hill, But Came Down a Mountain, The (1995)': 579,\n",
       " 'Kalifornia (1993)': 580,\n",
       " 'Piano, The (1993)': 581,\n",
       " 'Romeo Is Bleeding (1993)': 582,\n",
       " 'Secret Garden, The (1993)': 583,\n",
       " 'Son in Law (1993)': 584,\n",
       " 'Terminal Velocity (1994)': 585,\n",
       " 'Hour of the Pig, The (1993)': 586,\n",
       " 'Beauty and the Beast (1991)': 587,\n",
       " 'Wild Bunch, The (1969)': 588,\n",
       " 'Hellraiser: Bloodline (1996)': 589,\n",
       " 'Primal Fear (1996)': 590,\n",
       " 'True Crime (1995)': 591,\n",
       " 'Stalingrad (1993)': 592,\n",
       " 'Heavy (1995)': 593,\n",
       " 'Fan, The (1996)': 594,\n",
       " 'Hunchback of Notre Dame, The (1996)': 595,\n",
       " 'Eraser (1996)': 596,\n",
       " 'Big Squeeze, The (1996)': 597,\n",
       " 'Police Story 4: Project S (Chao ji ji hua) (1993)': 598,\n",
       " \"Daniel Defoe's Robinson Crusoe (1996)\": 599,\n",
       " 'For Whom the Bell Tolls (1943)': 600,\n",
       " 'American in Paris, An (1951)': 601,\n",
       " 'Rear Window (1954)': 602,\n",
       " 'It Happened One Night (1934)': 603,\n",
       " 'Meet Me in St. Louis (1944)': 604,\n",
       " 'All About Eve (1950)': 605,\n",
       " 'Rebecca (1940)': 606,\n",
       " 'Spellbound (1945)': 607,\n",
       " 'Father of the Bride (1950)': 608,\n",
       " 'Gigi (1958)': 609,\n",
       " 'Laura (1944)': 610,\n",
       " 'Lost Horizon (1937)': 611,\n",
       " 'My Man Godfrey (1936)': 612,\n",
       " 'Giant (1956)': 613,\n",
       " '39 Steps, The (1935)': 614,\n",
       " 'Night of the Living Dead (1968)': 615,\n",
       " 'Blue Angel, The (Blaue Engel, Der) (1930)': 616,\n",
       " 'Picnic (1955)': 617,\n",
       " 'Extreme Measures (1996)': 618,\n",
       " 'Chamber, The (1996)': 619,\n",
       " 'Davy Crockett, King of the Wild Frontier (1955)': 620,\n",
       " 'Swiss Family Robinson (1960)': 621,\n",
       " 'Angels in the Outfield (1994)': 622,\n",
       " 'Three Caballeros, The (1945)': 623,\n",
       " 'Sword in the Stone, The (1963)': 624,\n",
       " 'So Dear to My Heart (1949)': 625,\n",
       " 'Robin Hood: Prince of Thieves (1991)': 626,\n",
       " 'Sleepers (1996)': 627,\n",
       " 'Victor/Victoria (1982)': 628,\n",
       " 'Great Race, The (1965)': 629,\n",
       " 'Crying Game, The (1992)': 630,\n",
       " \"Sophie's Choice (1982)\": 631,\n",
       " 'Christmas Carol, A (1938)': 632,\n",
       " \"Microcosmos: Le peuple de l'herbe (1996)\": 633,\n",
       " 'Fog, The (1980)': 634,\n",
       " 'Escape from New York (1981)': 635,\n",
       " 'Howling, The (1981)': 636,\n",
       " 'Return of Martin Guerre, The (Retour de Martin Guerre, Le) (1982)': 637,\n",
       " 'Tin Drum, The (Blechtrommel, Die) (1979)': 638,\n",
       " 'Cook the Thief His Wife & Her Lover, The (1989)': 639,\n",
       " 'Paths of Glory (1957)': 640,\n",
       " 'Grifters, The (1990)': 641,\n",
       " 'The Innocent (1994)': 642,\n",
       " 'Thin Blue Line, The (1988)': 643,\n",
       " 'Paris Is Burning (1990)': 644,\n",
       " 'Once Upon a Time in the West (1969)': 645,\n",
       " 'Ran (1985)': 646,\n",
       " 'Quiet Man, The (1952)': 647,\n",
       " 'Once Upon a Time in America (1984)': 648,\n",
       " 'Seventh Seal, The (Sjunde inseglet, Det) (1957)': 649,\n",
       " 'Glory (1989)': 650,\n",
       " 'Rosencrantz and Guildenstern Are Dead (1990)': 651,\n",
       " 'Touch of Evil (1958)': 652,\n",
       " 'Chinatown (1974)': 653,\n",
       " 'Stand by Me (1986)': 654,\n",
       " 'M (1931)': 655,\n",
       " 'Manchurian Candidate, The (1962)': 656,\n",
       " 'Pump Up the Volume (1990)': 657,\n",
       " 'Arsenic and Old Lace (1944)': 658,\n",
       " 'Fried Green Tomatoes (1991)': 659,\n",
       " 'High Noon (1952)': 660,\n",
       " 'Somewhere in Time (1980)': 661,\n",
       " 'Being There (1979)': 662,\n",
       " 'Paris, Texas (1984)': 663,\n",
       " 'Alien 3 (1992)': 664,\n",
       " \"Blood For Dracula (Andy Warhol's Dracula) (1974)\": 665,\n",
       " 'Audrey Rose (1977)': 666,\n",
       " 'Blood Beach (1981)': 667,\n",
       " 'Body Parts (1991)': 668,\n",
       " 'Bride of Frankenstein (1935)': 670,\n",
       " 'Candyman (1992)': 671,\n",
       " 'Cape Fear (1962)': 672,\n",
       " 'Cat People (1982)': 673,\n",
       " 'Nosferatu (Nosferatu, eine Symphonie des Grauens) (1922)': 674,\n",
       " 'Crucible, The (1996)': 675,\n",
       " 'Fire on the Mountain (1996)': 676,\n",
       " 'Volcano (1997)': 677,\n",
       " 'Conan the Barbarian (1981)': 678,\n",
       " 'Wishmaster (1997)': 680,\n",
       " 'I Know What You Did Last Summer (1997)': 681,\n",
       " 'Rocket Man (1997)': 682,\n",
       " 'In the Line of Fire (1993)': 683,\n",
       " 'Executive Decision (1996)': 684,\n",
       " 'Perfect World, A (1993)': 685,\n",
       " \"McHale's Navy (1997)\": 686,\n",
       " 'Leave It to Beaver (1997)': 687,\n",
       " 'Jackal, The (1997)': 688,\n",
       " 'Seven Years in Tibet (1997)': 689,\n",
       " 'Dark City (1998)': 690,\n",
       " 'American President, The (1995)': 691,\n",
       " 'Casino (1995)': 692,\n",
       " 'Persuasion (1995)': 693,\n",
       " 'Kicking and Screaming (1995)': 694,\n",
       " 'City Hall (1996)': 695,\n",
       " 'Basketball Diaries, The (1995)': 696,\n",
       " 'Browning Version, The (1994)': 697,\n",
       " 'Little Women (1994)': 698,\n",
       " 'Miami Rhapsody (1995)': 699,\n",
       " 'Wonderful, Horrible Life of Leni Riefenstahl, The (1993)': 700,\n",
       " 'Barcelona (1994)': 701,\n",
       " \"Widows' Peak (1994)\": 702,\n",
       " 'House of the Spirits, The (1993)': 703,\n",
       " \"Singin' in the Rain (1952)\": 704,\n",
       " 'Bad Moon (1996)': 705,\n",
       " 'Enchanted April (1991)': 706,\n",
       " 'Sex, Lies, and Videotape (1989)': 707,\n",
       " 'Strictly Ballroom (1992)': 708,\n",
       " 'Better Off Dead... (1985)': 709,\n",
       " 'Substance of Fire, The (1996)': 1657,\n",
       " 'Tin Men (1987)': 711,\n",
       " 'Othello (1995)': 712,\n",
       " 'Carrington (1995)': 713,\n",
       " 'To Die For (1995)': 714,\n",
       " 'Home for the Holidays (1995)': 715,\n",
       " 'Juror, The (1996)': 716,\n",
       " 'In the Bleak Midwinter (1995)': 717,\n",
       " 'Canadian Bacon (1994)': 718,\n",
       " 'First Knight (1995)': 719,\n",
       " 'Mallrats (1995)': 720,\n",
       " 'Nine Months (1995)': 721,\n",
       " 'Boys on the Side (1995)': 722,\n",
       " 'Circle of Friends (1995)': 723,\n",
       " 'Exit to Eden (1994)': 724,\n",
       " 'Fluke (1995)': 725,\n",
       " 'Immortal Beloved (1994)': 726,\n",
       " 'Junior (1994)': 727,\n",
       " 'Nell (1994)': 728,\n",
       " 'Queen Margot (Reine Margot, La) (1994)': 729,\n",
       " 'Corrina, Corrina (1994)': 730,\n",
       " 'Dave (1993)': 731,\n",
       " 'Go Fish (1994)': 732,\n",
       " 'Made in America (1993)': 733,\n",
       " 'Philadelphia (1993)': 734,\n",
       " 'Shadowlands (1993)': 735,\n",
       " 'Sirens (1994)': 736,\n",
       " 'Threesome (1994)': 737,\n",
       " 'Pretty Woman (1990)': 738,\n",
       " 'Jane Eyre (1996)': 739,\n",
       " 'Last Supper, The (1995)': 740,\n",
       " 'Ransom (1996)': 741,\n",
       " 'Crow: City of Angels, The (1996)': 742,\n",
       " 'Michael Collins (1996)': 743,\n",
       " 'Ruling Class, The (1972)': 744,\n",
       " 'Real Genius (1985)': 745,\n",
       " 'Benny & Joon (1993)': 746,\n",
       " 'Saint, The (1997)': 747,\n",
       " 'MatchMaker, The (1997)': 748,\n",
       " 'Amistad (1997)': 749,\n",
       " 'Tomorrow Never Dies (1997)': 750,\n",
       " 'Replacement Killers, The (1998)': 751,\n",
       " 'Burnt By the Sun (1994)': 752,\n",
       " 'Red Corner (1997)': 753,\n",
       " 'Jumanji (1995)': 754,\n",
       " 'Father of the Bride Part II (1995)': 755,\n",
       " 'Across the Sea of Time (1995)': 756,\n",
       " 'Lawnmower Man 2: Beyond Cyberspace (1996)': 757,\n",
       " 'Fair Game (1995)': 758,\n",
       " 'Screamers (1995)': 759,\n",
       " 'Nick of Time (1995)': 760,\n",
       " 'Beautiful Girls (1996)': 761,\n",
       " 'Happy Gilmore (1996)': 762,\n",
       " 'If Lucy Fell (1996)': 763,\n",
       " 'Boomerang (1992)': 764,\n",
       " 'Man of the Year (1995)': 765,\n",
       " 'Addiction, The (1995)': 766,\n",
       " 'Casper (1995)': 767,\n",
       " 'Congo (1995)': 768,\n",
       " 'Devil in a Blue Dress (1995)': 769,\n",
       " 'Johnny Mnemonic (1995)': 770,\n",
       " 'Kids (1995)': 771,\n",
       " 'Mute Witness (1994)': 772,\n",
       " 'Prophecy, The (1995)': 773,\n",
       " 'Something to Talk About (1995)': 774,\n",
       " 'Three Wishes (1995)': 775,\n",
       " 'Castle Freak (1995)': 776,\n",
       " 'Don Juan DeMarco (1995)': 777,\n",
       " 'Drop Zone (1994)': 778,\n",
       " 'Dumb & Dumber (1994)': 779,\n",
       " 'French Kiss (1995)': 780,\n",
       " 'Little Odessa (1994)': 781,\n",
       " 'Milk Money (1994)': 782,\n",
       " 'Beyond Bedlam (1993)': 783,\n",
       " 'Only You (1994)': 784,\n",
       " 'Perez Family, The (1995)': 785,\n",
       " 'Roommates (1995)': 786,\n",
       " 'Relative Fear (1994)': 787,\n",
       " 'Swimming with Sharks (1995)': 788,\n",
       " 'Tommy Boy (1995)': 789,\n",
       " 'Baby-Sitters Club, The (1995)': 790,\n",
       " 'Bullets Over Broadway (1994)': 791,\n",
       " 'Crooklyn (1994)': 792,\n",
       " 'It Could Happen to You (1994)': 793,\n",
       " 'Richie Rich (1994)': 794,\n",
       " 'Speechless (1994)': 795,\n",
       " 'Timecop (1994)': 796,\n",
       " 'Bad Company (1995)': 797,\n",
       " 'Boys Life (1995)': 798,\n",
       " 'In the Mouth of Madness (1995)': 799,\n",
       " 'Air Up There, The (1994)': 800,\n",
       " 'Hard Target (1993)': 801,\n",
       " 'Heaven & Earth (1993)': 802,\n",
       " 'Jimmy Hollywood (1994)': 803,\n",
       " 'Manhattan Murder Mystery (1993)': 804,\n",
       " 'Menace II Society (1993)': 805,\n",
       " 'Poetic Justice (1993)': 806,\n",
       " 'Program, The (1993)': 807,\n",
       " 'Rising Sun (1993)': 808,\n",
       " 'Shadow, The (1994)': 809,\n",
       " 'Thirty-Two Short Films About Glenn Gould (1993)': 810,\n",
       " 'Andre (1994)': 811,\n",
       " 'Celluloid Closet, The (1995)': 812,\n",
       " 'Great Day in Harlem, A (1994)': 813,\n",
       " 'One Fine Day (1996)': 814,\n",
       " 'Candyman: Farewell to the Flesh (1995)': 815,\n",
       " 'Frisk (1995)': 816,\n",
       " 'Girl 6 (1996)': 817,\n",
       " 'Eddie (1996)': 818,\n",
       " 'Space Jam (1996)': 819,\n",
       " 'Mrs. Winterbourne (1996)': 820,\n",
       " 'Faces (1968)': 821,\n",
       " 'Mulholland Falls (1996)': 822,\n",
       " 'Great White Hype, The (1996)': 823,\n",
       " 'Arrival, The (1996)': 824,\n",
       " 'Phantom, The (1996)': 825,\n",
       " 'Daylight (1996)': 826,\n",
       " 'Alaska (1996)': 827,\n",
       " 'Fled (1996)': 828,\n",
       " 'Power 98 (1995)': 829,\n",
       " 'Escape from L.A. (1996)': 830,\n",
       " 'Bogus (1996)': 831,\n",
       " 'Bulletproof (1996)': 832,\n",
       " 'Halloween: The Curse of Michael Myers (1995)': 833,\n",
       " 'Gay Divorcee, The (1934)': 834,\n",
       " 'Ninotchka (1939)': 835,\n",
       " 'Meet John Doe (1941)': 836,\n",
       " 'In the Line of Duty 2 (1987)': 837,\n",
       " 'Loch Ness (1995)': 838,\n",
       " 'Last Man Standing (1996)': 839,\n",
       " 'Glimmer Man, The (1996)': 840,\n",
       " 'Pollyanna (1960)': 841,\n",
       " 'Shaggy Dog, The (1959)': 842,\n",
       " 'Freeway (1996)': 843,\n",
       " 'That Thing You Do! (1996)': 844,\n",
       " 'To Gillian on Her 37th Birthday (1996)': 845,\n",
       " 'Looking for Richard (1996)': 846,\n",
       " 'Murder, My Sweet (1944)': 847,\n",
       " 'Days of Thunder (1990)': 848,\n",
       " 'Perfect Candidate, A (1996)': 849,\n",
       " 'Two or Three Things I Know About Her (1966)': 850,\n",
       " 'Bloody Child, The (1996)': 851,\n",
       " 'Braindead (1992)': 852,\n",
       " 'Bad Taste (1987)': 853,\n",
       " 'Diva (1981)': 854,\n",
       " 'Night on Earth (1991)': 855,\n",
       " 'Paris Was a Woman (1995)': 856,\n",
       " 'Amityville: Dollhouse (1996)': 857,\n",
       " \"April Fool's Day (1986)\": 858,\n",
       " 'Believers, The (1987)': 859,\n",
       " 'Nosferatu a Venezia (1986)': 860,\n",
       " 'Jingle All the Way (1996)': 861,\n",
       " 'Garden of Finzi-Contini, The (Giardino dei Finzi-Contini, Il) (1970)': 862,\n",
       " 'My Fellow Americans (1996)': 863,\n",
       " 'Michael (1996)': 865,\n",
       " 'Whole Wide World, The (1996)': 866,\n",
       " 'Hearts and Minds (1996)': 867,\n",
       " 'Fools Rush In (1997)': 868,\n",
       " 'Touch (1997)': 869,\n",
       " 'Vegas Vacation (1997)': 870,\n",
       " 'Love Jones (1997)': 871,\n",
       " 'Picture Perfect (1997)': 872,\n",
       " 'Career Girls (1997)': 873,\n",
       " \"She's So Lovely (1997)\": 874,\n",
       " 'Money Talks (1997)': 880,\n",
       " 'Excess Baggage (1997)': 876,\n",
       " 'That Darn Cat! (1997)': 1002,\n",
       " 'Peacemaker, The (1997)': 878,\n",
       " 'Soul Food (1997)': 879,\n",
       " 'Washington Square (1997)': 881,\n",
       " 'Telling Lies in America (1997)': 882,\n",
       " 'Year of the Horse (1997)': 883,\n",
       " 'Phantoms (1998)': 884,\n",
       " 'Life Less Ordinary, A (1997)': 885,\n",
       " \"Eve's Bayou (1997)\": 886,\n",
       " 'One Night Stand (1997)': 887,\n",
       " 'Tango Lesson, The (1997)': 888,\n",
       " 'Mortal Kombat: Annihilation (1997)': 889,\n",
       " 'Bent (1997)': 890,\n",
       " 'Flubber (1997)': 891,\n",
       " 'For Richer or Poorer (1997)': 892,\n",
       " 'Home Alone 3 (1997)': 893,\n",
       " 'Scream 2 (1997)': 894,\n",
       " 'Sweet Hereafter, The (1997)': 895,\n",
       " 'Time Tracers (1995)': 896,\n",
       " 'Postman, The (1997)': 897,\n",
       " 'Winter Guest, The (1997)': 898,\n",
       " 'Kundun (1997)': 899,\n",
       " 'Mr. Magoo (1997)': 900,\n",
       " 'Big Lebowski, The (1998)': 901,\n",
       " 'Afterglow (1997)': 902,\n",
       " 'Ma vie en rose (My Life in Pink) (1997)': 903,\n",
       " 'Great Expectations (1998)': 904,\n",
       " 'Oscar & Lucinda (1997)': 905,\n",
       " 'Vermin (1998)': 906,\n",
       " 'Half Baked (1998)': 907,\n",
       " 'Dangerous Beauty (1998)': 908,\n",
       " 'Nil By Mouth (1997)': 909,\n",
       " 'Twilight (1998)': 910,\n",
       " 'U.S. Marshalls (1998)': 911,\n",
       " 'Love and Death on Long Island (1997)': 912,\n",
       " 'Wild Things (1998)': 913,\n",
       " 'Primary Colors (1998)': 914,\n",
       " 'Lost in Space (1998)': 915,\n",
       " 'Mercury Rising (1998)': 916,\n",
       " 'City of Angels (1998)': 917,\n",
       " 'City of Lost Children, The (1995)': 918,\n",
       " 'Two Bits (1995)': 919,\n",
       " 'Farewell My Concubine (1993)': 920,\n",
       " 'Dead Man (1995)': 921,\n",
       " 'Raise the Red Lantern (1991)': 922,\n",
       " 'White Squall (1996)': 923,\n",
       " 'Unforgettable (1996)': 924,\n",
       " 'Down Periscope (1996)': 925,\n",
       " 'Flower of My Secret, The (Flor de mi secreto, La) (1995)': 926,\n",
       " 'Craft, The (1996)': 927,\n",
       " 'Harriet the Spy (1996)': 928,\n",
       " 'Chain Reaction (1996)': 929,\n",
       " 'Island of Dr. Moreau, The (1996)': 930,\n",
       " 'First Kid (1996)': 931,\n",
       " 'Funeral, The (1996)': 932,\n",
       " \"Preacher's Wife, The (1996)\": 933,\n",
       " 'Paradise Road (1997)': 934,\n",
       " 'Brassed Off (1996)': 935,\n",
       " 'Thousand Acres, A (1997)': 936,\n",
       " 'Smile Like Yours, A (1997)': 937,\n",
       " 'Murder in the First (1995)': 938,\n",
       " 'Airheads (1994)': 939,\n",
       " 'With Honors (1994)': 940,\n",
       " \"What's Love Got to Do with It (1993)\": 941,\n",
       " 'Killing Zoe (1994)': 942,\n",
       " 'Renaissance Man (1994)': 943,\n",
       " 'Charade (1963)': 944,\n",
       " 'Fox and the Hound, The (1981)': 945,\n",
       " 'Big Blue, The (Grand bleu, Le) (1988)': 946,\n",
       " 'Booty Call (1997)': 947,\n",
       " 'How to Make an American Quilt (1995)': 948,\n",
       " 'Georgia (1995)': 949,\n",
       " 'Indian in the Cupboard, The (1995)': 950,\n",
       " 'Blue in the Face (1995)': 951,\n",
       " 'Unstrung Heroes (1995)': 952,\n",
       " 'Unzipped (1995)': 953,\n",
       " 'Before Sunrise (1995)': 954,\n",
       " \"Nobody's Fool (1994)\": 955,\n",
       " 'Pushing Hands (1992)': 956,\n",
       " 'To Live (Huozhe) (1994)': 957,\n",
       " 'Dazed and Confused (1993)': 958,\n",
       " 'Naked (1993)': 959,\n",
       " 'Orlando (1993)': 960,\n",
       " 'Ruby in Paradise (1993)': 961,\n",
       " 'Some Folks Call It a Sling Blade (1993)': 962,\n",
       " 'Month by the Lake, A (1995)': 963,\n",
       " 'Funny Face (1957)': 964,\n",
       " 'Affair to Remember, An (1957)': 965,\n",
       " 'Little Lord Fauntleroy (1936)': 966,\n",
       " 'Inspector General, The (1949)': 967,\n",
       " 'Winnie the Pooh and the Blustery Day (1968)': 968,\n",
       " 'Hear My Song (1991)': 969,\n",
       " 'Mediterraneo (1991)': 970,\n",
       " 'Passion Fish (1992)': 971,\n",
       " 'Grateful Dead (1995)': 972,\n",
       " 'Eye for an Eye (1996)': 973,\n",
       " 'Fear (1996)': 974,\n",
       " 'Solo (1996)': 975,\n",
       " 'Substitute, The (1996)': 976,\n",
       " \"Heaven's Prisoners (1996)\": 977,\n",
       " 'Trigger Effect, The (1996)': 978,\n",
       " 'Mother Night (1996)': 979,\n",
       " 'Dangerous Ground (1997)': 980,\n",
       " 'Maximum Risk (1996)': 981,\n",
       " \"Rich Man's Wife, The (1996)\": 982,\n",
       " 'Shadow Conspiracy (1997)': 983,\n",
       " 'Blood & Wine (1997)': 984,\n",
       " 'Turbulence (1997)': 985,\n",
       " 'Underworld (1997)': 986,\n",
       " 'Beautician and the Beast, The (1997)': 987,\n",
       " \"Cats Don't Dance (1997)\": 988,\n",
       " 'Anna Karenina (1997)': 989,\n",
       " 'Keys to Tulsa (1997)': 990,\n",
       " 'Head Above Water (1996)': 991,\n",
       " 'Hercules (1997)': 992,\n",
       " 'Last Time I Committed Suicide, The (1997)': 993,\n",
       " 'Kiss Me, Guido (1997)': 994,\n",
       " 'Big Green, The (1995)': 995,\n",
       " 'Stuart Saves His Family (1995)': 996,\n",
       " 'Cabin Boy (1994)': 997,\n",
       " 'Clean Slate (1994)': 998,\n",
       " 'Lightning Jack (1994)': 999,\n",
       " 'Stupids, The (1996)': 1000,\n",
       " 'Pest, The (1997)': 1001,\n",
       " 'Geronimo: An American Legend (1993)': 1003,\n",
       " 'Double vie de Veronique, La (Double Life of Veronique, The) (1991)': 1004,\n",
       " 'Until the End of the World (Bis ans Ende der Welt) (1991)': 1005,\n",
       " 'Waiting for Guffman (1996)': 1006,\n",
       " 'I Shot Andy Warhol (1996)': 1007,\n",
       " 'Stealing Beauty (1996)': 1008,\n",
       " ...}"
      ]
     },
     "execution_count": 9,
     "metadata": {},
     "output_type": "execute_result"
    }
   ],
   "source": [
    "movie_index_dict"
   ]
  },
  {
   "cell_type": "markdown",
   "metadata": {},
   "source": [
    "#### Simple Exploration"
   ]
  },
  {
   "cell_type": "code",
   "execution_count": 10,
   "metadata": {},
   "outputs": [
    {
     "name": "stdout",
     "output_type": "stream",
     "text": [
      "3.8783185840707963\n"
     ]
    }
   ],
   "source": [
    "index = movie_index_dict['Toy Story (1995)']\n",
    "print (np.mean(Y[index][R[index] == 1]))"
   ]
  },
  {
   "cell_type": "code",
   "execution_count": 11,
   "metadata": {},
   "outputs": [],
   "source": [
    "# find the mean of movies that were no rated"
   ]
  },
  {
   "cell_type": "markdown",
   "metadata": {},
   "source": [
    "#### Visualization"
   ]
  },
  {
   "cell_type": "code",
   "execution_count": 12,
   "metadata": {},
   "outputs": [
    {
     "data": {
      "image/png": "[encoded data removed]",
      "text/plain": [
       "<Figure size 504x504 with 2 Axes>"
      ]
     },
     "metadata": {
      "needs_background": "light"
     },
     "output_type": "display_data"
    }
   ],
   "source": [
    "fig = plt.figure(figsize=(7,7))\n",
    "imshow_out = plt.imshow(Y, cmap=plt.get_cmap('Greys'), vmin=0, vmax=5, interpolation = 'nearest', aspect=0.5)\n",
    "plt.xlabel('Users')\n",
    "plt.ylabel('Movies')\n",
    "\n",
    "ax_cb = fig.add_axes([0.93, 0.165, 0.03, 0.695])\n",
    "markersize = plt.rcParams['lines.markersize'] # The adjustments to 'lines.markersize' in this code block prevent points of size \"markersize\" from appearing in the corners of the colorbar.\n",
    "plt.rcParams['lines.markersize'] = 0.1 \n",
    "fig.colorbar(imshow_out, cax=ax_cb, ticks=[])\n",
    "ax_cb.text(6, 0.010, '0', verticalalignment='center', horizontalalignment='left')\n",
    "ax_cb.text(6, 4.9, '5', verticalalignment='center', horizontalalignment='left')\n",
    "ax_cb.text(7, 2.5, 'Rating between 1 and 5 (0 indicates NA)', verticalalignment='center', horizontalalignment='left', rotation=90)\n",
    "plt.rcParams['lines.markersize'] = markersize\n"
   ]
  },
  {
   "cell_type": "markdown",
   "metadata": {},
   "source": [
    "### Collaborative filtering learning algorithm"
   ]
  },
  {
   "cell_type": "markdown",
   "metadata": {},
   "source": [
    "#### Load pre-trained weights (X, Theta, num_users, num_movies, num_features)"
   ]
  },
  {
   "cell_type": "code",
   "execution_count": 13,
   "metadata": {},
   "outputs": [],
   "source": [
    "movies_params_dict = loadmat('data/ex8_movieParams.mat')"
   ]
  },
  {
   "cell_type": "code",
   "execution_count": 14,
   "metadata": {},
   "outputs": [
    {
     "data": {
      "text/plain": [
       "dict_keys(['__header__', '__version__', '__globals__', 'X', 'Theta', 'num_users', 'num_movies', 'num_features'])"
      ]
     },
     "execution_count": 14,
     "metadata": {},
     "output_type": "execute_result"
    }
   ],
   "source": [
    "movies_params_dict.keys()"
   ]
  },
  {
   "cell_type": "code",
   "execution_count": 15,
   "metadata": {},
   "outputs": [],
   "source": [
    "X = movies_params_dict['X']\n",
    "Theta = movies_params_dict['Theta']"
   ]
  },
  {
   "cell_type": "markdown",
   "metadata": {},
   "source": [
    "#### Collaborative Filtering Cost Function"
   ]
  },
  {
   "cell_type": "markdown",
   "metadata": {},
   "source": [
    "The collaborative filtering cost function (without regularization) is given by\n",
    "\n",
    "$$\n",
    "J(x^{(1)}, \\dots, x^{(n_m)}, \\theta^{(1)}, \\dots,\\theta^{(n_u)}) = \\frac{1}{2} \\sum_{(i,j):r(i,j)=1} \\left( \\left(\\theta^{(j)}\\right)^T x^{(i)} - y^{(i,j)} \\right)^2\n",
    "$$"
   ]
  },
  {
   "cell_type": "code",
   "execution_count": 16,
   "metadata": {},
   "outputs": [],
   "source": [
    "def cofi_cost_func(params, Y, R, num_users, num_movies, num_features):\n",
    "    X = params[:num_movies * num_features].reshape(num_movies, num_features)\n",
    "    Theta = params[num_movies * num_features:].reshape(num_users, num_features)\n",
    "    \n",
    "    cost = 1 / 2 * np.sum((R * X.dot(Theta.T) - Y)**2)\n",
    "    return cost"
   ]
  },
  {
   "cell_type": "code",
   "execution_count": 17,
   "metadata": {},
   "outputs": [],
   "source": [
    "# Cost function and gradients will be tested on a subset of the data.\n",
    "num_features = 3\n",
    "num_users = 4\n",
    "num_movies = 5\n",
    "\n",
    "X_ = X[:num_movies, :num_features]\n",
    "Theta = Theta[:num_users, :num_features]\n",
    "Y_ = Y[:num_movies, :num_users]\n",
    "R_ = R[:num_movies, :num_users]\n",
    "\n",
    "params = np.hstack((X_.ravel(), Theta.ravel()))"
   ]
  },
  {
   "cell_type": "code",
   "execution_count": 18,
   "metadata": {},
   "outputs": [
    {
     "name": "stdout",
     "output_type": "stream",
     "text": [
      "Cost at loaded parameters: 22.224603725685675\n"
     ]
    }
   ],
   "source": [
    "print (\"Cost at loaded parameters:\", cofi_cost_func(params, Y_, R_, num_users, num_movies, num_features))"
   ]
  },
  {
   "attachments": {},
   "cell_type": "markdown",
   "metadata": {},
   "source": [
    "#### Regularized Collaborative filtering cost function\n",
    "\n",
    "The cost function for collaborative filtering with regularization is given by\n",
    "\n",
    "$$ J(x^{(1)}, \\dots, x^{(n_m)}, \\theta^{(1)}, \\dots, \\theta^{(n_u)}) = \\frac{1}{2} \\sum_{(i,j):r(i,j)=1} \\left( \\left( \\theta^{(j)} \\right)^T x^{(i)} - y^{(i,j)} \\right)^2 + \\left( \\frac{\\lambda}{2} \\sum_{j=1}^{n_u} \\sum_{k=1}^{n} \\left( \\theta_k^{(j)} \\right)^2  \\right) + \\left( \\frac{\\lambda}{2} \\sum_{i=1}^{n_m} \\sum_{k=1}^n \\left(x_k^{(i)} \\right)^2 \\right) $$"
   ]
  },
  {
   "cell_type": "code",
   "execution_count": 19,
   "metadata": {},
   "outputs": [],
   "source": [
    "# Implement the regularized version of the collaborative filtering cost function\n",
    "def cofi_cost_func_reg(params, Y, R, num_users, num_movies, num_features, lam):\n",
    "    X = params[:num_movies * num_features].reshape(num_movies, num_features)\n",
    "    Theta = params[num_movies * num_features:].reshape(num_users, num_features)\n",
    "    \n",
    "    cost = 1 / 2 * np.sum((R * X.dot(Theta.T) - Y)**2) + lam / 2 * np.sum(X**2) + lam / 2 * np.sum(Theta**2)\n",
    "    return cost"
   ]
  },
  {
   "cell_type": "code",
   "execution_count": 20,
   "metadata": {},
   "outputs": [
    {
     "name": "stdout",
     "output_type": "stream",
     "text": [
      "Cost at loaded parameters: 31.344056244274217\n"
     ]
    }
   ],
   "source": [
    "lam = 1.5\n",
    "print (\"Cost at loaded parameters:\", cofi_cost_func_reg(params, Y_, R_, num_users, num_movies, num_features, lam))"
   ]
  },
  {
   "cell_type": "markdown",
   "metadata": {},
   "source": [
    "#### Collaborative filtering gradient"
   ]
  },
  {
   "attachments": {},
   "cell_type": "markdown",
   "metadata": {},
   "source": [
    "The gradients of the cost function is given by:\n",
    "\n",
    "$$ \\frac{\\partial J}{\\partial x_k^{(i)}} = \\sum_{j:r(i,j)=1} \\left( \\left(\\theta^{(j)}\\right)^T x^{(i)} - y^{(i,j)} \\right) \\theta_k^{(j)} $$$$ \\frac{\\partial J}{\\partial \\theta_k^{(j)}} = \\sum_{i:r(i,j)=1} \\left( \\left(\\theta^{(j)}\\right)^T x^{(i)}- y^{(i,j)} \\right) x_k^{(j)} $$\n",
    "\n",
    "Note that X_grad should be a matrix of the same size as X and similarly, Theta_grad is a matrix of the same size as Theta."
   ]
  },
  {
   "cell_type": "code",
   "execution_count": 21,
   "metadata": {},
   "outputs": [],
   "source": [
    "def cofi_cost_grad_func(params, Y, R, num_users, num_movies, num_features):\n",
    "    X = params[:num_movies * num_features].reshape(num_movies, num_features)\n",
    "    Theta = params[num_movies * num_features:].reshape(num_users, num_features)\n",
    "\n",
    "    cost = 1 / 2 * np.sum((R * X.dot(Theta.T) - Y)**2)\n",
    "    X_grad = (R * X.dot(Theta.T) - Y).dot(Theta)\n",
    "    Theta_grad = (R * X.dot(Theta.T) - Y).T.dot(X)\n",
    "    return cost, np.concatenate((X_grad.ravel(), Theta_grad.ravel()))"
   ]
  },
  {
   "cell_type": "markdown",
   "metadata": {},
   "source": [
    "#### Regularized Collaborative filtering gradient\n",
    "\n",
    "gradients for the regularized cost function is given by:\n",
    "\n",
    "$$ \\frac{\\partial J}{\\partial x_k^{(i)}} = \\sum_{j:r(i,j)=1} \\left( \\left(\\theta^{(j)}\\right)^T x^{(i)} - y^{(i,j)} \\right) \\theta_k^{(j)} + \\lambda x_k^{(i)} $$$$ \\frac{\\partial J}{\\partial \\theta_k^{(j)}} = \\sum_{i:r(i,j)=1} \\left( \\left(\\theta^{(j)}\\right)^T x^{(i)}- y^{(i,j)} \\right) x_k^{(j)} + \\lambda \\theta_k^{(j)} $$"
   ]
  },
  {
   "cell_type": "code",
   "execution_count": 22,
   "metadata": {},
   "outputs": [],
   "source": [
    "# Implement the regularized version of the collaborative filtering gradient\n",
    "def cofi_cost_grad_func_reg(params, Y, R, num_users, num_movies, num_features, lam):\n",
    "    X = params[:num_movies * num_features].reshape(num_movies, num_features)\n",
    "    Theta = params[num_movies * num_features:].reshape(num_users, num_features)\n",
    "\n",
    "    cost = 1 / 2 * np.sum((R * X.dot(Theta.T) - Y)**2)\n",
    "    X_grad = (R * X.dot(Theta.T) - Y).dot(Theta) + lam * X\n",
    "    Theta_grad = (R * X.dot(Theta.T) - Y).T.dot(X) + lam * Theta\n",
    "    return cost, np.concatenate((X_grad.ravel(), Theta_grad.ravel()))"
   ]
  },
  {
   "cell_type": "markdown",
   "metadata": {},
   "source": [
    "## Learning movie recommendations"
   ]
  },
  {
   "cell_type": "code",
   "execution_count": 23,
   "metadata": {},
   "outputs": [],
   "source": [
    "num_movies, num_users = Y.shape\n",
    "num_features = 10"
   ]
  },
  {
   "cell_type": "code",
   "execution_count": null,
   "metadata": {},
   "outputs": [],
   "source": [
    "# my_ratings = np.zeros(num_movies)\n",
    "\n",
    "# my_ratings[1-1] = 4\n",
    "# my_ratings[98-1] = 2\n",
    "# my_ratings[7-1] = 3\n",
    "# my_ratings[12-1]= 5\n",
    "# my_ratings[54-1] = 4\n",
    "# my_ratings[64-1]= 5\n",
    "# my_ratings[66-1]= 3\n",
    "# my_ratings[69-1] = 5\n",
    "# my_ratings[183-1] = 4\n",
    "# my_ratings[226-1] = 5\n",
    "# my_ratings[355-1] = 5"
   ]
  },
  {
   "cell_type": "code",
   "execution_count": 24,
   "metadata": {},
   "outputs": [],
   "source": [
    "from IPython.display import clear_output"
   ]
  },
  {
   "cell_type": "code",
   "execution_count": 25,
   "metadata": {},
   "outputs": [
    {
     "name": "stdout",
     "output_type": "stream",
     "text": [
      "Your number  7  movie\n",
      "input the movie ID: 2\n",
      "rate the movie: \n"
     ]
    },
    {
     "ename": "ValueError",
     "evalue": "invalid literal for int() with base 10: ''",
     "output_type": "error",
     "traceback": [
      "\u001b[1;31m---------------------------------------------------------------------------\u001b[0m",
      "\u001b[1;31mValueError\u001b[0m                                Traceback (most recent call last)",
      "\u001b[1;32m<ipython-input-25-9be723e259ef>\u001b[0m in \u001b[0;36m<module>\u001b[1;34m\u001b[0m\n\u001b[0;32m      5\u001b[0m     \u001b[0mprint\u001b[0m\u001b[1;33m(\u001b[0m\u001b[1;34m\"Your number \"\u001b[0m\u001b[1;33m,\u001b[0m \u001b[0mcounter\u001b[0m\u001b[1;33m+\u001b[0m\u001b[1;36m1\u001b[0m\u001b[1;33m,\u001b[0m \u001b[1;34m\" movie\"\u001b[0m\u001b[1;33m)\u001b[0m\u001b[1;33m\u001b[0m\u001b[1;33m\u001b[0m\u001b[0m\n\u001b[0;32m      6\u001b[0m     \u001b[0mmovieID\u001b[0m \u001b[1;33m=\u001b[0m \u001b[0mint\u001b[0m\u001b[1;33m(\u001b[0m\u001b[0minput\u001b[0m\u001b[1;33m(\u001b[0m\u001b[1;34m\"input the movie ID: \"\u001b[0m\u001b[1;33m)\u001b[0m\u001b[1;33m)\u001b[0m\u001b[1;33m\u001b[0m\u001b[1;33m\u001b[0m\u001b[0m\n\u001b[1;32m----> 7\u001b[1;33m     \u001b[0muserRating\u001b[0m \u001b[1;33m=\u001b[0m \u001b[0mint\u001b[0m\u001b[1;33m(\u001b[0m\u001b[0minput\u001b[0m \u001b[1;33m(\u001b[0m\u001b[1;34m\"rate the movie: \"\u001b[0m\u001b[1;33m)\u001b[0m\u001b[1;33m)\u001b[0m\u001b[1;33m\u001b[0m\u001b[1;33m\u001b[0m\u001b[0m\n\u001b[0m\u001b[0;32m      8\u001b[0m     \u001b[0mmy_ratings\u001b[0m\u001b[1;33m[\u001b[0m\u001b[0mmovieID\u001b[0m\u001b[1;33m]\u001b[0m \u001b[1;33m=\u001b[0m \u001b[0muserRating\u001b[0m\u001b[1;33m\u001b[0m\u001b[1;33m\u001b[0m\u001b[0m\n\u001b[0;32m      9\u001b[0m     \u001b[0mcounter\u001b[0m \u001b[1;33m+=\u001b[0m \u001b[1;36m1\u001b[0m\u001b[1;33m\u001b[0m\u001b[1;33m\u001b[0m\u001b[0m\n",
      "\u001b[1;31mValueError\u001b[0m: invalid literal for int() with base 10: ''"
     ]
    }
   ],
   "source": [
    "my_ratings = np.zeros(num_movies)\n",
    "counter = 0\n",
    "state = False\n",
    "while state == False:\n",
    "    try:\n",
    "        print(\"Your number \", counter+1, \" movie\")\n",
    "        movieID = int(input(\"input the movie ID: \"))\n",
    "        userRating = int(input (\"rate the movie: \"))\n",
    "        my_ratings[movieID] = userRating\n",
    "        counter += 1\n",
    "        clear_output()\n",
    "        if counter == 15:\n",
    "            state = True\n",
    "    except:\n",
    "        print(\"invalid input. start afresh\")"
   ]
  },
  {
   "cell_type": "code",
   "execution_count": null,
   "metadata": {},
   "outputs": [],
   "source": []
  },
  {
   "cell_type": "code",
   "execution_count": null,
   "metadata": {},
   "outputs": [],
   "source": [
    "print(num_movies, num_users)"
   ]
  },
  {
   "cell_type": "code",
   "execution_count": null,
   "metadata": {},
   "outputs": [],
   "source": [
    "Y = np.hstack((my_ratings.reshape(-1, 1), Y))\n",
    "R = np.hstack(((my_ratings != 0).reshape(-1, 1), R))\n",
    "\n",
    "num_movies, num_users = Y.shape"
   ]
  },
  {
   "cell_type": "code",
   "execution_count": null,
   "metadata": {},
   "outputs": [],
   "source": [
    "Y.shape"
   ]
  },
  {
   "cell_type": "code",
   "execution_count": null,
   "metadata": {},
   "outputs": [],
   "source": [
    "print ('New user ratings:')\n",
    "for rating, (index, movie) in zip(my_ratings, index_movie_list):\n",
    "    if rating > 0: \n",
    "        print ('Rated %d for %s' % (rating, movie))"
   ]
  },
  {
   "cell_type": "code",
   "execution_count": null,
   "metadata": {},
   "outputs": [],
   "source": [
    "# Here, I skip the normalization of Y entirely."
   ]
  },
  {
   "cell_type": "code",
   "execution_count": null,
   "metadata": {},
   "outputs": [],
   "source": [
    "X = np.random.normal(size=(num_movies, num_features))\n",
    "Theta = np.random.normal(size=(num_users, num_features))"
   ]
  },
  {
   "cell_type": "code",
   "execution_count": null,
   "metadata": {},
   "outputs": [],
   "source": [
    "lam = 10\n",
    "params = np.hstack((X.ravel(), Theta.ravel()))\n",
    "\n",
    "res = minimize(cofi_cost_grad_func_reg, params, \n",
    "               method='TNC', args=(Y, R, num_users, num_movies, num_features, lam), \n",
    "               jac=True, options = {'maxiter': 1000}) # Takes ~10sec to run on my laptop."
   ]
  },
  {
   "cell_type": "code",
   "execution_count": null,
   "metadata": {},
   "outputs": [],
   "source": [
    "res"
   ]
  },
  {
   "cell_type": "code",
   "execution_count": null,
   "metadata": {},
   "outputs": [],
   "source": [
    "params = res['x']"
   ]
  },
  {
   "cell_type": "code",
   "execution_count": null,
   "metadata": {},
   "outputs": [],
   "source": [
    "X = params[:num_movies * num_features].reshape(num_movies, num_features)\n",
    "Theta = params[num_movies * num_features:].reshape(num_users, num_features)"
   ]
  },
  {
   "cell_type": "code",
   "execution_count": null,
   "metadata": {},
   "outputs": [],
   "source": [
    "my_predictions = X.dot(Theta.T)[:, 0]"
   ]
  },
  {
   "cell_type": "code",
   "execution_count": null,
   "metadata": {},
   "outputs": [],
   "source": [
    "print ('Top recommendations for you:')\n",
    "for index in my_predictions.argsort()[::-1][:15]:\n",
    "    print ('Predicting rating %.1f for movie %s' % (my_predictions[index], index_movie_list[index][1]))\n",
    "\n",
    "print ('')\n",
    "\n",
    "print ('Original ratings provided:')\n",
    "for rating, (index, movie) in zip(my_ratings, index_movie_list):\n",
    "    if rating > 0: \n",
    "        print ('Rated %d for %s' % (rating, movie))"
   ]
  },
  {
   "cell_type": "code",
   "execution_count": null,
   "metadata": {},
   "outputs": [],
   "source": []
  }
 ],
 "metadata": {
  "kernelspec": {
   "display_name": "Python 3",
   "language": "python",
   "name": "python3"
  },
  "language_info": {
   "codemirror_mode": {
    "name": "ipython",
    "version": 3
   },
   "file_extension": ".py",
   "mimetype": "text/x-python",
   "name": "python",
   "nbconvert_exporter": "python",
   "pygments_lexer": "ipython3",
   "version": "3.7.1"
  }
 },
 "nbformat": 4,
 "nbformat_minor": 2
}
