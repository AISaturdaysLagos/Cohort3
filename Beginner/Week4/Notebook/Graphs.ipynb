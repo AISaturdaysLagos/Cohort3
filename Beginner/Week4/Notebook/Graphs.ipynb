{
  "nbformat": 4,
  "nbformat_minor": 0,
  "metadata": {
    "colab": {
      "name": "Graphs.ipynb",
      "version": "0.3.2",
      "provenance": []
    },
    "kernelspec": {
      "name": "python3",
      "display_name": "Python 3"
    }
  },
  "cells": [
    {
      "metadata": {
        "id": "d1TIX8zUxrm6",
        "colab_type": "text"
      },
      "cell_type": "markdown",
      "source": [
        "# Graph Algorithms"
      ]
    },
    {
      "metadata": {
        "id": "zju2dIz3xz10",
        "colab_type": "text"
      },
      "cell_type": "markdown",
      "source": [
        "## Djikstra"
      ]
    },
    {
      "metadata": {
        "id": "_NUM4KzkyMFV",
        "colab_type": "text"
      },
      "cell_type": "markdown",
      "source": [
        "**Steps**\n",
        "1. While we have node to process\n",
        "2. Grab the node that is closest to start\n",
        "3. Update costs for its neighbors\n",
        "5. If any of the neighbors costs were updated, update the parents too\n",
        "6. Make the node processed \n",
        "7. Repeat step 1-6 until there's no node to process"
      ]
    },
    {
      "metadata": {
        "id": "y76IaaIT5B6t",
        "colab_type": "text"
      },
      "cell_type": "markdown",
      "source": [
        "### Implementing from scrarch"
      ]
    },
    {
      "metadata": {
        "id": "Rtr6kxfm5BBL",
        "colab_type": "code",
        "colab": {}
      },
      "cell_type": "code",
      "source": [
        "# Graph HashTable\n",
        "\n",
        "graph = {}\n",
        "graph[\"start\"] = {}\n",
        "graph[\"start\"][\"a\"] = 6.0\n",
        "graph[\"start\"][\"b\"] = 2.0\n",
        "graph[\"a\"] = {}\n",
        "graph[\"a\"][\"fin\"] = 1.0\n",
        "graph[\"b\"] = {}\n",
        "graph[\"b\"][\"a\"] = 3.0\n",
        "graph[\"b\"][\"fin\"] = 5.0\n",
        "graph[\"fin\"] = {}\n",
        "\n",
        "\n",
        "# Costs HashTable\n",
        "infinity = float(\"inf\")\n",
        "costs = {}\n",
        "costs[\"a\"] = 6.0\n",
        "costs[\"b\"] = 2.0\n",
        "costs[\"fin\"] = infinity\n",
        "\n",
        "\n",
        "# Parents HashTable\n",
        "parents = {}\n",
        "parents[\"a\"] = \"start\"\n",
        "parents[\"b\"] = \"start\"\n",
        "parents[\"fin\"] = None"
      ],
      "execution_count": 0,
      "outputs": []
    },
    {
      "metadata": {
        "id": "D8HBxw2K41c1",
        "colab_type": "code",
        "colab": {}
      },
      "cell_type": "code",
      "source": [
        "def dikstra_algo(graph, costs, parents):\n",
        "  processed = []\n",
        "  node = find_lowest_node(costs, processed)\n",
        "  while node is not None:\n",
        "    cost = costs[node]\n",
        "    neighbors = graph[node]\n",
        "    for n in neighbors.keys():\n",
        "      new_cost = cost + neighbors[n]\n",
        "      if costs[n] > new_cost:\n",
        "        costs[n] = new_cost\n",
        "        parents[n] = node\n",
        "    processed.append(node)\n",
        "    node = find_lowest_node(costs, processed)\n",
        "    \n",
        "  final_cost_parent = {\"costs\": costs, \"parents\": parents}\n",
        "  return final_cost_parent\n",
        "    \n",
        "def find_lowest_node(costs, processed):\n",
        "  lowest_cost = float(\"inf\")\n",
        "  lowest_cost_node = None\n",
        "  for node in costs:\n",
        "    cost = costs[node]\n",
        "    if cost < lowest_cost and node not in processed:\n",
        "      lowest_cost = cost\n",
        "      lowest_cost_node = node\n",
        "  return lowest_cost_node\n",
        "      "
      ],
      "execution_count": 0,
      "outputs": []
    },
    {
      "metadata": {
        "id": "C17KFoyt42MQ",
        "colab_type": "code",
        "outputId": "5520d818-5050-49b4-813f-b6ddc02ff08f",
        "colab": {
          "base_uri": "https://localhost:8080/",
          "height": 52
        }
      },
      "cell_type": "code",
      "source": [
        "dikstra_algo(graph, costs, parents)"
      ],
      "execution_count": 0,
      "outputs": [
        {
          "output_type": "execute_result",
          "data": {
            "text/plain": [
              "{'costs': {'a': 5.0, 'b': 2.0, 'fin': 6.0},\n",
              " 'parents': {'a': 'b', 'b': 'start', 'fin': 'a'}}"
            ]
          },
          "metadata": {
            "tags": []
          },
          "execution_count": 80
        }
      ]
    },
    {
      "metadata": {
        "id": "dv3wgymU434o",
        "colab_type": "text"
      },
      "cell_type": "markdown",
      "source": [
        "### using NetworkX"
      ]
    },
    {
      "metadata": {
        "id": "KuDZp2ksy6_M",
        "colab_type": "code",
        "colab": {}
      },
      "cell_type": "code",
      "source": [
        "import networkx as nx"
      ],
      "execution_count": 0,
      "outputs": []
    },
    {
      "metadata": {
        "id": "9GU7HKEgzAqo",
        "colab_type": "code",
        "colab": {}
      },
      "cell_type": "code",
      "source": [
        "G = nx.DiGraph()\n",
        "G.add_node(\"start\",pos=(-1,0))\n",
        "G.add_node(\"A\",pos=(1,1))\n",
        "G.add_node(\"B\",pos=(1,-1))\n",
        "G.add_node(\"fin\",pos=(2,2))\n",
        "\n",
        "\n",
        "G.add_edge(\"start\",\"A\", weight=6.0)\n",
        "G.add_edge(\"start\",\"B\", weight=2.0)\n",
        "G.add_edge(\"B\",\"A\", weight=3.0)\n",
        "G.add_edge(\"A\",\"fin\", weight=1.0)\n",
        "G.add_edge(\"B\",\"fin\", weight=5.0)\n"
      ],
      "execution_count": 0,
      "outputs": []
    },
    {
      "metadata": {
        "id": "-l6IQEASzpOS",
        "colab_type": "code",
        "colab": {}
      },
      "cell_type": "code",
      "source": [
        "# labels = nx.get_edge_attributes(G,'weight')\n",
        "# pos=nx.get_node_attributes(G,'pos')\n",
        "# _ = nx.draw(G, with_labels=True)\n",
        "# _ = nx.draw_networkx_edge_labels(G,pos,edge_labels=labels)"
      ],
      "execution_count": 0,
      "outputs": []
    },
    {
      "metadata": {
        "id": "ohIJfRl6zqJ3",
        "colab_type": "code",
        "outputId": "03897f24-9e2a-41fd-df55-617d56c016eb",
        "colab": {
          "base_uri": "https://localhost:8080/",
          "height": 34
        }
      },
      "cell_type": "code",
      "source": [
        "nx.shortest_path_length(G, source=\"start\")"
      ],
      "execution_count": 0,
      "outputs": [
        {
          "output_type": "execute_result",
          "data": {
            "text/plain": [
              "{'A': 1, 'B': 1, 'fin': 2, 'start': 0}"
            ]
          },
          "metadata": {
            "tags": []
          },
          "execution_count": 57
        }
      ]
    },
    {
      "metadata": {
        "id": "eyCZTxva0TNF",
        "colab_type": "code",
        "outputId": "541c6574-61cf-4d28-d322-29e5c21730fb",
        "colab": {
          "base_uri": "https://localhost:8080/",
          "height": 173
        }
      },
      "cell_type": "code",
      "source": [
        "dict(nx.all_pairs_dijkstra(G))"
      ],
      "execution_count": 0,
      "outputs": [
        {
          "output_type": "execute_result",
          "data": {
            "text/plain": [
              "{'A': ({'A': 0, 'fin': 1.0}, {'A': ['A'], 'fin': ['A', 'fin']}),\n",
              " 'B': ({'A': 3.0, 'B': 0, 'fin': 4.0},\n",
              "  {'A': ['B', 'A'], 'B': ['B'], 'fin': ['B', 'A', 'fin']}),\n",
              " 'fin': ({'fin': 0}, {'fin': ['fin']}),\n",
              " 'start': ({'A': 5.0, 'B': 2.0, 'fin': 6.0, 'start': 0},\n",
              "  {'A': ['start', 'B', 'A'],\n",
              "   'B': ['start', 'B'],\n",
              "   'fin': ['start', 'B', 'A', 'fin'],\n",
              "   'start': ['start']})}"
            ]
          },
          "metadata": {
            "tags": []
          },
          "execution_count": 59
        }
      ]
    },
    {
      "metadata": {
        "id": "E3JV0V-e4iok",
        "colab_type": "code",
        "colab": {}
      },
      "cell_type": "code",
      "source": [
        ""
      ],
      "execution_count": 0,
      "outputs": []
    },
    {
      "metadata": {
        "id": "AP9fRML38unx",
        "colab_type": "text"
      },
      "cell_type": "markdown",
      "source": [
        "## Page Rank"
      ]
    },
    {
      "metadata": {
        "id": "adoIjFRn9Lih",
        "colab_type": "text"
      },
      "cell_type": "markdown",
      "source": [
        "**Steps**\n",
        "\n",
        "1. Start at some random node in the graph\n",
        "2. Repeatedly jump to a random neighboring node\n",
        "3. If a node has no neighbors, jump\n",
        "4. (Optional) with probability 𝑑, jump to a random node\n"
      ]
    },
    {
      "metadata": {
        "id": "Rh1DC4NvALTQ",
        "colab_type": "text"
      },
      "cell_type": "markdown",
      "source": [
        "### Implementing from scratch"
      ]
    },
    {
      "metadata": {
        "id": "-hV6u3YN81Pb",
        "colab_type": "code",
        "colab": {}
      },
      "cell_type": "code",
      "source": [
        "import numpy as np"
      ],
      "execution_count": 0,
      "outputs": []
    },
    {
      "metadata": {
        "id": "60uOKw-D9Z0w",
        "colab_type": "code",
        "outputId": "d19642b4-c581-42da-fd7e-d985cbb2a31e",
        "colab": {
          "base_uri": "https://localhost:8080/",
          "height": 87
        }
      },
      "cell_type": "code",
      "source": [
        "A = np.array([[0,0,1,0], [1,0,0,0], [0,1,0,0], [0,0,1,0]])\n",
        "d = 0.1\n",
        "T = 1000\n",
        "\n",
        "A"
      ],
      "execution_count": 0,
      "outputs": [
        {
          "output_type": "execute_result",
          "data": {
            "text/plain": [
              "array([[0, 0, 1, 0],\n",
              "       [1, 0, 0, 0],\n",
              "       [0, 1, 0, 0],\n",
              "       [0, 0, 1, 0]])"
            ]
          },
          "metadata": {
            "tags": []
          },
          "execution_count": 82
        }
      ]
    },
    {
      "metadata": {
        "id": "cS0r_hQ99dSS",
        "colab_type": "code",
        "colab": {}
      },
      "cell_type": "code",
      "source": [
        "# To get P matrix, fill all zero columns with 1 and then normalize\n",
        "P = A.copy()\n",
        "P[:, P.sum(0) == 0] = 1\n",
        "\n",
        "P = P / (P.sum(0)+1e-10)\n"
      ],
      "execution_count": 0,
      "outputs": []
    },
    {
      "metadata": {
        "id": "n1MUPr8b_BBd",
        "colab_type": "code",
        "outputId": "22985480-4652-4edf-9d01-9a1028ce3e7d",
        "colab": {
          "base_uri": "https://localhost:8080/",
          "height": 35
        }
      },
      "cell_type": "code",
      "source": [
        "Phat = (1-d)*P + d/A.shape[0]*np.ones(A.shape)\n",
        "x = np.ones(A.shape[0])/A.shape[0]\n",
        "for _ in range(1000):\n",
        "    x = Phat @ x\n",
        "print(x)"
      ],
      "execution_count": 0,
      "outputs": [
        {
          "output_type": "stream",
          "text": [
            "[0.21260744 0.26418336 0.3106017  0.21260744]\n"
          ],
          "name": "stdout"
        }
      ]
    },
    {
      "metadata": {
        "id": "5EmXkP2QAVr4",
        "colab_type": "text"
      },
      "cell_type": "markdown",
      "source": [
        "### Using NetworkX"
      ]
    },
    {
      "metadata": {
        "id": "NqJv3rJhAamd",
        "colab_type": "code",
        "outputId": "8b96f34c-f667-44b2-f188-d7f196a21674",
        "colab": {
          "base_uri": "https://localhost:8080/",
          "height": 87
        }
      },
      "cell_type": "code",
      "source": [
        "# alpha = (1-d)\n",
        "\n",
        "G = nx.DiGraph()\n",
        "G.add_edges_from([(\"A\",\"B\"), (\"B\",\"C\"), (\"C\",\"A\"), (\"C\",\"D\")])\n",
        "nx.pagerank(G, alpha=0.9)"
      ],
      "execution_count": 0,
      "outputs": [
        {
          "output_type": "execute_result",
          "data": {
            "text/plain": [
              "{'A': 0.2126075277037968,\n",
              " 'B': 0.2641838185655828,\n",
              " 'C': 0.31060112602682377,\n",
              " 'D': 0.2126075277037968}"
            ]
          },
          "metadata": {
            "tags": []
          },
          "execution_count": 98
        }
      ]
    },
    {
      "metadata": {
        "id": "H0gQXrn7Ak-Q",
        "colab_type": "code",
        "colab": {}
      },
      "cell_type": "code",
      "source": [
        ""
      ],
      "execution_count": 0,
      "outputs": []
    }
  ]
}