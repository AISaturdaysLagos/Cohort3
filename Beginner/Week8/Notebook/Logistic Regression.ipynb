{
 "cells": [
  {
   "cell_type": "markdown",
   "metadata": {},
   "source": [
    "## Logistic Regression"
   ]
  },
  {
   "cell_type": "markdown",
   "metadata": {},
   "source": [
    "#### AI Saturday Lagos Begineers Class (Instructors: `Tejumade Afonja`, `Kenechi Dukor`, `Ifeanyi Igwegbe`)\n",
    "This exercise is adopted from [Andrew Ng Machine Learning Course](https://www.coursera.org/learn/machine-learning)"
   ]
  },
  {
   "cell_type": "code",
   "execution_count": 2,
   "metadata": {},
   "outputs": [],
   "source": [
    "# Libraries required for this practice \n",
    "import pandas as pd\n",
    "import numpy as np\n",
    "import matplotlib.pyplot as plt"
   ]
  },
  {
   "cell_type": "markdown",
   "metadata": {},
   "source": [
    "### Loading Data"
   ]
  },
  {
   "cell_type": "markdown",
   "metadata": {},
   "source": [
    "The data we will be using is a .txt file which contains information about students who want to gain admission and their exam scores.\n",
    "\n",
    "The values on the first column contains the Exam 1 score, the values of the second column contains Exam 2 score and values on the third column contains the corresponding success (1) or fail (0).\n",
    "\n",
    "The goal of this exercise is to use logistic regression and the optimization technique to generate a model that will predcit the probability that a student will gain admission after the two two exam sxores has been supplied."
   ]
  },
  {
   "cell_type": "code",
   "execution_count": 3,
   "metadata": {},
   "outputs": [
    {
     "data": {
      "text/html": [
       "<div>\n",
       "<style scoped>\n",
       "    .dataframe tbody tr th:only-of-type {\n",
       "        vertical-align: middle;\n",
       "    }\n",
       "\n",
       "    .dataframe tbody tr th {\n",
       "        vertical-align: top;\n",
       "    }\n",
       "\n",
       "    .dataframe thead th {\n",
       "        text-align: right;\n",
       "    }\n",
       "</style>\n",
       "<table border=\"1\" class=\"dataframe\">\n",
       "  <thead>\n",
       "    <tr style=\"text-align: right;\">\n",
       "      <th></th>\n",
       "      <th>x1</th>\n",
       "      <th>x2</th>\n",
       "      <th>y</th>\n",
       "    </tr>\n",
       "  </thead>\n",
       "  <tbody>\n",
       "    <tr>\n",
       "      <th>0</th>\n",
       "      <td>34.623660</td>\n",
       "      <td>78.024693</td>\n",
       "      <td>0</td>\n",
       "    </tr>\n",
       "    <tr>\n",
       "      <th>1</th>\n",
       "      <td>30.286711</td>\n",
       "      <td>43.894998</td>\n",
       "      <td>0</td>\n",
       "    </tr>\n",
       "    <tr>\n",
       "      <th>2</th>\n",
       "      <td>35.847409</td>\n",
       "      <td>72.902198</td>\n",
       "      <td>0</td>\n",
       "    </tr>\n",
       "    <tr>\n",
       "      <th>3</th>\n",
       "      <td>60.182599</td>\n",
       "      <td>86.308552</td>\n",
       "      <td>1</td>\n",
       "    </tr>\n",
       "    <tr>\n",
       "      <th>4</th>\n",
       "      <td>79.032736</td>\n",
       "      <td>75.344376</td>\n",
       "      <td>1</td>\n",
       "    </tr>\n",
       "  </tbody>\n",
       "</table>\n",
       "</div>"
      ],
      "text/plain": [
       "          x1         x2  y\n",
       "0  34.623660  78.024693  0\n",
       "1  30.286711  43.894998  0\n",
       "2  35.847409  72.902198  0\n",
       "3  60.182599  86.308552  1\n",
       "4  79.032736  75.344376  1"
      ]
     },
     "execution_count": 3,
     "metadata": {},
     "output_type": "execute_result"
    }
   ],
   "source": [
    "# Using pandas to view the data\n",
    "data = pd.read_csv('data/ex2data1.txt', names=['x1','x2','y'])\n",
    "data.head()"
   ]
  },
  {
   "cell_type": "code",
   "execution_count": 4,
   "metadata": {},
   "outputs": [
    {
     "name": "stdout",
     "output_type": "stream",
     "text": [
      "We have  100  training examples\n"
     ]
    }
   ],
   "source": [
    "print(\"We have \", data.shape[0], \" training examples\")"
   ]
  },
  {
   "cell_type": "markdown",
   "metadata": {},
   "source": [
    "Previously, we used this method `data = data.values` to convert the pandas dataframe to numpy. Below is another method"
   ]
  },
  {
   "cell_type": "code",
   "execution_count": 5,
   "metadata": {},
   "outputs": [
    {
     "data": {
      "text/plain": [
       "(100, 2)"
      ]
     },
     "execution_count": 5,
     "metadata": {},
     "output_type": "execute_result"
    }
   ],
   "source": [
    "# Lets convert values of the pandas dataframe into a numpy array\n",
    "x_raw = np.asarray(data[[\"x1\",\"x2\"]])\n",
    "x_raw.shape"
   ]
  },
  {
   "cell_type": "code",
   "execution_count": 6,
   "metadata": {},
   "outputs": [
    {
     "data": {
      "text/plain": [
       "(100,)"
      ]
     },
     "execution_count": 6,
     "metadata": {},
     "output_type": "execute_result"
    }
   ],
   "source": [
    "y_raw = np.asarray(data[\"y\"])\n",
    "y_raw.shape"
   ]
  },
  {
   "cell_type": "markdown",
   "metadata": {},
   "source": [
    "You can also convert the data in to a numpy array without needing to go through pandas. Use the code below\n",
    "\n",
    "`data = np.loadtxt(\"ex1data1.txt\", delimiter=',')`"
   ]
  },
  {
   "cell_type": "markdown",
   "metadata": {},
   "source": [
    "### Data Visualization"
   ]
  },
  {
   "cell_type": "code",
   "execution_count": 7,
   "metadata": {},
   "outputs": [],
   "source": [
    "# This plot function was created, such that it can be used for other problems in this notebook\n",
    "def plot(x, y, xlabel, ylabel, legend, ax=None):\n",
    "    # Find Indices of Positive and Negative Examples\n",
    "    pos = y == 1\n",
    "    neg = y == 0\n",
    "\n",
    "    if ax == None:\n",
    "        # Plot Examples\n",
    "        plt.xlabel(xlabel) # Exam Score 1\n",
    "        plt.ylabel(ylabel) # Exam Score 2\n",
    "        plt.plot(x[pos, 0], x[pos, 1], 'k+', marker='+', c='b')\n",
    "        plt.plot(x[neg, 0], x[neg, 1], 'ko', c='y')\n",
    "        plt.legend(legend) #the legend should be an array\n",
    "    else:\n",
    "        ax.set_xlabel(xlabel)\n",
    "        ax.set_ylabel(ylabel)\n",
    "        ax.plot(x[pos, 0], x[pos, 1], 'k+', marker='+', c='b')\n",
    "        ax.plot(x[neg, 0], x[neg, 1], 'ko', c='y')\n",
    "        ax.legend(legend) #,'Admitted', 'Not admitted'\n"
   ]
  },
  {
   "cell_type": "code",
   "execution_count": 8,
   "metadata": {},
   "outputs": [
    {
     "data": {
      "image/png": "[encoded data removed]",
      "text/plain": [
       "<Figure size 432x288 with 1 Axes>"
      ]
     },
     "metadata": {
      "needs_background": "light"
     },
     "output_type": "display_data"
    }
   ],
   "source": [
    "plot(x_raw, y_raw, \"Exam Score 1\", \"Exam Score 2\", ['Admitted', 'Not admitted'])"
   ]
  },
  {
   "cell_type": "markdown",
   "metadata": {},
   "source": [
    "Now lets stack a ones to our input data `X` so that it will cater for the bias (`theta0`)"
   ]
  },
  {
   "cell_type": "code",
   "execution_count": 9,
   "metadata": {},
   "outputs": [],
   "source": [
    "# add x0 to the feature matrix\n",
    "X = np.c_[np.ones(x_raw.shape[0]), x_raw]\n",
    "y = y_raw.reshape(-1,1)"
   ]
  },
  {
   "cell_type": "markdown",
   "metadata": {},
   "source": [
    "You can also add your ones column this way `X = np.hstack((np.ones((x_raw.shape[0],1)),x_raw))` "
   ]
  },
  {
   "cell_type": "markdown",
   "metadata": {},
   "source": [
    "## Implementation"
   ]
  },
  {
   "cell_type": "markdown",
   "metadata": {},
   "source": [
    "### Sigmoid function\n",
    "\n",
    "Now, lets implement the sigmoid function that we discussed in class. \n",
    "Remember that we modified the hypothesis for logistic regression as follows:\n",
    "\n",
    "$$h_\\theta(x) = g(\\theta^Tx)$$\n",
    "\n",
    "where $g$ is the sigmoid function defined as:\n",
    "$$g(z) = \\frac{1}{1+e^{-z}}$$\n"
   ]
  },
  {
   "cell_type": "code",
   "execution_count": 10,
   "metadata": {},
   "outputs": [],
   "source": [
    "def sigmoid(z):\n",
    "    \n",
    "    return 1 / (1 + np.exp(-z))"
   ]
  },
  {
   "cell_type": "markdown",
   "metadata": {},
   "source": [
    "### Cost Function\n",
    "\n",
    "Now lets implement the cost function that we also discussed in class.\n",
    "\n",
    "$$ J(\\theta) = \\frac{1}{m}\\sum_{i=1}^{m}\\big[-y^{(i)}\\, log\\,( h_\\theta\\,(x^{(i)}))-(1-y^{(i)})\\,log\\,(1-h_\\theta(x^{(i)}))\\big]$$\n",
    "\n",
    "where the cost \n",
    "- `J = -log(h) when y = 1`\n",
    "- `J = -log(1 - h) when y = 0`"
   ]
  },
  {
   "cell_type": "code",
   "execution_count": 11,
   "metadata": {},
   "outputs": [],
   "source": [
    "def compute_cost(initial_theta, x, y):\n",
    "    \n",
    "    m = x[:,0].size\n",
    "    h = sigmoid(x @ initial_theta)\n",
    "    J = None\n",
    "    J = 1/m *(-np.log(h).T @ y - np.log(1-h).T @ (1-y))[0]\n",
    "    \n",
    "    return J"
   ]
  },
  {
   "cell_type": "markdown",
   "metadata": {},
   "source": [
    "### Gradient\n",
    "\n",
    "Unlike in the last two lectures, here we would only define a function that would calculate the gradient of the cost and not the full `update thata` function.\n",
    "This is because, we will be using an external library that will help us with the theta optimization.\n",
    "\n",
    "Recall that the gradient of the cost function is given as\n",
    " $$ \\frac{\\delta J(\\theta)}{\\delta\\theta_{j}} = \\frac{1}{m}\\sum_{i=1}^{m} ( h_\\theta (x^{(i)})-y^{(i)})x^{(i)}_{j} $$ "
   ]
  },
  {
   "cell_type": "code",
   "execution_count": 12,
   "metadata": {},
   "outputs": [],
   "source": [
    "def gradient(theta, x, y):\n",
    "    m = x[:,0].size\n",
    "    h = sigmoid(x @ (theta.reshape(-1,1)))\n",
    "    \n",
    "    grad =(1/m)*x.T @ (h-y)\n",
    "\n",
    "    return(grad.flatten())"
   ]
  },
  {
   "cell_type": "markdown",
   "metadata": {},
   "source": [
    "Now, lets test our functions with an initialized weight of zeros."
   ]
  },
  {
   "cell_type": "code",
   "execution_count": 13,
   "metadata": {},
   "outputs": [
    {
     "name": "stdout",
     "output_type": "stream",
     "text": [
      "Cost:  0.6931471805599453\n",
      "Grad:  [ -0.1        -12.00921659 -11.26284221]\n"
     ]
    }
   ],
   "source": [
    "initial_theta = np.zeros(X.shape[1])\n",
    "cost = compute_cost(initial_theta, X, y)\n",
    "grad = gradient(initial_theta, X, y)\n",
    "print('Cost: ', cost)\n",
    "print('Grad: ', grad)"
   ]
  },
  {
   "cell_type": "markdown",
   "metadata": {},
   "source": [
    "### Training \n",
    "#### Advanced Optimization Funtion\n",
    "\n",
    "Unlike in the previous classes where we wrote an `Update theta` function to find the optimal parameters, here we will be using the `scipy minimize` function to calculate the weights `theta` for this dataset.\n",
    "the function is defined below\n",
    "\n",
    "`scipy.optimize.minimize(fun, x0, args=(), method=None, jac=None, hess=None, hessp=None, bounds=None, constraints=(), tol=None, callback=None, options=None)`"
   ]
  },
  {
   "cell_type": "code",
   "execution_count": 14,
   "metadata": {},
   "outputs": [],
   "source": [
    "# import the minimize function\n",
    "from scipy.optimize import minimize"
   ]
  },
  {
   "cell_type": "code",
   "execution_count": 15,
   "metadata": {},
   "outputs": [
    {
     "name": "stderr",
     "output_type": "stream",
     "text": [
      "C:\\Users\\Kenechi.Dukor\\AppData\\Local\\Continuum\\anaconda3\\lib\\site-packages\\ipykernel_launcher.py:6: RuntimeWarning: divide by zero encountered in log\n",
      "  \n",
      "C:\\Users\\Kenechi.Dukor\\AppData\\Local\\Continuum\\anaconda3\\lib\\site-packages\\ipykernel_launcher.py:6: RuntimeWarning: invalid value encountered in matmul\n",
      "  \n"
     ]
    }
   ],
   "source": [
    "# maxiter is the number of iterations\n",
    "# args is dataset (input and output)\n",
    "res = minimize(compute_cost, initial_theta, args=(X,y), method=None, jac=gradient, options={'maxiter':400})"
   ]
  },
  {
   "cell_type": "code",
   "execution_count": 16,
   "metadata": {},
   "outputs": [
    {
     "data": {
      "text/plain": [
       "      fun: 0.2034977015894438\n",
       " hess_inv: array([[ 3.31474479e+03, -2.63892205e+01, -2.70237122e+01],\n",
       "       [-2.63892205e+01,  2.23869433e-01,  2.02682332e-01],\n",
       "       [-2.70237122e+01,  2.02682332e-01,  2.35335117e-01]])\n",
       "      jac: array([-9.52476816e-09, -9.31921315e-07, -2.82608926e-07])\n",
       "  message: 'Optimization terminated successfully.'\n",
       "     nfev: 31\n",
       "      nit: 23\n",
       "     njev: 31\n",
       "   status: 0\n",
       "  success: True\n",
       "        x: array([-25.16133284,   0.2062317 ,   0.2014716 ])"
      ]
     },
     "execution_count": 16,
     "metadata": {},
     "output_type": "execute_result"
    }
   ],
   "source": [
    "res"
   ]
  },
  {
   "cell_type": "markdown",
   "metadata": {},
   "source": [
    "The output of the `minimize` funtion contains information about the training process and the uptimised parameters.\n",
    "The optimised parameter value is saved with key `x`"
   ]
  },
  {
   "cell_type": "code",
   "execution_count": 17,
   "metadata": {},
   "outputs": [
    {
     "data": {
      "text/plain": [
       "array([-25.16133284,   0.2062317 ,   0.2014716 ])"
      ]
     },
     "execution_count": 17,
     "metadata": {},
     "output_type": "execute_result"
    }
   ],
   "source": [
    "# this will return the trained weights\n",
    "res.x"
   ]
  },
  {
   "cell_type": "markdown",
   "metadata": {},
   "source": [
    "### Test\n",
    "\n",
    "Lets get a sense of how good the model we just trained is at predicting the same training data we used. "
   ]
  },
  {
   "cell_type": "code",
   "execution_count": 18,
   "metadata": {},
   "outputs": [],
   "source": [
    "def Test(theta, X, threshold=0.5):\n",
    "    p = sigmoid(X @ theta.T) >= threshold\n",
    "    print(p.astype('int'))\n",
    "    return(p.astype('int'))"
   ]
  },
  {
   "cell_type": "code",
   "execution_count": 19,
   "metadata": {},
   "outputs": [
    {
     "name": "stdout",
     "output_type": "stream",
     "text": [
      "[0 0 0 1 1 0 1 0 1 1 1 0 1 1 0 1 0 0 1 1 0 1 0 0 1 1 1 1 0 0 1 1 0 0 0 0 1\n",
      " 1 0 0 1 0 1 1 0 0 1 1 1 1 1 1 1 0 0 0 1 1 1 1 1 0 0 0 0 0 1 0 1 1 0 1 1 1\n",
      " 1 1 1 1 0 1 1 1 1 0 1 1 0 1 1 0 1 1 0 1 1 1 1 1 0 1]\n",
      "Train accuracy 89.0%\n"
     ]
    }
   ],
   "source": [
    "p = Test(res.x, X) \n",
    "print('Train accuracy {}%'.format(100*sum(p == y.ravel())/p.size))"
   ]
  },
  {
   "cell_type": "code",
   "execution_count": 20,
   "metadata": {},
   "outputs": [],
   "source": [
    "def test_plot(x, y, xlabel, ylabel, legend, input_1, input_2):\n",
    "    \n",
    "    plot(x_raw, y_raw, xlabel, ylabel, legend)\n",
    "    if(input_1 and input_2 == None):\n",
    "        x1_min, x1_max = x_raw[:,0].min(), x_raw[:,0].max()\n",
    "        x2_min, x2_max = x_raw[:,1].min(), x_raw[:,1].max()\n",
    "        xx1, xx2 = np.meshgrid(np.linspace(x1_min, x1_max), np.linspace(x2_min, x2_max))\n",
    "        x_test = np.c_[np.ones((xx1.ravel().shape[0],1)), xx1.ravel(), xx2.ravel()]\n",
    "        h = sigmoid(x_test @ res.x)\n",
    "        h = h.reshape(xx1.shape)\n",
    "        plt.contour(xx1, xx2, h, [0.5], linewidths=1, colors='b')\n",
    "    else:\n",
    "        \n",
    "        x1_min, x1_max = x_raw[:,0].min(), x_raw[:,0].max()\n",
    "        x2_min, x2_max = x_raw[:,1].min(), x_raw[:,1].max()\n",
    "        xx1, xx2 = np.meshgrid(np.linspace(x1_min, x1_max), np.linspace(x2_min, x2_max))\n",
    "        x_test = np.c_[np.ones((xx1.ravel().shape[0],1)), xx1.ravel(), xx2.ravel()]\n",
    "        h = sigmoid(x_test @ res.x)\n",
    "        h = h.reshape(xx1.shape)\n",
    "        plt.contour(xx1, xx2, h, [0.5], linewidths=1, colors='b')\n",
    "        plt.scatter(input_1, input_2, s=60, c='g', marker='v')"
   ]
  },
  {
   "cell_type": "code",
   "execution_count": 21,
   "metadata": {},
   "outputs": [
    {
     "data": {
      "image/png": "[encoded data removed]",
      "text/plain": [
       "<Figure size 432x288 with 1 Axes>"
      ]
     },
     "metadata": {
      "needs_background": "light"
     },
     "output_type": "display_data"
    }
   ],
   "source": [
    "test_plot(x_raw, y_raw, \"Exam Score 1\", \"Exam Score 2\", ['Admitted', 'Not admitted'], None, None)"
   ]
  },
  {
   "cell_type": "markdown",
   "metadata": {},
   "source": [
    "### Predict\n",
    "\n",
    "**Congratulation** You have successfully trained a classifer\n",
    "\n",
    "Lets write a predict function that takes in the input features and prdeicts whether a student will gain admission"
   ]
  },
  {
   "cell_type": "code",
   "execution_count": 22,
   "metadata": {},
   "outputs": [],
   "source": [
    "def predict(trained_weight, x, y):\n",
    "    input_1 = int(input(\"Enter Exam 1 Score: \"))\n",
    "    input_2 = int(input(\"Enter Exam 2 Score: \"))\n",
    "\n",
    "    z = trained_weight[0] + trained_weight[1]*input_1 + trained_weight[2]*input_2\n",
    "    h = 1 / (1 + np.exp(-z)) #sigmoid\n",
    "\n",
    "    prob = h\n",
    "    print('Admission probability is: ', prob, \"\\n\")\n",
    "    test_plot(x, y, \"Exam Score 1\", \"Exam Score 2\", ['Admitted', 'Not admitted'], input_1, input_2)\n",
    "    \n",
    "    if (prob >= 0.5):\n",
    "        print(\"This student has higher chances of gaining admission\")\n",
    "    else:\n",
    "        print(\"This student has lower chances of gaining admission\")"
   ]
  },
  {
   "cell_type": "code",
   "execution_count": 24,
   "metadata": {},
   "outputs": [
    {
     "name": "stdout",
     "output_type": "stream",
     "text": [
      "Enter Exam 1 Score: 65\n",
      "Enter Exam 2 Score: 80\n",
      "Admission probability is:  0.987400961394737 \n",
      "\n",
      "This student has higher chances of gaining admission\n"
     ]
    },
    {
     "data": {
      "image/png": "[encoded data removed]",
      "text/plain": [
       "<Figure size 432x288 with 1 Axes>"
      ]
     },
     "metadata": {
      "needs_background": "light"
     },
     "output_type": "display_data"
    }
   ],
   "source": [
    "predict(res.x, x_raw, x_raw)"
   ]
  },
  {
   "cell_type": "markdown",
   "metadata": {},
   "source": [
    "Notice the position of the green marker. it reflects the position of your input on the regression plot"
   ]
  },
  {
   "cell_type": "markdown",
   "metadata": {},
   "source": [
    "## Regularised Logistic Regression"
   ]
  },
  {
   "cell_type": "markdown",
   "metadata": {},
   "source": [
    "Here, we are going to understand and implement the idea of regularization.\n",
    "We will implement regularized logistic regression to predict whether microchips from a fabrication plant passes quality assurance (QA). This will be done from the result of two results from 2 tests."
   ]
  },
  {
   "cell_type": "code",
   "execution_count": 25,
   "metadata": {},
   "outputs": [
    {
     "data": {
      "text/html": [
       "<div>\n",
       "<style scoped>\n",
       "    .dataframe tbody tr th:only-of-type {\n",
       "        vertical-align: middle;\n",
       "    }\n",
       "\n",
       "    .dataframe tbody tr th {\n",
       "        vertical-align: top;\n",
       "    }\n",
       "\n",
       "    .dataframe thead th {\n",
       "        text-align: right;\n",
       "    }\n",
       "</style>\n",
       "<table border=\"1\" class=\"dataframe\">\n",
       "  <thead>\n",
       "    <tr style=\"text-align: right;\">\n",
       "      <th></th>\n",
       "      <th>x1</th>\n",
       "      <th>x2</th>\n",
       "      <th>y</th>\n",
       "    </tr>\n",
       "  </thead>\n",
       "  <tbody>\n",
       "    <tr>\n",
       "      <th>0</th>\n",
       "      <td>0.051267</td>\n",
       "      <td>0.69956</td>\n",
       "      <td>1</td>\n",
       "    </tr>\n",
       "    <tr>\n",
       "      <th>1</th>\n",
       "      <td>-0.092742</td>\n",
       "      <td>0.68494</td>\n",
       "      <td>1</td>\n",
       "    </tr>\n",
       "    <tr>\n",
       "      <th>2</th>\n",
       "      <td>-0.213710</td>\n",
       "      <td>0.69225</td>\n",
       "      <td>1</td>\n",
       "    </tr>\n",
       "    <tr>\n",
       "      <th>3</th>\n",
       "      <td>-0.375000</td>\n",
       "      <td>0.50219</td>\n",
       "      <td>1</td>\n",
       "    </tr>\n",
       "    <tr>\n",
       "      <th>4</th>\n",
       "      <td>-0.513250</td>\n",
       "      <td>0.46564</td>\n",
       "      <td>1</td>\n",
       "    </tr>\n",
       "  </tbody>\n",
       "</table>\n",
       "</div>"
      ],
      "text/plain": [
       "         x1       x2  y\n",
       "0  0.051267  0.69956  1\n",
       "1 -0.092742  0.68494  1\n",
       "2 -0.213710  0.69225  1\n",
       "3 -0.375000  0.50219  1\n",
       "4 -0.513250  0.46564  1"
      ]
     },
     "execution_count": 25,
     "metadata": {},
     "output_type": "execute_result"
    }
   ],
   "source": [
    "# Using pandas to view the data\n",
    "data2 = pd.read_csv('data/ex2data2.txt', names=['x1','x2','y'])\n",
    "data2.head()"
   ]
  },
  {
   "cell_type": "code",
   "execution_count": 26,
   "metadata": {},
   "outputs": [
    {
     "name": "stdout",
     "output_type": "stream",
     "text": [
      "We have  118  training examples\n"
     ]
    }
   ],
   "source": [
    "print(\"We have \", data2.shape[0], \" training examples\")"
   ]
  },
  {
   "cell_type": "markdown",
   "metadata": {},
   "source": [
    "Previously, we used this method `data = data.values` to convert the pandas dataframe to numpy. Below is another method"
   ]
  },
  {
   "cell_type": "code",
   "execution_count": 27,
   "metadata": {},
   "outputs": [],
   "source": [
    "x2_raw = np.asarray(data2[[\"x1\",\"x2\"]])\n",
    "y2_raw = np.asarray(data2[\"y\"])"
   ]
  },
  {
   "cell_type": "markdown",
   "metadata": {},
   "source": [
    "### Data Visualization"
   ]
  },
  {
   "cell_type": "code",
   "execution_count": 28,
   "metadata": {},
   "outputs": [
    {
     "data": {
      "image/png": "[encoded data removed]",
      "text/plain": [
       "<Figure size 432x288 with 1 Axes>"
      ]
     },
     "metadata": {
      "needs_background": "light"
     },
     "output_type": "display_data"
    }
   ],
   "source": [
    "plot(x2_raw, y2_raw, 'Microchip Test 1', 'Microchip Test 2', ['y = 0', 'y = 1'])"
   ]
  },
  {
   "cell_type": "markdown",
   "metadata": {},
   "source": [
    "#### Extra Feature Generation\n",
    "Notice that the plot above cannot be classified using an ordinary linear equation (straight line equation). I can only be classified with some kind of circle equation. \n",
    "\n",
    "As such, we need a polyonomial equation for such classification.\n",
    "\n",
    "To do this, we will generate extra features for the training that will increase the equation to `n>2` deg.\n",
    "\n",
    "ie: \n",
    "$$ \\theta_0 + x_1\\theta_1 + x_2\\theta_2 + x_1^2\\theta_3 + x_2^2\\theta_4 + x_1^n\\theta_m + x_2^n\\theta_m+_1$$"
   ]
  },
  {
   "cell_type": "markdown",
   "metadata": {},
   "source": [
    "**Generate polynomial and interaction features.**\n",
    "\n",
    "To generate the extra features, we will be using an advanced `sklearn` function that returns a new feature matrix consisting of all polynomial combinations of the features with degree less than or equal to the specified degree. For example, if an input sample is two dimensional and of the form [a, b], the degree-2 polynomial features are [1, a, b, a^2, ab, b^2].\n",
    "\n",
    "`class sklearn.preprocessing.PolynomialFeatures(degree=2, interaction_only=False, include_bias=True)`[source](https://scikit-learn.org/stable/modules/generated/sklearn.preprocessing.PolynomialFeatures.html)"
   ]
  },
  {
   "cell_type": "code",
   "execution_count": 29,
   "metadata": {},
   "outputs": [],
   "source": [
    "from sklearn.preprocessing import PolynomialFeatures"
   ]
  },
  {
   "cell_type": "code",
   "execution_count": 30,
   "metadata": {},
   "outputs": [],
   "source": [
    "# LEts go to the 6th degree\n",
    "mapping = PolynomialFeatures(6)"
   ]
  },
  {
   "cell_type": "code",
   "execution_count": 31,
   "metadata": {},
   "outputs": [
    {
     "data": {
      "text/plain": [
       "PolynomialFeatures(degree=6, include_bias=True, interaction_only=False)"
      ]
     },
     "execution_count": 31,
     "metadata": {},
     "output_type": "execute_result"
    }
   ],
   "source": [
    "mapping"
   ]
  },
  {
   "cell_type": "markdown",
   "metadata": {},
   "source": [
    "Next, we pass in our input feature to the `mapping` function to get our new feature to the 6th degree "
   ]
  },
  {
   "cell_type": "code",
   "execution_count": 32,
   "metadata": {},
   "outputs": [
    {
     "data": {
      "text/plain": [
       "(118, 28)"
      ]
     },
     "execution_count": 32,
     "metadata": {},
     "output_type": "execute_result"
    }
   ],
   "source": [
    "x2_raw_mapped = mapping.fit_transform(x2_raw)\n",
    "x2_raw_mapped.shape"
   ]
  },
  {
   "cell_type": "markdown",
   "metadata": {},
   "source": [
    "Notice that we now have 28 input features"
   ]
  },
  {
   "cell_type": "markdown",
   "metadata": {},
   "source": [
    "### Cost Function\n",
    "\n",
    "Now lets implement the regularized cost function that we also discussed in class.\n",
    "\n",
    "$$ J(\\theta) = \\frac{1}{m}\\sum_{i=1}^{m}\\big[-y^{(i)}\\, log\\,( h_\\theta\\,(x^{(i)}))-(1-y^{(i)})\\,log\\,(1-h_\\theta(x^{(i)}))\\big] + \\frac{\\lambda}{2m}\\sum_{j=1}^{n}\\theta_{j}^{2}$$\n",
    "\n",
    "where the cost \n",
    "- `J = -log(h) when y = 1`\n",
    "- `J = -log(1 - h) when y = 0`"
   ]
  },
  {
   "cell_type": "code",
   "execution_count": 33,
   "metadata": {},
   "outputs": [],
   "source": [
    "def costFunctionReg(theta, X, y, reg):\n",
    "    m = y.size\n",
    "    h = sigmoid(X @ theta)\n",
    "    J = (1/m)*(-(np.log(h).T @ y) - (np.log(1-h).T @ (1-y))) + (reg/(2*m))*np.sum(np.square(theta[1:]))\n",
    "    #print(J.shape)\n",
    "    \n",
    "    return(J)"
   ]
  },
  {
   "cell_type": "markdown",
   "metadata": {},
   "source": [
    "### Gradient\n",
    "Here we would only define a function that would calculate the regularized gradient of the cost and not the full `update thata` function.\n",
    "This is because, we will be using an external library that will help us with the theta optimization.\n",
    "\n",
    "Recall that the gradient of the regularized cost function is given as:\n",
    "$$ \\frac{\\delta J(\\theta)}{\\delta\\theta_{j}} = \\frac{1}{m}\\sum_{i=1}^{m} ( h_\\theta (x^{(i)})-y^{(i)})x^{(i)}_{j} + \\frac{\\lambda}{m}\\theta_{j}$$ "
   ]
  },
  {
   "cell_type": "code",
   "execution_count": 34,
   "metadata": {},
   "outputs": [],
   "source": [
    "def gradientReg(theta,X, y, reg):\n",
    "    m = y.size\n",
    "    h = sigmoid(X @ theta)\n",
    "    grad = (1/m)*(X.T @ (h-y)) + (reg/m)*theta  #+ (reg/m)*np.r_[[[0]],theta[1:].reshape(-1,1)]\n",
    "    \n",
    "    return (grad.flatten())"
   ]
  },
  {
   "cell_type": "markdown",
   "metadata": {},
   "source": [
    "Now, lets test our functions with an initialized weight of zeros."
   ]
  },
  {
   "cell_type": "code",
   "execution_count": 35,
   "metadata": {},
   "outputs": [
    {
     "data": {
      "text/plain": [
       "array([8.47457627e-03, 1.87880932e-02, 7.77711864e-05, 5.03446395e-02,\n",
       "       1.15013308e-02, 3.76648474e-02, 1.83559872e-02, 7.32393391e-03,\n",
       "       8.19244468e-03, 2.34764889e-02, 3.93486234e-02, 2.23923907e-03,\n",
       "       1.28600503e-02, 3.09593720e-03, 3.93028171e-02, 1.99707467e-02,\n",
       "       4.32983232e-03, 3.38643902e-03, 5.83822078e-03, 4.47629067e-03,\n",
       "       3.10079849e-02, 3.10312442e-02, 1.09740238e-03, 6.31570797e-03,\n",
       "       4.08503006e-04, 7.26504316e-03, 1.37646175e-03, 3.87936363e-02])"
      ]
     },
     "execution_count": 35,
     "metadata": {},
     "output_type": "execute_result"
    }
   ],
   "source": [
    "initial_theta = np.zeros(x2_raw_mapped.shape[1])\n",
    "costFunctionReg(initial_theta, x2_raw_mapped, y2_raw, 1)\n",
    "gradientReg(initial_theta,x2_raw_mapped, y2_raw, 1)"
   ]
  },
  {
   "cell_type": "markdown",
   "metadata": {},
   "source": [
    "### Training \n",
    "#### Advanced Optimization Funtion\n",
    "\n",
    "Just like in the pactice above, we will be using the `scipy minimize` function to calculate the weights `theta` for this dataset.\n",
    "\n",
    "The function is defined below\n",
    "\n",
    "`scipy.optimize.minimize(fun, x0, args=(), method=None, jac=None, hess=None, hessp=None, bounds=None, constraints=(), tol=None, callback=None, options=None)`"
   ]
  },
  {
   "cell_type": "code",
   "execution_count": 36,
   "metadata": {},
   "outputs": [],
   "source": [
    "res2 = minimize(costFunctionReg, initial_theta, args=(x2_raw_mapped, y2_raw, 1), method=None, jac=gradientReg, options={'maxiter':3000})"
   ]
  },
  {
   "cell_type": "code",
   "execution_count": 37,
   "metadata": {},
   "outputs": [
    {
     "data": {
      "text/plain": [
       "      fun: 0.5300109345445478\n",
       " hess_inv: array([[ 7.00337192e+00,  8.80651203e-01,  3.31034024e+00,\n",
       "        -6.07369168e+00, -3.29490189e+00, -3.61780892e+00,\n",
       "        -2.83629420e-01, -1.27801104e+00, -1.38930681e+00,\n",
       "        -1.13386976e+00, -4.93560446e+00, -5.45527264e-01,\n",
       "        -1.86205990e+00, -1.07235149e+00, -4.13033248e+00,\n",
       "        -1.33100737e+00, -7.91148143e-01, -3.34969636e-01,\n",
       "        -9.09590231e-01, -1.03472140e+00, -2.43668340e+00,\n",
       "        -3.78702492e+00, -1.63841747e-01, -9.35852966e-01,\n",
       "        -1.12669396e-01, -1.04379243e+00, -5.69574187e-01,\n",
       "        -3.90396896e+00],\n",
       "       [ 8.80651203e-01,  9.32689654e+00,  6.20965192e+00,\n",
       "        -5.40357712e+00, -3.54723073e+00, -3.48185482e+00,\n",
       "         4.08077265e+00, -1.43844360e+00, -8.28227967e-01,\n",
       "         1.62204654e+00, -3.48183154e+00, -2.08589595e-01,\n",
       "        -1.90665524e+00, -1.14048285e+00, -2.23129230e+00,\n",
       "         1.65951685e+00, -8.48028671e-01,  1.66389779e-01,\n",
       "        -8.94038913e-01, -1.09285965e+00,  6.97327542e-01,\n",
       "        -2.16132945e+00,  1.25542516e-01, -8.85907267e-01,\n",
       "         3.88022817e-02, -9.65367696e-01, -6.63373469e-01,\n",
       "        -1.09116536e+00],\n",
       "       [ 3.31034024e+00,  6.20965192e+00,  7.86369393e+00,\n",
       "        -7.39876226e+00, -5.55422150e-01, -2.28721960e+00,\n",
       "         1.28914105e+00, -4.94605043e-01,  1.42388727e-01,\n",
       "        -9.68140779e-02, -5.75595627e+00,  1.51961590e-01,\n",
       "        -1.59278006e+00,  1.27905875e-01, -3.79338363e+00,\n",
       "        -8.43634196e-01, -5.38555442e-01,  2.69320938e-02,\n",
       "        -5.95013391e-01, -2.06210316e-01, -2.57754680e+00,\n",
       "        -4.41814406e+00,  8.14844649e-02, -8.51094194e-01,\n",
       "         1.37615381e-01, -8.95153439e-01,  9.30084518e-02,\n",
       "        -4.35900806e+00],\n",
       "       [-6.07369168e+00, -5.40357712e+00, -7.39876226e+00,\n",
       "         1.24302891e+01,  3.87968709e+00,  5.90195548e+00,\n",
       "        -8.25951964e-01,  1.79746472e+00,  1.37246594e+00,\n",
       "         1.42590504e+00,  8.88522131e+00,  4.80629045e-01,\n",
       "         3.07516657e+00,  1.06755051e+00,  6.96060408e+00,\n",
       "         1.72289582e+00,  1.22883050e+00,  3.17134535e-01,\n",
       "         1.39004825e+00,  1.24081705e+00,  4.21062183e+00,\n",
       "         6.73422344e+00,  1.15352025e-01,  1.55542275e+00,\n",
       "         3.14649364e-02,  1.70630615e+00,  5.51161227e-01,\n",
       "         6.88893539e+00],\n",
       "       [-3.29490189e+00, -3.54723073e+00, -5.55422150e-01,\n",
       "         3.87968709e+00,  1.73284485e+01,  1.12129644e+01,\n",
       "        -6.39693196e+00,  5.58617362e+00,  6.36371652e+00,\n",
       "        -2.01202132e+00,  1.28622612e+00,  2.48944216e+00,\n",
       "         4.37116041e+00,  6.39873108e+00,  3.01241132e+00,\n",
       "        -4.62143777e+00,  2.45969276e+00,  4.47186321e-01,\n",
       "         2.69151432e+00,  4.96597585e+00, -5.32587207e+00,\n",
       "        -5.46443141e-01,  3.29699891e-01,  1.78531071e+00,\n",
       "         6.63448304e-01,  2.12904202e+00,  3.65480085e+00,\n",
       "        -3.05669369e+00],\n",
       "       [-3.61780892e+00, -3.48185482e+00, -2.28721960e+00,\n",
       "         5.90195548e+00,  1.12129644e+01,  9.81215730e+00,\n",
       "        -4.00463867e+00,  3.99666500e+00,  4.36192097e+00,\n",
       "        -6.25601373e-01,  3.52530748e+00,  1.69542037e+00,\n",
       "         3.62852481e+00,  4.26045065e+00,  4.07714089e+00,\n",
       "        -2.21127405e+00,  1.88899415e+00,  3.94190707e-01,\n",
       "         2.08446363e+00,  3.43053489e+00, -1.85308118e+00,\n",
       "         1.74581805e+00,  2.51905726e-01,  1.57219831e+00,\n",
       "         4.26293238e-01,  1.83249260e+00,  2.41285213e+00,\n",
       "         3.24875703e-01],\n",
       "       [-2.83629420e-01,  4.08077265e+00,  1.28914105e+00,\n",
       "        -8.25951964e-01, -6.39693196e+00, -4.00463867e+00,\n",
       "         5.16162845e+00, -2.17147183e+00, -2.23829272e+00,\n",
       "         1.98841741e+00,  3.49443858e-01, -8.29645107e-01,\n",
       "        -1.61842506e+00, -2.50866966e+00, -1.60587048e-01,\n",
       "         3.01140851e+00, -9.39680082e-01,  2.96616752e-02,\n",
       "        -9.96751033e-01, -1.93534213e+00,  3.48106914e+00,\n",
       "         1.05042999e+00, -1.17714639e-02, -6.28298474e-01,\n",
       "        -1.99353435e-01, -7.45095331e-01, -1.45688935e+00,\n",
       "         2.53868792e+00],\n",
       "       [-1.27801104e+00, -1.43844360e+00, -4.94605043e-01,\n",
       "         1.79746472e+00,  5.58617362e+00,  3.99666500e+00,\n",
       "        -2.17147183e+00,  2.93584415e+00,  2.16936515e+00,\n",
       "        -6.00297079e-01,  8.15603410e-01,  8.46722857e-01,\n",
       "         1.58722125e+00,  2.16915220e+00,  1.30917205e+00,\n",
       "        -1.46660408e+00,  8.71408038e-01,  1.61178212e-01,\n",
       "         9.55121512e-01,  1.70146427e+00, -1.58251690e+00,\n",
       "         1.10648327e-01,  1.14257870e-01,  6.60930221e-01,\n",
       "         2.21425975e-01,  7.81786292e-01,  1.23639599e+00,\n",
       "        -7.12728539e-01],\n",
       "       [-1.38930681e+00, -8.28227967e-01,  1.42388727e-01,\n",
       "         1.37246594e+00,  6.36371652e+00,  4.36192097e+00,\n",
       "        -2.23829272e+00,  2.16936515e+00,  3.52590554e+00,\n",
       "        -6.31481874e-01,  4.32238166e-01,  9.96519715e-01,\n",
       "         1.67036115e+00,  2.50455310e+00,  1.19120885e+00,\n",
       "        -1.67331217e+00,  9.47022204e-01,  2.02773567e-01,\n",
       "         1.04054353e+00,  1.93585512e+00, -1.98029352e+00,\n",
       "        -2.43685978e-01,  1.46623113e-01,  6.80143044e-01,\n",
       "         2.71465656e-01,  8.15460238e-01,  1.42803805e+00,\n",
       "        -1.15701588e+00],\n",
       "       [-1.13386976e+00,  1.62204654e+00, -9.68140779e-02,\n",
       "         1.42590504e+00, -2.01202132e+00, -6.25601373e-01,\n",
       "         1.98841741e+00, -6.00297079e-01, -6.31481874e-01,\n",
       "         2.35418711e+00,  1.56953862e+00, -2.18819361e-01,\n",
       "        -1.96479025e-01, -8.49909329e-01,  1.18189230e+00,\n",
       "         1.74897530e+00, -1.95152405e-01,  1.12264025e-01,\n",
       "        -1.87547641e-01, -5.97923976e-01,  2.35493389e+00,\n",
       "         1.54792669e+00,  4.65591284e-02, -1.92741762e-02,\n",
       "        -5.56855986e-02, -3.93323710e-02, -5.10047321e-01,\n",
       "         2.31921072e+00],\n",
       "       [-4.93560446e+00, -3.48183154e+00, -5.75595627e+00,\n",
       "         8.88522131e+00,  1.28622612e+00,  3.52530748e+00,\n",
       "         3.49443858e-01,  8.15603410e-01,  4.32238166e-01,\n",
       "         1.56953862e+00,  8.16816644e+00,  1.31705564e-01,\n",
       "         1.99860382e+00,  1.38381121e-01,  5.43770677e+00,\n",
       "         2.12549957e+00,  7.15438123e-01,  2.40949449e-01,\n",
       "         8.24872719e-01,  4.41649107e-01,  4.23371288e+00,\n",
       "         5.64124418e+00,  7.61482357e-02,  1.06423918e+00,\n",
       "        -3.91649731e-02,  1.14968194e+00,  2.77248159e-02,\n",
       "         6.13041970e+00],\n",
       "       [-5.45527264e-01, -2.08589595e-01,  1.51961590e-01,\n",
       "         4.80629045e-01,  2.48944216e+00,  1.69542037e+00,\n",
       "        -8.29645107e-01,  8.46722857e-01,  9.96519715e-01,\n",
       "        -2.18819361e-01,  1.31705564e-01,  1.39644630e+00,\n",
       "         6.40722059e-01,  9.83178037e-01,  4.53416583e-01,\n",
       "        -6.38411226e-01,  3.67028789e-01,  8.43925200e-02,\n",
       "         4.03476223e-01,  7.56641052e-01, -7.67551487e-01,\n",
       "        -1.20369851e-01,  6.16221941e-02,  2.59636124e-01,\n",
       "         1.09579502e-01,  3.12646412e-01,  5.60167457e-01,\n",
       "        -4.64291299e-01],\n",
       "       [-1.86205990e+00, -1.90665524e+00, -1.59278006e+00,\n",
       "         3.07516657e+00,  4.37116041e+00,  3.62852481e+00,\n",
       "        -1.61842506e+00,  1.58722125e+00,  1.67036115e+00,\n",
       "        -1.96479025e-01,  1.99860382e+00,  6.40722059e-01,\n",
       "         2.56625407e+00,  1.62457004e+00,  2.00139132e+00,\n",
       "        -7.16644443e-01,  7.83727879e-01,  1.55718245e-01,\n",
       "         8.65869236e-01,  1.34130129e+00, -3.92039705e-01,\n",
       "         1.17291162e+00,  9.22490854e-02,  6.97275478e-01,\n",
       "         1.51277205e-01,  8.02423220e-01,  9.17099924e-01,\n",
       "         6.34656160e-01],\n",
       "       [-1.07235149e+00, -1.14048285e+00,  1.27905875e-01,\n",
       "         1.06755051e+00,  6.39873108e+00,  4.26045065e+00,\n",
       "        -2.50866966e+00,  2.16915220e+00,  2.50455310e+00,\n",
       "        -8.49909329e-01,  1.38381121e-01,  9.83178037e-01,\n",
       "         1.62457004e+00,  3.52759687e+00,  9.22650285e-01,\n",
       "        -1.91540875e+00,  9.35937902e-01,  1.69544137e-01,\n",
       "         1.02267291e+00,  1.94351990e+00, -2.30461607e+00,\n",
       "        -5.04274990e-01,  1.29712977e-01,  6.50743201e-01,\n",
       "         2.66724509e-01,  7.82737199e-01,  1.44585462e+00,\n",
       "        -1.51156921e+00],\n",
       "       [-4.13033248e+00, -2.23129230e+00, -3.79338363e+00,\n",
       "         6.96060408e+00,  3.01241132e+00,  4.07714089e+00,\n",
       "        -1.60587048e-01,  1.30917205e+00,  1.19120885e+00,\n",
       "         1.18189230e+00,  5.43770677e+00,  4.53416583e-01,\n",
       "         2.00139132e+00,  9.22650285e-01,  5.50186544e+00,\n",
       "         1.20335534e+00,  8.31081229e-01,  2.80518409e-01,\n",
       "         9.46614529e-01,  9.54152565e-01,  2.66799043e+00,\n",
       "         4.11611951e+00,  1.27670636e-01,  9.99578888e-01,\n",
       "         7.45534263e-02,  1.10944250e+00,  4.84349864e-01,\n",
       "         4.27932128e+00],\n",
       "       [-1.33100737e+00,  1.65951685e+00, -8.43634196e-01,\n",
       "         1.72289582e+00, -4.62143777e+00, -2.21127405e+00,\n",
       "         3.01140851e+00, -1.46660408e+00, -1.67331217e+00,\n",
       "         1.74897530e+00,  2.12549957e+00, -6.38411226e-01,\n",
       "        -7.16644443e-01, -1.91540875e+00,  1.20335534e+00,\n",
       "         3.70766140e+00, -5.35444122e-01,  5.01810758e-02,\n",
       "        -5.55865177e-01, -1.38553249e+00,  3.62793395e+00,\n",
       "         2.24484883e+00, -1.11219431e-02, -2.03554828e-01,\n",
       "        -1.78526059e-01, -2.74146620e-01, -1.12241398e+00,\n",
       "         3.44028037e+00],\n",
       "       [-7.91148143e-01, -8.48028671e-01, -5.38555442e-01,\n",
       "         1.22883050e+00,  2.45969276e+00,  1.88899415e+00,\n",
       "        -9.39680082e-01,  8.71408038e-01,  9.47022204e-01,\n",
       "        -1.95152405e-01,  7.15438123e-01,  3.67028789e-01,\n",
       "         7.83727879e-01,  9.35937902e-01,  8.31081229e-01,\n",
       "        -5.35444122e-01,  1.41057726e+00,  7.82460675e-02,\n",
       "         4.51573200e-01,  7.51566504e-01, -4.76565207e-01,\n",
       "         3.33032022e-01,  5.09961635e-02,  3.38188935e-01,\n",
       "         9.16884782e-02,  3.94118065e-01,  5.31170134e-01,\n",
       "        -2.38017557e-03],\n",
       "       [-3.34969636e-01,  1.66389779e-01,  2.69320938e-02,\n",
       "         3.17134535e-01,  4.47186321e-01,  3.94190707e-01,\n",
       "         2.96616752e-02,  1.61178212e-01,  2.02773567e-01,\n",
       "         1.12264025e-01,  2.40949449e-01,  8.43925200e-02,\n",
       "         1.55718245e-01,  1.69544137e-01,  2.80518409e-01,\n",
       "         5.01810758e-02,  7.82460675e-02,  1.03919797e+00,\n",
       "         8.98266547e-02,  1.37867058e-01,  8.75401695e-02,\n",
       "         1.67762705e-01,  2.36070927e-02,  7.10918023e-02,\n",
       "         2.39488647e-02,  8.34995327e-02,  9.32536592e-02,\n",
       "         1.69039167e-01],\n",
       "       [-9.09590231e-01, -8.94038913e-01, -5.95013391e-01,\n",
       "         1.39004825e+00,  2.69151432e+00,  2.08446363e+00,\n",
       "        -9.96751033e-01,  9.55121512e-01,  1.04054353e+00,\n",
       "        -1.87547641e-01,  8.24872719e-01,  4.03476223e-01,\n",
       "         8.65869236e-01,  1.02267291e+00,  9.46614529e-01,\n",
       "        -5.55865177e-01,  4.51573200e-01,  8.98266547e-02,\n",
       "         1.49748750e+00,  8.22940239e-01, -4.80905216e-01,\n",
       "         4.00646458e-01,  5.77301761e-02,  3.74951757e-01,\n",
       "         1.00841187e-01,  4.36686196e-01,  5.79814745e-01,\n",
       "         4.40542316e-02],\n",
       "       [-1.03472140e+00, -1.09285965e+00, -2.06210316e-01,\n",
       "         1.24081705e+00,  4.96597585e+00,  3.43053489e+00,\n",
       "        -1.93534213e+00,  1.70146427e+00,  1.93585512e+00,\n",
       "        -5.97923976e-01,  4.41649107e-01,  7.56641052e-01,\n",
       "         1.34130129e+00,  1.94351990e+00,  9.54152565e-01,\n",
       "        -1.38553249e+00,  7.51566504e-01,  1.37867058e-01,\n",
       "         8.22940239e-01,  2.51086687e+00, -1.58564740e+00,\n",
       "        -1.25406094e-01,  1.00619918e-01,  5.49578336e-01,\n",
       "         2.01128447e-01,  6.54575327e-01,  1.10970480e+00,\n",
       "        -8.83653241e-01],\n",
       "       [-2.43668340e+00,  6.97327542e-01, -2.57754680e+00,\n",
       "         4.21062183e+00, -5.32587207e+00, -1.85308118e+00,\n",
       "         3.48106914e+00, -1.58251690e+00, -1.98029352e+00,\n",
       "         2.35493389e+00,  4.23371288e+00, -7.67551487e-01,\n",
       "        -3.92039705e-01, -2.30461607e+00,  2.66799043e+00,\n",
       "         3.62793395e+00, -4.76565207e-01,  8.75401695e-02,\n",
       "        -4.80905216e-01, -1.58564740e+00,  6.26741744e+00,\n",
       "         3.99974288e+00, -1.16581164e-02,  4.03717484e-03,\n",
       "        -2.36105597e-01, -6.33530227e-02, -1.36016374e+00,\n",
       "         5.51256007e+00],\n",
       "       [-3.78702492e+00, -2.16132945e+00, -4.41814406e+00,\n",
       "         6.73422344e+00, -5.46443141e-01,  1.74581805e+00,\n",
       "         1.05042999e+00,  1.10648327e-01, -2.43685978e-01,\n",
       "         1.54792669e+00,  5.64124418e+00, -1.20369851e-01,\n",
       "         1.17291162e+00, -5.04274990e-01,  4.11611951e+00,\n",
       "         2.24484883e+00,  3.33032022e-01,  1.67762705e-01,\n",
       "         4.00646458e-01, -1.25406094e-01,  3.99974288e+00,\n",
       "         5.60594401e+00,  4.00572943e-02,  6.78995549e-01,\n",
       "        -8.88874919e-02,  7.15310449e-01, -3.30997270e-01,\n",
       "         5.28123992e+00],\n",
       "       [-1.63841747e-01,  1.25542516e-01,  8.14844649e-02,\n",
       "         1.15352025e-01,  3.29699891e-01,  2.51905726e-01,\n",
       "        -1.17714639e-02,  1.14257870e-01,  1.46623113e-01,\n",
       "         4.65591284e-02,  7.61482357e-02,  6.16221941e-02,\n",
       "         9.22490854e-02,  1.29712977e-01,  1.27670636e-01,\n",
       "        -1.11219431e-02,  5.09961635e-02,  2.36070927e-02,\n",
       "         5.77301761e-02,  1.00619918e-01, -1.16581164e-02,\n",
       "         4.00572943e-02,  1.01556689e+00,  3.95980241e-02,\n",
       "         1.82462354e-02,  4.77691430e-02,  7.23711253e-02,\n",
       "         2.67867646e-02],\n",
       "       [-9.35852966e-01, -8.85907267e-01, -8.51094194e-01,\n",
       "         1.55542275e+00,  1.78531071e+00,  1.57219831e+00,\n",
       "        -6.28298474e-01,  6.60930221e-01,  6.80143044e-01,\n",
       "        -1.92741762e-02,  1.06423918e+00,  2.59636124e-01,\n",
       "         6.97275478e-01,  6.50743201e-01,  9.99578888e-01,\n",
       "        -2.03554828e-01,  3.38188935e-01,  7.10918023e-02,\n",
       "         3.74951757e-01,  5.49578336e-01,  4.03717484e-03,\n",
       "         6.78995549e-01,  3.95980241e-02,  1.31706280e+00,\n",
       "         5.86692862e-02,  3.62033555e-01,  3.65453896e-01,\n",
       "         4.83420749e-01],\n",
       "       [-1.12669396e-01,  3.88022817e-02,  1.37615381e-01,\n",
       "         3.14649364e-02,  6.63448304e-01,  4.26293238e-01,\n",
       "        -1.99353435e-01,  2.21425975e-01,  2.71465656e-01,\n",
       "        -5.56855986e-02, -3.91649731e-02,  1.09579502e-01,\n",
       "         1.51277205e-01,  2.66724509e-01,  7.45534263e-02,\n",
       "        -1.78526059e-01,  9.16884782e-02,  2.39488647e-02,\n",
       "         1.00841187e-01,  2.01128447e-01, -2.36105597e-01,\n",
       "        -8.88874919e-02,  1.82462354e-02,  5.86692862e-02,\n",
       "         1.03167723e+00,  7.24144714e-02,  1.52140154e-01,\n",
       "        -1.78751349e-01],\n",
       "       [-1.04379243e+00, -9.65367696e-01, -8.95153439e-01,\n",
       "         1.70630615e+00,  2.12904202e+00,  1.83249260e+00,\n",
       "        -7.45095331e-01,  7.81786292e-01,  8.15460238e-01,\n",
       "        -3.93323710e-02,  1.14968194e+00,  3.12646412e-01,\n",
       "         8.02423220e-01,  7.82737199e-01,  1.10944250e+00,\n",
       "        -2.74146620e-01,  3.94118065e-01,  8.34995327e-02,\n",
       "         4.36686196e-01,  6.54575327e-01, -6.33530227e-02,\n",
       "         7.15310449e-01,  4.77691430e-02,  3.62033555e-01,\n",
       "         7.24144714e-02,  1.41482836e+00,  4.40284692e-01,\n",
       "         4.75975802e-01],\n",
       "       [-5.69574187e-01, -6.63373469e-01,  9.30084518e-02,\n",
       "         5.51161227e-01,  3.65480085e+00,  2.41285213e+00,\n",
       "        -1.45688935e+00,  1.23639599e+00,  1.42803805e+00,\n",
       "        -5.10047321e-01,  2.77248159e-02,  5.60167457e-01,\n",
       "         9.17099924e-01,  1.44585462e+00,  4.84349864e-01,\n",
       "        -1.12241398e+00,  5.31170134e-01,  9.32536592e-02,\n",
       "         5.79814745e-01,  1.10970480e+00, -1.36016374e+00,\n",
       "        -3.30997270e-01,  7.23711253e-02,  3.65453896e-01,\n",
       "         1.52140154e-01,  4.40284692e-01,  1.82764919e+00,\n",
       "        -9.16546550e-01],\n",
       "       [-3.90396896e+00, -1.09116536e+00, -4.35900806e+00,\n",
       "         6.88893539e+00, -3.05669369e+00,  3.24875703e-01,\n",
       "         2.53868792e+00, -7.12728539e-01, -1.15701588e+00,\n",
       "         2.31921072e+00,  6.13041970e+00, -4.64291299e-01,\n",
       "         6.34656160e-01, -1.51156921e+00,  4.27932128e+00,\n",
       "         3.44028037e+00, -2.38017557e-03,  1.69039167e-01,\n",
       "         4.40542316e-02, -8.83653241e-01,  5.51256007e+00,\n",
       "         5.28123992e+00,  2.67867646e-02,  4.83420749e-01,\n",
       "        -1.78751349e-01,  4.75975802e-01, -9.16546550e-01,\n",
       "         7.53639155e+00]])\n",
       "      jac: array([ 1.05428055e-03,  1.56890070e-03, -3.01633241e-03,  4.44571937e-04,\n",
       "       -9.07326241e-04,  5.48645864e-04,  4.42513126e-04, -5.86951318e-04,\n",
       "        3.96000029e-05, -1.90024893e-03,  9.19581825e-05, -8.92159651e-04,\n",
       "        3.39612861e-04, -4.50547743e-04, -7.39680141e-04,  1.15155633e-04,\n",
       "       -4.07764686e-04, -1.49946146e-04, -1.21293141e-04,  9.05533160e-07,\n",
       "       -2.02141905e-03, -1.39860642e-04, -5.70561623e-04,  1.28280910e-04,\n",
       "       -3.67399356e-04,  1.11768935e-04, -2.39700316e-04, -1.59844908e-03])\n",
       "  message: 'Desired error not necessarily achieved due to precision loss.'\n",
       "     nfev: 106\n",
       "      nit: 19\n",
       "     njev: 94\n",
       "   status: 2\n",
       "  success: False\n",
       "        x: array([ 1.13905468,  0.63561419,  1.14968144, -1.8671565 , -0.93002944,\n",
       "       -1.17283912,  0.12525871, -0.37879674, -0.37243299, -0.19872063,\n",
       "       -1.43486075, -0.11446387, -0.57707841, -0.29370381, -1.16788635,\n",
       "       -0.25414287, -0.23001402, -0.06942998, -0.27019065, -0.30109071,\n",
       "       -0.55955345, -1.06378139, -0.01754239, -0.28333104, -0.01385566,\n",
       "       -0.31456354, -0.15796289, -1.02391622])"
      ]
     },
     "execution_count": 37,
     "metadata": {},
     "output_type": "execute_result"
    }
   ],
   "source": [
    "res2"
   ]
  },
  {
   "cell_type": "markdown",
   "metadata": {},
   "source": [
    "Now, lets see our trained parameters. We will have 28 parameters"
   ]
  },
  {
   "cell_type": "code",
   "execution_count": 38,
   "metadata": {},
   "outputs": [
    {
     "data": {
      "text/plain": [
       "array([ 1.13905468,  0.63561419,  1.14968144, -1.8671565 , -0.93002944,\n",
       "       -1.17283912,  0.12525871, -0.37879674, -0.37243299, -0.19872063,\n",
       "       -1.43486075, -0.11446387, -0.57707841, -0.29370381, -1.16788635,\n",
       "       -0.25414287, -0.23001402, -0.06942998, -0.27019065, -0.30109071,\n",
       "       -0.55955345, -1.06378139, -0.01754239, -0.28333104, -0.01385566,\n",
       "       -0.31456354, -0.15796289, -1.02391622])"
      ]
     },
     "execution_count": 38,
     "metadata": {},
     "output_type": "execute_result"
    }
   ],
   "source": [
    "res2.x"
   ]
  },
  {
   "cell_type": "markdown",
   "metadata": {},
   "source": [
    "### Test \n",
    "Lets get a sense of how good the model we just trained is at predicting the same training data we used. "
   ]
  },
  {
   "cell_type": "code",
   "execution_count": 39,
   "metadata": {},
   "outputs": [],
   "source": [
    "# Notice that this function is identical to the on define inn the practice above\n",
    "# I have decided to leave it here for convinence of practice\n",
    "def Test_2(trained_weight, X, threshold=0.5):\n",
    "    \n",
    "    p = sigmoid(X @ trained_weight.T) >= threshold\n",
    "\n",
    "    return(p.astype('int'))"
   ]
  },
  {
   "cell_type": "markdown",
   "metadata": {},
   "source": [
    "Now, i want you guys to see the effect of regularisation. \n",
    "\n",
    "In the function below, you will see the `res2` function. \n",
    "\n",
    "I want to to visualize the plot when maxiter is `10, 30, 50, 500, 1000`.\n",
    "and you will see how the model gradually overfits, and underfit.\n"
   ]
  },
  {
   "cell_type": "code",
   "execution_count": 40,
   "metadata": {},
   "outputs": [],
   "source": [
    "def test2_plot(X, Y, X_mapped):\n",
    "    fig, ax = plt.subplots(1,3, sharey = True, figsize=(17,5))\n",
    "    \n",
    "    # Decision boundaries\n",
    "    # Lambda = 0 : No regularization --> too flexible, overfitting the training data\n",
    "    # Lambda = 1 : Looks about right\n",
    "    # Lambda = 100 : Too much regularization --> high bias\n",
    "\n",
    "    \n",
    "    for i, C in enumerate([0, 1, 100]):\n",
    "        plot(X, Y, 'Microchip Test 1', 'Microchip Test 2', ['y = 0', 'y = 1'], ax.flatten()[i])\n",
    "        # Optimize costFunctionReg\n",
    "        res2 = minimize(costFunctionReg, initial_theta, args=(X_mapped, Y, C), method=None, jac=gradientReg, options={'maxiter':1000})\n",
    "\n",
    "        # Accuracy\n",
    "        accuracy = 100*sum(Test_2(res2.x, X_mapped) == Y.ravel())/Y.size    \n",
    "        print(accuracy, \"%\")\n",
    "\n",
    "        # Plot decisionboundary\n",
    "        x1_min, x1_max = X[:,0].min(), X[:,0].max(),\n",
    "        x2_min, x2_max = X[:,1].min(), X[:,1].max(),\n",
    "        xx1, xx2 = np.meshgrid(np.linspace(x1_min, x1_max), np.linspace(x2_min, x2_max))\n",
    "        h = sigmoid(mapping.fit_transform(np.c_[xx1.ravel(), xx2.ravel()]) @ (res2.x))\n",
    "        h = h.reshape(xx1.shape)\n",
    "        ax.flatten()[i].contour(xx1, xx2, h, [0.5], linewidths=1, colors='g');       \n",
    "        ax.flatten()[i].set_title('Train accuracy {}% with Lambda = {}'.format(np.round(accuracy, decimals=2), C))"
   ]
  },
  {
   "cell_type": "code",
   "execution_count": 41,
   "metadata": {},
   "outputs": [
    {
     "name": "stdout",
     "output_type": "stream",
     "text": [
      "91.52542372881356 %\n",
      "82.20338983050847 %\n",
      "60.16949152542373 %\n"
     ]
    },
    {
     "name": "stderr",
     "output_type": "stream",
     "text": [
      "C:\\Users\\Kenechi.Dukor\\AppData\\Local\\Continuum\\anaconda3\\lib\\site-packages\\ipykernel_launcher.py:3: RuntimeWarning: overflow encountered in exp\n",
      "  This is separate from the ipykernel package so we can avoid doing imports until\n"
     ]
    },
    {
     "data": {
      "image/png": "[encoded data removed]",
      "text/plain": [
       "<Figure size 1224x360 with 3 Axes>"
      ]
     },
     "metadata": {
      "needs_background": "light"
     },
     "output_type": "display_data"
    }
   ],
   "source": [
    "test2_plot(x2_raw, y2_raw, x2_raw_mapped)"
   ]
  },
  {
   "cell_type": "markdown",
   "metadata": {},
   "source": [
    "Notice that in the above, \n",
    "- the plot to the right is overfits because the is no regularization parameter. `lambda = 0`\n",
    "- the plot to the left over fits because the regularization parameter is too high `lambda = 1`\n",
    "- the plot to the left is good and this is because of the presence of the reasonable regularization parameter `lambda = 100`"
   ]
  },
  {
   "cell_type": "markdown",
   "metadata": {},
   "source": [
    "### Predict\n",
    "\n",
    "**Congratulation** You have successfully trained a regularized classifer\n",
    "\n",
    "Lets write a predict function that takes in the input features and prdeicts whether the microchip test was passed"
   ]
  },
  {
   "cell_type": "code",
   "execution_count": 48,
   "metadata": {},
   "outputs": [],
   "source": [
    "def predict2(trained_weight, threshold=0.5):\n",
    "    input_1 = float(input(\"Enter Microchip Test 1 Score: \"))\n",
    "    input_2 = float(input(\"Enter Microchip Test 2 Score: \"))\n",
    "    \n",
    "    \n",
    "    X = np.array([[input_1, input_2]])\n",
    "    X_mapped = mapping.fit_transform(X)\n",
    "    \n",
    "    p = sigmoid(X_mapped @ trained_weight.T) >= threshold\n",
    "    p = p.astype('int')\n",
    "    print('Probability of pass: ', p[0], \"\\n\")\n",
    "    \n",
    "    if (p >= 0.5):\n",
    "        print(\"The Microchip has higher chances of passing\")\n",
    "    else:\n",
    "        print(\"The Microchip has higher chances of failing\")"
   ]
  },
  {
   "cell_type": "code",
   "execution_count": 49,
   "metadata": {},
   "outputs": [
    {
     "name": "stdout",
     "output_type": "stream",
     "text": [
      "Enter Microchip Test 1 Score: 0.05\n",
      "Enter Microchip Test 2 Score: 0.7\n",
      "Probability of pass:  1 \n",
      "\n",
      "The Microchip has higher chances of passing\n"
     ]
    }
   ],
   "source": [
    "predict2(res2.x)"
   ]
  },
  {
   "cell_type": "markdown",
   "metadata": {},
   "source": [
    "### PYTHON PRACTICE\n",
    "\n",
    "Just a reminder. You will find it handy."
   ]
  },
  {
   "cell_type": "markdown",
   "metadata": {},
   "source": [
    "`>>>` a=[1,5,9,11,2,66]\n",
    "\n",
    "`>>>` a[1:]\n",
    "\n",
    "[5, 9, 11, 2, 66]\n",
    "\n",
    "`>>>` a[:1]\n",
    "\n",
    "[1]\n",
    "\n",
    "`>>>` a[-1:]\n",
    "\n",
    "[66]\n",
    "\n",
    "`>>>` a[:-1]\n",
    "\n",
    "[1, 5, 9, 11, 2]\n",
    "\n",
    "`>>>` a[3]\n",
    "\n",
    "11\n",
    "\n",
    "`>>>` a[3:]\n",
    "\n",
    "[11, 2, 66]\n",
    "\n",
    "`>>>` a[:3]\n",
    "\n",
    "[1, 5, 9]\n",
    "\n",
    "`>>>` a[-3:]\n",
    "\n",
    "[11, 2, 66]\n",
    "\n",
    "`>>>` a[:-3]\n",
    "\n",
    "[1, 5, 9]\n",
    "\n",
    "`>>>` a[::1]\n",
    "\n",
    "[1, 5, 9, 11, 2, 66]\n",
    "\n",
    "`>>>` a[::-1]\n",
    "\n",
    "[66, 2, 11, 9, 5, 1]\n",
    "\n",
    "`>>>` a[1::]\n",
    "\n",
    "[5, 9, 11, 2, 66]\n",
    "\n",
    "`>>>` a[::-1]\n",
    "\n",
    "[66, 2, 11, 9, 5, 1]\n",
    "\n",
    "`>>>` a[::-2]\n",
    "\n",
    "[66, 11, 5]\n",
    "\n",
    "`>>>` a[2::]\n",
    "\n",
    "[9, 11, 2, 66]"
   ]
  },
  {
   "cell_type": "code",
   "execution_count": null,
   "metadata": {},
   "outputs": [],
   "source": []
  }
 ],
 "metadata": {
  "kernelspec": {
   "display_name": "Python 3",
   "language": "python",
   "name": "python3"
  }
 },
 "nbformat": 4,
 "nbformat_minor": 2
}
