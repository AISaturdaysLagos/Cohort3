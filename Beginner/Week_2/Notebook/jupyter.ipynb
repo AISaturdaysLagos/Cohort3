{
 "cells": [
  {
   "cell_type": "markdown",
   "metadata": {},
   "source": [
    "## Introduction\n",
    "\n",
    "These relatively brief notes contain an overview of the Jupyter Notebook environment, and include the content that was coded live in class on Wednesday, 1/24.  Because much of the tutorial regarding the notebook is not well suited to static presentation on web pages, it is recommended that you watch the video lecture and follow along in the notebook, rather than solely rely on these notes.  In addition, unlike the majority of the notes for this class (which are written in Jupyter Notebook, but then exported to Markdown for presentation on the class website), I am going to leave these notes in Jupyter notebook form, to emphasize the fact that you can download and step through the examples here. "
   ]
  },
  {
   "cell_type": "markdown",
   "metadata": {},
   "source": [
    "## Overview of Jupyter Notebook\n",
    "\n",
    "Jupyter Notebook is a browser-based coding environment, used extensively for prototyping and interactive development in data science applications.  Jupyter Notebook is an evolution of an older project called the IPython Noteboook (this is the origin of the notebook file extension \".ipynb\"), and while (as the name suggests) Jupyter Notebook supports languages other than Python, at the current time Python is by far the most common language for these notebook.  General information about Jupyter Notebook and related projects can be found at the [Jupyter project page](http://jupyter.org).\n",
    "\n",
    "The central unit within a Jupyter Notebook are \"cells\".  These cells can be either contain code or Markdown (a simple formatting language, which can also include things like LaTeX equations).  The dropdown menu at the top of the screen indicates the type of the current cell.  \n",
    "\n",
    "Code cells can be executed by pressing the <i class=\"fa fa-step-forward\"></i> button at the top of the notebook, or more commonly via the commands Shift-Enter (execute and move to the next cell) or Control-Enter (execute and stay on that cell).  All Python code is executed in a single running Python environment, called the \"Kernel\" in Jupyter notebook.  Variables are shared across all cells, and the code is executed in the order in which the cells are run (not necessarily sequential in the notebook), which can get your notebook into rather confusing states if you don't always execute cells in order.\n",
    "\n",
    "Let's look at a a few examples."
   ]
  },
  {
   "cell_type": "code",
   "execution_count": null,
   "metadata": {},
   "outputs": [],
   "source": [
    "1+2"
   ]
  },
  {
   "cell_type": "code",
   "execution_count": null,
   "metadata": {
    "collapsed": true
   },
   "outputs": [],
   "source": [
    "a = 1.0\n",
    "b = 2.0"
   ]
  },
  {
   "cell_type": "code",
   "execution_count": null,
   "metadata": {},
   "outputs": [],
   "source": [
    "print(a)\n",
    "b"
   ]
  },
  {
   "cell_type": "code",
   "execution_count": null,
   "metadata": {},
   "outputs": [],
   "source": [
    "for i in range(10):\n",
    "    print(i)"
   ]
  },
  {
   "cell_type": "markdown",
   "metadata": {},
   "source": [
    "Any `print` statements will print to the output section for the cell, and the output will also contain the string representation of the object returned by the last line in the cell.  Thus, in the above setting where the variable `b` appears on the last line of the cell, its content is printed at the end of the cell output, following any previous print statements that happen before.\n",
    "\n",
    "Any Python code will be valid in these cells, so we can import external libraries, defines classes, and functions, etc."
   ]
  },
  {
   "cell_type": "code",
   "execution_count": null,
   "metadata": {
    "collapsed": true
   },
   "outputs": [],
   "source": [
    "import requests"
   ]
  },
  {
   "cell_type": "code",
   "execution_count": null,
   "metadata": {
    "collapsed": true
   },
   "outputs": [],
   "source": [
    "def square(x):\n",
    "    \"\"\"Square the input x\"\"\"\n",
    "    return x*x"
   ]
  },
  {
   "cell_type": "code",
   "execution_count": null,
   "metadata": {},
   "outputs": [],
   "source": [
    "square(4)"
   ]
  },
  {
   "cell_type": "markdown",
   "metadata": {},
   "source": [
    "### Efficient navigation in the notebook\n",
    "\n",
    "Because you'll be spending a lot of timing writing code in the notebook, it helps to become at least a little bit familiar with the features of the editor.  While the notebook in many ways makes a poor actual code editing environment (compared to more fully featured editors ranging from Sublime, vi, Emacs, Atom, etc), it's not that bad if you familiarize yourself with some of the keyboard shortcuts.\n",
    "\n",
    "You can look up all the keyboard shortcuts (in addition to adding your own) in the \"Help -> Keyboard Shortcuts\" menu, but some of the more common ones I use are the following.  First, though, it is important to distinguish between the \"edit mode\" (when directly editing a cell) and \"command mode\" (navigating over cells).  You can switch between these using \"ESC\" or \"Ctrl-M\" (switch to command mode) and \"Enter\" (switch to edit more).\n",
    "\n",
    "Common keyboard shortcuts in command mode:\n",
    "- \"x\": delete a cell (though be careful, because you can only undo the deletion of one cell)\n",
    "- \"a\": insert new cell above\n",
    "- \"b\": insert new cell below\n",
    "- \"m\": convert cell to Markdown\n",
    "- \"y\": convert cell to code\n",
    "- Up/down: navigate up and down over cells\n",
    "- Shift-Enter, Ctrl-Enter: execute cell (also works in edit mode)\n",
    "\n",
    "Common shortcuts in edit mode:\n",
    "- Ctrl-up/Ctrl-down: move to start/end of cell\n",
    "- Tab: indent selected area (when text is selected) or autocomplete (when editing in the middle of a line)\n",
    "- Shift-Tab: unindent selected area (when text is selected), get function help (when following a function name)\n",
    "- Command-/: toggle comment/uncommand selected region\n",
    "\n",
    "The best way to familiarize yourself with these commands is to try to use the notebook entirely without using the mouse.  In practice, you'll often rely on the mouse for some things (for instance, I prefer to have commands like restarting the kernel require a mouse click), but trying to avoid it for some time will get you familiar enough with the common commands to be fairly productive in the Notebook editing environment."
   ]
  },
  {
   "cell_type": "markdown",
   "metadata": {},
   "source": [
    "### Getting help\n",
    "\n",
    "This was touched upon in the previous list of commands, but is important enough to warrant further discussion.  One of the nicer elements of the notebook editor is it's built-in support for code autocompletion and function lookup.  After writing some portion of code, you can press the \"tab\" key to autocomplete: if there is only one viable completion of the word you are currently typing, it will simply complete the word.  If there are multiple viable predictions, then it will open a popup menu where you can view all possible completions.  The later is useful for quickly browsing through all functions or variables in a library/object.\n",
    "\n",
    "The second useful command is the inline help popup.  After typing a function name, you can get help for that function by pressing \"Shift-Tab\".  This will bring up a popup with a brief description of the function.  If you want additional help, it may be available for some functions by clicking the <i class=\"fa fa-chevron-up\"></i> button in the top right of the help popup."
   ]
  },
  {
   "cell_type": "markdown",
   "metadata": {},
   "source": [
    "### Cell magics\n",
    "\n",
    "In addition to running Python code, the Jupyter Notebook has some built-in routines for performing operations outside of Python, timing or analyzing code runs, etc.  These \"cell magics\" are prefaced by `%` (at the beginning of a line ... this is technically called a \"line magic\", but I usually see both cases referred to as cell magics) for single-line magics and `%%` at the beginning of a cell for whole-cell magics.  We won't cover very many of these, but some are very useful and so you should be familiar with the basics.  A much more exhaustive list of cell magics is here: [Built-in cell magics](http://ipython.readthedocs.io/en/stable/interactive/magics.html).\n",
    "\n",
    "- Time operations with `%timeit` (for single line), `%%timeit` (for the whole cell).  This command will run the line or cell _multiple_ times and provide average timing.  It is adaptive, so that operations that take less time are run more often, so as to provide a better estimate of the run time (thus, the time it takes to run run this command is not indicative of the actual time it takes to run the code.  If you want to just time a single pass, using `%time` or `%%time`."
   ]
  },
  {
   "cell_type": "code",
   "execution_count": null,
   "metadata": {},
   "outputs": [],
   "source": [
    "%time sum(x**2 for x in range(10000))"
   ]
  },
  {
   "cell_type": "markdown",
   "metadata": {},
   "source": [
    "- Execute bash commands with `%%bash`.  Use this very sparingly, as it effectively executes shell commands outside the actual notebook environment, and makes the notebook potentially platform-dependent."
   ]
  },
  {
   "cell_type": "code",
   "execution_count": 29,
   "metadata": {},
   "outputs": [
    {
     "name": "stdout",
     "output_type": "stream",
     "text": [
      "In Class Notebook.ipynb\n",
      "Test.ipynb\n",
      "jupyter\n",
      "jupyter.ipynb\n",
      "jupyter.pdf\n",
      "jupyter.png\n",
      "jupyter.pptm\n",
      "shakespeare.txt\n"
     ]
    }
   ],
   "source": [
    "%%bash\n",
    "ls"
   ]
  },
  {
   "cell_type": "markdown",
   "metadata": {},
   "source": [
    "- Profile a function line-by-line with line profiler (may require that you install the necessary pip packages depending on whether it's included in your distribution or not).  Note that we need to call the additional magic command `%load_ext` to load this extension."
   ]
  },
  {
   "cell_type": "code",
   "execution_count": null,
   "metadata": {},
   "outputs": [],
   "source": [
    "%load_ext line_profiler"
   ]
  },
  {
   "cell_type": "code",
   "execution_count": 38,
   "metadata": {},
   "outputs": [
    {
     "name": "stdout",
     "output_type": "stream",
     "text": [
      "332833500\n",
      "2499500025000000\n"
     ]
    }
   ],
   "source": [
    "def function_to_profile():\n",
    "    print(sum(x**2 for x in range(1000)))\n",
    "    print(sum(x**3 for x in range(10000)))\n",
    "    \n",
    "%lprun -f function_to_profile function_to_profile()"
   ]
  },
  {
   "cell_type": "markdown",
   "metadata": {},
   "source": [
    "## Python-specific features for Practical Data Science\n",
    "\n",
    "In the remainder of this notebook (which as you go through it, should serve both as an illustration of some concepts in the Notebook, and a brief highlight of some of the relevant Python concepts we'll use frequently throughout this course.  Importantly, these notes are not meant to be a general tutorial on Python, which you are already expected to be familiar with.  If any of the basic Python concepts here seem difficult, we recommend you consult a standard [Python Tutorial](https://docs.python.org/3/tutorial/).  \n",
    "\n",
    "The most common \"built in\" data types you will interact with when doing data science work at lists and dictionaries (there are of course additional types like Numpy Arrays, Pandas Dataframes, and others, but these are provided by external libraries).  It's good to have a brief understanding of how to use these data structures effectively."
   ]
  },
  {
   "cell_type": "markdown",
   "metadata": {},
   "source": [
    "### Lists\n",
    "\n",
    "Lists are denoted by items within square brackets."
   ]
  },
  {
   "cell_type": "code",
   "execution_count": 40,
   "metadata": {
    "collapsed": true
   },
   "outputs": [],
   "source": [
    "list1 = [\"a\", \"b\", \"c\", \"d\"]\n",
    "list2 = [1, 2, 3, \"4\", [1,2]]"
   ]
  },
  {
   "cell_type": "markdown",
   "metadata": {},
   "source": [
    "Items within a list can be accessed via several types of indexing: indexing to a given element, negative indexing (backward from the end of a list), and slice-based indexing that returns subsets of the list."
   ]
  },
  {
   "cell_type": "code",
   "execution_count": 42,
   "metadata": {},
   "outputs": [
    {
     "name": "stdout",
     "output_type": "stream",
     "text": [
      "a\n",
      "d\n",
      "['b']\n",
      "['a', 'c']\n",
      "a\n",
      "b\n",
      "c\n",
      "d\n"
     ]
    }
   ],
   "source": [
    "print(list1[0])\n",
    "print(list1[-1])\n",
    "print(list1[1:2])\n",
    "print(list1[0:4:2])\n",
    "for a in list1:\n",
    "    print(a)"
   ]
  },
  {
   "cell_type": "markdown",
   "metadata": {},
   "source": [
    "### List comprehensions\n",
    "\n",
    "One slightly less well-known construct that I use extremely frequently (so it may come up in both sample code and homework code), is the list comprehension.  Briefly, this a method for constructing a list by iterating over another list.  Let's suppose we wanted to create a `list3` object that included every element from `list1`, but with an underscore after each string.  We could do it by explicitly constructing the list and adding each element, like so."
   ]
  },
  {
   "cell_type": "code",
   "execution_count": 44,
   "metadata": {},
   "outputs": [
    {
     "data": {
      "text/plain": [
       "['a_', 'b_', 'c_', 'd_']"
      ]
     },
     "execution_count": 44,
     "metadata": {},
     "output_type": "execute_result"
    }
   ],
   "source": [
    "list3 = []\n",
    "for x in list1:\n",
    "    list3.append(x + \"_\")\n",
    "list3"
   ]
  },
  {
   "cell_type": "markdown",
   "metadata": {},
   "source": [
    "However, this quickly gets verbose, if we want to create several new lists this way.  We could get this same result through a list comprehension, which has the syntax `[some_expression(item) for item in list]`, and returns a new list by applying `some_expression` (not necessarily an actual function, just some expression that involves `item`) to each element of the list."
   ]
  },
  {
   "cell_type": "code",
   "execution_count": 47,
   "metadata": {},
   "outputs": [
    {
     "data": {
      "text/plain": [
       "['a_', 'b_', 'c_', 'd_']"
      ]
     },
     "execution_count": 47,
     "metadata": {},
     "output_type": "execute_result"
    }
   ],
   "source": [
    "list3 = [x + \"_\" for x in list1]\n",
    "list3"
   ]
  },
  {
   "cell_type": "markdown",
   "metadata": {},
   "source": [
    "As a slightly more complex example, let's use list comprehensions to count the number of words in a file.  The \"shakespeare.txt\" file included with this notebook contains test for all the collected works of Shakespeare.  Let's first read all the lines of Shakespeare into a file."
   ]
  },
  {
   "cell_type": "code",
   "execution_count": 48,
   "metadata": {
    "collapsed": true
   },
   "outputs": [],
   "source": [
    "with open(\"shakespeare.txt\") as f:\n",
    "    lines = f.readlines()"
   ]
  },
  {
   "cell_type": "markdown",
   "metadata": {
    "collapsed": true
   },
   "source": [
    "Now let's use a list comprehension to count the number of words in each line (given by `len(line.split())`, which splits the line by the space character), and then compute the sum of this whole list."
   ]
  },
  {
   "cell_type": "code",
   "execution_count": 49,
   "metadata": {},
   "outputs": [
    {
     "data": {
      "text/plain": [
       "815988"
      ]
     },
     "execution_count": 49,
     "metadata": {},
     "output_type": "execute_result"
    }
   ],
   "source": [
    "sum([len(line.split(\" \")) for line in lines])"
   ]
  },
  {
   "cell_type": "markdown",
   "metadata": {},
   "source": [
    "As a final node, if our only goal is to sum up the total number of words (rather than explicitly create the list containing the number of words in each line), we can omit the brackets from the call above, which creates what is called a _generator expression_.  This is like a list comprehension except that it doesn't actually instantiate the new list: it simply generates each element one at a time and (in this case) passes each to the `sum()` function."
   ]
  },
  {
   "cell_type": "code",
   "execution_count": null,
   "metadata": {},
   "outputs": [],
   "source": [
    "sum(len(line.split(\" \")) for line in lines)"
   ]
  },
  {
   "cell_type": "markdown",
   "metadata": {},
   "source": [
    "### List implmentation internals\n",
    "\n",
    "As a final note about lists, it is important for creating efficient Python code to understand a little bit about the nature of how lists are implemented internally.  Python lists are not really \"lists\" in the typical CS sense of the word, i.e., they are not linked lists or some structure like this.  Instead, a Python list is really a _dynamically sized array_.  That is, a list is an array of fixed-size elements (more precisely, it is an array of abstract \"Python Object\" elements, which in turn point to numbers, strings, other arrays, etc, while having the actual array elements in the list be fixed size).  The arrays are pre-allocated to have a certain amount of \"extra elements\" that can be used to add new items to the list; if we want to append a new item to the list, and do not have enough room in the underlying array, it is resized with some additional buffer (for example, the underlying size could be doubled ... though in reality Python uses a slightly more involved growth algorithm than just doubling each time) to allow for the additional elements.  Because this resizing happens relatively infrequently, it does not cost much from a computational perspective.  Put in big O notation, the following operations are lists are all constant time:\n",
    "\n",
    "- Append: O(1) (average case)\n",
    "- Lookup: O(1)\n",
    "- Delete last element: O(1)\n",
    "\n",
    "On the other hand, if you attempt to insert a new element somewhere in the middle of the list (shifting down later element), or delete an item in the middle of the list (shifting up later elements), these operations are expensive, because we need to copy every single item in the list after the inserted or deleted item, and move it in memory.  In big O notation, the following operations take linear time:\n",
    "\n",
    "- Insert element at arbitrary position: O(n)\n",
    "- Delete element at arbitrary position: O(n)\n",
    "\n",
    "As an illustration of this, let's consider two versions of code that creates an array, either by appending or inserting (at the beginning of the list) new elements:"
   ]
  },
  {
   "cell_type": "code",
   "execution_count": 50,
   "metadata": {},
   "outputs": [
    {
     "name": "stdout",
     "output_type": "stream",
     "text": [
      "1.84 s ± 359 ms per loop (mean ± std. dev. of 7 runs, 1 loop each)\n"
     ]
    }
   ],
   "source": [
    "%%timeit\n",
    "all_words = []\n",
    "for line in lines[:10000]:\n",
    "    for word in line.split():\n",
    "        all_words.insert(0, word)"
   ]
  },
  {
   "cell_type": "code",
   "execution_count": 51,
   "metadata": {},
   "outputs": [
    {
     "name": "stdout",
     "output_type": "stream",
     "text": [
      "13.1 ms ± 159 µs per loop (mean ± std. dev. of 7 runs, 100 loops each)\n"
     ]
    }
   ],
   "source": [
    "%%timeit\n",
    "all_words = []\n",
    "for line in lines[:10000]:\n",
    "    for word in line.split():\n",
    "        all_words.append(word)"
   ]
  },
  {
   "cell_type": "markdown",
   "metadata": {},
   "source": [
    "The second version is about 100x faster than the first.  This type of speed difference can be crucial when you write data processing loops.\n",
    "\n",
    "A good page with further explanation about the internals of Python lists here (more technical than you need for this class certainly, but for those who are curious): [Python list implementation](https://www.laurentluce.com/posts/python-list-implementation/)."
   ]
  },
  {
   "cell_type": "markdown",
   "metadata": {},
   "source": [
    "### Dictionaries\n",
    "\n",
    "The next main built in data type you'll use in data science is the dictionary.  Dictionaries are mappings from keys to values, where keys can be any \"immutable\" Python type (most commonly strings, numbers, booleans, tuples ... but importantly _not_ lists or other dictionaries), and values can be any python type (including lists or dictionaries).\n",
    "\n",
    "Dictionaries can be created with curly brackets, like the following:"
   ]
  },
  {
   "cell_type": "code",
   "execution_count": 61,
   "metadata": {
    "collapsed": true
   },
   "outputs": [],
   "source": [
    "dict1 = {\"a\":1, \"b\":2, \"c\":3}"
   ]
  },
  {
   "cell_type": "markdown",
   "metadata": {},
   "source": [
    "And then elements are accessed by square brackets."
   ]
  },
  {
   "cell_type": "code",
   "execution_count": 62,
   "metadata": {},
   "outputs": [
    {
     "data": {
      "text/plain": [
       "1"
      ]
     },
     "execution_count": 62,
     "metadata": {},
     "output_type": "execute_result"
    }
   ],
   "source": [
    "dict1[\"a\"]"
   ]
  },
  {
   "cell_type": "markdown",
   "metadata": {},
   "source": [
    "Unlike lists, dictionaries can't be indexed by slices, or negative indexing, or anything like that.  The keys in a dictionary are treated as _unordered_, so there is no notion to sequence in the items of a dictionary.  We can use the same notation to assign new elements to the dictionary."
   ]
  },
  {
   "cell_type": "code",
   "execution_count": null,
   "metadata": {
    "collapsed": true
   },
   "outputs": [],
   "source": [
    "dict1[\"d\"] = 4"
   ]
  },
  {
   "cell_type": "markdown",
   "metadata": {},
   "source": [
    "Note that we can make this call even though `dict[\"d\"]` previously did not contain anything (and if we try to just execute this statement, it will throw an exception).  You can also check for a key belonging to a dictionary with the command:"
   ]
  },
  {
   "cell_type": "code",
   "execution_count": 63,
   "metadata": {},
   "outputs": [
    {
     "data": {
      "text/plain": [
       "True"
      ]
     },
     "execution_count": 63,
     "metadata": {},
     "output_type": "execute_result"
    }
   ],
   "source": [
    "\"a\" in dict1"
   ]
  },
  {
   "cell_type": "markdown",
   "metadata": {},
   "source": [
    "Finally, there is the analogue to list comprehensions: dictionary comprehensions.  These are specified similar to a list comprehension, but are denoted by the syntax `{key(item) : value(item) for item in list}`."
   ]
  },
  {
   "cell_type": "code",
   "execution_count": 64,
   "metadata": {},
   "outputs": [
    {
     "data": {
      "text/plain": [
       "{0: 0, 1: 1, 2: 4, 3: 9, 4: 16, 5: 25, 6: 36, 7: 49, 8: 64, 9: 81}"
      ]
     },
     "execution_count": 64,
     "metadata": {},
     "output_type": "execute_result"
    }
   ],
   "source": [
    "{i:i**2 for i in range(10)}"
   ]
  },
  {
   "cell_type": "markdown",
   "metadata": {},
   "source": [
    "### Dictionary internals\n",
    "\n",
    "Internally, dictionaries are represented using _hash tables_.  That is, the dictionary elements are all contained in a relatively small array.  When inserting a new element in the dictionary, we compute a _hash_ of the key, and modulo this number by the size of the array.  If that location in the underlying array is empty, we store the key/value pair at that index.  The the location is already with note _different_ element (which has to be possible, since there are more possible keys than the size of the underlying array) we execute what is called a \"probing strategy\" to find the next free slot.  The details of the hashing function and probing strategy aren't important (some info is on the page linked below), but the key portions are that the process is deterministic, so we can easily both assign elements and look up elements by key (similarly computing the hash and probing until the key at the location matches the key we are looking for ... note that this is why we need to store both the key _and_ value in the array).\n",
    "\n",
    "A good hash function will tend to generate \"random\" locations in the array, so there is a high probably we will find an empty slot without too many probing iterations.  In Python, once the array is 2/3 full, we double (or quadruple, for small-sized dictionaries) the size of the underlying array, and rebuild the hash table (which is required, since the location of different key/values pairs now changes for a different size of underlying array).  Just like with a list, although this rebuilding operation is slow, because it happens relatively infrequently, it does not end up costing too much time.  In big O notation, the operations of a dictionary all have (average case) constant time:\n",
    "\n",
    "- Insert new element: O(1)\n",
    "- Lookup element: O(1)\n",
    "- Delete element: O(1)\n",
    "\n",
    "More information about dictionary internals is here: [Python dictionary implementation](https://www.laurentluce.com/posts/python-dictionary-implementation/)"
   ]
  },
  {
   "cell_type": "markdown",
   "metadata": {},
   "source": [
    "### Classes\n",
    "\n",
    "Although this section will not describe it in any detail, it will also be necessary to be familiar with classes in Python.  We will just mention a few notes about classes here, using this example:"
   ]
  },
  {
   "cell_type": "code",
   "execution_count": 82,
   "metadata": {},
   "outputs": [
    {
     "data": {
      "text/plain": [
       "1"
      ]
     },
     "execution_count": 82,
     "metadata": {},
     "output_type": "execute_result"
    }
   ],
   "source": [
    "class MyClass:\n",
    "    def __init__(self, n):\n",
    "        self.n = n\n",
    "    \n",
    "    def get_n(self):\n",
    "        return self.n\n",
    "\n",
    "a = MyClass(1)\n",
    "a.get_n()"
   ]
  },
  {
   "cell_type": "markdown",
   "metadata": {},
   "source": [
    "The first note is that all functions within a Python class take an instance of that class as the first argument, usually named `self` in implementations (but it can be named anything).  Class methods and static methods (see the discussion in the list below) behave differently, but we won't be using those features much in this class.  The second thing of some importance is that unlike other object-oriented languages, Python does not actually have a distinction between \"public\" and \"private\" variables.  Although here it seems like the \"n\" variable should be private (inaccessible outside the class), and only accessible via the method `get_n()`, we can just as easily access it directly."
   ]
  },
  {
   "cell_type": "code",
   "execution_count": 83,
   "metadata": {},
   "outputs": [
    {
     "data": {
      "text/plain": [
       "1"
      ]
     },
     "execution_count": 83,
     "metadata": {},
     "output_type": "execute_result"
    }
   ],
   "source": [
    "a.n"
   ]
  },
  {
   "cell_type": "markdown",
   "metadata": {},
   "source": [
    "This means that Python doesn't really respect the traditional object-oriented abstractions (they are more just rules of thumb, that can be overridden by any code that wants to).  Be careful of this fact if you're used to classes in more structured languages like C++ or Java."
   ]
  },
  {
   "cell_type": "markdown",
   "metadata": {},
   "source": [
    "## Visualizations in notebook (preview)\n",
    "\n",
    "While we are going to have an entire lecture on visualization, much of which will come with examples on how to generate visualizations in the notebook, I want to give a quick preview here of how we can generate figures inline in the notebook.  The \"magic\" commands here are the following, first to import a relevant plotting library, then a cell magic command that instructs Jupyter to plot figures in the notebook."
   ]
  },
  {
   "cell_type": "code",
   "execution_count": 77,
   "metadata": {
    "collapsed": true
   },
   "outputs": [],
   "source": [
    "import matplotlib.pyplot as plt\n",
    "%matplotlib notebook"
   ]
  },
  {
   "cell_type": "markdown",
   "metadata": {},
   "source": [
    "Now let's plot a simple sine wave (using `numpy`, which we'll also cover more later, but hopefully this notation is clear)."
   ]
  },
  {
   "cell_type": "code",
   "execution_count": 79,
   "metadata": {},
   "outputs": [
    {
     "data": {
      "application/javascript": [
       "/* Put everything inside the global mpl namespace */\n",
       "window.mpl = {};\n",
       "\n",
       "\n",
       "mpl.get_websocket_type = function() {\n",
       "    if (typeof(WebSocket) !== 'undefined') {\n",
       "        return WebSocket;\n",
       "    } else if (typeof(MozWebSocket) !== 'undefined') {\n",
       "        return MozWebSocket;\n",
       "    } else {\n",
       "        alert('Your browser does not have WebSocket support.' +\n",
       "              'Please try Chrome, Safari or Firefox ≥ 6. ' +\n",
       "              'Firefox 4 and 5 are also supported but you ' +\n",
       "              'have to enable WebSockets in about:config.');\n",
       "    };\n",
       "}\n",
       "\n",
       "mpl.figure = function(figure_id, websocket, ondownload, parent_element) {\n",
       "    this.id = figure_id;\n",
       "\n",
       "    this.ws = websocket;\n",
       "\n",
       "    this.supports_binary = (this.ws.binaryType != undefined);\n",
       "\n",
       "    if (!this.supports_binary) {\n",
       "        var warnings = document.getElementById(\"mpl-warnings\");\n",
       "        if (warnings) {\n",
       "            warnings.style.display = 'block';\n",
       "            warnings.textContent = (\n",
       "                \"This browser does not support binary websocket messages. \" +\n",
       "                    \"Performance may be slow.\");\n",
       "        }\n",
       "    }\n",
       "\n",
       "    this.imageObj = new Image();\n",
       "\n",
       "    this.context = undefined;\n",
       "    this.message = undefined;\n",
       "    this.canvas = undefined;\n",
       "    this.rubberband_canvas = undefined;\n",
       "    this.rubberband_context = undefined;\n",
       "    this.format_dropdown = undefined;\n",
       "\n",
       "    this.image_mode = 'full';\n",
       "\n",
       "    this.root = $('<div/>');\n",
       "    this._root_extra_style(this.root)\n",
       "    this.root.attr('style', 'display: inline-block');\n",
       "\n",
       "    $(parent_element).append(this.root);\n",
       "\n",
       "    this._init_header(this);\n",
       "    this._init_canvas(this);\n",
       "    this._init_toolbar(this);\n",
       "\n",
       "    var fig = this;\n",
       "\n",
       "    this.waiting = false;\n",
       "\n",
       "    this.ws.onopen =  function () {\n",
       "            fig.send_message(\"supports_binary\", {value: fig.supports_binary});\n",
       "            fig.send_message(\"send_image_mode\", {});\n",
       "            if (mpl.ratio != 1) {\n",
       "                fig.send_message(\"set_dpi_ratio\", {'dpi_ratio': mpl.ratio});\n",
       "            }\n",
       "            fig.send_message(\"refresh\", {});\n",
       "        }\n",
       "\n",
       "    this.imageObj.onload = function() {\n",
       "            if (fig.image_mode == 'full') {\n",
       "                // Full images could contain transparency (where diff images\n",
       "                // almost always do), so we need to clear the canvas so that\n",
       "                // there is no ghosting.\n",
       "                fig.context.clearRect(0, 0, fig.canvas.width, fig.canvas.height);\n",
       "            }\n",
       "            fig.context.drawImage(fig.imageObj, 0, 0);\n",
       "        };\n",
       "\n",
       "    this.imageObj.onunload = function() {\n",
       "        fig.ws.close();\n",
       "    }\n",
       "\n",
       "    this.ws.onmessage = this._make_on_message_function(this);\n",
       "\n",
       "    this.ondownload = ondownload;\n",
       "}\n",
       "\n",
       "mpl.figure.prototype._init_header = function() {\n",
       "    var titlebar = $(\n",
       "        '<div class=\"ui-dialog-titlebar ui-widget-header ui-corner-all ' +\n",
       "        'ui-helper-clearfix\"/>');\n",
       "    var titletext = $(\n",
       "        '<div class=\"ui-dialog-title\" style=\"width: 100%; ' +\n",
       "        'text-align: center; padding: 3px;\"/>');\n",
       "    titlebar.append(titletext)\n",
       "    this.root.append(titlebar);\n",
       "    this.header = titletext[0];\n",
       "}\n",
       "\n",
       "\n",
       "\n",
       "mpl.figure.prototype._canvas_extra_style = function(canvas_div) {\n",
       "\n",
       "}\n",
       "\n",
       "\n",
       "mpl.figure.prototype._root_extra_style = function(canvas_div) {\n",
       "\n",
       "}\n",
       "\n",
       "mpl.figure.prototype._init_canvas = function() {\n",
       "    var fig = this;\n",
       "\n",
       "    var canvas_div = $('<div/>');\n",
       "\n",
       "    canvas_div.attr('style', 'position: relative; clear: both; outline: 0');\n",
       "\n",
       "    function canvas_keyboard_event(event) {\n",
       "        return fig.key_event(event, event['data']);\n",
       "    }\n",
       "\n",
       "    canvas_div.keydown('key_press', canvas_keyboard_event);\n",
       "    canvas_div.keyup('key_release', canvas_keyboard_event);\n",
       "    this.canvas_div = canvas_div\n",
       "    this._canvas_extra_style(canvas_div)\n",
       "    this.root.append(canvas_div);\n",
       "\n",
       "    var canvas = $('<canvas/>');\n",
       "    canvas.addClass('mpl-canvas');\n",
       "    canvas.attr('style', \"left: 0; top: 0; z-index: 0; outline: 0\")\n",
       "\n",
       "    this.canvas = canvas[0];\n",
       "    this.context = canvas[0].getContext(\"2d\");\n",
       "\n",
       "    var backingStore = this.context.backingStorePixelRatio ||\n",
       "\tthis.context.webkitBackingStorePixelRatio ||\n",
       "\tthis.context.mozBackingStorePixelRatio ||\n",
       "\tthis.context.msBackingStorePixelRatio ||\n",
       "\tthis.context.oBackingStorePixelRatio ||\n",
       "\tthis.context.backingStorePixelRatio || 1;\n",
       "\n",
       "    mpl.ratio = (window.devicePixelRatio || 1) / backingStore;\n",
       "\n",
       "    var rubberband = $('<canvas/>');\n",
       "    rubberband.attr('style', \"position: absolute; left: 0; top: 0; z-index: 1;\")\n",
       "\n",
       "    var pass_mouse_events = true;\n",
       "\n",
       "    canvas_div.resizable({\n",
       "        start: function(event, ui) {\n",
       "            pass_mouse_events = false;\n",
       "        },\n",
       "        resize: function(event, ui) {\n",
       "            fig.request_resize(ui.size.width, ui.size.height);\n",
       "        },\n",
       "        stop: function(event, ui) {\n",
       "            pass_mouse_events = true;\n",
       "            fig.request_resize(ui.size.width, ui.size.height);\n",
       "        },\n",
       "    });\n",
       "\n",
       "    function mouse_event_fn(event) {\n",
       "        if (pass_mouse_events)\n",
       "            return fig.mouse_event(event, event['data']);\n",
       "    }\n",
       "\n",
       "    rubberband.mousedown('button_press', mouse_event_fn);\n",
       "    rubberband.mouseup('button_release', mouse_event_fn);\n",
       "    // Throttle sequential mouse events to 1 every 20ms.\n",
       "    rubberband.mousemove('motion_notify', mouse_event_fn);\n",
       "\n",
       "    rubberband.mouseenter('figure_enter', mouse_event_fn);\n",
       "    rubberband.mouseleave('figure_leave', mouse_event_fn);\n",
       "\n",
       "    canvas_div.on(\"wheel\", function (event) {\n",
       "        event = event.originalEvent;\n",
       "        event['data'] = 'scroll'\n",
       "        if (event.deltaY < 0) {\n",
       "            event.step = 1;\n",
       "        } else {\n",
       "            event.step = -1;\n",
       "        }\n",
       "        mouse_event_fn(event);\n",
       "    });\n",
       "\n",
       "    canvas_div.append(canvas);\n",
       "    canvas_div.append(rubberband);\n",
       "\n",
       "    this.rubberband = rubberband;\n",
       "    this.rubberband_canvas = rubberband[0];\n",
       "    this.rubberband_context = rubberband[0].getContext(\"2d\");\n",
       "    this.rubberband_context.strokeStyle = \"#000000\";\n",
       "\n",
       "    this._resize_canvas = function(width, height) {\n",
       "        // Keep the size of the canvas, canvas container, and rubber band\n",
       "        // canvas in synch.\n",
       "        canvas_div.css('width', width)\n",
       "        canvas_div.css('height', height)\n",
       "\n",
       "        canvas.attr('width', width * mpl.ratio);\n",
       "        canvas.attr('height', height * mpl.ratio);\n",
       "        canvas.attr('style', 'width: ' + width + 'px; height: ' + height + 'px;');\n",
       "\n",
       "        rubberband.attr('width', width);\n",
       "        rubberband.attr('height', height);\n",
       "    }\n",
       "\n",
       "    // Set the figure to an initial 600x600px, this will subsequently be updated\n",
       "    // upon first draw.\n",
       "    this._resize_canvas(600, 600);\n",
       "\n",
       "    // Disable right mouse context menu.\n",
       "    $(this.rubberband_canvas).bind(\"contextmenu\",function(e){\n",
       "        return false;\n",
       "    });\n",
       "\n",
       "    function set_focus () {\n",
       "        canvas.focus();\n",
       "        canvas_div.focus();\n",
       "    }\n",
       "\n",
       "    window.setTimeout(set_focus, 100);\n",
       "}\n",
       "\n",
       "mpl.figure.prototype._init_toolbar = function() {\n",
       "    var fig = this;\n",
       "\n",
       "    var nav_element = $('<div/>')\n",
       "    nav_element.attr('style', 'width: 100%');\n",
       "    this.root.append(nav_element);\n",
       "\n",
       "    // Define a callback function for later on.\n",
       "    function toolbar_event(event) {\n",
       "        return fig.toolbar_button_onclick(event['data']);\n",
       "    }\n",
       "    function toolbar_mouse_event(event) {\n",
       "        return fig.toolbar_button_onmouseover(event['data']);\n",
       "    }\n",
       "\n",
       "    for(var toolbar_ind in mpl.toolbar_items) {\n",
       "        var name = mpl.toolbar_items[toolbar_ind][0];\n",
       "        var tooltip = mpl.toolbar_items[toolbar_ind][1];\n",
       "        var image = mpl.toolbar_items[toolbar_ind][2];\n",
       "        var method_name = mpl.toolbar_items[toolbar_ind][3];\n",
       "\n",
       "        if (!name) {\n",
       "            // put a spacer in here.\n",
       "            continue;\n",
       "        }\n",
       "        var button = $('<button/>');\n",
       "        button.addClass('ui-button ui-widget ui-state-default ui-corner-all ' +\n",
       "                        'ui-button-icon-only');\n",
       "        button.attr('role', 'button');\n",
       "        button.attr('aria-disabled', 'false');\n",
       "        button.click(method_name, toolbar_event);\n",
       "        button.mouseover(tooltip, toolbar_mouse_event);\n",
       "\n",
       "        var icon_img = $('<span/>');\n",
       "        icon_img.addClass('ui-button-icon-primary ui-icon');\n",
       "        icon_img.addClass(image);\n",
       "        icon_img.addClass('ui-corner-all');\n",
       "\n",
       "        var tooltip_span = $('<span/>');\n",
       "        tooltip_span.addClass('ui-button-text');\n",
       "        tooltip_span.html(tooltip);\n",
       "\n",
       "        button.append(icon_img);\n",
       "        button.append(tooltip_span);\n",
       "\n",
       "        nav_element.append(button);\n",
       "    }\n",
       "\n",
       "    var fmt_picker_span = $('<span/>');\n",
       "\n",
       "    var fmt_picker = $('<select/>');\n",
       "    fmt_picker.addClass('mpl-toolbar-option ui-widget ui-widget-content');\n",
       "    fmt_picker_span.append(fmt_picker);\n",
       "    nav_element.append(fmt_picker_span);\n",
       "    this.format_dropdown = fmt_picker[0];\n",
       "\n",
       "    for (var ind in mpl.extensions) {\n",
       "        var fmt = mpl.extensions[ind];\n",
       "        var option = $(\n",
       "            '<option/>', {selected: fmt === mpl.default_extension}).html(fmt);\n",
       "        fmt_picker.append(option)\n",
       "    }\n",
       "\n",
       "    // Add hover states to the ui-buttons\n",
       "    $( \".ui-button\" ).hover(\n",
       "        function() { $(this).addClass(\"ui-state-hover\");},\n",
       "        function() { $(this).removeClass(\"ui-state-hover\");}\n",
       "    );\n",
       "\n",
       "    var status_bar = $('<span class=\"mpl-message\"/>');\n",
       "    nav_element.append(status_bar);\n",
       "    this.message = status_bar[0];\n",
       "}\n",
       "\n",
       "mpl.figure.prototype.request_resize = function(x_pixels, y_pixels) {\n",
       "    // Request matplotlib to resize the figure. Matplotlib will then trigger a resize in the client,\n",
       "    // which will in turn request a refresh of the image.\n",
       "    this.send_message('resize', {'width': x_pixels, 'height': y_pixels});\n",
       "}\n",
       "\n",
       "mpl.figure.prototype.send_message = function(type, properties) {\n",
       "    properties['type'] = type;\n",
       "    properties['figure_id'] = this.id;\n",
       "    this.ws.send(JSON.stringify(properties));\n",
       "}\n",
       "\n",
       "mpl.figure.prototype.send_draw_message = function() {\n",
       "    if (!this.waiting) {\n",
       "        this.waiting = true;\n",
       "        this.ws.send(JSON.stringify({type: \"draw\", figure_id: this.id}));\n",
       "    }\n",
       "}\n",
       "\n",
       "\n",
       "mpl.figure.prototype.handle_save = function(fig, msg) {\n",
       "    var format_dropdown = fig.format_dropdown;\n",
       "    var format = format_dropdown.options[format_dropdown.selectedIndex].value;\n",
       "    fig.ondownload(fig, format);\n",
       "}\n",
       "\n",
       "\n",
       "mpl.figure.prototype.handle_resize = function(fig, msg) {\n",
       "    var size = msg['size'];\n",
       "    if (size[0] != fig.canvas.width || size[1] != fig.canvas.height) {\n",
       "        fig._resize_canvas(size[0], size[1]);\n",
       "        fig.send_message(\"refresh\", {});\n",
       "    };\n",
       "}\n",
       "\n",
       "mpl.figure.prototype.handle_rubberband = function(fig, msg) {\n",
       "    var x0 = msg['x0'] / mpl.ratio;\n",
       "    var y0 = (fig.canvas.height - msg['y0']) / mpl.ratio;\n",
       "    var x1 = msg['x1'] / mpl.ratio;\n",
       "    var y1 = (fig.canvas.height - msg['y1']) / mpl.ratio;\n",
       "    x0 = Math.floor(x0) + 0.5;\n",
       "    y0 = Math.floor(y0) + 0.5;\n",
       "    x1 = Math.floor(x1) + 0.5;\n",
       "    y1 = Math.floor(y1) + 0.5;\n",
       "    var min_x = Math.min(x0, x1);\n",
       "    var min_y = Math.min(y0, y1);\n",
       "    var width = Math.abs(x1 - x0);\n",
       "    var height = Math.abs(y1 - y0);\n",
       "\n",
       "    fig.rubberband_context.clearRect(\n",
       "        0, 0, fig.canvas.width, fig.canvas.height);\n",
       "\n",
       "    fig.rubberband_context.strokeRect(min_x, min_y, width, height);\n",
       "}\n",
       "\n",
       "mpl.figure.prototype.handle_figure_label = function(fig, msg) {\n",
       "    // Updates the figure title.\n",
       "    fig.header.textContent = msg['label'];\n",
       "}\n",
       "\n",
       "mpl.figure.prototype.handle_cursor = function(fig, msg) {\n",
       "    var cursor = msg['cursor'];\n",
       "    switch(cursor)\n",
       "    {\n",
       "    case 0:\n",
       "        cursor = 'pointer';\n",
       "        break;\n",
       "    case 1:\n",
       "        cursor = 'default';\n",
       "        break;\n",
       "    case 2:\n",
       "        cursor = 'crosshair';\n",
       "        break;\n",
       "    case 3:\n",
       "        cursor = 'move';\n",
       "        break;\n",
       "    }\n",
       "    fig.rubberband_canvas.style.cursor = cursor;\n",
       "}\n",
       "\n",
       "mpl.figure.prototype.handle_message = function(fig, msg) {\n",
       "    fig.message.textContent = msg['message'];\n",
       "}\n",
       "\n",
       "mpl.figure.prototype.handle_draw = function(fig, msg) {\n",
       "    // Request the server to send over a new figure.\n",
       "    fig.send_draw_message();\n",
       "}\n",
       "\n",
       "mpl.figure.prototype.handle_image_mode = function(fig, msg) {\n",
       "    fig.image_mode = msg['mode'];\n",
       "}\n",
       "\n",
       "mpl.figure.prototype.updated_canvas_event = function() {\n",
       "    // Called whenever the canvas gets updated.\n",
       "    this.send_message(\"ack\", {});\n",
       "}\n",
       "\n",
       "// A function to construct a web socket function for onmessage handling.\n",
       "// Called in the figure constructor.\n",
       "mpl.figure.prototype._make_on_message_function = function(fig) {\n",
       "    return function socket_on_message(evt) {\n",
       "        if (evt.data instanceof Blob) {\n",
       "            /* FIXME: We get \"Resource interpreted as Image but\n",
       "             * transferred with MIME type text/plain:\" errors on\n",
       "             * Chrome.  But how to set the MIME type?  It doesn't seem\n",
       "             * to be part of the websocket stream */\n",
       "            evt.data.type = \"image/png\";\n",
       "\n",
       "            /* Free the memory for the previous frames */\n",
       "            if (fig.imageObj.src) {\n",
       "                (window.URL || window.webkitURL).revokeObjectURL(\n",
       "                    fig.imageObj.src);\n",
       "            }\n",
       "\n",
       "            fig.imageObj.src = (window.URL || window.webkitURL).createObjectURL(\n",
       "                evt.data);\n",
       "            fig.updated_canvas_event();\n",
       "            fig.waiting = false;\n",
       "            return;\n",
       "        }\n",
       "        else if (typeof evt.data === 'string' && evt.data.slice(0, 21) == \"data:image/png;base64\") {\n",
       "            fig.imageObj.src = evt.data;\n",
       "            fig.updated_canvas_event();\n",
       "            fig.waiting = false;\n",
       "            return;\n",
       "        }\n",
       "\n",
       "        var msg = JSON.parse(evt.data);\n",
       "        var msg_type = msg['type'];\n",
       "\n",
       "        // Call the  \"handle_{type}\" callback, which takes\n",
       "        // the figure and JSON message as its only arguments.\n",
       "        try {\n",
       "            var callback = fig[\"handle_\" + msg_type];\n",
       "        } catch (e) {\n",
       "            console.log(\"No handler for the '\" + msg_type + \"' message type: \", msg);\n",
       "            return;\n",
       "        }\n",
       "\n",
       "        if (callback) {\n",
       "            try {\n",
       "                // console.log(\"Handling '\" + msg_type + \"' message: \", msg);\n",
       "                callback(fig, msg);\n",
       "            } catch (e) {\n",
       "                console.log(\"Exception inside the 'handler_\" + msg_type + \"' callback:\", e, e.stack, msg);\n",
       "            }\n",
       "        }\n",
       "    };\n",
       "}\n",
       "\n",
       "// from http://stackoverflow.com/questions/1114465/getting-mouse-location-in-canvas\n",
       "mpl.findpos = function(e) {\n",
       "    //this section is from http://www.quirksmode.org/js/events_properties.html\n",
       "    var targ;\n",
       "    if (!e)\n",
       "        e = window.event;\n",
       "    if (e.target)\n",
       "        targ = e.target;\n",
       "    else if (e.srcElement)\n",
       "        targ = e.srcElement;\n",
       "    if (targ.nodeType == 3) // defeat Safari bug\n",
       "        targ = targ.parentNode;\n",
       "\n",
       "    // jQuery normalizes the pageX and pageY\n",
       "    // pageX,Y are the mouse positions relative to the document\n",
       "    // offset() returns the position of the element relative to the document\n",
       "    var x = e.pageX - $(targ).offset().left;\n",
       "    var y = e.pageY - $(targ).offset().top;\n",
       "\n",
       "    return {\"x\": x, \"y\": y};\n",
       "};\n",
       "\n",
       "/*\n",
       " * return a copy of an object with only non-object keys\n",
       " * we need this to avoid circular references\n",
       " * http://stackoverflow.com/a/24161582/3208463\n",
       " */\n",
       "function simpleKeys (original) {\n",
       "  return Object.keys(original).reduce(function (obj, key) {\n",
       "    if (typeof original[key] !== 'object')\n",
       "        obj[key] = original[key]\n",
       "    return obj;\n",
       "  }, {});\n",
       "}\n",
       "\n",
       "mpl.figure.prototype.mouse_event = function(event, name) {\n",
       "    var canvas_pos = mpl.findpos(event)\n",
       "\n",
       "    if (name === 'button_press')\n",
       "    {\n",
       "        this.canvas.focus();\n",
       "        this.canvas_div.focus();\n",
       "    }\n",
       "\n",
       "    var x = canvas_pos.x * mpl.ratio;\n",
       "    var y = canvas_pos.y * mpl.ratio;\n",
       "\n",
       "    this.send_message(name, {x: x, y: y, button: event.button,\n",
       "                             step: event.step,\n",
       "                             guiEvent: simpleKeys(event)});\n",
       "\n",
       "    /* This prevents the web browser from automatically changing to\n",
       "     * the text insertion cursor when the button is pressed.  We want\n",
       "     * to control all of the cursor setting manually through the\n",
       "     * 'cursor' event from matplotlib */\n",
       "    event.preventDefault();\n",
       "    return false;\n",
       "}\n",
       "\n",
       "mpl.figure.prototype._key_event_extra = function(event, name) {\n",
       "    // Handle any extra behaviour associated with a key event\n",
       "}\n",
       "\n",
       "mpl.figure.prototype.key_event = function(event, name) {\n",
       "\n",
       "    // Prevent repeat events\n",
       "    if (name == 'key_press')\n",
       "    {\n",
       "        if (event.which === this._key)\n",
       "            return;\n",
       "        else\n",
       "            this._key = event.which;\n",
       "    }\n",
       "    if (name == 'key_release')\n",
       "        this._key = null;\n",
       "\n",
       "    var value = '';\n",
       "    if (event.ctrlKey && event.which != 17)\n",
       "        value += \"ctrl+\";\n",
       "    if (event.altKey && event.which != 18)\n",
       "        value += \"alt+\";\n",
       "    if (event.shiftKey && event.which != 16)\n",
       "        value += \"shift+\";\n",
       "\n",
       "    value += 'k';\n",
       "    value += event.which.toString();\n",
       "\n",
       "    this._key_event_extra(event, name);\n",
       "\n",
       "    this.send_message(name, {key: value,\n",
       "                             guiEvent: simpleKeys(event)});\n",
       "    return false;\n",
       "}\n",
       "\n",
       "mpl.figure.prototype.toolbar_button_onclick = function(name) {\n",
       "    if (name == 'download') {\n",
       "        this.handle_save(this, null);\n",
       "    } else {\n",
       "        this.send_message(\"toolbar_button\", {name: name});\n",
       "    }\n",
       "};\n",
       "\n",
       "mpl.figure.prototype.toolbar_button_onmouseover = function(tooltip) {\n",
       "    this.message.textContent = tooltip;\n",
       "};\n",
       "mpl.toolbar_items = [[\"Home\", \"Reset original view\", \"fa fa-home icon-home\", \"home\"], [\"Back\", \"Back to  previous view\", \"fa fa-arrow-left icon-arrow-left\", \"back\"], [\"Forward\", \"Forward to next view\", \"fa fa-arrow-right icon-arrow-right\", \"forward\"], [\"\", \"\", \"\", \"\"], [\"Pan\", \"Pan axes with left mouse, zoom with right\", \"fa fa-arrows icon-move\", \"pan\"], [\"Zoom\", \"Zoom to rectangle\", \"fa fa-square-o icon-check-empty\", \"zoom\"], [\"\", \"\", \"\", \"\"], [\"Download\", \"Download plot\", \"fa fa-floppy-o icon-save\", \"download\"]];\n",
       "\n",
       "mpl.extensions = [\"eps\", \"jpeg\", \"pdf\", \"png\", \"ps\", \"raw\", \"svg\", \"tif\"];\n",
       "\n",
       "mpl.default_extension = \"png\";var comm_websocket_adapter = function(comm) {\n",
       "    // Create a \"websocket\"-like object which calls the given IPython comm\n",
       "    // object with the appropriate methods. Currently this is a non binary\n",
       "    // socket, so there is still some room for performance tuning.\n",
       "    var ws = {};\n",
       "\n",
       "    ws.close = function() {\n",
       "        comm.close()\n",
       "    };\n",
       "    ws.send = function(m) {\n",
       "        //console.log('sending', m);\n",
       "        comm.send(m);\n",
       "    };\n",
       "    // Register the callback with on_msg.\n",
       "    comm.on_msg(function(msg) {\n",
       "        //console.log('receiving', msg['content']['data'], msg);\n",
       "        // Pass the mpl event to the overriden (by mpl) onmessage function.\n",
       "        ws.onmessage(msg['content']['data'])\n",
       "    });\n",
       "    return ws;\n",
       "}\n",
       "\n",
       "mpl.mpl_figure_comm = function(comm, msg) {\n",
       "    // This is the function which gets called when the mpl process\n",
       "    // starts-up an IPython Comm through the \"matplotlib\" channel.\n",
       "\n",
       "    var id = msg.content.data.id;\n",
       "    // Get hold of the div created by the display call when the Comm\n",
       "    // socket was opened in Python.\n",
       "    var element = $(\"#\" + id);\n",
       "    var ws_proxy = comm_websocket_adapter(comm)\n",
       "\n",
       "    function ondownload(figure, format) {\n",
       "        window.open(figure.imageObj.src);\n",
       "    }\n",
       "\n",
       "    var fig = new mpl.figure(id, ws_proxy,\n",
       "                           ondownload,\n",
       "                           element.get(0));\n",
       "\n",
       "    // Call onopen now - mpl needs it, as it is assuming we've passed it a real\n",
       "    // web socket which is closed, not our websocket->open comm proxy.\n",
       "    ws_proxy.onopen();\n",
       "\n",
       "    fig.parent_element = element.get(0);\n",
       "    fig.cell_info = mpl.find_output_cell(\"<div id='\" + id + \"'></div>\");\n",
       "    if (!fig.cell_info) {\n",
       "        console.error(\"Failed to find cell for figure\", id, fig);\n",
       "        return;\n",
       "    }\n",
       "\n",
       "    var output_index = fig.cell_info[2]\n",
       "    var cell = fig.cell_info[0];\n",
       "\n",
       "};\n",
       "\n",
       "mpl.figure.prototype.handle_close = function(fig, msg) {\n",
       "    var width = fig.canvas.width/mpl.ratio\n",
       "    fig.root.unbind('remove')\n",
       "\n",
       "    // Update the output cell to use the data from the current canvas.\n",
       "    fig.push_to_output();\n",
       "    var dataURL = fig.canvas.toDataURL();\n",
       "    // Re-enable the keyboard manager in IPython - without this line, in FF,\n",
       "    // the notebook keyboard shortcuts fail.\n",
       "    IPython.keyboard_manager.enable()\n",
       "    $(fig.parent_element).html('<img src=\"' + dataURL + '\" width=\"' + width + '\">');\n",
       "    fig.close_ws(fig, msg);\n",
       "}\n",
       "\n",
       "mpl.figure.prototype.close_ws = function(fig, msg){\n",
       "    fig.send_message('closing', msg);\n",
       "    // fig.ws.close()\n",
       "}\n",
       "\n",
       "mpl.figure.prototype.push_to_output = function(remove_interactive) {\n",
       "    // Turn the data on the canvas into data in the output cell.\n",
       "    var width = this.canvas.width/mpl.ratio\n",
       "    var dataURL = this.canvas.toDataURL();\n",
       "    this.cell_info[1]['text/html'] = '<img src=\"' + dataURL + '\" width=\"' + width + '\">';\n",
       "}\n",
       "\n",
       "mpl.figure.prototype.updated_canvas_event = function() {\n",
       "    // Tell IPython that the notebook contents must change.\n",
       "    IPython.notebook.set_dirty(true);\n",
       "    this.send_message(\"ack\", {});\n",
       "    var fig = this;\n",
       "    // Wait a second, then push the new image to the DOM so\n",
       "    // that it is saved nicely (might be nice to debounce this).\n",
       "    setTimeout(function () { fig.push_to_output() }, 1000);\n",
       "}\n",
       "\n",
       "mpl.figure.prototype._init_toolbar = function() {\n",
       "    var fig = this;\n",
       "\n",
       "    var nav_element = $('<div/>')\n",
       "    nav_element.attr('style', 'width: 100%');\n",
       "    this.root.append(nav_element);\n",
       "\n",
       "    // Define a callback function for later on.\n",
       "    function toolbar_event(event) {\n",
       "        return fig.toolbar_button_onclick(event['data']);\n",
       "    }\n",
       "    function toolbar_mouse_event(event) {\n",
       "        return fig.toolbar_button_onmouseover(event['data']);\n",
       "    }\n",
       "\n",
       "    for(var toolbar_ind in mpl.toolbar_items){\n",
       "        var name = mpl.toolbar_items[toolbar_ind][0];\n",
       "        var tooltip = mpl.toolbar_items[toolbar_ind][1];\n",
       "        var image = mpl.toolbar_items[toolbar_ind][2];\n",
       "        var method_name = mpl.toolbar_items[toolbar_ind][3];\n",
       "\n",
       "        if (!name) { continue; };\n",
       "\n",
       "        var button = $('<button class=\"btn btn-default\" href=\"#\" title=\"' + name + '\"><i class=\"fa ' + image + ' fa-lg\"></i></button>');\n",
       "        button.click(method_name, toolbar_event);\n",
       "        button.mouseover(tooltip, toolbar_mouse_event);\n",
       "        nav_element.append(button);\n",
       "    }\n",
       "\n",
       "    // Add the status bar.\n",
       "    var status_bar = $('<span class=\"mpl-message\" style=\"text-align:right; float: right;\"/>');\n",
       "    nav_element.append(status_bar);\n",
       "    this.message = status_bar[0];\n",
       "\n",
       "    // Add the close button to the window.\n",
       "    var buttongrp = $('<div class=\"btn-group inline pull-right\"></div>');\n",
       "    var button = $('<button class=\"btn btn-mini btn-primary\" href=\"#\" title=\"Stop Interaction\"><i class=\"fa fa-power-off icon-remove icon-large\"></i></button>');\n",
       "    button.click(function (evt) { fig.handle_close(fig, {}); } );\n",
       "    button.mouseover('Stop Interaction', toolbar_mouse_event);\n",
       "    buttongrp.append(button);\n",
       "    var titlebar = this.root.find($('.ui-dialog-titlebar'));\n",
       "    titlebar.prepend(buttongrp);\n",
       "}\n",
       "\n",
       "mpl.figure.prototype._root_extra_style = function(el){\n",
       "    var fig = this\n",
       "    el.on(\"remove\", function(){\n",
       "\tfig.close_ws(fig, {});\n",
       "    });\n",
       "}\n",
       "\n",
       "mpl.figure.prototype._canvas_extra_style = function(el){\n",
       "    // this is important to make the div 'focusable\n",
       "    el.attr('tabindex', 0)\n",
       "    // reach out to IPython and tell the keyboard manager to turn it's self\n",
       "    // off when our div gets focus\n",
       "\n",
       "    // location in version 3\n",
       "    if (IPython.notebook.keyboard_manager) {\n",
       "        IPython.notebook.keyboard_manager.register_events(el);\n",
       "    }\n",
       "    else {\n",
       "        // location in version 2\n",
       "        IPython.keyboard_manager.register_events(el);\n",
       "    }\n",
       "\n",
       "}\n",
       "\n",
       "mpl.figure.prototype._key_event_extra = function(event, name) {\n",
       "    var manager = IPython.notebook.keyboard_manager;\n",
       "    if (!manager)\n",
       "        manager = IPython.keyboard_manager;\n",
       "\n",
       "    // Check for shift+enter\n",
       "    if (event.shiftKey && event.which == 13) {\n",
       "        this.canvas_div.blur();\n",
       "        event.shiftKey = false;\n",
       "        // Send a \"J\" for go to next cell\n",
       "        event.which = 74;\n",
       "        event.keyCode = 74;\n",
       "        manager.command_mode();\n",
       "        manager.handle_keydown(event);\n",
       "    }\n",
       "}\n",
       "\n",
       "mpl.figure.prototype.handle_save = function(fig, msg) {\n",
       "    fig.ondownload(fig, null);\n",
       "}\n",
       "\n",
       "\n",
       "mpl.find_output_cell = function(html_output) {\n",
       "    // Return the cell and output element which can be found *uniquely* in the notebook.\n",
       "    // Note - this is a bit hacky, but it is done because the \"notebook_saving.Notebook\"\n",
       "    // IPython event is triggered only after the cells have been serialised, which for\n",
       "    // our purposes (turning an active figure into a static one), is too late.\n",
       "    var cells = IPython.notebook.get_cells();\n",
       "    var ncells = cells.length;\n",
       "    for (var i=0; i<ncells; i++) {\n",
       "        var cell = cells[i];\n",
       "        if (cell.cell_type === 'code'){\n",
       "            for (var j=0; j<cell.output_area.outputs.length; j++) {\n",
       "                var data = cell.output_area.outputs[j];\n",
       "                if (data.data) {\n",
       "                    // IPython >= 3 moved mimebundle to data attribute of output\n",
       "                    data = data.data;\n",
       "                }\n",
       "                if (data['text/html'] == html_output) {\n",
       "                    return [cell, data, j];\n",
       "                }\n",
       "            }\n",
       "        }\n",
       "    }\n",
       "}\n",
       "\n",
       "// Register the function which deals with the matplotlib target/channel.\n",
       "// The kernel may be null if the page has been refreshed.\n",
       "if (IPython.notebook.kernel != null) {\n",
       "    IPython.notebook.kernel.comm_manager.register_target('matplotlib', mpl.mpl_figure_comm);\n",
       "}\n"
      ],
      "text/plain": [
       "<IPython.core.display.Javascript object>"
      ]
     },
     "metadata": {},
     "output_type": "display_data"
    },
    {
     "data": {
      "text/html": [
       "<img src=\"data:image/png;base64,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\" width=\"640\">"
      ],
      "text/plain": [
       "<IPython.core.display.HTML object>"
      ]
     },
     "metadata": {},
     "output_type": "display_data"
    },
    {
     "data": {
      "text/plain": [
       "[<matplotlib.lines.Line2D at 0x114f0efd0>]"
      ]
     },
     "execution_count": 79,
     "metadata": {},
     "output_type": "execute_result"
    }
   ],
   "source": [
    "import numpy as np\n",
    "x = np.linspace(0,2*np.pi,100)\n",
    "plt.plot(x, np.sin(x))"
   ]
  },
  {
   "cell_type": "markdown",
   "metadata": {},
   "source": [
    "This should open an interactive plot, where you can scroll around the image, zoom in, return to the \"home\" position, and even save the file.  Only one interactive plot can be active in a notebook at a time.  You can also generate \"static\" inline images by replacing the `%matplotlib notebook` magic with `%matplotlib inline`."
   ]
  },
  {
   "cell_type": "code",
   "execution_count": 80,
   "metadata": {},
   "outputs": [],
   "source": [
    "%matplotlib inline"
   ]
  },
  {
   "cell_type": "code",
   "execution_count": 81,
   "metadata": {},
   "outputs": [
    {
     "data": {
      "text/plain": [
       "[<matplotlib.lines.Line2D at 0x11670f5f8>]"
      ]
     },
     "execution_count": 81,
     "metadata": {},
     "output_type": "execute_result"
    },
    {
     "data": {
      "image/png": "[encoded data removed]",
      "text/plain": [
       "<matplotlib.figure.Figure at 0x115d54c18>"
      ]
     },
     "metadata": {},
     "output_type": "display_data"
    }
   ],
   "source": [
    "plt.plot(x, np.sin(x))"
   ]
  }
 ],
 "metadata": {
  "kernelspec": {
   "display_name": "Python 3",
   "language": "python",
   "name": "python3"
  },
  "language_info": {
   "codemirror_mode": {
    "name": "ipython",
    "version": 3
   },
   "file_extension": ".py",
   "mimetype": "text/x-python",
   "name": "python",
   "nbconvert_exporter": "python",
   "pygments_lexer": "ipython3",
   "version": "3.7.1"
  }
 },
 "nbformat": 4,
 "nbformat_minor": 2
}
