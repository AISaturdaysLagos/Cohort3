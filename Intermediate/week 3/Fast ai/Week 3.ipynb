{
  "nbformat": 4,
  "nbformat_minor": 0,
  "metadata": {
    "colab": {
      "name": "lesson3.ipynb",
      "version": "0.3.2",
      "provenance": []
    },
    "kernelspec": {
      "name": "python3",
      "display_name": "Python 3"
    },
    "accelerator": "GPU"
  },
  "cells": [
    {
      "metadata": {
        "id": "2AnZXzNgJk2j",
        "colab_type": "text"
      },
      "cell_type": "markdown",
      "source": [
        "**Important: This notebook will only work with fastai-0.7.x. Do not try to run any fastai-1.x code from this path in the repository because it will load fastai-0.7.x**"
      ]
    },
    {
      "metadata": {
        "id": "2tnZkb9rJk2m",
        "colab_type": "text"
      },
      "cell_type": "markdown",
      "source": [
        "# Structured and time series data"
      ]
    },
    {
      "metadata": {
        "id": "96xjnKPJJk2p",
        "colab_type": "text"
      },
      "cell_type": "markdown",
      "source": [
        "This notebook contains an implementation of the third place result in the Rossman Kaggle competition as detailed in Guo/Berkhahn's [Entity Embeddings of Categorical Variables](https://arxiv.org/abs/1604.06737).\n",
        "\n",
        "The motivation behind exploring this architecture is it's relevance to real-world application. Most data used for decision making day-to-day in industry is structured and/or time-series data. Here we explore the end-to-end process of using neural networks with practical structured data problems."
      ]
    },
    {
      "metadata": {
        "id": "6c8SPX9EJvLv",
        "colab_type": "code",
        "outputId": "0cb52834-d631-44bd-f06e-174c86b46c8d",
        "colab": {
          "base_uri": "https://localhost:8080/",
          "height": 230
        }
      },
      "cell_type": "code",
      "source": [
        "!curl -s https://course.fast.ai/setup/colab"
      ],
      "execution_count": 0,
      "outputs": [
        {
          "output_type": "stream",
          "text": [
            "#!/bin/bash\n",
            "if [ ! -e /content/models ]; then\n",
            "        mkdir -p /root/.torch/models\n",
            "        mkdir -p /root/.fastai/data\n",
            "        ln -s /root/.torch/models /content\n",
            "        ln -s /root/.fastai/data /content\n",
            "        rm -rf /content/sample_data/\n",
            "fi\n",
            "\n",
            "echo Updating fastai...\n",
            "pip install fastai --upgrade > /dev/null\n",
            "echo Done.\n"
          ],
          "name": "stdout"
        }
      ]
    },
    {
      "metadata": {
        "id": "uTJ-nLCYLCkc",
        "colab_type": "code",
        "outputId": "f0ab4c29-6a92-452c-927a-3ca55ffa176a",
        "colab": {
          "base_uri": "https://localhost:8080/",
          "height": 1548
        }
      },
      "cell_type": "code",
      "source": [
        "!pip3 install fastai==0.7.0\n",
        "!pip install torchtext==0.2.3"
      ],
      "execution_count": 0,
      "outputs": [
        {
          "output_type": "stream",
          "text": [
            "Requirement already satisfied: fastai==0.7.0 in /usr/local/lib/python3.6/dist-packages (0.7.0)\n",
            "Requirement already satisfied: Pillow in /usr/local/lib/python3.6/dist-packages (from fastai==0.7.0) (4.0.0)\n",
            "Requirement already satisfied: pytz in /usr/local/lib/python3.6/dist-packages (from fastai==0.7.0) (2018.9)\n",
            "Requirement already satisfied: seaborn in /usr/local/lib/python3.6/dist-packages (from fastai==0.7.0) (0.7.1)\n",
            "Requirement already satisfied: MarkupSafe in /usr/local/lib/python3.6/dist-packages (from fastai==0.7.0) (1.1.0)\n",
            "Requirement already satisfied: bleach in /usr/local/lib/python3.6/dist-packages (from fastai==0.7.0) (3.1.0)\n",
            "Requirement already satisfied: torchvision in /usr/local/lib/python3.6/dist-packages (from fastai==0.7.0) (0.2.1)\n",
            "Requirement already satisfied: torchtext in /usr/local/lib/python3.6/dist-packages (from fastai==0.7.0) (0.2.3)\n",
            "Requirement already satisfied: wcwidth in /usr/local/lib/python3.6/dist-packages (from fastai==0.7.0) (0.1.7)\n",
            "Requirement already satisfied: testpath in /usr/local/lib/python3.6/dist-packages (from fastai==0.7.0) (0.4.2)\n",
            "Requirement already satisfied: certifi in /usr/local/lib/python3.6/dist-packages (from fastai==0.7.0) (2018.11.29)\n",
            "Requirement already satisfied: jedi in /usr/local/lib/python3.6/dist-packages (from fastai==0.7.0) (0.13.2)\n",
            "Requirement already satisfied: html5lib in /usr/local/lib/python3.6/dist-packages (from fastai==0.7.0) (1.0.1)\n",
            "Requirement already satisfied: pandas-summary in /usr/local/lib/python3.6/dist-packages (from fastai==0.7.0) (0.0.6)\n",
            "Requirement already satisfied: widgetsnbextension in /usr/local/lib/python3.6/dist-packages (from fastai==0.7.0) (3.4.2)\n",
            "Requirement already satisfied: python-dateutil in /usr/local/lib/python3.6/dist-packages (from fastai==0.7.0) (2.5.3)\n",
            "Requirement already satisfied: ipykernel in /usr/local/lib/python3.6/dist-packages (from fastai==0.7.0) (4.6.1)\n",
            "Requirement already satisfied: tqdm in /usr/local/lib/python3.6/dist-packages (from fastai==0.7.0) (4.28.1)\n",
            "Requirement already satisfied: webencodings in /usr/local/lib/python3.6/dist-packages (from fastai==0.7.0) (0.5.1)\n",
            "Requirement already satisfied: simplegeneric in /usr/local/lib/python3.6/dist-packages (from fastai==0.7.0) (0.8.1)\n",
            "Requirement already satisfied: jsonschema in /usr/local/lib/python3.6/dist-packages (from fastai==0.7.0) (2.6.0)\n",
            "Requirement already satisfied: bcolz in /usr/local/lib/python3.6/dist-packages (from fastai==0.7.0) (1.2.1)\n",
            "Requirement already satisfied: Pygments in /usr/local/lib/python3.6/dist-packages (from fastai==0.7.0) (2.1.3)\n",
            "Requirement already satisfied: feather-format in /usr/local/lib/python3.6/dist-packages (from fastai==0.7.0) (0.4.0)\n",
            "Requirement already satisfied: cycler in /usr/local/lib/python3.6/dist-packages (from fastai==0.7.0) (0.10.0)\n",
            "Requirement already satisfied: ptyprocess in /usr/local/lib/python3.6/dist-packages (from fastai==0.7.0) (0.6.0)\n",
            "Requirement already satisfied: PyYAML in /usr/local/lib/python3.6/dist-packages (from fastai==0.7.0) (3.13)\n",
            "Requirement already satisfied: isoweek in /usr/local/lib/python3.6/dist-packages (from fastai==0.7.0) (1.3.3)\n",
            "Requirement already satisfied: traitlets in /usr/local/lib/python3.6/dist-packages (from fastai==0.7.0) (4.3.2)\n",
            "Requirement already satisfied: matplotlib in /usr/local/lib/python3.6/dist-packages (from fastai==0.7.0) (3.0.2)\n",
            "Requirement already satisfied: pickleshare in /usr/local/lib/python3.6/dist-packages (from fastai==0.7.0) (0.7.5)\n",
            "Requirement already satisfied: tornado in /usr/local/lib/python3.6/dist-packages (from fastai==0.7.0) (4.5.3)\n",
            "Requirement already satisfied: numpy in /usr/local/lib/python3.6/dist-packages (from fastai==0.7.0) (1.14.6)\n",
            "Requirement already satisfied: plotnine in /usr/local/lib/python3.6/dist-packages (from fastai==0.7.0) (0.5.1)\n",
            "Requirement already satisfied: scipy in /usr/local/lib/python3.6/dist-packages (from fastai==0.7.0) (1.1.0)\n",
            "Requirement already satisfied: opencv-python in /usr/local/lib/python3.6/dist-packages (from fastai==0.7.0) (3.4.5.20)\n",
            "Requirement already satisfied: torch<0.4 in /usr/local/lib/python3.6/dist-packages (from fastai==0.7.0) (0.3.1)\n",
            "Requirement already satisfied: pyparsing in /usr/local/lib/python3.6/dist-packages (from fastai==0.7.0) (2.3.1)\n",
            "Requirement already satisfied: jupyter in /usr/local/lib/python3.6/dist-packages (from fastai==0.7.0) (1.0.0)\n",
            "Requirement already satisfied: entrypoints in /usr/local/lib/python3.6/dist-packages (from fastai==0.7.0) (0.3)\n",
            "Requirement already satisfied: pyzmq in /usr/local/lib/python3.6/dist-packages (from fastai==0.7.0) (17.0.0)\n",
            "Requirement already satisfied: Jinja2 in /usr/local/lib/python3.6/dist-packages (from fastai==0.7.0) (2.10)\n",
            "Requirement already satisfied: graphviz in /usr/local/lib/python3.6/dist-packages (from fastai==0.7.0) (0.10.1)\n",
            "Requirement already satisfied: ipywidgets in /usr/local/lib/python3.6/dist-packages (from fastai==0.7.0) (7.4.2)\n",
            "Requirement already satisfied: ipython in /usr/local/lib/python3.6/dist-packages (from fastai==0.7.0) (5.5.0)\n",
            "Requirement already satisfied: ipython-genutils in /usr/local/lib/python3.6/dist-packages (from fastai==0.7.0) (0.2.0)\n",
            "Requirement already satisfied: sklearn-pandas in /usr/local/lib/python3.6/dist-packages (from fastai==0.7.0) (1.8.0)\n",
            "Requirement already satisfied: decorator in /usr/local/lib/python3.6/dist-packages (from fastai==0.7.0) (4.3.2)\n",
            "Requirement already satisfied: pandas in /usr/local/lib/python3.6/dist-packages (from fastai==0.7.0) (0.24.0)\n",
            "Requirement already satisfied: olefile in /usr/local/lib/python3.6/dist-packages (from Pillow->fastai==0.7.0) (0.46)\n",
            "Requirement already satisfied: six>=1.9.0 in /usr/local/lib/python3.6/dist-packages (from bleach->fastai==0.7.0) (1.11.0)\n",
            "Requirement already satisfied: requests in /usr/local/lib/python3.6/dist-packages (from torchtext->fastai==0.7.0) (2.18.4)\n",
            "Requirement already satisfied: parso>=0.3.0 in /usr/local/lib/python3.6/dist-packages (from jedi->fastai==0.7.0) (0.3.2)\n",
            "Requirement already satisfied: notebook>=4.4.1 in /usr/local/lib/python3.6/dist-packages (from widgetsnbextension->fastai==0.7.0) (5.2.2)\n",
            "Requirement already satisfied: jupyter-client in /usr/local/lib/python3.6/dist-packages (from ipykernel->fastai==0.7.0) (5.2.4)\n",
            "Requirement already satisfied: pyarrow>=0.4.0 in /usr/local/lib/python3.6/dist-packages (from feather-format->fastai==0.7.0) (0.12.0)\n",
            "Requirement already satisfied: kiwisolver>=1.0.1 in /usr/local/lib/python3.6/dist-packages (from matplotlib->fastai==0.7.0) (1.0.1)\n",
            "Requirement already satisfied: descartes>=1.1.0 in /usr/local/lib/python3.6/dist-packages (from plotnine->fastai==0.7.0) (1.1.0)\n",
            "Requirement already satisfied: mizani>=0.5.2 in /usr/local/lib/python3.6/dist-packages (from plotnine->fastai==0.7.0) (0.5.3)\n",
            "Requirement already satisfied: statsmodels>=0.8.0 in /usr/local/lib/python3.6/dist-packages (from plotnine->fastai==0.7.0) (0.8.0)\n",
            "Requirement already satisfied: patsy>=0.4.1 in /usr/local/lib/python3.6/dist-packages (from plotnine->fastai==0.7.0) (0.5.1)\n",
            "Requirement already satisfied: qtconsole in /usr/local/lib/python3.6/dist-packages (from jupyter->fastai==0.7.0) (4.4.3)\n",
            "Requirement already satisfied: nbconvert in /usr/local/lib/python3.6/dist-packages (from jupyter->fastai==0.7.0) (5.4.0)\n",
            "Requirement already satisfied: jupyter-console in /usr/local/lib/python3.6/dist-packages (from jupyter->fastai==0.7.0) (6.0.0)\n",
            "Requirement already satisfied: nbformat>=4.2.0 in /usr/local/lib/python3.6/dist-packages (from ipywidgets->fastai==0.7.0) (4.4.0)\n",
            "Requirement already satisfied: prompt-toolkit<2.0.0,>=1.0.4 in /usr/local/lib/python3.6/dist-packages (from ipython->fastai==0.7.0) (1.0.15)\n",
            "Requirement already satisfied: setuptools>=18.5 in /usr/local/lib/python3.6/dist-packages (from ipython->fastai==0.7.0) (40.7.1)\n",
            "Requirement already satisfied: pexpect; sys_platform != \"win32\" in /usr/local/lib/python3.6/dist-packages (from ipython->fastai==0.7.0) (4.6.0)\n",
            "Requirement already satisfied: scikit-learn>=0.15.0 in /usr/local/lib/python3.6/dist-packages (from sklearn-pandas->fastai==0.7.0) (0.20.2)\n",
            "Requirement already satisfied: urllib3<1.23,>=1.21.1 in /usr/local/lib/python3.6/dist-packages (from requests->torchtext->fastai==0.7.0) (1.22)\n",
            "Requirement already satisfied: chardet<3.1.0,>=3.0.2 in /usr/local/lib/python3.6/dist-packages (from requests->torchtext->fastai==0.7.0) (3.0.4)\n",
            "Requirement already satisfied: idna<2.7,>=2.5 in /usr/local/lib/python3.6/dist-packages (from requests->torchtext->fastai==0.7.0) (2.6)\n",
            "Requirement already satisfied: jupyter-core in /usr/local/lib/python3.6/dist-packages (from notebook>=4.4.1->widgetsnbextension->fastai==0.7.0) (4.4.0)\n",
            "Requirement already satisfied: terminado>=0.3.3; sys_platform != \"win32\" in /usr/local/lib/python3.6/dist-packages (from notebook>=4.4.1->widgetsnbextension->fastai==0.7.0) (0.8.1)\n",
            "Requirement already satisfied: palettable in /usr/local/lib/python3.6/dist-packages (from mizani>=0.5.2->plotnine->fastai==0.7.0) (3.1.1)\n",
            "Requirement already satisfied: defusedxml in /usr/local/lib/python3.6/dist-packages (from nbconvert->jupyter->fastai==0.7.0) (0.5.0)\n",
            "Requirement already satisfied: pandocfilters>=1.4.1 in /usr/local/lib/python3.6/dist-packages (from nbconvert->jupyter->fastai==0.7.0) (1.4.2)\n",
            "Requirement already satisfied: mistune>=0.8.1 in /usr/local/lib/python3.6/dist-packages (from nbconvert->jupyter->fastai==0.7.0) (0.8.4)\n",
            "Requirement already satisfied: torchtext==0.2.3 in /usr/local/lib/python3.6/dist-packages (0.2.3)\n",
            "Requirement already satisfied: tqdm in /usr/local/lib/python3.6/dist-packages (from torchtext==0.2.3) (4.28.1)\n",
            "Requirement already satisfied: requests in /usr/local/lib/python3.6/dist-packages (from torchtext==0.2.3) (2.18.4)\n",
            "Requirement already satisfied: idna<2.7,>=2.5 in /usr/local/lib/python3.6/dist-packages (from requests->torchtext==0.2.3) (2.6)\n",
            "Requirement already satisfied: chardet<3.1.0,>=3.0.2 in /usr/local/lib/python3.6/dist-packages (from requests->torchtext==0.2.3) (3.0.4)\n",
            "Requirement already satisfied: urllib3<1.23,>=1.21.1 in /usr/local/lib/python3.6/dist-packages (from requests->torchtext==0.2.3) (1.22)\n",
            "Requirement already satisfied: certifi>=2017.4.17 in /usr/local/lib/python3.6/dist-packages (from requests->torchtext==0.2.3) (2018.11.29)\n"
          ],
          "name": "stdout"
        }
      ]
    },
    {
      "metadata": {
        "id": "3pc5J53eJk2r",
        "colab_type": "code",
        "colab": {}
      },
      "cell_type": "code",
      "source": [
        "%matplotlib inline\n",
        "%reload_ext autoreload\n",
        "%autoreload 2"
      ],
      "execution_count": 0,
      "outputs": []
    },
    {
      "metadata": {
        "id": "0RJcV8FKJk2y",
        "colab_type": "code",
        "colab": {}
      },
      "cell_type": "code",
      "source": [
        "from fastai.structured import *\n",
        "from fastai.column_data import *\n",
        "np.set_printoptions(threshold=50, edgeitems=20)"
      ],
      "execution_count": 0,
      "outputs": []
    },
    {
      "metadata": {
        "id": "ZMLA0JyaOef2",
        "colab_type": "code",
        "colab": {}
      },
      "cell_type": "code",
      "source": [
        "PATH='~/data/rossmann/'"
      ],
      "execution_count": 0,
      "outputs": []
    },
    {
      "metadata": {
        "id": "bKkUU2VYJk23",
        "colab_type": "text"
      },
      "cell_type": "markdown",
      "source": [
        "## Create datasets"
      ]
    },
    {
      "metadata": {
        "id": "tPCpY1x7Jk25",
        "colab_type": "text"
      },
      "cell_type": "markdown",
      "source": [
        "In addition to the provided data, we will be using external datasets put together by participants in the Kaggle competition. You can download all of them [here](http://files.fast.ai/part2/lesson14/rossmann.tgz).\n",
        "\n",
        "For completeness, the implementation used to put them together is included below."
      ]
    },
    {
      "metadata": {
        "id": "mGGrUL_TPrP-",
        "colab_type": "code",
        "outputId": "70b9b962-da1d-44a6-f414-32103cf85ebd",
        "colab": {
          "base_uri": "https://localhost:8080/",
          "height": 35
        }
      },
      "cell_type": "code",
      "source": [
        "!ls ~/data/rossman"
      ],
      "execution_count": 0,
      "outputs": [
        {
          "output_type": "stream",
          "text": [
            "ls: cannot access '/root/data/rossman': No such file or directory\n"
          ],
          "name": "stdout"
        }
      ]
    },
    {
      "metadata": {
        "id": "JjPdVDz3NAh_",
        "colab_type": "code",
        "outputId": "1a2d7fe2-88c0-492f-e5a0-44323e7fcc2f",
        "colab": {
          "base_uri": "https://localhost:8080/",
          "height": 212
        }
      },
      "cell_type": "code",
      "source": [
        "!wget http://files.fast.ai/part2/lesson14/rossmann.tgz && mkdir -p ~/data/rossmann"
      ],
      "execution_count": 0,
      "outputs": [
        {
          "output_type": "stream",
          "text": [
            "--2019-02-02 06:22:17--  http://files.fast.ai/part2/lesson14/rossmann.tgz\n",
            "Resolving files.fast.ai (files.fast.ai)... 67.205.15.147\n",
            "Connecting to files.fast.ai (files.fast.ai)|67.205.15.147|:80... connected.\n",
            "HTTP request sent, awaiting response... 200 OK\n",
            "Length: 7730448 (7.4M) [text/plain]\n",
            "Saving to: ‘rossmann.tgz’\n",
            "\n",
            "rossmann.tgz        100%[===================>]   7.37M  4.29MB/s    in 1.7s    \n",
            "\n",
            "2019-02-02 06:22:19 (4.29 MB/s) - ‘rossmann.tgz’ saved [7730448/7730448]\n",
            "\n"
          ],
          "name": "stdout"
        }
      ]
    },
    {
      "metadata": {
        "id": "tmEckMRRNXvL",
        "colab_type": "code",
        "colab": {}
      },
      "cell_type": "code",
      "source": [
        "!tar -xzf rossmann.tgz -C ~/data/rossmann/"
      ],
      "execution_count": 0,
      "outputs": []
    },
    {
      "metadata": {
        "id": "wCTmYXMuOEPS",
        "colab_type": "code",
        "colab": {}
      },
      "cell_type": "code",
      "source": [
        "!rm rossmann.tgz"
      ],
      "execution_count": 0,
      "outputs": []
    },
    {
      "metadata": {
        "id": "Y1L16-KMOLBb",
        "colab_type": "code",
        "outputId": "fe26b57d-a2b3-489e-eacd-e3a9a6fd272f",
        "colab": {
          "base_uri": "https://localhost:8080/",
          "height": 52
        }
      },
      "cell_type": "code",
      "source": [
        "!ls ~/data/rossmann"
      ],
      "execution_count": 0,
      "outputs": [
        {
          "output_type": "stream",
          "text": [
            "googletrend.csv        state_names.csv\tstore_states.csv  train.csv\n",
            "sample_submission.csv  store.csv\ttest.csv\t  weather.csv\n"
          ],
          "name": "stdout"
        }
      ]
    },
    {
      "metadata": {
        "id": "pXf1eOaWJk26",
        "colab_type": "code",
        "colab": {}
      },
      "cell_type": "code",
      "source": [
        "def concat_csvs(dirname):\n",
        "    path = f'{PATH}{dirname}'\n",
        "    filenames=glob(f\"{PATH}/*.csv\")\n",
        "\n",
        "    wrote_header = False\n",
        "    with open(f\"{path}.csv\",\"w\") as outputfile:\n",
        "        for filename in filenames:\n",
        "            name = filename.split(\".\")[0]\n",
        "            with open(filename) as f:\n",
        "                line = f.readline()\n",
        "                if not wrote_header:\n",
        "                    wrote_header = True\n",
        "                    outputfile.write(\"file,\"+line)\n",
        "                for line in f:\n",
        "                     outputfile.write(name + \",\" + line)\n",
        "                outputfile.write(\"\\n\")"
      ],
      "execution_count": 0,
      "outputs": []
    },
    {
      "metadata": {
        "id": "VrGIJDpDJk29",
        "colab_type": "code",
        "colab": {}
      },
      "cell_type": "code",
      "source": [
        "# concat_csvs('googletrend')\n",
        "# concat_csvs('weather')"
      ],
      "execution_count": 0,
      "outputs": []
    },
    {
      "metadata": {
        "id": "0CRqVSFDJk3B",
        "colab_type": "text"
      },
      "cell_type": "markdown",
      "source": [
        "Feature Space:\n",
        "* train: Training set provided by competition\n",
        "* store: List of stores\n",
        "* store_states: mapping of store to the German state they are in\n",
        "* List of German state names\n",
        "* googletrend: trend of certain google keywords over time, found by users to correlate well w/ given data\n",
        "* weather: weather\n",
        "* test: testing set"
      ]
    },
    {
      "metadata": {
        "id": "Oc0OKtTSJk3B",
        "colab_type": "code",
        "colab": {}
      },
      "cell_type": "code",
      "source": [
        "table_names = ['train', 'store', 'store_states', 'state_names', \n",
        "               'googletrend', 'weather', 'test']"
      ],
      "execution_count": 0,
      "outputs": []
    },
    {
      "metadata": {
        "id": "iyXjyuf4Jk3E",
        "colab_type": "text"
      },
      "cell_type": "markdown",
      "source": [
        "We'll be using the popular data manipulation framework `pandas`. Among other things, pandas allows you to manipulate tables/data frames in python as one would in a database.\n",
        "\n",
        "We're going to go ahead and load all of our csv's as dataframes into the list `tables`."
      ]
    },
    {
      "metadata": {
        "id": "URzLD2XvJk3G",
        "colab_type": "code",
        "colab": {}
      },
      "cell_type": "code",
      "source": [
        "tables = [pd.read_csv(f'{PATH}{fname}.csv', low_memory=False) for fname in table_names]"
      ],
      "execution_count": 0,
      "outputs": []
    },
    {
      "metadata": {
        "id": "vGBAwaBYJk3K",
        "colab_type": "code",
        "colab": {}
      },
      "cell_type": "code",
      "source": [
        "from IPython.display import HTML, display"
      ],
      "execution_count": 0,
      "outputs": []
    },
    {
      "metadata": {
        "id": "NDgoHfXKJk3Q",
        "colab_type": "text"
      },
      "cell_type": "markdown",
      "source": [
        "We can use `head()` to get a quick look at the contents of each table:\n",
        "* train: Contains store information on a daily basis, tracks things like sales, customers, whether that day was a holdiay, etc.\n",
        "* store: general info about the store including competition, etc.\n",
        "* store_states: maps store to state it is in\n",
        "* state_names: Maps state abbreviations to names\n",
        "* googletrend: trend data for particular week/state\n",
        "* weather: weather conditions for each state\n",
        "* test: Same as training table, w/o sales and customers\n"
      ]
    },
    {
      "metadata": {
        "id": "p2NBrhb-Jk3Q",
        "colab_type": "code",
        "outputId": "cc01a18b-c676-4b23-87a2-f84912b5d930",
        "colab": {
          "base_uri": "https://localhost:8080/",
          "height": 1473
        }
      },
      "cell_type": "code",
      "source": [
        "for t in tables: display(t.head())"
      ],
      "execution_count": 0,
      "outputs": [
        {
          "output_type": "display_data",
          "data": {
            "text/html": [
              "<div>\n",
              "<style scoped>\n",
              "    .dataframe tbody tr th:only-of-type {\n",
              "        vertical-align: middle;\n",
              "    }\n",
              "\n",
              "    .dataframe tbody tr th {\n",
              "        vertical-align: top;\n",
              "    }\n",
              "\n",
              "    .dataframe thead th {\n",
              "        text-align: right;\n",
              "    }\n",
              "</style>\n",
              "<table border=\"1\" class=\"dataframe\">\n",
              "  <thead>\n",
              "    <tr style=\"text-align: right;\">\n",
              "      <th></th>\n",
              "      <th>Store</th>\n",
              "      <th>DayOfWeek</th>\n",
              "      <th>Date</th>\n",
              "      <th>Sales</th>\n",
              "      <th>Customers</th>\n",
              "      <th>Open</th>\n",
              "      <th>Promo</th>\n",
              "      <th>StateHoliday</th>\n",
              "      <th>SchoolHoliday</th>\n",
              "    </tr>\n",
              "  </thead>\n",
              "  <tbody>\n",
              "    <tr>\n",
              "      <th>0</th>\n",
              "      <td>1</td>\n",
              "      <td>5</td>\n",
              "      <td>2015-07-31</td>\n",
              "      <td>5263</td>\n",
              "      <td>555</td>\n",
              "      <td>1</td>\n",
              "      <td>1</td>\n",
              "      <td>0</td>\n",
              "      <td>1</td>\n",
              "    </tr>\n",
              "    <tr>\n",
              "      <th>1</th>\n",
              "      <td>2</td>\n",
              "      <td>5</td>\n",
              "      <td>2015-07-31</td>\n",
              "      <td>6064</td>\n",
              "      <td>625</td>\n",
              "      <td>1</td>\n",
              "      <td>1</td>\n",
              "      <td>0</td>\n",
              "      <td>1</td>\n",
              "    </tr>\n",
              "    <tr>\n",
              "      <th>2</th>\n",
              "      <td>3</td>\n",
              "      <td>5</td>\n",
              "      <td>2015-07-31</td>\n",
              "      <td>8314</td>\n",
              "      <td>821</td>\n",
              "      <td>1</td>\n",
              "      <td>1</td>\n",
              "      <td>0</td>\n",
              "      <td>1</td>\n",
              "    </tr>\n",
              "    <tr>\n",
              "      <th>3</th>\n",
              "      <td>4</td>\n",
              "      <td>5</td>\n",
              "      <td>2015-07-31</td>\n",
              "      <td>13995</td>\n",
              "      <td>1498</td>\n",
              "      <td>1</td>\n",
              "      <td>1</td>\n",
              "      <td>0</td>\n",
              "      <td>1</td>\n",
              "    </tr>\n",
              "    <tr>\n",
              "      <th>4</th>\n",
              "      <td>5</td>\n",
              "      <td>5</td>\n",
              "      <td>2015-07-31</td>\n",
              "      <td>4822</td>\n",
              "      <td>559</td>\n",
              "      <td>1</td>\n",
              "      <td>1</td>\n",
              "      <td>0</td>\n",
              "      <td>1</td>\n",
              "    </tr>\n",
              "  </tbody>\n",
              "</table>\n",
              "</div>"
            ],
            "text/plain": [
              "   Store  DayOfWeek        Date  Sales  Customers  Open  Promo StateHoliday  \\\n",
              "0      1          5  2015-07-31   5263        555     1      1            0   \n",
              "1      2          5  2015-07-31   6064        625     1      1            0   \n",
              "2      3          5  2015-07-31   8314        821     1      1            0   \n",
              "3      4          5  2015-07-31  13995       1498     1      1            0   \n",
              "4      5          5  2015-07-31   4822        559     1      1            0   \n",
              "\n",
              "   SchoolHoliday  \n",
              "0              1  \n",
              "1              1  \n",
              "2              1  \n",
              "3              1  \n",
              "4              1  "
            ]
          },
          "metadata": {
            "tags": []
          }
        },
        {
          "output_type": "display_data",
          "data": {
            "text/html": [
              "<div>\n",
              "<style scoped>\n",
              "    .dataframe tbody tr th:only-of-type {\n",
              "        vertical-align: middle;\n",
              "    }\n",
              "\n",
              "    .dataframe tbody tr th {\n",
              "        vertical-align: top;\n",
              "    }\n",
              "\n",
              "    .dataframe thead th {\n",
              "        text-align: right;\n",
              "    }\n",
              "</style>\n",
              "<table border=\"1\" class=\"dataframe\">\n",
              "  <thead>\n",
              "    <tr style=\"text-align: right;\">\n",
              "      <th></th>\n",
              "      <th>Store</th>\n",
              "      <th>StoreType</th>\n",
              "      <th>Assortment</th>\n",
              "      <th>CompetitionDistance</th>\n",
              "      <th>CompetitionOpenSinceMonth</th>\n",
              "      <th>CompetitionOpenSinceYear</th>\n",
              "      <th>Promo2</th>\n",
              "      <th>Promo2SinceWeek</th>\n",
              "      <th>Promo2SinceYear</th>\n",
              "      <th>PromoInterval</th>\n",
              "    </tr>\n",
              "  </thead>\n",
              "  <tbody>\n",
              "    <tr>\n",
              "      <th>0</th>\n",
              "      <td>1</td>\n",
              "      <td>c</td>\n",
              "      <td>a</td>\n",
              "      <td>1270.0</td>\n",
              "      <td>9.0</td>\n",
              "      <td>2008.0</td>\n",
              "      <td>0</td>\n",
              "      <td>NaN</td>\n",
              "      <td>NaN</td>\n",
              "      <td>NaN</td>\n",
              "    </tr>\n",
              "    <tr>\n",
              "      <th>1</th>\n",
              "      <td>2</td>\n",
              "      <td>a</td>\n",
              "      <td>a</td>\n",
              "      <td>570.0</td>\n",
              "      <td>11.0</td>\n",
              "      <td>2007.0</td>\n",
              "      <td>1</td>\n",
              "      <td>13.0</td>\n",
              "      <td>2010.0</td>\n",
              "      <td>Jan,Apr,Jul,Oct</td>\n",
              "    </tr>\n",
              "    <tr>\n",
              "      <th>2</th>\n",
              "      <td>3</td>\n",
              "      <td>a</td>\n",
              "      <td>a</td>\n",
              "      <td>14130.0</td>\n",
              "      <td>12.0</td>\n",
              "      <td>2006.0</td>\n",
              "      <td>1</td>\n",
              "      <td>14.0</td>\n",
              "      <td>2011.0</td>\n",
              "      <td>Jan,Apr,Jul,Oct</td>\n",
              "    </tr>\n",
              "    <tr>\n",
              "      <th>3</th>\n",
              "      <td>4</td>\n",
              "      <td>c</td>\n",
              "      <td>c</td>\n",
              "      <td>620.0</td>\n",
              "      <td>9.0</td>\n",
              "      <td>2009.0</td>\n",
              "      <td>0</td>\n",
              "      <td>NaN</td>\n",
              "      <td>NaN</td>\n",
              "      <td>NaN</td>\n",
              "    </tr>\n",
              "    <tr>\n",
              "      <th>4</th>\n",
              "      <td>5</td>\n",
              "      <td>a</td>\n",
              "      <td>a</td>\n",
              "      <td>29910.0</td>\n",
              "      <td>4.0</td>\n",
              "      <td>2015.0</td>\n",
              "      <td>0</td>\n",
              "      <td>NaN</td>\n",
              "      <td>NaN</td>\n",
              "      <td>NaN</td>\n",
              "    </tr>\n",
              "  </tbody>\n",
              "</table>\n",
              "</div>"
            ],
            "text/plain": [
              "   Store StoreType Assortment  CompetitionDistance  CompetitionOpenSinceMonth  \\\n",
              "0      1         c          a               1270.0                        9.0   \n",
              "1      2         a          a                570.0                       11.0   \n",
              "2      3         a          a              14130.0                       12.0   \n",
              "3      4         c          c                620.0                        9.0   \n",
              "4      5         a          a              29910.0                        4.0   \n",
              "\n",
              "   CompetitionOpenSinceYear  Promo2  Promo2SinceWeek  Promo2SinceYear  \\\n",
              "0                    2008.0       0              NaN              NaN   \n",
              "1                    2007.0       1             13.0           2010.0   \n",
              "2                    2006.0       1             14.0           2011.0   \n",
              "3                    2009.0       0              NaN              NaN   \n",
              "4                    2015.0       0              NaN              NaN   \n",
              "\n",
              "     PromoInterval  \n",
              "0              NaN  \n",
              "1  Jan,Apr,Jul,Oct  \n",
              "2  Jan,Apr,Jul,Oct  \n",
              "3              NaN  \n",
              "4              NaN  "
            ]
          },
          "metadata": {
            "tags": []
          }
        },
        {
          "output_type": "display_data",
          "data": {
            "text/html": [
              "<div>\n",
              "<style scoped>\n",
              "    .dataframe tbody tr th:only-of-type {\n",
              "        vertical-align: middle;\n",
              "    }\n",
              "\n",
              "    .dataframe tbody tr th {\n",
              "        vertical-align: top;\n",
              "    }\n",
              "\n",
              "    .dataframe thead th {\n",
              "        text-align: right;\n",
              "    }\n",
              "</style>\n",
              "<table border=\"1\" class=\"dataframe\">\n",
              "  <thead>\n",
              "    <tr style=\"text-align: right;\">\n",
              "      <th></th>\n",
              "      <th>Store</th>\n",
              "      <th>State</th>\n",
              "    </tr>\n",
              "  </thead>\n",
              "  <tbody>\n",
              "    <tr>\n",
              "      <th>0</th>\n",
              "      <td>1</td>\n",
              "      <td>HE</td>\n",
              "    </tr>\n",
              "    <tr>\n",
              "      <th>1</th>\n",
              "      <td>2</td>\n",
              "      <td>TH</td>\n",
              "    </tr>\n",
              "    <tr>\n",
              "      <th>2</th>\n",
              "      <td>3</td>\n",
              "      <td>NW</td>\n",
              "    </tr>\n",
              "    <tr>\n",
              "      <th>3</th>\n",
              "      <td>4</td>\n",
              "      <td>BE</td>\n",
              "    </tr>\n",
              "    <tr>\n",
              "      <th>4</th>\n",
              "      <td>5</td>\n",
              "      <td>SN</td>\n",
              "    </tr>\n",
              "  </tbody>\n",
              "</table>\n",
              "</div>"
            ],
            "text/plain": [
              "   Store State\n",
              "0      1    HE\n",
              "1      2    TH\n",
              "2      3    NW\n",
              "3      4    BE\n",
              "4      5    SN"
            ]
          },
          "metadata": {
            "tags": []
          }
        },
        {
          "output_type": "display_data",
          "data": {
            "text/html": [
              "<div>\n",
              "<style scoped>\n",
              "    .dataframe tbody tr th:only-of-type {\n",
              "        vertical-align: middle;\n",
              "    }\n",
              "\n",
              "    .dataframe tbody tr th {\n",
              "        vertical-align: top;\n",
              "    }\n",
              "\n",
              "    .dataframe thead th {\n",
              "        text-align: right;\n",
              "    }\n",
              "</style>\n",
              "<table border=\"1\" class=\"dataframe\">\n",
              "  <thead>\n",
              "    <tr style=\"text-align: right;\">\n",
              "      <th></th>\n",
              "      <th>StateName</th>\n",
              "      <th>State</th>\n",
              "    </tr>\n",
              "  </thead>\n",
              "  <tbody>\n",
              "    <tr>\n",
              "      <th>0</th>\n",
              "      <td>BadenWuerttemberg</td>\n",
              "      <td>BW</td>\n",
              "    </tr>\n",
              "    <tr>\n",
              "      <th>1</th>\n",
              "      <td>Bayern</td>\n",
              "      <td>BY</td>\n",
              "    </tr>\n",
              "    <tr>\n",
              "      <th>2</th>\n",
              "      <td>Berlin</td>\n",
              "      <td>BE</td>\n",
              "    </tr>\n",
              "    <tr>\n",
              "      <th>3</th>\n",
              "      <td>Brandenburg</td>\n",
              "      <td>BB</td>\n",
              "    </tr>\n",
              "    <tr>\n",
              "      <th>4</th>\n",
              "      <td>Bremen</td>\n",
              "      <td>HB</td>\n",
              "    </tr>\n",
              "  </tbody>\n",
              "</table>\n",
              "</div>"
            ],
            "text/plain": [
              "           StateName State\n",
              "0  BadenWuerttemberg    BW\n",
              "1             Bayern    BY\n",
              "2             Berlin    BE\n",
              "3        Brandenburg    BB\n",
              "4             Bremen    HB"
            ]
          },
          "metadata": {
            "tags": []
          }
        },
        {
          "output_type": "display_data",
          "data": {
            "text/html": [
              "<div>\n",
              "<style scoped>\n",
              "    .dataframe tbody tr th:only-of-type {\n",
              "        vertical-align: middle;\n",
              "    }\n",
              "\n",
              "    .dataframe tbody tr th {\n",
              "        vertical-align: top;\n",
              "    }\n",
              "\n",
              "    .dataframe thead th {\n",
              "        text-align: right;\n",
              "    }\n",
              "</style>\n",
              "<table border=\"1\" class=\"dataframe\">\n",
              "  <thead>\n",
              "    <tr style=\"text-align: right;\">\n",
              "      <th></th>\n",
              "      <th>file</th>\n",
              "      <th>week</th>\n",
              "      <th>trend</th>\n",
              "    </tr>\n",
              "  </thead>\n",
              "  <tbody>\n",
              "    <tr>\n",
              "      <th>0</th>\n",
              "      <td>Rossmann_DE_SN</td>\n",
              "      <td>2012-12-02 - 2012-12-08</td>\n",
              "      <td>96</td>\n",
              "    </tr>\n",
              "    <tr>\n",
              "      <th>1</th>\n",
              "      <td>Rossmann_DE_SN</td>\n",
              "      <td>2012-12-09 - 2012-12-15</td>\n",
              "      <td>95</td>\n",
              "    </tr>\n",
              "    <tr>\n",
              "      <th>2</th>\n",
              "      <td>Rossmann_DE_SN</td>\n",
              "      <td>2012-12-16 - 2012-12-22</td>\n",
              "      <td>91</td>\n",
              "    </tr>\n",
              "    <tr>\n",
              "      <th>3</th>\n",
              "      <td>Rossmann_DE_SN</td>\n",
              "      <td>2012-12-23 - 2012-12-29</td>\n",
              "      <td>48</td>\n",
              "    </tr>\n",
              "    <tr>\n",
              "      <th>4</th>\n",
              "      <td>Rossmann_DE_SN</td>\n",
              "      <td>2012-12-30 - 2013-01-05</td>\n",
              "      <td>67</td>\n",
              "    </tr>\n",
              "  </tbody>\n",
              "</table>\n",
              "</div>"
            ],
            "text/plain": [
              "             file                     week  trend\n",
              "0  Rossmann_DE_SN  2012-12-02 - 2012-12-08     96\n",
              "1  Rossmann_DE_SN  2012-12-09 - 2012-12-15     95\n",
              "2  Rossmann_DE_SN  2012-12-16 - 2012-12-22     91\n",
              "3  Rossmann_DE_SN  2012-12-23 - 2012-12-29     48\n",
              "4  Rossmann_DE_SN  2012-12-30 - 2013-01-05     67"
            ]
          },
          "metadata": {
            "tags": []
          }
        },
        {
          "output_type": "display_data",
          "data": {
            "text/html": [
              "<div>\n",
              "<style scoped>\n",
              "    .dataframe tbody tr th:only-of-type {\n",
              "        vertical-align: middle;\n",
              "    }\n",
              "\n",
              "    .dataframe tbody tr th {\n",
              "        vertical-align: top;\n",
              "    }\n",
              "\n",
              "    .dataframe thead th {\n",
              "        text-align: right;\n",
              "    }\n",
              "</style>\n",
              "<table border=\"1\" class=\"dataframe\">\n",
              "  <thead>\n",
              "    <tr style=\"text-align: right;\">\n",
              "      <th></th>\n",
              "      <th>file</th>\n",
              "      <th>Date</th>\n",
              "      <th>Max_TemperatureC</th>\n",
              "      <th>Mean_TemperatureC</th>\n",
              "      <th>Min_TemperatureC</th>\n",
              "      <th>Dew_PointC</th>\n",
              "      <th>MeanDew_PointC</th>\n",
              "      <th>Min_DewpointC</th>\n",
              "      <th>Max_Humidity</th>\n",
              "      <th>Mean_Humidity</th>\n",
              "      <th>...</th>\n",
              "      <th>Max_VisibilityKm</th>\n",
              "      <th>Mean_VisibilityKm</th>\n",
              "      <th>Min_VisibilitykM</th>\n",
              "      <th>Max_Wind_SpeedKm_h</th>\n",
              "      <th>Mean_Wind_SpeedKm_h</th>\n",
              "      <th>Max_Gust_SpeedKm_h</th>\n",
              "      <th>Precipitationmm</th>\n",
              "      <th>CloudCover</th>\n",
              "      <th>Events</th>\n",
              "      <th>WindDirDegrees</th>\n",
              "    </tr>\n",
              "  </thead>\n",
              "  <tbody>\n",
              "    <tr>\n",
              "      <th>0</th>\n",
              "      <td>NordrheinWestfalen</td>\n",
              "      <td>2013-01-01</td>\n",
              "      <td>8</td>\n",
              "      <td>4</td>\n",
              "      <td>2</td>\n",
              "      <td>7</td>\n",
              "      <td>5</td>\n",
              "      <td>1</td>\n",
              "      <td>94</td>\n",
              "      <td>87</td>\n",
              "      <td>...</td>\n",
              "      <td>31.0</td>\n",
              "      <td>12.0</td>\n",
              "      <td>4.0</td>\n",
              "      <td>39</td>\n",
              "      <td>26</td>\n",
              "      <td>58.0</td>\n",
              "      <td>5.08</td>\n",
              "      <td>6.0</td>\n",
              "      <td>Rain</td>\n",
              "      <td>215</td>\n",
              "    </tr>\n",
              "    <tr>\n",
              "      <th>1</th>\n",
              "      <td>NordrheinWestfalen</td>\n",
              "      <td>2013-01-02</td>\n",
              "      <td>7</td>\n",
              "      <td>4</td>\n",
              "      <td>1</td>\n",
              "      <td>5</td>\n",
              "      <td>3</td>\n",
              "      <td>2</td>\n",
              "      <td>93</td>\n",
              "      <td>85</td>\n",
              "      <td>...</td>\n",
              "      <td>31.0</td>\n",
              "      <td>14.0</td>\n",
              "      <td>10.0</td>\n",
              "      <td>24</td>\n",
              "      <td>16</td>\n",
              "      <td>NaN</td>\n",
              "      <td>0.00</td>\n",
              "      <td>6.0</td>\n",
              "      <td>Rain</td>\n",
              "      <td>225</td>\n",
              "    </tr>\n",
              "    <tr>\n",
              "      <th>2</th>\n",
              "      <td>NordrheinWestfalen</td>\n",
              "      <td>2013-01-03</td>\n",
              "      <td>11</td>\n",
              "      <td>8</td>\n",
              "      <td>6</td>\n",
              "      <td>10</td>\n",
              "      <td>8</td>\n",
              "      <td>4</td>\n",
              "      <td>100</td>\n",
              "      <td>93</td>\n",
              "      <td>...</td>\n",
              "      <td>31.0</td>\n",
              "      <td>8.0</td>\n",
              "      <td>2.0</td>\n",
              "      <td>26</td>\n",
              "      <td>21</td>\n",
              "      <td>NaN</td>\n",
              "      <td>1.02</td>\n",
              "      <td>7.0</td>\n",
              "      <td>Rain</td>\n",
              "      <td>240</td>\n",
              "    </tr>\n",
              "    <tr>\n",
              "      <th>3</th>\n",
              "      <td>NordrheinWestfalen</td>\n",
              "      <td>2013-01-04</td>\n",
              "      <td>9</td>\n",
              "      <td>9</td>\n",
              "      <td>8</td>\n",
              "      <td>9</td>\n",
              "      <td>9</td>\n",
              "      <td>8</td>\n",
              "      <td>100</td>\n",
              "      <td>94</td>\n",
              "      <td>...</td>\n",
              "      <td>11.0</td>\n",
              "      <td>5.0</td>\n",
              "      <td>2.0</td>\n",
              "      <td>23</td>\n",
              "      <td>14</td>\n",
              "      <td>NaN</td>\n",
              "      <td>0.25</td>\n",
              "      <td>7.0</td>\n",
              "      <td>Rain</td>\n",
              "      <td>263</td>\n",
              "    </tr>\n",
              "    <tr>\n",
              "      <th>4</th>\n",
              "      <td>NordrheinWestfalen</td>\n",
              "      <td>2013-01-05</td>\n",
              "      <td>8</td>\n",
              "      <td>8</td>\n",
              "      <td>7</td>\n",
              "      <td>8</td>\n",
              "      <td>7</td>\n",
              "      <td>6</td>\n",
              "      <td>100</td>\n",
              "      <td>94</td>\n",
              "      <td>...</td>\n",
              "      <td>10.0</td>\n",
              "      <td>6.0</td>\n",
              "      <td>3.0</td>\n",
              "      <td>16</td>\n",
              "      <td>10</td>\n",
              "      <td>NaN</td>\n",
              "      <td>0.00</td>\n",
              "      <td>7.0</td>\n",
              "      <td>Rain</td>\n",
              "      <td>268</td>\n",
              "    </tr>\n",
              "  </tbody>\n",
              "</table>\n",
              "<p>5 rows × 24 columns</p>\n",
              "</div>"
            ],
            "text/plain": [
              "                 file        Date  Max_TemperatureC  Mean_TemperatureC  \\\n",
              "0  NordrheinWestfalen  2013-01-01                 8                  4   \n",
              "1  NordrheinWestfalen  2013-01-02                 7                  4   \n",
              "2  NordrheinWestfalen  2013-01-03                11                  8   \n",
              "3  NordrheinWestfalen  2013-01-04                 9                  9   \n",
              "4  NordrheinWestfalen  2013-01-05                 8                  8   \n",
              "\n",
              "   Min_TemperatureC  Dew_PointC  MeanDew_PointC  Min_DewpointC  Max_Humidity  \\\n",
              "0                 2           7               5              1            94   \n",
              "1                 1           5               3              2            93   \n",
              "2                 6          10               8              4           100   \n",
              "3                 8           9               9              8           100   \n",
              "4                 7           8               7              6           100   \n",
              "\n",
              "   Mean_Humidity  ...  Max_VisibilityKm  Mean_VisibilityKm  Min_VisibilitykM  \\\n",
              "0             87  ...              31.0               12.0               4.0   \n",
              "1             85  ...              31.0               14.0              10.0   \n",
              "2             93  ...              31.0                8.0               2.0   \n",
              "3             94  ...              11.0                5.0               2.0   \n",
              "4             94  ...              10.0                6.0               3.0   \n",
              "\n",
              "   Max_Wind_SpeedKm_h  Mean_Wind_SpeedKm_h  Max_Gust_SpeedKm_h  \\\n",
              "0                  39                   26                58.0   \n",
              "1                  24                   16                 NaN   \n",
              "2                  26                   21                 NaN   \n",
              "3                  23                   14                 NaN   \n",
              "4                  16                   10                 NaN   \n",
              "\n",
              "   Precipitationmm  CloudCover  Events  WindDirDegrees  \n",
              "0             5.08         6.0    Rain             215  \n",
              "1             0.00         6.0    Rain             225  \n",
              "2             1.02         7.0    Rain             240  \n",
              "3             0.25         7.0    Rain             263  \n",
              "4             0.00         7.0    Rain             268  \n",
              "\n",
              "[5 rows x 24 columns]"
            ]
          },
          "metadata": {
            "tags": []
          }
        },
        {
          "output_type": "display_data",
          "data": {
            "text/html": [
              "<div>\n",
              "<style scoped>\n",
              "    .dataframe tbody tr th:only-of-type {\n",
              "        vertical-align: middle;\n",
              "    }\n",
              "\n",
              "    .dataframe tbody tr th {\n",
              "        vertical-align: top;\n",
              "    }\n",
              "\n",
              "    .dataframe thead th {\n",
              "        text-align: right;\n",
              "    }\n",
              "</style>\n",
              "<table border=\"1\" class=\"dataframe\">\n",
              "  <thead>\n",
              "    <tr style=\"text-align: right;\">\n",
              "      <th></th>\n",
              "      <th>Id</th>\n",
              "      <th>Store</th>\n",
              "      <th>DayOfWeek</th>\n",
              "      <th>Date</th>\n",
              "      <th>Open</th>\n",
              "      <th>Promo</th>\n",
              "      <th>StateHoliday</th>\n",
              "      <th>SchoolHoliday</th>\n",
              "    </tr>\n",
              "  </thead>\n",
              "  <tbody>\n",
              "    <tr>\n",
              "      <th>0</th>\n",
              "      <td>1</td>\n",
              "      <td>1</td>\n",
              "      <td>4</td>\n",
              "      <td>2015-09-17</td>\n",
              "      <td>1.0</td>\n",
              "      <td>1</td>\n",
              "      <td>0</td>\n",
              "      <td>0</td>\n",
              "    </tr>\n",
              "    <tr>\n",
              "      <th>1</th>\n",
              "      <td>2</td>\n",
              "      <td>3</td>\n",
              "      <td>4</td>\n",
              "      <td>2015-09-17</td>\n",
              "      <td>1.0</td>\n",
              "      <td>1</td>\n",
              "      <td>0</td>\n",
              "      <td>0</td>\n",
              "    </tr>\n",
              "    <tr>\n",
              "      <th>2</th>\n",
              "      <td>3</td>\n",
              "      <td>7</td>\n",
              "      <td>4</td>\n",
              "      <td>2015-09-17</td>\n",
              "      <td>1.0</td>\n",
              "      <td>1</td>\n",
              "      <td>0</td>\n",
              "      <td>0</td>\n",
              "    </tr>\n",
              "    <tr>\n",
              "      <th>3</th>\n",
              "      <td>4</td>\n",
              "      <td>8</td>\n",
              "      <td>4</td>\n",
              "      <td>2015-09-17</td>\n",
              "      <td>1.0</td>\n",
              "      <td>1</td>\n",
              "      <td>0</td>\n",
              "      <td>0</td>\n",
              "    </tr>\n",
              "    <tr>\n",
              "      <th>4</th>\n",
              "      <td>5</td>\n",
              "      <td>9</td>\n",
              "      <td>4</td>\n",
              "      <td>2015-09-17</td>\n",
              "      <td>1.0</td>\n",
              "      <td>1</td>\n",
              "      <td>0</td>\n",
              "      <td>0</td>\n",
              "    </tr>\n",
              "  </tbody>\n",
              "</table>\n",
              "</div>"
            ],
            "text/plain": [
              "   Id  Store  DayOfWeek        Date  Open  Promo StateHoliday  SchoolHoliday\n",
              "0   1      1          4  2015-09-17   1.0      1            0              0\n",
              "1   2      3          4  2015-09-17   1.0      1            0              0\n",
              "2   3      7          4  2015-09-17   1.0      1            0              0\n",
              "3   4      8          4  2015-09-17   1.0      1            0              0\n",
              "4   5      9          4  2015-09-17   1.0      1            0              0"
            ]
          },
          "metadata": {
            "tags": []
          }
        }
      ]
    },
    {
      "metadata": {
        "id": "ASd7quCXPNUx",
        "colab_type": "code",
        "outputId": "77f0ff2a-ac20-4302-87be-72b06c2b4e12",
        "colab": {
          "base_uri": "https://localhost:8080/",
          "height": 357
        }
      },
      "cell_type": "code",
      "source": [
        "!pip3 install --upgrade pandas"
      ],
      "execution_count": 0,
      "outputs": [
        {
          "output_type": "stream",
          "text": [
            "Collecting pandas\n",
            "  Using cached https://files.pythonhosted.org/packages/f9/e1/4a63ed31e1b1362d40ce845a5735c717a959bda992669468dae3420af2cd/pandas-0.24.0-cp36-cp36m-manylinux1_x86_64.whl\n",
            "Requirement already satisfied, skipping upgrade: pytz>=2011k in /usr/local/lib/python3.6/dist-packages (from pandas) (2018.9)\n",
            "Requirement already satisfied, skipping upgrade: python-dateutil>=2.5.0 in /usr/local/lib/python3.6/dist-packages (from pandas) (2.5.3)\n",
            "Requirement already satisfied, skipping upgrade: numpy>=1.12.0 in /usr/local/lib/python3.6/dist-packages (from pandas) (1.14.6)\n",
            "Requirement already satisfied, skipping upgrade: six>=1.5 in /usr/local/lib/python3.6/dist-packages (from python-dateutil>=2.5.0->pandas) (1.11.0)\n",
            "\u001b[31mpymc3 3.6 has requirement joblib<0.13.0, but you'll have joblib 0.13.1 which is incompatible.\u001b[0m\n",
            "\u001b[31mcufflinks 0.14.6 has requirement plotly>=3.0.0, but you'll have plotly 1.12.12 which is incompatible.\u001b[0m\n",
            "Installing collected packages: pandas\n",
            "  Found existing installation: pandas 0.22.0\n",
            "    Uninstalling pandas-0.22.0:\n",
            "      Successfully uninstalled pandas-0.22.0\n",
            "Successfully installed pandas-0.24.0\n"
          ],
          "name": "stdout"
        },
        {
          "output_type": "display_data",
          "data": {
            "application/vnd.colab-display-data+json": {
              "pip_warning": {
                "packages": [
                  "pandas"
                ]
              }
            }
          },
          "metadata": {
            "tags": []
          }
        }
      ]
    },
    {
      "metadata": {
        "id": "iPVJNAwaJk3W",
        "colab_type": "text"
      },
      "cell_type": "markdown",
      "source": [
        "This is very representative of a typical industry dataset.\n",
        "\n",
        "The following returns summarized aggregate information to each table accross each field."
      ]
    },
    {
      "metadata": {
        "id": "e8o_sX53Jk3X",
        "colab_type": "code",
        "outputId": "851aae1b-5671-48b5-90fd-5a6095c99dca",
        "colab": {
          "base_uri": "https://localhost:8080/",
          "height": 2830
        }
      },
      "cell_type": "code",
      "source": [
        "for t in tables: display(DataFrameSummary(t).summary())"
      ],
      "execution_count": 0,
      "outputs": [
        {
          "output_type": "display_data",
          "data": {
            "text/html": [
              "<div>\n",
              "<style scoped>\n",
              "    .dataframe tbody tr th:only-of-type {\n",
              "        vertical-align: middle;\n",
              "    }\n",
              "\n",
              "    .dataframe tbody tr th {\n",
              "        vertical-align: top;\n",
              "    }\n",
              "\n",
              "    .dataframe thead th {\n",
              "        text-align: right;\n",
              "    }\n",
              "</style>\n",
              "<table border=\"1\" class=\"dataframe\">\n",
              "  <thead>\n",
              "    <tr style=\"text-align: right;\">\n",
              "      <th></th>\n",
              "      <th>Store</th>\n",
              "      <th>DayOfWeek</th>\n",
              "      <th>Date</th>\n",
              "      <th>Sales</th>\n",
              "      <th>Customers</th>\n",
              "      <th>Open</th>\n",
              "      <th>Promo</th>\n",
              "      <th>StateHoliday</th>\n",
              "      <th>SchoolHoliday</th>\n",
              "    </tr>\n",
              "  </thead>\n",
              "  <tbody>\n",
              "    <tr>\n",
              "      <th>count</th>\n",
              "      <td>1.01721e+06</td>\n",
              "      <td>1.01721e+06</td>\n",
              "      <td>NaN</td>\n",
              "      <td>1.01721e+06</td>\n",
              "      <td>1.01721e+06</td>\n",
              "      <td>1.01721e+06</td>\n",
              "      <td>1.01721e+06</td>\n",
              "      <td>NaN</td>\n",
              "      <td>1.01721e+06</td>\n",
              "    </tr>\n",
              "    <tr>\n",
              "      <th>mean</th>\n",
              "      <td>558.43</td>\n",
              "      <td>3.99834</td>\n",
              "      <td>NaN</td>\n",
              "      <td>5773.82</td>\n",
              "      <td>633.146</td>\n",
              "      <td>0.830107</td>\n",
              "      <td>0.381515</td>\n",
              "      <td>NaN</td>\n",
              "      <td>0.178647</td>\n",
              "    </tr>\n",
              "    <tr>\n",
              "      <th>std</th>\n",
              "      <td>321.909</td>\n",
              "      <td>1.99739</td>\n",
              "      <td>NaN</td>\n",
              "      <td>3849.93</td>\n",
              "      <td>464.412</td>\n",
              "      <td>0.375539</td>\n",
              "      <td>0.485759</td>\n",
              "      <td>NaN</td>\n",
              "      <td>0.383056</td>\n",
              "    </tr>\n",
              "    <tr>\n",
              "      <th>min</th>\n",
              "      <td>1</td>\n",
              "      <td>1</td>\n",
              "      <td>NaN</td>\n",
              "      <td>0</td>\n",
              "      <td>0</td>\n",
              "      <td>0</td>\n",
              "      <td>0</td>\n",
              "      <td>NaN</td>\n",
              "      <td>0</td>\n",
              "    </tr>\n",
              "    <tr>\n",
              "      <th>25%</th>\n",
              "      <td>280</td>\n",
              "      <td>2</td>\n",
              "      <td>NaN</td>\n",
              "      <td>3727</td>\n",
              "      <td>405</td>\n",
              "      <td>1</td>\n",
              "      <td>0</td>\n",
              "      <td>NaN</td>\n",
              "      <td>0</td>\n",
              "    </tr>\n",
              "    <tr>\n",
              "      <th>50%</th>\n",
              "      <td>558</td>\n",
              "      <td>4</td>\n",
              "      <td>NaN</td>\n",
              "      <td>5744</td>\n",
              "      <td>609</td>\n",
              "      <td>1</td>\n",
              "      <td>0</td>\n",
              "      <td>NaN</td>\n",
              "      <td>0</td>\n",
              "    </tr>\n",
              "    <tr>\n",
              "      <th>75%</th>\n",
              "      <td>838</td>\n",
              "      <td>6</td>\n",
              "      <td>NaN</td>\n",
              "      <td>7856</td>\n",
              "      <td>837</td>\n",
              "      <td>1</td>\n",
              "      <td>1</td>\n",
              "      <td>NaN</td>\n",
              "      <td>0</td>\n",
              "    </tr>\n",
              "    <tr>\n",
              "      <th>max</th>\n",
              "      <td>1115</td>\n",
              "      <td>7</td>\n",
              "      <td>NaN</td>\n",
              "      <td>41551</td>\n",
              "      <td>7388</td>\n",
              "      <td>1</td>\n",
              "      <td>1</td>\n",
              "      <td>NaN</td>\n",
              "      <td>1</td>\n",
              "    </tr>\n",
              "    <tr>\n",
              "      <th>counts</th>\n",
              "      <td>1017209</td>\n",
              "      <td>1017209</td>\n",
              "      <td>1017209</td>\n",
              "      <td>1017209</td>\n",
              "      <td>1017209</td>\n",
              "      <td>1017209</td>\n",
              "      <td>1017209</td>\n",
              "      <td>1017209</td>\n",
              "      <td>1017209</td>\n",
              "    </tr>\n",
              "    <tr>\n",
              "      <th>uniques</th>\n",
              "      <td>1115</td>\n",
              "      <td>7</td>\n",
              "      <td>942</td>\n",
              "      <td>21734</td>\n",
              "      <td>4086</td>\n",
              "      <td>2</td>\n",
              "      <td>2</td>\n",
              "      <td>4</td>\n",
              "      <td>2</td>\n",
              "    </tr>\n",
              "    <tr>\n",
              "      <th>missing</th>\n",
              "      <td>0</td>\n",
              "      <td>0</td>\n",
              "      <td>0</td>\n",
              "      <td>0</td>\n",
              "      <td>0</td>\n",
              "      <td>0</td>\n",
              "      <td>0</td>\n",
              "      <td>0</td>\n",
              "      <td>0</td>\n",
              "    </tr>\n",
              "    <tr>\n",
              "      <th>missing_perc</th>\n",
              "      <td>0%</td>\n",
              "      <td>0%</td>\n",
              "      <td>0%</td>\n",
              "      <td>0%</td>\n",
              "      <td>0%</td>\n",
              "      <td>0%</td>\n",
              "      <td>0%</td>\n",
              "      <td>0%</td>\n",
              "      <td>0%</td>\n",
              "    </tr>\n",
              "    <tr>\n",
              "      <th>types</th>\n",
              "      <td>numeric</td>\n",
              "      <td>numeric</td>\n",
              "      <td>categorical</td>\n",
              "      <td>numeric</td>\n",
              "      <td>numeric</td>\n",
              "      <td>bool</td>\n",
              "      <td>bool</td>\n",
              "      <td>categorical</td>\n",
              "      <td>bool</td>\n",
              "    </tr>\n",
              "  </tbody>\n",
              "</table>\n",
              "</div>"
            ],
            "text/plain": [
              "                    Store    DayOfWeek         Date        Sales    Customers  \\\n",
              "count         1.01721e+06  1.01721e+06          NaN  1.01721e+06  1.01721e+06   \n",
              "mean               558.43      3.99834          NaN      5773.82      633.146   \n",
              "std               321.909      1.99739          NaN      3849.93      464.412   \n",
              "min                     1            1          NaN            0            0   \n",
              "25%                   280            2          NaN         3727          405   \n",
              "50%                   558            4          NaN         5744          609   \n",
              "75%                   838            6          NaN         7856          837   \n",
              "max                  1115            7          NaN        41551         7388   \n",
              "counts            1017209      1017209      1017209      1017209      1017209   \n",
              "uniques              1115            7          942        21734         4086   \n",
              "missing                 0            0            0            0            0   \n",
              "missing_perc           0%           0%           0%           0%           0%   \n",
              "types             numeric      numeric  categorical      numeric      numeric   \n",
              "\n",
              "                     Open        Promo StateHoliday SchoolHoliday  \n",
              "count         1.01721e+06  1.01721e+06          NaN   1.01721e+06  \n",
              "mean             0.830107     0.381515          NaN      0.178647  \n",
              "std              0.375539     0.485759          NaN      0.383056  \n",
              "min                     0            0          NaN             0  \n",
              "25%                     1            0          NaN             0  \n",
              "50%                     1            0          NaN             0  \n",
              "75%                     1            1          NaN             0  \n",
              "max                     1            1          NaN             1  \n",
              "counts            1017209      1017209      1017209       1017209  \n",
              "uniques                 2            2            4             2  \n",
              "missing                 0            0            0             0  \n",
              "missing_perc           0%           0%           0%            0%  \n",
              "types                bool         bool  categorical          bool  "
            ]
          },
          "metadata": {
            "tags": []
          }
        },
        {
          "output_type": "display_data",
          "data": {
            "text/html": [
              "<div>\n",
              "<style scoped>\n",
              "    .dataframe tbody tr th:only-of-type {\n",
              "        vertical-align: middle;\n",
              "    }\n",
              "\n",
              "    .dataframe tbody tr th {\n",
              "        vertical-align: top;\n",
              "    }\n",
              "\n",
              "    .dataframe thead th {\n",
              "        text-align: right;\n",
              "    }\n",
              "</style>\n",
              "<table border=\"1\" class=\"dataframe\">\n",
              "  <thead>\n",
              "    <tr style=\"text-align: right;\">\n",
              "      <th></th>\n",
              "      <th>Store</th>\n",
              "      <th>StoreType</th>\n",
              "      <th>Assortment</th>\n",
              "      <th>CompetitionDistance</th>\n",
              "      <th>CompetitionOpenSinceMonth</th>\n",
              "      <th>CompetitionOpenSinceYear</th>\n",
              "      <th>Promo2</th>\n",
              "      <th>Promo2SinceWeek</th>\n",
              "      <th>Promo2SinceYear</th>\n",
              "      <th>PromoInterval</th>\n",
              "    </tr>\n",
              "  </thead>\n",
              "  <tbody>\n",
              "    <tr>\n",
              "      <th>count</th>\n",
              "      <td>1115</td>\n",
              "      <td>NaN</td>\n",
              "      <td>NaN</td>\n",
              "      <td>1112</td>\n",
              "      <td>761</td>\n",
              "      <td>761</td>\n",
              "      <td>1115</td>\n",
              "      <td>571</td>\n",
              "      <td>571</td>\n",
              "      <td>NaN</td>\n",
              "    </tr>\n",
              "    <tr>\n",
              "      <th>mean</th>\n",
              "      <td>558</td>\n",
              "      <td>NaN</td>\n",
              "      <td>NaN</td>\n",
              "      <td>5404.9</td>\n",
              "      <td>7.2247</td>\n",
              "      <td>2008.67</td>\n",
              "      <td>0.512108</td>\n",
              "      <td>23.5954</td>\n",
              "      <td>2011.76</td>\n",
              "      <td>NaN</td>\n",
              "    </tr>\n",
              "    <tr>\n",
              "      <th>std</th>\n",
              "      <td>322.017</td>\n",
              "      <td>NaN</td>\n",
              "      <td>NaN</td>\n",
              "      <td>7663.17</td>\n",
              "      <td>3.21235</td>\n",
              "      <td>6.19598</td>\n",
              "      <td>0.500078</td>\n",
              "      <td>14.142</td>\n",
              "      <td>1.67494</td>\n",
              "      <td>NaN</td>\n",
              "    </tr>\n",
              "    <tr>\n",
              "      <th>min</th>\n",
              "      <td>1</td>\n",
              "      <td>NaN</td>\n",
              "      <td>NaN</td>\n",
              "      <td>20</td>\n",
              "      <td>1</td>\n",
              "      <td>1900</td>\n",
              "      <td>0</td>\n",
              "      <td>1</td>\n",
              "      <td>2009</td>\n",
              "      <td>NaN</td>\n",
              "    </tr>\n",
              "    <tr>\n",
              "      <th>25%</th>\n",
              "      <td>279.5</td>\n",
              "      <td>NaN</td>\n",
              "      <td>NaN</td>\n",
              "      <td>717.5</td>\n",
              "      <td>4</td>\n",
              "      <td>2006</td>\n",
              "      <td>0</td>\n",
              "      <td>13</td>\n",
              "      <td>2011</td>\n",
              "      <td>NaN</td>\n",
              "    </tr>\n",
              "    <tr>\n",
              "      <th>50%</th>\n",
              "      <td>558</td>\n",
              "      <td>NaN</td>\n",
              "      <td>NaN</td>\n",
              "      <td>2325</td>\n",
              "      <td>8</td>\n",
              "      <td>2010</td>\n",
              "      <td>1</td>\n",
              "      <td>22</td>\n",
              "      <td>2012</td>\n",
              "      <td>NaN</td>\n",
              "    </tr>\n",
              "    <tr>\n",
              "      <th>75%</th>\n",
              "      <td>836.5</td>\n",
              "      <td>NaN</td>\n",
              "      <td>NaN</td>\n",
              "      <td>6882.5</td>\n",
              "      <td>10</td>\n",
              "      <td>2013</td>\n",
              "      <td>1</td>\n",
              "      <td>37</td>\n",
              "      <td>2013</td>\n",
              "      <td>NaN</td>\n",
              "    </tr>\n",
              "    <tr>\n",
              "      <th>max</th>\n",
              "      <td>1115</td>\n",
              "      <td>NaN</td>\n",
              "      <td>NaN</td>\n",
              "      <td>75860</td>\n",
              "      <td>12</td>\n",
              "      <td>2015</td>\n",
              "      <td>1</td>\n",
              "      <td>50</td>\n",
              "      <td>2015</td>\n",
              "      <td>NaN</td>\n",
              "    </tr>\n",
              "    <tr>\n",
              "      <th>counts</th>\n",
              "      <td>1115</td>\n",
              "      <td>1115</td>\n",
              "      <td>1115</td>\n",
              "      <td>1112</td>\n",
              "      <td>761</td>\n",
              "      <td>761</td>\n",
              "      <td>1115</td>\n",
              "      <td>571</td>\n",
              "      <td>571</td>\n",
              "      <td>571</td>\n",
              "    </tr>\n",
              "    <tr>\n",
              "      <th>uniques</th>\n",
              "      <td>1115</td>\n",
              "      <td>4</td>\n",
              "      <td>3</td>\n",
              "      <td>654</td>\n",
              "      <td>12</td>\n",
              "      <td>23</td>\n",
              "      <td>2</td>\n",
              "      <td>24</td>\n",
              "      <td>7</td>\n",
              "      <td>3</td>\n",
              "    </tr>\n",
              "    <tr>\n",
              "      <th>missing</th>\n",
              "      <td>0</td>\n",
              "      <td>0</td>\n",
              "      <td>0</td>\n",
              "      <td>3</td>\n",
              "      <td>354</td>\n",
              "      <td>354</td>\n",
              "      <td>0</td>\n",
              "      <td>544</td>\n",
              "      <td>544</td>\n",
              "      <td>544</td>\n",
              "    </tr>\n",
              "    <tr>\n",
              "      <th>missing_perc</th>\n",
              "      <td>0%</td>\n",
              "      <td>0%</td>\n",
              "      <td>0%</td>\n",
              "      <td>0.27%</td>\n",
              "      <td>31.75%</td>\n",
              "      <td>31.75%</td>\n",
              "      <td>0%</td>\n",
              "      <td>48.79%</td>\n",
              "      <td>48.79%</td>\n",
              "      <td>48.79%</td>\n",
              "    </tr>\n",
              "    <tr>\n",
              "      <th>types</th>\n",
              "      <td>numeric</td>\n",
              "      <td>categorical</td>\n",
              "      <td>categorical</td>\n",
              "      <td>numeric</td>\n",
              "      <td>numeric</td>\n",
              "      <td>numeric</td>\n",
              "      <td>bool</td>\n",
              "      <td>numeric</td>\n",
              "      <td>numeric</td>\n",
              "      <td>categorical</td>\n",
              "    </tr>\n",
              "  </tbody>\n",
              "</table>\n",
              "</div>"
            ],
            "text/plain": [
              "                Store    StoreType   Assortment CompetitionDistance  \\\n",
              "count            1115          NaN          NaN                1112   \n",
              "mean              558          NaN          NaN              5404.9   \n",
              "std           322.017          NaN          NaN             7663.17   \n",
              "min                 1          NaN          NaN                  20   \n",
              "25%             279.5          NaN          NaN               717.5   \n",
              "50%               558          NaN          NaN                2325   \n",
              "75%             836.5          NaN          NaN              6882.5   \n",
              "max              1115          NaN          NaN               75860   \n",
              "counts           1115         1115         1115                1112   \n",
              "uniques          1115            4            3                 654   \n",
              "missing             0            0            0                   3   \n",
              "missing_perc       0%           0%           0%               0.27%   \n",
              "types         numeric  categorical  categorical             numeric   \n",
              "\n",
              "             CompetitionOpenSinceMonth CompetitionOpenSinceYear    Promo2  \\\n",
              "count                              761                      761      1115   \n",
              "mean                            7.2247                  2008.67  0.512108   \n",
              "std                            3.21235                  6.19598  0.500078   \n",
              "min                                  1                     1900         0   \n",
              "25%                                  4                     2006         0   \n",
              "50%                                  8                     2010         1   \n",
              "75%                                 10                     2013         1   \n",
              "max                                 12                     2015         1   \n",
              "counts                             761                      761      1115   \n",
              "uniques                             12                       23         2   \n",
              "missing                            354                      354         0   \n",
              "missing_perc                    31.75%                   31.75%        0%   \n",
              "types                          numeric                  numeric      bool   \n",
              "\n",
              "             Promo2SinceWeek Promo2SinceYear PromoInterval  \n",
              "count                    571             571           NaN  \n",
              "mean                 23.5954         2011.76           NaN  \n",
              "std                   14.142         1.67494           NaN  \n",
              "min                        1            2009           NaN  \n",
              "25%                       13            2011           NaN  \n",
              "50%                       22            2012           NaN  \n",
              "75%                       37            2013           NaN  \n",
              "max                       50            2015           NaN  \n",
              "counts                   571             571           571  \n",
              "uniques                   24               7             3  \n",
              "missing                  544             544           544  \n",
              "missing_perc          48.79%          48.79%        48.79%  \n",
              "types                numeric         numeric   categorical  "
            ]
          },
          "metadata": {
            "tags": []
          }
        },
        {
          "output_type": "display_data",
          "data": {
            "text/html": [
              "<div>\n",
              "<style scoped>\n",
              "    .dataframe tbody tr th:only-of-type {\n",
              "        vertical-align: middle;\n",
              "    }\n",
              "\n",
              "    .dataframe tbody tr th {\n",
              "        vertical-align: top;\n",
              "    }\n",
              "\n",
              "    .dataframe thead th {\n",
              "        text-align: right;\n",
              "    }\n",
              "</style>\n",
              "<table border=\"1\" class=\"dataframe\">\n",
              "  <thead>\n",
              "    <tr style=\"text-align: right;\">\n",
              "      <th></th>\n",
              "      <th>Store</th>\n",
              "      <th>State</th>\n",
              "    </tr>\n",
              "  </thead>\n",
              "  <tbody>\n",
              "    <tr>\n",
              "      <th>count</th>\n",
              "      <td>1115</td>\n",
              "      <td>NaN</td>\n",
              "    </tr>\n",
              "    <tr>\n",
              "      <th>mean</th>\n",
              "      <td>558</td>\n",
              "      <td>NaN</td>\n",
              "    </tr>\n",
              "    <tr>\n",
              "      <th>std</th>\n",
              "      <td>322.017</td>\n",
              "      <td>NaN</td>\n",
              "    </tr>\n",
              "    <tr>\n",
              "      <th>min</th>\n",
              "      <td>1</td>\n",
              "      <td>NaN</td>\n",
              "    </tr>\n",
              "    <tr>\n",
              "      <th>25%</th>\n",
              "      <td>279.5</td>\n",
              "      <td>NaN</td>\n",
              "    </tr>\n",
              "    <tr>\n",
              "      <th>50%</th>\n",
              "      <td>558</td>\n",
              "      <td>NaN</td>\n",
              "    </tr>\n",
              "    <tr>\n",
              "      <th>75%</th>\n",
              "      <td>836.5</td>\n",
              "      <td>NaN</td>\n",
              "    </tr>\n",
              "    <tr>\n",
              "      <th>max</th>\n",
              "      <td>1115</td>\n",
              "      <td>NaN</td>\n",
              "    </tr>\n",
              "    <tr>\n",
              "      <th>counts</th>\n",
              "      <td>1115</td>\n",
              "      <td>1115</td>\n",
              "    </tr>\n",
              "    <tr>\n",
              "      <th>uniques</th>\n",
              "      <td>1115</td>\n",
              "      <td>12</td>\n",
              "    </tr>\n",
              "    <tr>\n",
              "      <th>missing</th>\n",
              "      <td>0</td>\n",
              "      <td>0</td>\n",
              "    </tr>\n",
              "    <tr>\n",
              "      <th>missing_perc</th>\n",
              "      <td>0%</td>\n",
              "      <td>0%</td>\n",
              "    </tr>\n",
              "    <tr>\n",
              "      <th>types</th>\n",
              "      <td>numeric</td>\n",
              "      <td>categorical</td>\n",
              "    </tr>\n",
              "  </tbody>\n",
              "</table>\n",
              "</div>"
            ],
            "text/plain": [
              "                Store        State\n",
              "count            1115          NaN\n",
              "mean              558          NaN\n",
              "std           322.017          NaN\n",
              "min                 1          NaN\n",
              "25%             279.5          NaN\n",
              "50%               558          NaN\n",
              "75%             836.5          NaN\n",
              "max              1115          NaN\n",
              "counts           1115         1115\n",
              "uniques          1115           12\n",
              "missing             0            0\n",
              "missing_perc       0%           0%\n",
              "types         numeric  categorical"
            ]
          },
          "metadata": {
            "tags": []
          }
        },
        {
          "output_type": "display_data",
          "data": {
            "text/html": [
              "<div>\n",
              "<style scoped>\n",
              "    .dataframe tbody tr th:only-of-type {\n",
              "        vertical-align: middle;\n",
              "    }\n",
              "\n",
              "    .dataframe tbody tr th {\n",
              "        vertical-align: top;\n",
              "    }\n",
              "\n",
              "    .dataframe thead th {\n",
              "        text-align: right;\n",
              "    }\n",
              "</style>\n",
              "<table border=\"1\" class=\"dataframe\">\n",
              "  <thead>\n",
              "    <tr style=\"text-align: right;\">\n",
              "      <th></th>\n",
              "      <th>StateName</th>\n",
              "      <th>State</th>\n",
              "    </tr>\n",
              "  </thead>\n",
              "  <tbody>\n",
              "    <tr>\n",
              "      <th>count</th>\n",
              "      <td>16</td>\n",
              "      <td>16</td>\n",
              "    </tr>\n",
              "    <tr>\n",
              "      <th>unique</th>\n",
              "      <td>16</td>\n",
              "      <td>16</td>\n",
              "    </tr>\n",
              "    <tr>\n",
              "      <th>top</th>\n",
              "      <td>Hamburg</td>\n",
              "      <td>MV</td>\n",
              "    </tr>\n",
              "    <tr>\n",
              "      <th>freq</th>\n",
              "      <td>1</td>\n",
              "      <td>1</td>\n",
              "    </tr>\n",
              "    <tr>\n",
              "      <th>counts</th>\n",
              "      <td>16</td>\n",
              "      <td>16</td>\n",
              "    </tr>\n",
              "    <tr>\n",
              "      <th>uniques</th>\n",
              "      <td>16</td>\n",
              "      <td>16</td>\n",
              "    </tr>\n",
              "    <tr>\n",
              "      <th>missing</th>\n",
              "      <td>0</td>\n",
              "      <td>0</td>\n",
              "    </tr>\n",
              "    <tr>\n",
              "      <th>missing_perc</th>\n",
              "      <td>0%</td>\n",
              "      <td>0%</td>\n",
              "    </tr>\n",
              "    <tr>\n",
              "      <th>types</th>\n",
              "      <td>unique</td>\n",
              "      <td>unique</td>\n",
              "    </tr>\n",
              "  </tbody>\n",
              "</table>\n",
              "</div>"
            ],
            "text/plain": [
              "             StateName   State\n",
              "count               16      16\n",
              "unique              16      16\n",
              "top            Hamburg      MV\n",
              "freq                 1       1\n",
              "counts              16      16\n",
              "uniques             16      16\n",
              "missing              0       0\n",
              "missing_perc        0%      0%\n",
              "types           unique  unique"
            ]
          },
          "metadata": {
            "tags": []
          }
        },
        {
          "output_type": "display_data",
          "data": {
            "text/html": [
              "<div>\n",
              "<style scoped>\n",
              "    .dataframe tbody tr th:only-of-type {\n",
              "        vertical-align: middle;\n",
              "    }\n",
              "\n",
              "    .dataframe tbody tr th {\n",
              "        vertical-align: top;\n",
              "    }\n",
              "\n",
              "    .dataframe thead th {\n",
              "        text-align: right;\n",
              "    }\n",
              "</style>\n",
              "<table border=\"1\" class=\"dataframe\">\n",
              "  <thead>\n",
              "    <tr style=\"text-align: right;\">\n",
              "      <th></th>\n",
              "      <th>file</th>\n",
              "      <th>week</th>\n",
              "      <th>trend</th>\n",
              "    </tr>\n",
              "  </thead>\n",
              "  <tbody>\n",
              "    <tr>\n",
              "      <th>count</th>\n",
              "      <td>NaN</td>\n",
              "      <td>NaN</td>\n",
              "      <td>2072</td>\n",
              "    </tr>\n",
              "    <tr>\n",
              "      <th>mean</th>\n",
              "      <td>NaN</td>\n",
              "      <td>NaN</td>\n",
              "      <td>63.8142</td>\n",
              "    </tr>\n",
              "    <tr>\n",
              "      <th>std</th>\n",
              "      <td>NaN</td>\n",
              "      <td>NaN</td>\n",
              "      <td>12.6502</td>\n",
              "    </tr>\n",
              "    <tr>\n",
              "      <th>min</th>\n",
              "      <td>NaN</td>\n",
              "      <td>NaN</td>\n",
              "      <td>0</td>\n",
              "    </tr>\n",
              "    <tr>\n",
              "      <th>25%</th>\n",
              "      <td>NaN</td>\n",
              "      <td>NaN</td>\n",
              "      <td>55</td>\n",
              "    </tr>\n",
              "    <tr>\n",
              "      <th>50%</th>\n",
              "      <td>NaN</td>\n",
              "      <td>NaN</td>\n",
              "      <td>64</td>\n",
              "    </tr>\n",
              "    <tr>\n",
              "      <th>75%</th>\n",
              "      <td>NaN</td>\n",
              "      <td>NaN</td>\n",
              "      <td>72</td>\n",
              "    </tr>\n",
              "    <tr>\n",
              "      <th>max</th>\n",
              "      <td>NaN</td>\n",
              "      <td>NaN</td>\n",
              "      <td>100</td>\n",
              "    </tr>\n",
              "    <tr>\n",
              "      <th>counts</th>\n",
              "      <td>2072</td>\n",
              "      <td>2072</td>\n",
              "      <td>2072</td>\n",
              "    </tr>\n",
              "    <tr>\n",
              "      <th>uniques</th>\n",
              "      <td>14</td>\n",
              "      <td>148</td>\n",
              "      <td>68</td>\n",
              "    </tr>\n",
              "    <tr>\n",
              "      <th>missing</th>\n",
              "      <td>0</td>\n",
              "      <td>0</td>\n",
              "      <td>0</td>\n",
              "    </tr>\n",
              "    <tr>\n",
              "      <th>missing_perc</th>\n",
              "      <td>0%</td>\n",
              "      <td>0%</td>\n",
              "      <td>0%</td>\n",
              "    </tr>\n",
              "    <tr>\n",
              "      <th>types</th>\n",
              "      <td>categorical</td>\n",
              "      <td>categorical</td>\n",
              "      <td>numeric</td>\n",
              "    </tr>\n",
              "  </tbody>\n",
              "</table>\n",
              "</div>"
            ],
            "text/plain": [
              "                     file         week    trend\n",
              "count                 NaN          NaN     2072\n",
              "mean                  NaN          NaN  63.8142\n",
              "std                   NaN          NaN  12.6502\n",
              "min                   NaN          NaN        0\n",
              "25%                   NaN          NaN       55\n",
              "50%                   NaN          NaN       64\n",
              "75%                   NaN          NaN       72\n",
              "max                   NaN          NaN      100\n",
              "counts               2072         2072     2072\n",
              "uniques                14          148       68\n",
              "missing                 0            0        0\n",
              "missing_perc           0%           0%       0%\n",
              "types         categorical  categorical  numeric"
            ]
          },
          "metadata": {
            "tags": []
          }
        },
        {
          "output_type": "display_data",
          "data": {
            "text/html": [
              "<div>\n",
              "<style scoped>\n",
              "    .dataframe tbody tr th:only-of-type {\n",
              "        vertical-align: middle;\n",
              "    }\n",
              "\n",
              "    .dataframe tbody tr th {\n",
              "        vertical-align: top;\n",
              "    }\n",
              "\n",
              "    .dataframe thead th {\n",
              "        text-align: right;\n",
              "    }\n",
              "</style>\n",
              "<table border=\"1\" class=\"dataframe\">\n",
              "  <thead>\n",
              "    <tr style=\"text-align: right;\">\n",
              "      <th></th>\n",
              "      <th>file</th>\n",
              "      <th>Date</th>\n",
              "      <th>Max_TemperatureC</th>\n",
              "      <th>Mean_TemperatureC</th>\n",
              "      <th>Min_TemperatureC</th>\n",
              "      <th>Dew_PointC</th>\n",
              "      <th>MeanDew_PointC</th>\n",
              "      <th>Min_DewpointC</th>\n",
              "      <th>Max_Humidity</th>\n",
              "      <th>Mean_Humidity</th>\n",
              "      <th>...</th>\n",
              "      <th>Max_VisibilityKm</th>\n",
              "      <th>Mean_VisibilityKm</th>\n",
              "      <th>Min_VisibilitykM</th>\n",
              "      <th>Max_Wind_SpeedKm_h</th>\n",
              "      <th>Mean_Wind_SpeedKm_h</th>\n",
              "      <th>Max_Gust_SpeedKm_h</th>\n",
              "      <th>Precipitationmm</th>\n",
              "      <th>CloudCover</th>\n",
              "      <th>Events</th>\n",
              "      <th>WindDirDegrees</th>\n",
              "    </tr>\n",
              "  </thead>\n",
              "  <tbody>\n",
              "    <tr>\n",
              "      <th>count</th>\n",
              "      <td>NaN</td>\n",
              "      <td>NaN</td>\n",
              "      <td>15840</td>\n",
              "      <td>15840</td>\n",
              "      <td>15840</td>\n",
              "      <td>15840</td>\n",
              "      <td>15840</td>\n",
              "      <td>15840</td>\n",
              "      <td>15840</td>\n",
              "      <td>15840</td>\n",
              "      <td>...</td>\n",
              "      <td>15459</td>\n",
              "      <td>15459</td>\n",
              "      <td>15459</td>\n",
              "      <td>15840</td>\n",
              "      <td>15840</td>\n",
              "      <td>3604</td>\n",
              "      <td>15840</td>\n",
              "      <td>14667</td>\n",
              "      <td>NaN</td>\n",
              "      <td>15840</td>\n",
              "    </tr>\n",
              "    <tr>\n",
              "      <th>mean</th>\n",
              "      <td>NaN</td>\n",
              "      <td>NaN</td>\n",
              "      <td>14.6441</td>\n",
              "      <td>10.389</td>\n",
              "      <td>6.19899</td>\n",
              "      <td>8.58782</td>\n",
              "      <td>6.20581</td>\n",
              "      <td>3.62614</td>\n",
              "      <td>93.6596</td>\n",
              "      <td>74.2829</td>\n",
              "      <td>...</td>\n",
              "      <td>24.0576</td>\n",
              "      <td>12.2398</td>\n",
              "      <td>7.02516</td>\n",
              "      <td>22.7666</td>\n",
              "      <td>11.9722</td>\n",
              "      <td>48.8643</td>\n",
              "      <td>0.831718</td>\n",
              "      <td>5.55131</td>\n",
              "      <td>NaN</td>\n",
              "      <td>175.897</td>\n",
              "    </tr>\n",
              "    <tr>\n",
              "      <th>std</th>\n",
              "      <td>NaN</td>\n",
              "      <td>NaN</td>\n",
              "      <td>8.64601</td>\n",
              "      <td>7.37926</td>\n",
              "      <td>6.52639</td>\n",
              "      <td>6.24478</td>\n",
              "      <td>6.08677</td>\n",
              "      <td>6.12839</td>\n",
              "      <td>7.67853</td>\n",
              "      <td>13.4866</td>\n",
              "      <td>...</td>\n",
              "      <td>8.9768</td>\n",
              "      <td>5.06794</td>\n",
              "      <td>4.9806</td>\n",
              "      <td>8.98862</td>\n",
              "      <td>5.87284</td>\n",
              "      <td>13.027</td>\n",
              "      <td>2.51351</td>\n",
              "      <td>1.68771</td>\n",
              "      <td>NaN</td>\n",
              "      <td>101.589</td>\n",
              "    </tr>\n",
              "    <tr>\n",
              "      <th>min</th>\n",
              "      <td>NaN</td>\n",
              "      <td>NaN</td>\n",
              "      <td>-11</td>\n",
              "      <td>-13</td>\n",
              "      <td>-15</td>\n",
              "      <td>-14</td>\n",
              "      <td>-15</td>\n",
              "      <td>-73</td>\n",
              "      <td>44</td>\n",
              "      <td>30</td>\n",
              "      <td>...</td>\n",
              "      <td>0</td>\n",
              "      <td>0</td>\n",
              "      <td>0</td>\n",
              "      <td>3</td>\n",
              "      <td>2</td>\n",
              "      <td>21</td>\n",
              "      <td>0</td>\n",
              "      <td>0</td>\n",
              "      <td>NaN</td>\n",
              "      <td>-1</td>\n",
              "    </tr>\n",
              "    <tr>\n",
              "      <th>25%</th>\n",
              "      <td>NaN</td>\n",
              "      <td>NaN</td>\n",
              "      <td>8</td>\n",
              "      <td>4</td>\n",
              "      <td>1</td>\n",
              "      <td>4</td>\n",
              "      <td>2</td>\n",
              "      <td>-1</td>\n",
              "      <td>90.75</td>\n",
              "      <td>65</td>\n",
              "      <td>...</td>\n",
              "      <td>14</td>\n",
              "      <td>10</td>\n",
              "      <td>3</td>\n",
              "      <td>16</td>\n",
              "      <td>8</td>\n",
              "      <td>39</td>\n",
              "      <td>0</td>\n",
              "      <td>5</td>\n",
              "      <td>NaN</td>\n",
              "      <td>80</td>\n",
              "    </tr>\n",
              "    <tr>\n",
              "      <th>50%</th>\n",
              "      <td>NaN</td>\n",
              "      <td>NaN</td>\n",
              "      <td>15</td>\n",
              "      <td>11</td>\n",
              "      <td>7</td>\n",
              "      <td>9</td>\n",
              "      <td>7</td>\n",
              "      <td>4</td>\n",
              "      <td>94</td>\n",
              "      <td>76</td>\n",
              "      <td>...</td>\n",
              "      <td>31</td>\n",
              "      <td>11</td>\n",
              "      <td>7</td>\n",
              "      <td>21</td>\n",
              "      <td>11</td>\n",
              "      <td>48</td>\n",
              "      <td>0</td>\n",
              "      <td>6</td>\n",
              "      <td>NaN</td>\n",
              "      <td>202</td>\n",
              "    </tr>\n",
              "    <tr>\n",
              "      <th>75%</th>\n",
              "      <td>NaN</td>\n",
              "      <td>NaN</td>\n",
              "      <td>21</td>\n",
              "      <td>16</td>\n",
              "      <td>11</td>\n",
              "      <td>13</td>\n",
              "      <td>11</td>\n",
              "      <td>8</td>\n",
              "      <td>100</td>\n",
              "      <td>85</td>\n",
              "      <td>...</td>\n",
              "      <td>31</td>\n",
              "      <td>14</td>\n",
              "      <td>10</td>\n",
              "      <td>27</td>\n",
              "      <td>14</td>\n",
              "      <td>55</td>\n",
              "      <td>0.25</td>\n",
              "      <td>7</td>\n",
              "      <td>NaN</td>\n",
              "      <td>256</td>\n",
              "    </tr>\n",
              "    <tr>\n",
              "      <th>max</th>\n",
              "      <td>NaN</td>\n",
              "      <td>NaN</td>\n",
              "      <td>39</td>\n",
              "      <td>31</td>\n",
              "      <td>24</td>\n",
              "      <td>25</td>\n",
              "      <td>20</td>\n",
              "      <td>19</td>\n",
              "      <td>100</td>\n",
              "      <td>100</td>\n",
              "      <td>...</td>\n",
              "      <td>31</td>\n",
              "      <td>31</td>\n",
              "      <td>31</td>\n",
              "      <td>101</td>\n",
              "      <td>53</td>\n",
              "      <td>111</td>\n",
              "      <td>58.93</td>\n",
              "      <td>8</td>\n",
              "      <td>NaN</td>\n",
              "      <td>360</td>\n",
              "    </tr>\n",
              "    <tr>\n",
              "      <th>counts</th>\n",
              "      <td>15840</td>\n",
              "      <td>15840</td>\n",
              "      <td>15840</td>\n",
              "      <td>15840</td>\n",
              "      <td>15840</td>\n",
              "      <td>15840</td>\n",
              "      <td>15840</td>\n",
              "      <td>15840</td>\n",
              "      <td>15840</td>\n",
              "      <td>15840</td>\n",
              "      <td>...</td>\n",
              "      <td>15459</td>\n",
              "      <td>15459</td>\n",
              "      <td>15459</td>\n",
              "      <td>15840</td>\n",
              "      <td>15840</td>\n",
              "      <td>3604</td>\n",
              "      <td>15840</td>\n",
              "      <td>14667</td>\n",
              "      <td>11889</td>\n",
              "      <td>15840</td>\n",
              "    </tr>\n",
              "    <tr>\n",
              "      <th>uniques</th>\n",
              "      <td>16</td>\n",
              "      <td>990</td>\n",
              "      <td>51</td>\n",
              "      <td>45</td>\n",
              "      <td>40</td>\n",
              "      <td>40</td>\n",
              "      <td>36</td>\n",
              "      <td>40</td>\n",
              "      <td>53</td>\n",
              "      <td>71</td>\n",
              "      <td>...</td>\n",
              "      <td>24</td>\n",
              "      <td>32</td>\n",
              "      <td>24</td>\n",
              "      <td>44</td>\n",
              "      <td>29</td>\n",
              "      <td>47</td>\n",
              "      <td>41</td>\n",
              "      <td>9</td>\n",
              "      <td>21</td>\n",
              "      <td>362</td>\n",
              "    </tr>\n",
              "    <tr>\n",
              "      <th>missing</th>\n",
              "      <td>0</td>\n",
              "      <td>0</td>\n",
              "      <td>0</td>\n",
              "      <td>0</td>\n",
              "      <td>0</td>\n",
              "      <td>0</td>\n",
              "      <td>0</td>\n",
              "      <td>0</td>\n",
              "      <td>0</td>\n",
              "      <td>0</td>\n",
              "      <td>...</td>\n",
              "      <td>381</td>\n",
              "      <td>381</td>\n",
              "      <td>381</td>\n",
              "      <td>0</td>\n",
              "      <td>0</td>\n",
              "      <td>12236</td>\n",
              "      <td>0</td>\n",
              "      <td>1173</td>\n",
              "      <td>3951</td>\n",
              "      <td>0</td>\n",
              "    </tr>\n",
              "    <tr>\n",
              "      <th>missing_perc</th>\n",
              "      <td>0%</td>\n",
              "      <td>0%</td>\n",
              "      <td>0%</td>\n",
              "      <td>0%</td>\n",
              "      <td>0%</td>\n",
              "      <td>0%</td>\n",
              "      <td>0%</td>\n",
              "      <td>0%</td>\n",
              "      <td>0%</td>\n",
              "      <td>0%</td>\n",
              "      <td>...</td>\n",
              "      <td>2.41%</td>\n",
              "      <td>2.41%</td>\n",
              "      <td>2.41%</td>\n",
              "      <td>0%</td>\n",
              "      <td>0%</td>\n",
              "      <td>77.25%</td>\n",
              "      <td>0%</td>\n",
              "      <td>7.41%</td>\n",
              "      <td>24.94%</td>\n",
              "      <td>0%</td>\n",
              "    </tr>\n",
              "    <tr>\n",
              "      <th>types</th>\n",
              "      <td>categorical</td>\n",
              "      <td>categorical</td>\n",
              "      <td>numeric</td>\n",
              "      <td>numeric</td>\n",
              "      <td>numeric</td>\n",
              "      <td>numeric</td>\n",
              "      <td>numeric</td>\n",
              "      <td>numeric</td>\n",
              "      <td>numeric</td>\n",
              "      <td>numeric</td>\n",
              "      <td>...</td>\n",
              "      <td>numeric</td>\n",
              "      <td>numeric</td>\n",
              "      <td>numeric</td>\n",
              "      <td>numeric</td>\n",
              "      <td>numeric</td>\n",
              "      <td>numeric</td>\n",
              "      <td>numeric</td>\n",
              "      <td>numeric</td>\n",
              "      <td>categorical</td>\n",
              "      <td>numeric</td>\n",
              "    </tr>\n",
              "  </tbody>\n",
              "</table>\n",
              "<p>13 rows × 24 columns</p>\n",
              "</div>"
            ],
            "text/plain": [
              "                     file         Date Max_TemperatureC Mean_TemperatureC  \\\n",
              "count                 NaN          NaN            15840             15840   \n",
              "mean                  NaN          NaN          14.6441            10.389   \n",
              "std                   NaN          NaN          8.64601           7.37926   \n",
              "min                   NaN          NaN              -11               -13   \n",
              "25%                   NaN          NaN                8                 4   \n",
              "50%                   NaN          NaN               15                11   \n",
              "75%                   NaN          NaN               21                16   \n",
              "max                   NaN          NaN               39                31   \n",
              "counts              15840        15840            15840             15840   \n",
              "uniques                16          990               51                45   \n",
              "missing                 0            0                0                 0   \n",
              "missing_perc           0%           0%               0%                0%   \n",
              "types         categorical  categorical          numeric           numeric   \n",
              "\n",
              "             Min_TemperatureC Dew_PointC MeanDew_PointC Min_DewpointC  \\\n",
              "count                   15840      15840          15840         15840   \n",
              "mean                  6.19899    8.58782        6.20581       3.62614   \n",
              "std                   6.52639    6.24478        6.08677       6.12839   \n",
              "min                       -15        -14            -15           -73   \n",
              "25%                         1          4              2            -1   \n",
              "50%                         7          9              7             4   \n",
              "75%                        11         13             11             8   \n",
              "max                        24         25             20            19   \n",
              "counts                  15840      15840          15840         15840   \n",
              "uniques                    40         40             36            40   \n",
              "missing                     0          0              0             0   \n",
              "missing_perc               0%         0%             0%            0%   \n",
              "types                 numeric    numeric        numeric       numeric   \n",
              "\n",
              "             Max_Humidity Mean_Humidity  ... Max_VisibilityKm  \\\n",
              "count               15840         15840  ...            15459   \n",
              "mean              93.6596       74.2829  ...          24.0576   \n",
              "std               7.67853       13.4866  ...           8.9768   \n",
              "min                    44            30  ...                0   \n",
              "25%                 90.75            65  ...               14   \n",
              "50%                    94            76  ...               31   \n",
              "75%                   100            85  ...               31   \n",
              "max                   100           100  ...               31   \n",
              "counts              15840         15840  ...            15459   \n",
              "uniques                53            71  ...               24   \n",
              "missing                 0             0  ...              381   \n",
              "missing_perc           0%            0%  ...            2.41%   \n",
              "types             numeric       numeric  ...          numeric   \n",
              "\n",
              "             Mean_VisibilityKm Min_VisibilitykM Max_Wind_SpeedKm_h  \\\n",
              "count                    15459            15459              15840   \n",
              "mean                   12.2398          7.02516            22.7666   \n",
              "std                    5.06794           4.9806            8.98862   \n",
              "min                          0                0                  3   \n",
              "25%                         10                3                 16   \n",
              "50%                         11                7                 21   \n",
              "75%                         14               10                 27   \n",
              "max                         31               31                101   \n",
              "counts                   15459            15459              15840   \n",
              "uniques                     32               24                 44   \n",
              "missing                    381              381                  0   \n",
              "missing_perc             2.41%            2.41%                 0%   \n",
              "types                  numeric          numeric            numeric   \n",
              "\n",
              "             Mean_Wind_SpeedKm_h Max_Gust_SpeedKm_h Precipitationmm  \\\n",
              "count                      15840               3604           15840   \n",
              "mean                     11.9722            48.8643        0.831718   \n",
              "std                      5.87284             13.027         2.51351   \n",
              "min                            2                 21               0   \n",
              "25%                            8                 39               0   \n",
              "50%                           11                 48               0   \n",
              "75%                           14                 55            0.25   \n",
              "max                           53                111           58.93   \n",
              "counts                     15840               3604           15840   \n",
              "uniques                       29                 47              41   \n",
              "missing                        0              12236               0   \n",
              "missing_perc                  0%             77.25%              0%   \n",
              "types                    numeric            numeric         numeric   \n",
              "\n",
              "             CloudCover       Events WindDirDegrees  \n",
              "count             14667          NaN          15840  \n",
              "mean            5.55131          NaN        175.897  \n",
              "std             1.68771          NaN        101.589  \n",
              "min                   0          NaN             -1  \n",
              "25%                   5          NaN             80  \n",
              "50%                   6          NaN            202  \n",
              "75%                   7          NaN            256  \n",
              "max                   8          NaN            360  \n",
              "counts            14667        11889          15840  \n",
              "uniques               9           21            362  \n",
              "missing            1173         3951              0  \n",
              "missing_perc      7.41%       24.94%             0%  \n",
              "types           numeric  categorical        numeric  \n",
              "\n",
              "[13 rows x 24 columns]"
            ]
          },
          "metadata": {
            "tags": []
          }
        },
        {
          "output_type": "display_data",
          "data": {
            "text/html": [
              "<div>\n",
              "<style scoped>\n",
              "    .dataframe tbody tr th:only-of-type {\n",
              "        vertical-align: middle;\n",
              "    }\n",
              "\n",
              "    .dataframe tbody tr th {\n",
              "        vertical-align: top;\n",
              "    }\n",
              "\n",
              "    .dataframe thead th {\n",
              "        text-align: right;\n",
              "    }\n",
              "</style>\n",
              "<table border=\"1\" class=\"dataframe\">\n",
              "  <thead>\n",
              "    <tr style=\"text-align: right;\">\n",
              "      <th></th>\n",
              "      <th>Id</th>\n",
              "      <th>Store</th>\n",
              "      <th>DayOfWeek</th>\n",
              "      <th>Date</th>\n",
              "      <th>Open</th>\n",
              "      <th>Promo</th>\n",
              "      <th>StateHoliday</th>\n",
              "      <th>SchoolHoliday</th>\n",
              "    </tr>\n",
              "  </thead>\n",
              "  <tbody>\n",
              "    <tr>\n",
              "      <th>count</th>\n",
              "      <td>41088</td>\n",
              "      <td>41088</td>\n",
              "      <td>41088</td>\n",
              "      <td>NaN</td>\n",
              "      <td>41077</td>\n",
              "      <td>41088</td>\n",
              "      <td>NaN</td>\n",
              "      <td>41088</td>\n",
              "    </tr>\n",
              "    <tr>\n",
              "      <th>mean</th>\n",
              "      <td>20544.5</td>\n",
              "      <td>555.9</td>\n",
              "      <td>3.97917</td>\n",
              "      <td>NaN</td>\n",
              "      <td>0.854322</td>\n",
              "      <td>0.395833</td>\n",
              "      <td>NaN</td>\n",
              "      <td>0.443487</td>\n",
              "    </tr>\n",
              "    <tr>\n",
              "      <th>std</th>\n",
              "      <td>11861.2</td>\n",
              "      <td>320.274</td>\n",
              "      <td>2.01548</td>\n",
              "      <td>NaN</td>\n",
              "      <td>0.352787</td>\n",
              "      <td>0.489035</td>\n",
              "      <td>NaN</td>\n",
              "      <td>0.496802</td>\n",
              "    </tr>\n",
              "    <tr>\n",
              "      <th>min</th>\n",
              "      <td>1</td>\n",
              "      <td>1</td>\n",
              "      <td>1</td>\n",
              "      <td>NaN</td>\n",
              "      <td>0</td>\n",
              "      <td>0</td>\n",
              "      <td>NaN</td>\n",
              "      <td>0</td>\n",
              "    </tr>\n",
              "    <tr>\n",
              "      <th>25%</th>\n",
              "      <td>10272.8</td>\n",
              "      <td>279.75</td>\n",
              "      <td>2</td>\n",
              "      <td>NaN</td>\n",
              "      <td>1</td>\n",
              "      <td>0</td>\n",
              "      <td>NaN</td>\n",
              "      <td>0</td>\n",
              "    </tr>\n",
              "    <tr>\n",
              "      <th>50%</th>\n",
              "      <td>20544.5</td>\n",
              "      <td>553.5</td>\n",
              "      <td>4</td>\n",
              "      <td>NaN</td>\n",
              "      <td>1</td>\n",
              "      <td>0</td>\n",
              "      <td>NaN</td>\n",
              "      <td>0</td>\n",
              "    </tr>\n",
              "    <tr>\n",
              "      <th>75%</th>\n",
              "      <td>30816.2</td>\n",
              "      <td>832.25</td>\n",
              "      <td>6</td>\n",
              "      <td>NaN</td>\n",
              "      <td>1</td>\n",
              "      <td>1</td>\n",
              "      <td>NaN</td>\n",
              "      <td>1</td>\n",
              "    </tr>\n",
              "    <tr>\n",
              "      <th>max</th>\n",
              "      <td>41088</td>\n",
              "      <td>1115</td>\n",
              "      <td>7</td>\n",
              "      <td>NaN</td>\n",
              "      <td>1</td>\n",
              "      <td>1</td>\n",
              "      <td>NaN</td>\n",
              "      <td>1</td>\n",
              "    </tr>\n",
              "    <tr>\n",
              "      <th>counts</th>\n",
              "      <td>41088</td>\n",
              "      <td>41088</td>\n",
              "      <td>41088</td>\n",
              "      <td>41088</td>\n",
              "      <td>41077</td>\n",
              "      <td>41088</td>\n",
              "      <td>41088</td>\n",
              "      <td>41088</td>\n",
              "    </tr>\n",
              "    <tr>\n",
              "      <th>uniques</th>\n",
              "      <td>41088</td>\n",
              "      <td>856</td>\n",
              "      <td>7</td>\n",
              "      <td>48</td>\n",
              "      <td>2</td>\n",
              "      <td>2</td>\n",
              "      <td>2</td>\n",
              "      <td>2</td>\n",
              "    </tr>\n",
              "    <tr>\n",
              "      <th>missing</th>\n",
              "      <td>0</td>\n",
              "      <td>0</td>\n",
              "      <td>0</td>\n",
              "      <td>0</td>\n",
              "      <td>11</td>\n",
              "      <td>0</td>\n",
              "      <td>0</td>\n",
              "      <td>0</td>\n",
              "    </tr>\n",
              "    <tr>\n",
              "      <th>missing_perc</th>\n",
              "      <td>0%</td>\n",
              "      <td>0%</td>\n",
              "      <td>0%</td>\n",
              "      <td>0%</td>\n",
              "      <td>0.03%</td>\n",
              "      <td>0%</td>\n",
              "      <td>0%</td>\n",
              "      <td>0%</td>\n",
              "    </tr>\n",
              "    <tr>\n",
              "      <th>types</th>\n",
              "      <td>numeric</td>\n",
              "      <td>numeric</td>\n",
              "      <td>numeric</td>\n",
              "      <td>categorical</td>\n",
              "      <td>bool</td>\n",
              "      <td>bool</td>\n",
              "      <td>bool</td>\n",
              "      <td>bool</td>\n",
              "    </tr>\n",
              "  </tbody>\n",
              "</table>\n",
              "</div>"
            ],
            "text/plain": [
              "                   Id    Store DayOfWeek         Date      Open     Promo  \\\n",
              "count           41088    41088     41088          NaN     41077     41088   \n",
              "mean          20544.5    555.9   3.97917          NaN  0.854322  0.395833   \n",
              "std           11861.2  320.274   2.01548          NaN  0.352787  0.489035   \n",
              "min                 1        1         1          NaN         0         0   \n",
              "25%           10272.8   279.75         2          NaN         1         0   \n",
              "50%           20544.5    553.5         4          NaN         1         0   \n",
              "75%           30816.2   832.25         6          NaN         1         1   \n",
              "max             41088     1115         7          NaN         1         1   \n",
              "counts          41088    41088     41088        41088     41077     41088   \n",
              "uniques         41088      856         7           48         2         2   \n",
              "missing             0        0         0            0        11         0   \n",
              "missing_perc       0%       0%        0%           0%     0.03%        0%   \n",
              "types         numeric  numeric   numeric  categorical      bool      bool   \n",
              "\n",
              "             StateHoliday SchoolHoliday  \n",
              "count                 NaN         41088  \n",
              "mean                  NaN      0.443487  \n",
              "std                   NaN      0.496802  \n",
              "min                   NaN             0  \n",
              "25%                   NaN             0  \n",
              "50%                   NaN             0  \n",
              "75%                   NaN             1  \n",
              "max                   NaN             1  \n",
              "counts              41088         41088  \n",
              "uniques                 2             2  \n",
              "missing                 0             0  \n",
              "missing_perc           0%            0%  \n",
              "types                bool          bool  "
            ]
          },
          "metadata": {
            "tags": []
          }
        }
      ]
    },
    {
      "metadata": {
        "id": "ADdTA0SRJk3b",
        "colab_type": "text"
      },
      "cell_type": "markdown",
      "source": [
        "## Data Cleaning / Feature Engineering"
      ]
    },
    {
      "metadata": {
        "id": "-sTnO4bNJk3d",
        "colab_type": "text"
      },
      "cell_type": "markdown",
      "source": [
        "As a structured data problem, we necessarily have to go through all the cleaning and feature engineering, even though we're using a neural network."
      ]
    },
    {
      "metadata": {
        "id": "PM2oZBFQJk3e",
        "colab_type": "code",
        "colab": {}
      },
      "cell_type": "code",
      "source": [
        "train, store, store_states, state_names, googletrend, weather, test = tables"
      ],
      "execution_count": 0,
      "outputs": []
    },
    {
      "metadata": {
        "id": "iG1OwptnJk3g",
        "colab_type": "code",
        "outputId": "35624ebd-3517-4abf-fa16-5c6110fdf5f2",
        "colab": {
          "base_uri": "https://localhost:8080/",
          "height": 35
        }
      },
      "cell_type": "code",
      "source": [
        "len(train),len(test)"
      ],
      "execution_count": 0,
      "outputs": [
        {
          "output_type": "execute_result",
          "data": {
            "text/plain": [
              "(1017209, 41088)"
            ]
          },
          "metadata": {
            "tags": []
          },
          "execution_count": 16
        }
      ]
    },
    {
      "metadata": {
        "id": "EwW7KjSiJk3j",
        "colab_type": "text"
      },
      "cell_type": "markdown",
      "source": [
        "We turn state Holidays to booleans, to make them more convenient for modeling. We can do calculations on pandas fields using notation very similar (often identical) to numpy."
      ]
    },
    {
      "metadata": {
        "id": "cWkufD1HJk3l",
        "colab_type": "code",
        "colab": {}
      },
      "cell_type": "code",
      "source": [
        "train.StateHoliday = train.StateHoliday!='0'\n",
        "test.StateHoliday = test.StateHoliday!='0'"
      ],
      "execution_count": 0,
      "outputs": []
    },
    {
      "metadata": {
        "id": "57hSmld1Jk3o",
        "colab_type": "text"
      },
      "cell_type": "markdown",
      "source": [
        "`join_df` is a function for joining tables on specific fields. By default, we'll be doing a left outer join of `right` on the `left` argument using the given fields for each table.\n",
        "\n",
        "Pandas does joins using the `merge` method. The `suffixes` argument describes the naming convention for duplicate fields. We've elected to leave the duplicate field names on the left untouched, and append a \"\\_y\" to those on the right."
      ]
    },
    {
      "metadata": {
        "id": "QQEeg1d1Jk3p",
        "colab_type": "code",
        "colab": {}
      },
      "cell_type": "code",
      "source": [
        "def join_df(left, right, left_on, right_on=None, suffix='_y'):\n",
        "    if right_on is None: right_on = left_on\n",
        "    return left.merge(right, how='left', left_on=left_on, right_on=right_on, \n",
        "                      suffixes=(\"\", suffix))"
      ],
      "execution_count": 0,
      "outputs": []
    },
    {
      "metadata": {
        "id": "DDwijhPIJk3t",
        "colab_type": "text"
      },
      "cell_type": "markdown",
      "source": [
        "Join weather/state names."
      ]
    },
    {
      "metadata": {
        "id": "dpmvKOMmJk3u",
        "colab_type": "code",
        "colab": {}
      },
      "cell_type": "code",
      "source": [
        "weather = join_df(weather, state_names, \"file\", \"StateName\")"
      ],
      "execution_count": 0,
      "outputs": []
    },
    {
      "metadata": {
        "id": "Iw3dVFZYJk3x",
        "colab_type": "text"
      },
      "cell_type": "markdown",
      "source": [
        "In pandas you can add new columns to a dataframe by simply defining it. We'll do this for googletrends by extracting dates and state names from the given data and adding those columns.\n",
        "\n",
        "We're also going to replace all instances of state name 'NI' to match the usage in the rest of the data: 'HB,NI'. This is a good opportunity to highlight pandas indexing. We can use `.loc[rows, cols]` to select a list of rows and a list of columns from the dataframe. In this case, we're selecting rows w/ statename 'NI' by using a boolean list `googletrend.State=='NI'` and selecting \"State\"."
      ]
    },
    {
      "metadata": {
        "id": "L0SgkBF3Jk3x",
        "colab_type": "code",
        "colab": {}
      },
      "cell_type": "code",
      "source": [
        "googletrend['Date'] = googletrend.week.str.split(' - ', expand=True)[0]\n",
        "googletrend['State'] = googletrend.file.str.split('_', expand=True)[2]\n",
        "googletrend.loc[googletrend.State=='NI', \"State\"] = 'HB,NI'"
      ],
      "execution_count": 0,
      "outputs": []
    },
    {
      "metadata": {
        "id": "2PjniqLPJk30",
        "colab_type": "text"
      },
      "cell_type": "markdown",
      "source": [
        "The following extracts particular date fields from a complete datetime for the purpose of constructing categoricals.\n",
        "\n",
        "You should *always* consider this feature extraction step when working with date-time. Without expanding your date-time into these additional fields, you can't capture any trend/cyclical behavior as a function of time at any of these granularities. We'll add to every table with a date field."
      ]
    },
    {
      "metadata": {
        "id": "GAQ-Hsa0Jk31",
        "colab_type": "code",
        "colab": {}
      },
      "cell_type": "code",
      "source": [
        "add_datepart(weather, \"Date\", drop=False)\n",
        "add_datepart(googletrend, \"Date\", drop=False)\n",
        "add_datepart(train, \"Date\", drop=False)\n",
        "add_datepart(test, \"Date\", drop=False)"
      ],
      "execution_count": 0,
      "outputs": []
    },
    {
      "metadata": {
        "id": "jatya5zfJk34",
        "colab_type": "text"
      },
      "cell_type": "markdown",
      "source": [
        "The Google trends data has a special category for the whole of Germany - we'll pull that out so we can use it explicitly."
      ]
    },
    {
      "metadata": {
        "id": "GwEd2v5FJk35",
        "colab_type": "code",
        "colab": {}
      },
      "cell_type": "code",
      "source": [
        "trend_de = googletrend[googletrend.file == 'Rossmann_DE']"
      ],
      "execution_count": 0,
      "outputs": []
    },
    {
      "metadata": {
        "id": "rokKLaEoJk37",
        "colab_type": "text"
      },
      "cell_type": "markdown",
      "source": [
        "Now we can outer join all of our data into a single dataframe. Recall that in outer joins everytime a value in the joining field on the left table does not have a corresponding value on the right table, the corresponding row in the new table has Null values for all right table fields. One way to check that all records are consistent and complete is to check for Null values post-join, as we do here.\n",
        "\n",
        "*Aside*: Why note just do an inner join?\n",
        "If you are assuming that all records are complete and match on the field you desire, an inner join will do the same thing as an outer join. However, in the event you are wrong or a mistake is made, an outer join followed by a null-check will catch it. (Comparing before/after # of rows for inner join is equivalent, but requires keeping track of before/after row #'s. Outer join is easier.)"
      ]
    },
    {
      "metadata": {
        "id": "VI9d9-4aJk37",
        "colab_type": "code",
        "outputId": "9a82eff6-7dc3-4b10-d067-2cf32c917db8",
        "colab": {
          "base_uri": "https://localhost:8080/",
          "height": 35
        }
      },
      "cell_type": "code",
      "source": [
        "store = join_df(store, store_states, \"Store\")\n",
        "len(store[store.State.isnull()])"
      ],
      "execution_count": 0,
      "outputs": [
        {
          "output_type": "execute_result",
          "data": {
            "text/plain": [
              "0"
            ]
          },
          "metadata": {
            "tags": []
          },
          "execution_count": 23
        }
      ]
    },
    {
      "metadata": {
        "id": "g5-cS0y5Jk3_",
        "colab_type": "code",
        "outputId": "64f03562-21db-424b-cb18-0e5e4eef5dd8",
        "colab": {
          "base_uri": "https://localhost:8080/",
          "height": 35
        }
      },
      "cell_type": "code",
      "source": [
        "joined = join_df(train, store, \"Store\")\n",
        "joined_test = join_df(test, store, \"Store\")\n",
        "len(joined[joined.StoreType.isnull()]),len(joined_test[joined_test.StoreType.isnull()])"
      ],
      "execution_count": 0,
      "outputs": [
        {
          "output_type": "execute_result",
          "data": {
            "text/plain": [
              "(0, 0)"
            ]
          },
          "metadata": {
            "tags": []
          },
          "execution_count": 24
        }
      ]
    },
    {
      "metadata": {
        "id": "otDVK_yNJk4C",
        "colab_type": "code",
        "outputId": "a4b2b094-3d86-4d1e-ed91-1ddc6932d447",
        "colab": {
          "base_uri": "https://localhost:8080/",
          "height": 35
        }
      },
      "cell_type": "code",
      "source": [
        "joined = join_df(joined, googletrend, [\"State\",\"Year\", \"Week\"])\n",
        "joined_test = join_df(joined_test, googletrend, [\"State\",\"Year\", \"Week\"])\n",
        "len(joined[joined.trend.isnull()]),len(joined_test[joined_test.trend.isnull()])"
      ],
      "execution_count": 0,
      "outputs": [
        {
          "output_type": "execute_result",
          "data": {
            "text/plain": [
              "(0, 0)"
            ]
          },
          "metadata": {
            "tags": []
          },
          "execution_count": 25
        }
      ]
    },
    {
      "metadata": {
        "id": "Hde5VOACJk4F",
        "colab_type": "code",
        "outputId": "503092e0-78d1-4f36-9f53-c48d56f84ecf",
        "colab": {
          "base_uri": "https://localhost:8080/",
          "height": 35
        }
      },
      "cell_type": "code",
      "source": [
        "joined = joined.merge(trend_de, 'left', [\"Year\", \"Week\"], suffixes=('', '_DE'))\n",
        "joined_test = joined_test.merge(trend_de, 'left', [\"Year\", \"Week\"], suffixes=('', '_DE'))\n",
        "len(joined[joined.trend_DE.isnull()]),len(joined_test[joined_test.trend_DE.isnull()])"
      ],
      "execution_count": 0,
      "outputs": [
        {
          "output_type": "execute_result",
          "data": {
            "text/plain": [
              "(0, 0)"
            ]
          },
          "metadata": {
            "tags": []
          },
          "execution_count": 26
        }
      ]
    },
    {
      "metadata": {
        "id": "8XqPFlMYJk4J",
        "colab_type": "code",
        "outputId": "48ca7356-549d-4f19-e895-7458d13afa3c",
        "colab": {
          "base_uri": "https://localhost:8080/",
          "height": 35
        }
      },
      "cell_type": "code",
      "source": [
        "joined = join_df(joined, weather, [\"State\",\"Date\"])\n",
        "joined_test = join_df(joined_test, weather, [\"State\",\"Date\"])\n",
        "len(joined[joined.Mean_TemperatureC.isnull()]),len(joined_test[joined_test.Mean_TemperatureC.isnull()])"
      ],
      "execution_count": 0,
      "outputs": [
        {
          "output_type": "execute_result",
          "data": {
            "text/plain": [
              "(0, 0)"
            ]
          },
          "metadata": {
            "tags": []
          },
          "execution_count": 27
        }
      ]
    },
    {
      "metadata": {
        "id": "n8PNfm84Jk4R",
        "colab_type": "code",
        "colab": {}
      },
      "cell_type": "code",
      "source": [
        "for df in (joined, joined_test):\n",
        "    for c in df.columns:\n",
        "        if c.endswith('_y'):\n",
        "            if c in df.columns: df.drop(c, inplace=True, axis=1)"
      ],
      "execution_count": 0,
      "outputs": []
    },
    {
      "metadata": {
        "id": "kp2AHxnbJk4V",
        "colab_type": "text"
      },
      "cell_type": "markdown",
      "source": [
        "Next we'll fill in missing values to avoid complications with `NA`'s. `NA` (not available) is how Pandas indicates missing values; many models have problems when missing values are present, so it's always important to think about how to deal with them. In these cases, we are picking an arbitrary *signal value* that doesn't otherwise appear in the data."
      ]
    },
    {
      "metadata": {
        "id": "-DykEqNfJk4Y",
        "colab_type": "code",
        "colab": {}
      },
      "cell_type": "code",
      "source": [
        "for df in (joined,joined_test):\n",
        "    df['CompetitionOpenSinceYear'] = df.CompetitionOpenSinceYear.fillna(1900).astype(np.int32)\n",
        "    df['CompetitionOpenSinceMonth'] = df.CompetitionOpenSinceMonth.fillna(1).astype(np.int32)\n",
        "    df['Promo2SinceYear'] = df.Promo2SinceYear.fillna(1900).astype(np.int32)\n",
        "    df['Promo2SinceWeek'] = df.Promo2SinceWeek.fillna(1).astype(np.int32)"
      ],
      "execution_count": 0,
      "outputs": []
    },
    {
      "metadata": {
        "id": "3_oAq5o0Jk4a",
        "colab_type": "text"
      },
      "cell_type": "markdown",
      "source": [
        "Next we'll extract features \"CompetitionOpenSince\" and \"CompetitionDaysOpen\". Note the use of `apply()` in mapping a function across dataframe values."
      ]
    },
    {
      "metadata": {
        "id": "ckNtpmJkJk4c",
        "colab_type": "code",
        "colab": {}
      },
      "cell_type": "code",
      "source": [
        "for df in (joined,joined_test):\n",
        "    df[\"CompetitionOpenSince\"] = pd.to_datetime(dict(year=df.CompetitionOpenSinceYear, \n",
        "                                                     month=df.CompetitionOpenSinceMonth, day=15))\n",
        "    df[\"CompetitionDaysOpen\"] = df.Date.subtract(df.CompetitionOpenSince).dt.days"
      ],
      "execution_count": 0,
      "outputs": []
    },
    {
      "metadata": {
        "id": "81BJcNN2Jk4e",
        "colab_type": "text"
      },
      "cell_type": "markdown",
      "source": [
        "We'll replace some erroneous / outlying data."
      ]
    },
    {
      "metadata": {
        "id": "i_lMTkBbJk4f",
        "colab_type": "code",
        "colab": {}
      },
      "cell_type": "code",
      "source": [
        "for df in (joined,joined_test):\n",
        "    df.loc[df.CompetitionDaysOpen<0, \"CompetitionDaysOpen\"] = 0\n",
        "    df.loc[df.CompetitionOpenSinceYear<1990, \"CompetitionDaysOpen\"] = 0"
      ],
      "execution_count": 0,
      "outputs": []
    },
    {
      "metadata": {
        "id": "3rR6-tbgJk4g",
        "colab_type": "text"
      },
      "cell_type": "markdown",
      "source": [
        "We add \"CompetitionMonthsOpen\" field, limiting the maximum to 2 years to limit number of unique categories."
      ]
    },
    {
      "metadata": {
        "id": "XwfYnuykJk4h",
        "colab_type": "code",
        "outputId": "77a1ec73-6533-4fc7-f9e4-5b619b9d96f1",
        "colab": {
          "base_uri": "https://localhost:8080/",
          "height": 55
        }
      },
      "cell_type": "code",
      "source": [
        "for df in (joined,joined_test):\n",
        "    df[\"CompetitionMonthsOpen\"] = df[\"CompetitionDaysOpen\"]//30\n",
        "    df.loc[df.CompetitionMonthsOpen>24, \"CompetitionMonthsOpen\"] = 24\n",
        "joined.CompetitionMonthsOpen.unique()"
      ],
      "execution_count": 0,
      "outputs": [
        {
          "output_type": "execute_result",
          "data": {
            "text/plain": [
              "array([24,  3, 19,  9,  0, 16, 17,  7, 15, 22, 11, 13,  2, 23, 12,  4, 10,  1, 14, 20,  8, 18,  6, 21,  5])"
            ]
          },
          "metadata": {
            "tags": []
          },
          "execution_count": 32
        }
      ]
    },
    {
      "metadata": {
        "id": "On18kIlM2v8_",
        "colab_type": "code",
        "outputId": "61a22501-39f4-4ac1-928b-109ab0723f13",
        "colab": {
          "base_uri": "https://localhost:8080/",
          "height": 428
        }
      },
      "cell_type": "code",
      "source": [
        "!pip3 install pandas==0.22.0"
      ],
      "execution_count": 0,
      "outputs": [
        {
          "output_type": "stream",
          "text": [
            "Collecting pandas==0.22.0\n",
            "\u001b[?25l  Downloading https://files.pythonhosted.org/packages/da/c6/0936bc5814b429fddb5d6252566fe73a3e40372e6ceaf87de3dec1326f28/pandas-0.22.0-cp36-cp36m-manylinux1_x86_64.whl (26.2MB)\n",
            "\u001b[K    100% |████████████████████████████████| 26.3MB 1.8MB/s \n",
            "\u001b[?25hRequirement already satisfied: pytz>=2011k in /usr/local/lib/python3.6/dist-packages (from pandas==0.22.0) (2018.9)\n",
            "Requirement already satisfied: numpy>=1.9.0 in /usr/local/lib/python3.6/dist-packages (from pandas==0.22.0) (1.14.6)\n",
            "Requirement already satisfied: python-dateutil>=2 in /usr/local/lib/python3.6/dist-packages (from pandas==0.22.0) (2.5.3)\n",
            "Requirement already satisfied: six>=1.5 in /usr/local/lib/python3.6/dist-packages (from python-dateutil>=2->pandas==0.22.0) (1.11.0)\n",
            "\u001b[31mpymc3 3.6 has requirement joblib<0.13.0, but you'll have joblib 0.13.1 which is incompatible.\u001b[0m\n",
            "\u001b[31mplotnine 0.5.1 has requirement pandas>=0.23.4, but you'll have pandas 0.22.0 which is incompatible.\u001b[0m\n",
            "\u001b[31mmizani 0.5.3 has requirement pandas>=0.23.4, but you'll have pandas 0.22.0 which is incompatible.\u001b[0m\n",
            "\u001b[31mfeaturetools 0.4.1 has requirement pandas>=0.23.0, but you'll have pandas 0.22.0 which is incompatible.\u001b[0m\n",
            "\u001b[31mcufflinks 0.14.6 has requirement plotly>=3.0.0, but you'll have plotly 1.12.12 which is incompatible.\u001b[0m\n",
            "Installing collected packages: pandas\n",
            "  Found existing installation: pandas 0.24.0\n",
            "    Uninstalling pandas-0.24.0:\n",
            "      Successfully uninstalled pandas-0.24.0\n",
            "Successfully installed pandas-0.22.0\n"
          ],
          "name": "stdout"
        },
        {
          "output_type": "display_data",
          "data": {
            "application/vnd.colab-display-data+json": {
              "pip_warning": {
                "packages": [
                  "pandas"
                ]
              }
            }
          },
          "metadata": {
            "tags": []
          }
        }
      ]
    },
    {
      "metadata": {
        "id": "NSjmsqqFJk4k",
        "colab_type": "text"
      },
      "cell_type": "markdown",
      "source": [
        "Same process for Promo dates."
      ]
    },
    {
      "metadata": {
        "id": "DJZXGMqYJk4k",
        "colab_type": "code",
        "outputId": "bdff3aac-5e83-486f-d54f-65a5ece97dc6",
        "colab": {
          "base_uri": "https://localhost:8080/",
          "height": 969
        }
      },
      "cell_type": "code",
      "source": [
        "for df in (joined,joined_test):\n",
        "    df[\"Promo2Since\"] = pd.to_datetime(df.apply(lambda x: Week(\n",
        "        x.Promo2SinceYear, x.Promo2SinceWeek).monday(), axis=1).astype(pd.datetime))\n",
        "    df[\"Promo2Days\"] = df.Date.subtract(df[\"Promo2Since\"]).dt.days"
      ],
      "execution_count": 0,
      "outputs": [
        {
          "output_type": "error",
          "ename": "TypeError",
          "evalue": "ignored",
          "traceback": [
            "\u001b[0;31m---------------------------------------------------------------------------\u001b[0m",
            "\u001b[0;31mTypeError\u001b[0m                                 Traceback (most recent call last)",
            "\u001b[0;32m<ipython-input-33-55ff9a5fa04b>\u001b[0m in \u001b[0;36m<module>\u001b[0;34m()\u001b[0m\n\u001b[1;32m      1\u001b[0m \u001b[0;32mfor\u001b[0m \u001b[0mdf\u001b[0m \u001b[0;32min\u001b[0m \u001b[0;34m(\u001b[0m\u001b[0mjoined\u001b[0m\u001b[0;34m,\u001b[0m\u001b[0mjoined_test\u001b[0m\u001b[0;34m)\u001b[0m\u001b[0;34m:\u001b[0m\u001b[0;34m\u001b[0m\u001b[0;34m\u001b[0m\u001b[0m\n\u001b[1;32m      2\u001b[0m     df[\"Promo2Since\"] = pd.to_datetime(df.apply(lambda x: Week(\n\u001b[0;32m----> 3\u001b[0;31m         x.Promo2SinceYear, x.Promo2SinceWeek).monday(), axis=1).astype(pd.datetime))\n\u001b[0m\u001b[1;32m      4\u001b[0m     \u001b[0mdf\u001b[0m\u001b[0;34m[\u001b[0m\u001b[0;34m\"Promo2Days\"\u001b[0m\u001b[0;34m]\u001b[0m \u001b[0;34m=\u001b[0m \u001b[0mdf\u001b[0m\u001b[0;34m.\u001b[0m\u001b[0mDate\u001b[0m\u001b[0;34m.\u001b[0m\u001b[0msubtract\u001b[0m\u001b[0;34m(\u001b[0m\u001b[0mdf\u001b[0m\u001b[0;34m[\u001b[0m\u001b[0;34m\"Promo2Since\"\u001b[0m\u001b[0;34m]\u001b[0m\u001b[0;34m)\u001b[0m\u001b[0;34m.\u001b[0m\u001b[0mdt\u001b[0m\u001b[0;34m.\u001b[0m\u001b[0mdays\u001b[0m\u001b[0;34m\u001b[0m\u001b[0;34m\u001b[0m\u001b[0m\n",
            "\u001b[0;32m/usr/local/lib/python3.6/dist-packages/pandas/core/generic.py\u001b[0m in \u001b[0;36mastype\u001b[0;34m(self, dtype, copy, errors, **kwargs)\u001b[0m\n\u001b[1;32m   5679\u001b[0m             \u001b[0;31m# else, only a single dtype is given\u001b[0m\u001b[0;34m\u001b[0m\u001b[0;34m\u001b[0m\u001b[0;34m\u001b[0m\u001b[0m\n\u001b[1;32m   5680\u001b[0m             new_data = self._data.astype(dtype=dtype, copy=copy, errors=errors,\n\u001b[0;32m-> 5681\u001b[0;31m                                          **kwargs)\n\u001b[0m\u001b[1;32m   5682\u001b[0m             \u001b[0;32mreturn\u001b[0m \u001b[0mself\u001b[0m\u001b[0;34m.\u001b[0m\u001b[0m_constructor\u001b[0m\u001b[0;34m(\u001b[0m\u001b[0mnew_data\u001b[0m\u001b[0;34m)\u001b[0m\u001b[0;34m.\u001b[0m\u001b[0m__finalize__\u001b[0m\u001b[0;34m(\u001b[0m\u001b[0mself\u001b[0m\u001b[0;34m)\u001b[0m\u001b[0;34m\u001b[0m\u001b[0;34m\u001b[0m\u001b[0m\n\u001b[1;32m   5683\u001b[0m \u001b[0;34m\u001b[0m\u001b[0m\n",
            "\u001b[0;32m/usr/local/lib/python3.6/dist-packages/pandas/core/internals/managers.py\u001b[0m in \u001b[0;36mastype\u001b[0;34m(self, dtype, **kwargs)\u001b[0m\n\u001b[1;32m    529\u001b[0m \u001b[0;34m\u001b[0m\u001b[0m\n\u001b[1;32m    530\u001b[0m     \u001b[0;32mdef\u001b[0m \u001b[0mastype\u001b[0m\u001b[0;34m(\u001b[0m\u001b[0mself\u001b[0m\u001b[0;34m,\u001b[0m \u001b[0mdtype\u001b[0m\u001b[0;34m,\u001b[0m \u001b[0;34m**\u001b[0m\u001b[0mkwargs\u001b[0m\u001b[0;34m)\u001b[0m\u001b[0;34m:\u001b[0m\u001b[0;34m\u001b[0m\u001b[0;34m\u001b[0m\u001b[0m\n\u001b[0;32m--> 531\u001b[0;31m         \u001b[0;32mreturn\u001b[0m \u001b[0mself\u001b[0m\u001b[0;34m.\u001b[0m\u001b[0mapply\u001b[0m\u001b[0;34m(\u001b[0m\u001b[0;34m'astype'\u001b[0m\u001b[0;34m,\u001b[0m \u001b[0mdtype\u001b[0m\u001b[0;34m=\u001b[0m\u001b[0mdtype\u001b[0m\u001b[0;34m,\u001b[0m \u001b[0;34m**\u001b[0m\u001b[0mkwargs\u001b[0m\u001b[0;34m)\u001b[0m\u001b[0;34m\u001b[0m\u001b[0;34m\u001b[0m\u001b[0m\n\u001b[0m\u001b[1;32m    532\u001b[0m \u001b[0;34m\u001b[0m\u001b[0m\n\u001b[1;32m    533\u001b[0m     \u001b[0;32mdef\u001b[0m \u001b[0mconvert\u001b[0m\u001b[0;34m(\u001b[0m\u001b[0mself\u001b[0m\u001b[0;34m,\u001b[0m \u001b[0;34m**\u001b[0m\u001b[0mkwargs\u001b[0m\u001b[0;34m)\u001b[0m\u001b[0;34m:\u001b[0m\u001b[0;34m\u001b[0m\u001b[0;34m\u001b[0m\u001b[0m\n",
            "\u001b[0;32m/usr/local/lib/python3.6/dist-packages/pandas/core/internals/managers.py\u001b[0m in \u001b[0;36mapply\u001b[0;34m(self, f, axes, filter, do_integrity_check, consolidate, **kwargs)\u001b[0m\n\u001b[1;32m    393\u001b[0m                                             copy=align_copy)\n\u001b[1;32m    394\u001b[0m \u001b[0;34m\u001b[0m\u001b[0m\n\u001b[0;32m--> 395\u001b[0;31m             \u001b[0mapplied\u001b[0m \u001b[0;34m=\u001b[0m \u001b[0mgetattr\u001b[0m\u001b[0;34m(\u001b[0m\u001b[0mb\u001b[0m\u001b[0;34m,\u001b[0m \u001b[0mf\u001b[0m\u001b[0;34m)\u001b[0m\u001b[0;34m(\u001b[0m\u001b[0;34m**\u001b[0m\u001b[0mkwargs\u001b[0m\u001b[0;34m)\u001b[0m\u001b[0;34m\u001b[0m\u001b[0;34m\u001b[0m\u001b[0m\n\u001b[0m\u001b[1;32m    396\u001b[0m             \u001b[0mresult_blocks\u001b[0m \u001b[0;34m=\u001b[0m \u001b[0m_extend_blocks\u001b[0m\u001b[0;34m(\u001b[0m\u001b[0mapplied\u001b[0m\u001b[0;34m,\u001b[0m \u001b[0mresult_blocks\u001b[0m\u001b[0;34m)\u001b[0m\u001b[0;34m\u001b[0m\u001b[0;34m\u001b[0m\u001b[0m\n\u001b[1;32m    397\u001b[0m \u001b[0;34m\u001b[0m\u001b[0m\n",
            "\u001b[0;32m/usr/local/lib/python3.6/dist-packages/pandas/core/internals/blocks.py\u001b[0m in \u001b[0;36mastype\u001b[0;34m(self, dtype, copy, errors, values, **kwargs)\u001b[0m\n\u001b[1;32m    532\u001b[0m     \u001b[0;32mdef\u001b[0m \u001b[0mastype\u001b[0m\u001b[0;34m(\u001b[0m\u001b[0mself\u001b[0m\u001b[0;34m,\u001b[0m \u001b[0mdtype\u001b[0m\u001b[0;34m,\u001b[0m \u001b[0mcopy\u001b[0m\u001b[0;34m=\u001b[0m\u001b[0;32mFalse\u001b[0m\u001b[0;34m,\u001b[0m \u001b[0merrors\u001b[0m\u001b[0;34m=\u001b[0m\u001b[0;34m'raise'\u001b[0m\u001b[0;34m,\u001b[0m \u001b[0mvalues\u001b[0m\u001b[0;34m=\u001b[0m\u001b[0;32mNone\u001b[0m\u001b[0;34m,\u001b[0m \u001b[0;34m**\u001b[0m\u001b[0mkwargs\u001b[0m\u001b[0;34m)\u001b[0m\u001b[0;34m:\u001b[0m\u001b[0;34m\u001b[0m\u001b[0;34m\u001b[0m\u001b[0m\n\u001b[1;32m    533\u001b[0m         return self._astype(dtype, copy=copy, errors=errors, values=values,\n\u001b[0;32m--> 534\u001b[0;31m                             **kwargs)\n\u001b[0m\u001b[1;32m    535\u001b[0m \u001b[0;34m\u001b[0m\u001b[0m\n\u001b[1;32m    536\u001b[0m     def _astype(self, dtype, copy=False, errors='raise', values=None,\n",
            "\u001b[0;32m/usr/local/lib/python3.6/dist-packages/pandas/core/internals/blocks.py\u001b[0m in \u001b[0;36m_astype\u001b[0;34m(self, dtype, copy, errors, values, **kwargs)\u001b[0m\n\u001b[1;32m    593\u001b[0m \u001b[0;34m\u001b[0m\u001b[0m\n\u001b[1;32m    594\u001b[0m         \u001b[0;31m# convert dtypes if needed\u001b[0m\u001b[0;34m\u001b[0m\u001b[0;34m\u001b[0m\u001b[0;34m\u001b[0m\u001b[0m\n\u001b[0;32m--> 595\u001b[0;31m         \u001b[0mdtype\u001b[0m \u001b[0;34m=\u001b[0m \u001b[0mpandas_dtype\u001b[0m\u001b[0;34m(\u001b[0m\u001b[0mdtype\u001b[0m\u001b[0;34m)\u001b[0m\u001b[0;34m\u001b[0m\u001b[0;34m\u001b[0m\u001b[0m\n\u001b[0m\u001b[1;32m    596\u001b[0m         \u001b[0;31m# astype processing\u001b[0m\u001b[0;34m\u001b[0m\u001b[0;34m\u001b[0m\u001b[0;34m\u001b[0m\u001b[0m\n\u001b[1;32m    597\u001b[0m         \u001b[0;32mif\u001b[0m \u001b[0mis_dtype_equal\u001b[0m\u001b[0;34m(\u001b[0m\u001b[0mself\u001b[0m\u001b[0;34m.\u001b[0m\u001b[0mdtype\u001b[0m\u001b[0;34m,\u001b[0m \u001b[0mdtype\u001b[0m\u001b[0;34m)\u001b[0m\u001b[0;34m:\u001b[0m\u001b[0;34m\u001b[0m\u001b[0;34m\u001b[0m\u001b[0m\n",
            "\u001b[0;32m/usr/local/lib/python3.6/dist-packages/pandas/core/dtypes/common.py\u001b[0m in \u001b[0;36mpandas_dtype\u001b[0;34m(dtype)\u001b[0m\n\u001b[1;32m   2027\u001b[0m         \u001b[0;32mreturn\u001b[0m \u001b[0mnpdtype\u001b[0m\u001b[0;34m\u001b[0m\u001b[0;34m\u001b[0m\u001b[0m\n\u001b[1;32m   2028\u001b[0m     \u001b[0;32melif\u001b[0m \u001b[0mnpdtype\u001b[0m\u001b[0;34m.\u001b[0m\u001b[0mkind\u001b[0m \u001b[0;34m==\u001b[0m \u001b[0;34m'O'\u001b[0m\u001b[0;34m:\u001b[0m\u001b[0;34m\u001b[0m\u001b[0;34m\u001b[0m\u001b[0m\n\u001b[0;32m-> 2029\u001b[0;31m         \u001b[0;32mraise\u001b[0m \u001b[0mTypeError\u001b[0m\u001b[0;34m(\u001b[0m\u001b[0;34m\"dtype '{}' not understood\"\u001b[0m\u001b[0;34m.\u001b[0m\u001b[0mformat\u001b[0m\u001b[0;34m(\u001b[0m\u001b[0mdtype\u001b[0m\u001b[0;34m)\u001b[0m\u001b[0;34m)\u001b[0m\u001b[0;34m\u001b[0m\u001b[0;34m\u001b[0m\u001b[0m\n\u001b[0m\u001b[1;32m   2030\u001b[0m \u001b[0;34m\u001b[0m\u001b[0m\n\u001b[1;32m   2031\u001b[0m     \u001b[0;32mreturn\u001b[0m \u001b[0mnpdtype\u001b[0m\u001b[0;34m\u001b[0m\u001b[0;34m\u001b[0m\u001b[0m\n",
            "\u001b[0;31mTypeError\u001b[0m: dtype '<class 'datetime.datetime'>' not understood"
          ]
        }
      ]
    },
    {
      "metadata": {
        "id": "RmI3AkkRJk4n",
        "colab_type": "code",
        "colab": {}
      },
      "cell_type": "code",
      "source": [
        "for df in (joined,joined_test):\n",
        "    df.loc[df.Promo2Days<0, \"Promo2Days\"] = 0\n",
        "    df.loc[df.Promo2SinceYear<1990, \"Promo2Days\"] = 0\n",
        "    df[\"Promo2Weeks\"] = df[\"Promo2Days\"]//7\n",
        "    df.loc[df.Promo2Weeks<0, \"Promo2Weeks\"] = 0\n",
        "    df.loc[df.Promo2Weeks>25, \"Promo2Weeks\"] = 25\n",
        "    df.Promo2Weeks.unique()"
      ],
      "execution_count": 0,
      "outputs": []
    },
    {
      "metadata": {
        "id": "je926yWSJk4o",
        "colab_type": "code",
        "colab": {}
      },
      "cell_type": "code",
      "source": [
        "joined.to_feather(f'{PATH}joined')\n",
        "joined_test.to_feather(f'{PATH}joined_test')"
      ],
      "execution_count": 0,
      "outputs": []
    },
    {
      "metadata": {
        "id": "qYIzLjOnJk4q",
        "colab_type": "text"
      },
      "cell_type": "markdown",
      "source": [
        "## Durations"
      ]
    },
    {
      "metadata": {
        "id": "JVEqYzSUJk4t",
        "colab_type": "text"
      },
      "cell_type": "markdown",
      "source": [
        "It is common when working with time series data to extract data that explains relationships across rows as opposed to columns, e.g.:\n",
        "* Running averages\n",
        "* Time until next event\n",
        "* Time since last event\n",
        "\n",
        "This is often difficult to do with most table manipulation frameworks, since they are designed to work with relationships across columns. As such, we've created a class to handle this type of data.\n",
        "\n",
        "We'll define a function `get_elapsed` for cumulative counting across a sorted dataframe. Given a particular field `fld` to monitor, this function will start tracking time since the last occurrence of that field. When the field is seen again, the counter is set to zero.\n",
        "\n",
        "Upon initialization, this will result in datetime na's until the field is encountered. This is reset every time a new store is seen. We'll see how to use this shortly."
      ]
    },
    {
      "metadata": {
        "id": "CuvHVpk2Jk4t",
        "colab_type": "code",
        "colab": {}
      },
      "cell_type": "code",
      "source": [
        "def get_elapsed(fld, pre):\n",
        "    day1 = np.timedelta64(1, 'D')\n",
        "    last_date = np.datetime64()\n",
        "    last_store = 0\n",
        "    res = []\n",
        "\n",
        "    for s,v,d in zip(df.Store.values,df[fld].values, df.Date.values):\n",
        "        if s != last_store:\n",
        "            last_date = np.datetime64()\n",
        "            last_store = s\n",
        "        if v: last_date = d\n",
        "        res.append(((d-last_date).astype('timedelta64[D]') / day1))\n",
        "    df[pre+fld] = res"
      ],
      "execution_count": 0,
      "outputs": []
    },
    {
      "metadata": {
        "id": "cClhaM42Jk4x",
        "colab_type": "text"
      },
      "cell_type": "markdown",
      "source": [
        "We'll be applying this to a subset of columns:"
      ]
    },
    {
      "metadata": {
        "id": "lcdclxFdJk4y",
        "colab_type": "code",
        "colab": {}
      },
      "cell_type": "code",
      "source": [
        "columns = [\"Date\", \"Store\", \"Promo\", \"StateHoliday\", \"SchoolHoliday\"]"
      ],
      "execution_count": 0,
      "outputs": []
    },
    {
      "metadata": {
        "id": "5DFb8wlTJk43",
        "colab_type": "code",
        "colab": {}
      },
      "cell_type": "code",
      "source": [
        "#df = train[columns]\n",
        "df = train[columns].append(test[columns])"
      ],
      "execution_count": 0,
      "outputs": []
    },
    {
      "metadata": {
        "id": "PT-tv8ZwJk45",
        "colab_type": "code",
        "colab": {}
      },
      "cell_type": "code",
      "source": [
        ""
      ],
      "execution_count": 0,
      "outputs": []
    },
    {
      "metadata": {
        "id": "_KGik4l6Jk47",
        "colab_type": "text"
      },
      "cell_type": "markdown",
      "source": [
        "Let's walk through an example.\n",
        "\n",
        "Say we're looking at School Holiday. We'll first sort by Store, then Date, and then call `add_elapsed('SchoolHoliday', 'After')`:\n",
        "This will apply to each row with School Holiday:\n",
        "* A applied to every row of the dataframe in order of store and date\n",
        "* Will add to the dataframe the days since seeing a School Holiday\n",
        "* If we sort in the other direction, this will count the days until another holiday."
      ]
    },
    {
      "metadata": {
        "id": "bLIgGln8Jk47",
        "colab_type": "code",
        "colab": {}
      },
      "cell_type": "code",
      "source": [
        "fld = 'SchoolHoliday'\n",
        "df = df.sort_values(['Store', 'Date'])\n",
        "get_elapsed(fld, 'After')\n",
        "df = df.sort_values(['Store', 'Date'], ascending=[True, False])\n",
        "get_elapsed(fld, 'Before')"
      ],
      "execution_count": 0,
      "outputs": []
    },
    {
      "metadata": {
        "id": "a1PmFtL1Jk4_",
        "colab_type": "text"
      },
      "cell_type": "markdown",
      "source": [
        "We'll do this for two more fields."
      ]
    },
    {
      "metadata": {
        "id": "e8Att65HJk4_",
        "colab_type": "code",
        "colab": {}
      },
      "cell_type": "code",
      "source": [
        "fld = 'StateHoliday'\n",
        "df = df.sort_values(['Store', 'Date'])\n",
        "get_elapsed(fld, 'After')\n",
        "df = df.sort_values(['Store', 'Date'], ascending=[True, False])\n",
        "get_elapsed(fld, 'Before')"
      ],
      "execution_count": 0,
      "outputs": []
    },
    {
      "metadata": {
        "id": "Hd1qzAPJJk5B",
        "colab_type": "code",
        "colab": {}
      },
      "cell_type": "code",
      "source": [
        "fld = 'Promo'\n",
        "df = df.sort_values(['Store', 'Date'])\n",
        "get_elapsed(fld, 'After')\n",
        "df = df.sort_values(['Store', 'Date'], ascending=[True, False])\n",
        "get_elapsed(fld, 'Before')"
      ],
      "execution_count": 0,
      "outputs": []
    },
    {
      "metadata": {
        "id": "ilJ5uFouJk5D",
        "colab_type": "text"
      },
      "cell_type": "markdown",
      "source": [
        "We're going to set the active index to Date."
      ]
    },
    {
      "metadata": {
        "id": "9O2XqePIJk5F",
        "colab_type": "code",
        "colab": {}
      },
      "cell_type": "code",
      "source": [
        "df = df.set_index(\"Date\")"
      ],
      "execution_count": 0,
      "outputs": []
    },
    {
      "metadata": {
        "id": "gSxlzS-zJk5I",
        "colab_type": "text"
      },
      "cell_type": "markdown",
      "source": [
        "Then set null values from elapsed field calculations to 0."
      ]
    },
    {
      "metadata": {
        "id": "SbbM_eJLJk5J",
        "colab_type": "code",
        "colab": {}
      },
      "cell_type": "code",
      "source": [
        "columns = ['SchoolHoliday', 'StateHoliday', 'Promo']"
      ],
      "execution_count": 0,
      "outputs": []
    },
    {
      "metadata": {
        "id": "-ss8mCWlJk5N",
        "colab_type": "code",
        "colab": {}
      },
      "cell_type": "code",
      "source": [
        "for o in ['Before', 'After']:\n",
        "    for p in columns:\n",
        "        a = o+p\n",
        "        df[a] = df[a].fillna(0).astype(int)"
      ],
      "execution_count": 0,
      "outputs": []
    },
    {
      "metadata": {
        "id": "HP6Dnk4nJk5P",
        "colab_type": "text"
      },
      "cell_type": "markdown",
      "source": [
        "Next we'll demonstrate window functions in pandas to calculate rolling quantities.\n",
        "\n",
        "Here we're sorting by date (`sort_index()`) and counting the number of events of interest (`sum()`) defined in `columns` in the following week (`rolling()`), grouped by Store (`groupby()`). We do the same in the opposite direction."
      ]
    },
    {
      "metadata": {
        "id": "_S6c72vTJk5R",
        "colab_type": "code",
        "colab": {}
      },
      "cell_type": "code",
      "source": [
        "bwd = df[['Store']+columns].sort_index().groupby(\"Store\").rolling(7, min_periods=1).sum()"
      ],
      "execution_count": 0,
      "outputs": []
    },
    {
      "metadata": {
        "id": "Wl2lWQgMJk5T",
        "colab_type": "code",
        "colab": {}
      },
      "cell_type": "code",
      "source": [
        "fwd = df[['Store']+columns].sort_index(ascending=False\n",
        "                                      ).groupby(\"Store\").rolling(7, min_periods=1).sum()"
      ],
      "execution_count": 0,
      "outputs": []
    },
    {
      "metadata": {
        "id": "yx6563qnJk5V",
        "colab_type": "text"
      },
      "cell_type": "markdown",
      "source": [
        "Next we want to drop the Store indices grouped together in the window function.\n",
        "\n",
        "Often in pandas, there is an option to do this in place. This is time and memory efficient when working with large datasets."
      ]
    },
    {
      "metadata": {
        "id": "peDur0c2Jk5W",
        "colab_type": "code",
        "colab": {}
      },
      "cell_type": "code",
      "source": [
        "bwd.drop('Store',1,inplace=True)\n",
        "bwd.reset_index(inplace=True)"
      ],
      "execution_count": 0,
      "outputs": []
    },
    {
      "metadata": {
        "id": "GdI7ysaMJk5Y",
        "colab_type": "code",
        "colab": {}
      },
      "cell_type": "code",
      "source": [
        "fwd.drop('Store',1,inplace=True)\n",
        "fwd.reset_index(inplace=True)"
      ],
      "execution_count": 0,
      "outputs": []
    },
    {
      "metadata": {
        "id": "5sTaUZOLJk5b",
        "colab_type": "code",
        "colab": {}
      },
      "cell_type": "code",
      "source": [
        "df.reset_index(inplace=True)"
      ],
      "execution_count": 0,
      "outputs": []
    },
    {
      "metadata": {
        "id": "pHsEtRlOJk5d",
        "colab_type": "text"
      },
      "cell_type": "markdown",
      "source": [
        "Now we'll merge these values onto the df."
      ]
    },
    {
      "metadata": {
        "id": "ItFsbLd5Jk5d",
        "colab_type": "code",
        "colab": {}
      },
      "cell_type": "code",
      "source": [
        "df = df.merge(bwd, 'left', ['Date', 'Store'], suffixes=['', '_bw'])\n",
        "df = df.merge(fwd, 'left', ['Date', 'Store'], suffixes=['', '_fw'])"
      ],
      "execution_count": 0,
      "outputs": []
    },
    {
      "metadata": {
        "id": "fHrIXurqJk5g",
        "colab_type": "code",
        "colab": {}
      },
      "cell_type": "code",
      "source": [
        "df.drop(columns,1,inplace=True)"
      ],
      "execution_count": 0,
      "outputs": []
    },
    {
      "metadata": {
        "id": "0E90-LC9Jk5i",
        "colab_type": "code",
        "outputId": "88b35f6c-dbaf-4fe4-9722-80fbed43850f",
        "colab": {}
      },
      "cell_type": "code",
      "source": [
        "df.head()"
      ],
      "execution_count": 0,
      "outputs": [
        {
          "output_type": "execute_result",
          "data": {
            "text/html": [
              "<div>\n",
              "<style scoped>\n",
              "    .dataframe tbody tr th:only-of-type {\n",
              "        vertical-align: middle;\n",
              "    }\n",
              "\n",
              "    .dataframe tbody tr th {\n",
              "        vertical-align: top;\n",
              "    }\n",
              "\n",
              "    .dataframe thead th {\n",
              "        text-align: right;\n",
              "    }\n",
              "</style>\n",
              "<table border=\"1\" class=\"dataframe\">\n",
              "  <thead>\n",
              "    <tr style=\"text-align: right;\">\n",
              "      <th></th>\n",
              "      <th>Date</th>\n",
              "      <th>Store</th>\n",
              "      <th>AfterSchoolHoliday</th>\n",
              "      <th>BeforeSchoolHoliday</th>\n",
              "      <th>AfterStateHoliday</th>\n",
              "      <th>BeforeStateHoliday</th>\n",
              "      <th>AfterPromo</th>\n",
              "      <th>BeforePromo</th>\n",
              "      <th>SchoolHoliday_bw</th>\n",
              "      <th>StateHoliday_bw</th>\n",
              "      <th>Promo_bw</th>\n",
              "      <th>SchoolHoliday_fw</th>\n",
              "      <th>StateHoliday_fw</th>\n",
              "      <th>Promo_fw</th>\n",
              "    </tr>\n",
              "  </thead>\n",
              "  <tbody>\n",
              "    <tr>\n",
              "      <th>0</th>\n",
              "      <td>2015-09-17</td>\n",
              "      <td>1</td>\n",
              "      <td>13</td>\n",
              "      <td>-9223372036854775808</td>\n",
              "      <td>-9223372036854775808</td>\n",
              "      <td>-9223372036854775808</td>\n",
              "      <td>0</td>\n",
              "      <td>0</td>\n",
              "      <td>0.0</td>\n",
              "      <td>0.0</td>\n",
              "      <td>4.0</td>\n",
              "      <td>0.0</td>\n",
              "      <td>0.0</td>\n",
              "      <td>1.0</td>\n",
              "    </tr>\n",
              "    <tr>\n",
              "      <th>1</th>\n",
              "      <td>2015-09-16</td>\n",
              "      <td>1</td>\n",
              "      <td>12</td>\n",
              "      <td>-9223372036854775808</td>\n",
              "      <td>-9223372036854775808</td>\n",
              "      <td>-9223372036854775808</td>\n",
              "      <td>0</td>\n",
              "      <td>0</td>\n",
              "      <td>0.0</td>\n",
              "      <td>0.0</td>\n",
              "      <td>3.0</td>\n",
              "      <td>0.0</td>\n",
              "      <td>0.0</td>\n",
              "      <td>2.0</td>\n",
              "    </tr>\n",
              "    <tr>\n",
              "      <th>2</th>\n",
              "      <td>2015-09-15</td>\n",
              "      <td>1</td>\n",
              "      <td>11</td>\n",
              "      <td>-9223372036854775808</td>\n",
              "      <td>-9223372036854775808</td>\n",
              "      <td>-9223372036854775808</td>\n",
              "      <td>0</td>\n",
              "      <td>0</td>\n",
              "      <td>0.0</td>\n",
              "      <td>0.0</td>\n",
              "      <td>2.0</td>\n",
              "      <td>0.0</td>\n",
              "      <td>0.0</td>\n",
              "      <td>3.0</td>\n",
              "    </tr>\n",
              "    <tr>\n",
              "      <th>3</th>\n",
              "      <td>2015-09-14</td>\n",
              "      <td>1</td>\n",
              "      <td>10</td>\n",
              "      <td>-9223372036854775808</td>\n",
              "      <td>-9223372036854775808</td>\n",
              "      <td>-9223372036854775808</td>\n",
              "      <td>0</td>\n",
              "      <td>0</td>\n",
              "      <td>0.0</td>\n",
              "      <td>0.0</td>\n",
              "      <td>1.0</td>\n",
              "      <td>0.0</td>\n",
              "      <td>0.0</td>\n",
              "      <td>4.0</td>\n",
              "    </tr>\n",
              "    <tr>\n",
              "      <th>4</th>\n",
              "      <td>2015-09-13</td>\n",
              "      <td>1</td>\n",
              "      <td>9</td>\n",
              "      <td>-9223372036854775808</td>\n",
              "      <td>-9223372036854775808</td>\n",
              "      <td>-9223372036854775808</td>\n",
              "      <td>9</td>\n",
              "      <td>-1</td>\n",
              "      <td>0.0</td>\n",
              "      <td>0.0</td>\n",
              "      <td>0.0</td>\n",
              "      <td>0.0</td>\n",
              "      <td>0.0</td>\n",
              "      <td>4.0</td>\n",
              "    </tr>\n",
              "  </tbody>\n",
              "</table>\n",
              "</div>"
            ],
            "text/plain": [
              "        Date  Store  AfterSchoolHoliday  BeforeSchoolHoliday  \\\n",
              "0 2015-09-17      1                  13 -9223372036854775808   \n",
              "1 2015-09-16      1                  12 -9223372036854775808   \n",
              "2 2015-09-15      1                  11 -9223372036854775808   \n",
              "3 2015-09-14      1                  10 -9223372036854775808   \n",
              "4 2015-09-13      1                   9 -9223372036854775808   \n",
              "\n",
              "     AfterStateHoliday   BeforeStateHoliday  AfterPromo  BeforePromo  \\\n",
              "0 -9223372036854775808 -9223372036854775808           0            0   \n",
              "1 -9223372036854775808 -9223372036854775808           0            0   \n",
              "2 -9223372036854775808 -9223372036854775808           0            0   \n",
              "3 -9223372036854775808 -9223372036854775808           0            0   \n",
              "4 -9223372036854775808 -9223372036854775808           9           -1   \n",
              "\n",
              "   SchoolHoliday_bw  StateHoliday_bw  Promo_bw  SchoolHoliday_fw  \\\n",
              "0               0.0              0.0       4.0               0.0   \n",
              "1               0.0              0.0       3.0               0.0   \n",
              "2               0.0              0.0       2.0               0.0   \n",
              "3               0.0              0.0       1.0               0.0   \n",
              "4               0.0              0.0       0.0               0.0   \n",
              "\n",
              "   StateHoliday_fw  Promo_fw  \n",
              "0              0.0       1.0  \n",
              "1              0.0       2.0  \n",
              "2              0.0       3.0  \n",
              "3              0.0       4.0  \n",
              "4              0.0       4.0  "
            ]
          },
          "metadata": {
            "tags": []
          },
          "execution_count": 0
        }
      ]
    },
    {
      "metadata": {
        "id": "2NFppr5wJk5k",
        "colab_type": "text"
      },
      "cell_type": "markdown",
      "source": [
        "It's usually a good idea to back up large tables of extracted / wrangled features before you join them onto another one, that way you can go back to it easily if you need to make changes to it."
      ]
    },
    {
      "metadata": {
        "id": "UPRUjs9VJk5l",
        "colab_type": "code",
        "colab": {}
      },
      "cell_type": "code",
      "source": [
        "df.to_feather(f'{PATH}df')"
      ],
      "execution_count": 0,
      "outputs": []
    },
    {
      "metadata": {
        "id": "BCgde7W5Jk5p",
        "colab_type": "code",
        "outputId": "8dfe1dbd-6e33-4649-a90d-184215715f24",
        "colab": {}
      },
      "cell_type": "code",
      "source": [
        "df = pd.read_feather(f'{PATH}df')"
      ],
      "execution_count": 0,
      "outputs": [
        {
          "output_type": "stream",
          "text": [
            "/home/jhoward/anaconda3/lib/python3.6/site-packages/numpy/lib/arraysetops.py:463: FutureWarning: elementwise comparison failed; returning scalar instead, but in the future will perform elementwise comparison\n",
            "  mask |= (ar1 == a)\n"
          ],
          "name": "stderr"
        }
      ]
    },
    {
      "metadata": {
        "id": "wEAKLPzwJk5s",
        "colab_type": "code",
        "colab": {}
      },
      "cell_type": "code",
      "source": [
        "df[\"Date\"] = pd.to_datetime(df.Date)"
      ],
      "execution_count": 0,
      "outputs": []
    },
    {
      "metadata": {
        "id": "1Zz1rLqGJk5u",
        "colab_type": "code",
        "outputId": "f98953f8-1886-4806-cd94-581ca3b94ca8",
        "colab": {}
      },
      "cell_type": "code",
      "source": [
        "df.columns"
      ],
      "execution_count": 0,
      "outputs": [
        {
          "output_type": "execute_result",
          "data": {
            "text/plain": [
              "Index(['Date', 'Store', 'AfterSchoolHoliday', 'BeforeSchoolHoliday',\n",
              "       'AfterStateHoliday', 'BeforeStateHoliday', 'AfterPromo', 'BeforePromo',\n",
              "       'SchoolHoliday_bw', 'StateHoliday_bw', 'Promo_bw', 'SchoolHoliday_fw',\n",
              "       'StateHoliday_fw', 'Promo_fw'],\n",
              "      dtype='object')"
            ]
          },
          "metadata": {
            "tags": []
          },
          "execution_count": 0
        }
      ]
    },
    {
      "metadata": {
        "id": "cldBLD77Jk5w",
        "colab_type": "code",
        "colab": {}
      },
      "cell_type": "code",
      "source": [
        "joined = join_df(joined, df, ['Store', 'Date'])"
      ],
      "execution_count": 0,
      "outputs": []
    },
    {
      "metadata": {
        "id": "fdTzOgCeJk50",
        "colab_type": "code",
        "colab": {}
      },
      "cell_type": "code",
      "source": [
        "joined_test = join_df(joined_test, df, ['Store', 'Date'])"
      ],
      "execution_count": 0,
      "outputs": []
    },
    {
      "metadata": {
        "id": "-POt5UomJk53",
        "colab_type": "text"
      },
      "cell_type": "markdown",
      "source": [
        "The authors also removed all instances where the store had zero sale / was closed. We speculate that this may have cost them a higher standing in the competition. One reason this may be the case is that a little exploratory data analysis reveals that there are often periods where stores are closed, typically for refurbishment. Before and after these periods, there are naturally spikes in sales that one might expect. By ommitting this data from their training, the authors gave up the ability to leverage information about these periods to predict this otherwise volatile behavior."
      ]
    },
    {
      "metadata": {
        "id": "uoewNgZ8Jk54",
        "colab_type": "code",
        "colab": {}
      },
      "cell_type": "code",
      "source": [
        "joined = joined[joined.Sales!=0]"
      ],
      "execution_count": 0,
      "outputs": []
    },
    {
      "metadata": {
        "id": "YIMOPqjbJk56",
        "colab_type": "text"
      },
      "cell_type": "markdown",
      "source": [
        "We'll back this up as well."
      ]
    },
    {
      "metadata": {
        "id": "vgJR7phOJk56",
        "colab_type": "code",
        "colab": {}
      },
      "cell_type": "code",
      "source": [
        "joined.reset_index(inplace=True)\n",
        "joined_test.reset_index(inplace=True)"
      ],
      "execution_count": 0,
      "outputs": []
    },
    {
      "metadata": {
        "id": "AWprW5LGJk58",
        "colab_type": "code",
        "colab": {}
      },
      "cell_type": "code",
      "source": [
        "joined.to_feather(f'{PATH}joined')\n",
        "joined_test.to_feather(f'{PATH}joined_test')"
      ],
      "execution_count": 0,
      "outputs": []
    },
    {
      "metadata": {
        "id": "3PxJIy6AJk5-",
        "colab_type": "text"
      },
      "cell_type": "markdown",
      "source": [
        "We now have our final set of engineered features.\n",
        "\n",
        "While these steps were explicitly outlined in the paper, these are all fairly typical feature engineering steps for dealing with time series data and are practical in any similar setting."
      ]
    },
    {
      "metadata": {
        "id": "dM5kJmzNJk5_",
        "colab_type": "text"
      },
      "cell_type": "markdown",
      "source": [
        "## Create features"
      ]
    },
    {
      "metadata": {
        "id": "PunEckBtJk6A",
        "colab_type": "code",
        "colab": {}
      },
      "cell_type": "code",
      "source": [
        "joined = pd.read_feather(f'{PATH}joined')\n",
        "joined_test = pd.read_feather(f'{PATH}joined_test')"
      ],
      "execution_count": 0,
      "outputs": []
    },
    {
      "metadata": {
        "id": "tsgEok5zJk6C",
        "colab_type": "code",
        "outputId": "fb1d2bff-c4cd-4b87-ff08-b582748a0df6",
        "colab": {}
      },
      "cell_type": "code",
      "source": [
        "joined.head().T.head(40)"
      ],
      "execution_count": 0,
      "outputs": [
        {
          "output_type": "execute_result",
          "data": {
            "text/html": [
              "<div>\n",
              "<style scoped>\n",
              "    .dataframe tbody tr th:only-of-type {\n",
              "        vertical-align: middle;\n",
              "    }\n",
              "\n",
              "    .dataframe tbody tr th {\n",
              "        vertical-align: top;\n",
              "    }\n",
              "\n",
              "    .dataframe thead th {\n",
              "        text-align: right;\n",
              "    }\n",
              "</style>\n",
              "<table border=\"1\" class=\"dataframe\">\n",
              "  <thead>\n",
              "    <tr style=\"text-align: right;\">\n",
              "      <th></th>\n",
              "      <th>0</th>\n",
              "      <th>1</th>\n",
              "      <th>2</th>\n",
              "      <th>3</th>\n",
              "      <th>4</th>\n",
              "    </tr>\n",
              "  </thead>\n",
              "  <tbody>\n",
              "    <tr>\n",
              "      <th>index</th>\n",
              "      <td>0</td>\n",
              "      <td>1</td>\n",
              "      <td>2</td>\n",
              "      <td>3</td>\n",
              "      <td>4</td>\n",
              "    </tr>\n",
              "    <tr>\n",
              "      <th>Store</th>\n",
              "      <td>1</td>\n",
              "      <td>2</td>\n",
              "      <td>3</td>\n",
              "      <td>4</td>\n",
              "      <td>5</td>\n",
              "    </tr>\n",
              "    <tr>\n",
              "      <th>DayOfWeek</th>\n",
              "      <td>5</td>\n",
              "      <td>5</td>\n",
              "      <td>5</td>\n",
              "      <td>5</td>\n",
              "      <td>5</td>\n",
              "    </tr>\n",
              "    <tr>\n",
              "      <th>Date</th>\n",
              "      <td>2015-07-31 00:00:00</td>\n",
              "      <td>2015-07-31 00:00:00</td>\n",
              "      <td>2015-07-31 00:00:00</td>\n",
              "      <td>2015-07-31 00:00:00</td>\n",
              "      <td>2015-07-31 00:00:00</td>\n",
              "    </tr>\n",
              "    <tr>\n",
              "      <th>Sales</th>\n",
              "      <td>5263</td>\n",
              "      <td>6064</td>\n",
              "      <td>8314</td>\n",
              "      <td>13995</td>\n",
              "      <td>4822</td>\n",
              "    </tr>\n",
              "    <tr>\n",
              "      <th>Customers</th>\n",
              "      <td>555</td>\n",
              "      <td>625</td>\n",
              "      <td>821</td>\n",
              "      <td>1498</td>\n",
              "      <td>559</td>\n",
              "    </tr>\n",
              "    <tr>\n",
              "      <th>Open</th>\n",
              "      <td>1</td>\n",
              "      <td>1</td>\n",
              "      <td>1</td>\n",
              "      <td>1</td>\n",
              "      <td>1</td>\n",
              "    </tr>\n",
              "    <tr>\n",
              "      <th>Promo</th>\n",
              "      <td>1</td>\n",
              "      <td>1</td>\n",
              "      <td>1</td>\n",
              "      <td>1</td>\n",
              "      <td>1</td>\n",
              "    </tr>\n",
              "    <tr>\n",
              "      <th>StateHoliday</th>\n",
              "      <td>False</td>\n",
              "      <td>False</td>\n",
              "      <td>False</td>\n",
              "      <td>False</td>\n",
              "      <td>False</td>\n",
              "    </tr>\n",
              "    <tr>\n",
              "      <th>SchoolHoliday</th>\n",
              "      <td>1</td>\n",
              "      <td>1</td>\n",
              "      <td>1</td>\n",
              "      <td>1</td>\n",
              "      <td>1</td>\n",
              "    </tr>\n",
              "    <tr>\n",
              "      <th>Year</th>\n",
              "      <td>2015</td>\n",
              "      <td>2015</td>\n",
              "      <td>2015</td>\n",
              "      <td>2015</td>\n",
              "      <td>2015</td>\n",
              "    </tr>\n",
              "    <tr>\n",
              "      <th>Month</th>\n",
              "      <td>7</td>\n",
              "      <td>7</td>\n",
              "      <td>7</td>\n",
              "      <td>7</td>\n",
              "      <td>7</td>\n",
              "    </tr>\n",
              "    <tr>\n",
              "      <th>Week</th>\n",
              "      <td>31</td>\n",
              "      <td>31</td>\n",
              "      <td>31</td>\n",
              "      <td>31</td>\n",
              "      <td>31</td>\n",
              "    </tr>\n",
              "    <tr>\n",
              "      <th>Day</th>\n",
              "      <td>31</td>\n",
              "      <td>31</td>\n",
              "      <td>31</td>\n",
              "      <td>31</td>\n",
              "      <td>31</td>\n",
              "    </tr>\n",
              "    <tr>\n",
              "      <th>Dayofweek</th>\n",
              "      <td>4</td>\n",
              "      <td>4</td>\n",
              "      <td>4</td>\n",
              "      <td>4</td>\n",
              "      <td>4</td>\n",
              "    </tr>\n",
              "    <tr>\n",
              "      <th>Dayofyear</th>\n",
              "      <td>212</td>\n",
              "      <td>212</td>\n",
              "      <td>212</td>\n",
              "      <td>212</td>\n",
              "      <td>212</td>\n",
              "    </tr>\n",
              "    <tr>\n",
              "      <th>Is_month_end</th>\n",
              "      <td>True</td>\n",
              "      <td>True</td>\n",
              "      <td>True</td>\n",
              "      <td>True</td>\n",
              "      <td>True</td>\n",
              "    </tr>\n",
              "    <tr>\n",
              "      <th>Is_month_start</th>\n",
              "      <td>False</td>\n",
              "      <td>False</td>\n",
              "      <td>False</td>\n",
              "      <td>False</td>\n",
              "      <td>False</td>\n",
              "    </tr>\n",
              "    <tr>\n",
              "      <th>Is_quarter_end</th>\n",
              "      <td>False</td>\n",
              "      <td>False</td>\n",
              "      <td>False</td>\n",
              "      <td>False</td>\n",
              "      <td>False</td>\n",
              "    </tr>\n",
              "    <tr>\n",
              "      <th>Is_quarter_start</th>\n",
              "      <td>False</td>\n",
              "      <td>False</td>\n",
              "      <td>False</td>\n",
              "      <td>False</td>\n",
              "      <td>False</td>\n",
              "    </tr>\n",
              "    <tr>\n",
              "      <th>Is_year_end</th>\n",
              "      <td>False</td>\n",
              "      <td>False</td>\n",
              "      <td>False</td>\n",
              "      <td>False</td>\n",
              "      <td>False</td>\n",
              "    </tr>\n",
              "    <tr>\n",
              "      <th>Is_year_start</th>\n",
              "      <td>False</td>\n",
              "      <td>False</td>\n",
              "      <td>False</td>\n",
              "      <td>False</td>\n",
              "      <td>False</td>\n",
              "    </tr>\n",
              "    <tr>\n",
              "      <th>Elapsed</th>\n",
              "      <td>1438300800</td>\n",
              "      <td>1438300800</td>\n",
              "      <td>1438300800</td>\n",
              "      <td>1438300800</td>\n",
              "      <td>1438300800</td>\n",
              "    </tr>\n",
              "    <tr>\n",
              "      <th>StoreType</th>\n",
              "      <td>c</td>\n",
              "      <td>a</td>\n",
              "      <td>a</td>\n",
              "      <td>c</td>\n",
              "      <td>a</td>\n",
              "    </tr>\n",
              "    <tr>\n",
              "      <th>Assortment</th>\n",
              "      <td>a</td>\n",
              "      <td>a</td>\n",
              "      <td>a</td>\n",
              "      <td>c</td>\n",
              "      <td>a</td>\n",
              "    </tr>\n",
              "    <tr>\n",
              "      <th>CompetitionDistance</th>\n",
              "      <td>1270</td>\n",
              "      <td>570</td>\n",
              "      <td>14130</td>\n",
              "      <td>620</td>\n",
              "      <td>29910</td>\n",
              "    </tr>\n",
              "    <tr>\n",
              "      <th>CompetitionOpenSinceMonth</th>\n",
              "      <td>9</td>\n",
              "      <td>11</td>\n",
              "      <td>12</td>\n",
              "      <td>9</td>\n",
              "      <td>4</td>\n",
              "    </tr>\n",
              "    <tr>\n",
              "      <th>CompetitionOpenSinceYear</th>\n",
              "      <td>2008</td>\n",
              "      <td>2007</td>\n",
              "      <td>2006</td>\n",
              "      <td>2009</td>\n",
              "      <td>2015</td>\n",
              "    </tr>\n",
              "    <tr>\n",
              "      <th>Promo2</th>\n",
              "      <td>0</td>\n",
              "      <td>1</td>\n",
              "      <td>1</td>\n",
              "      <td>0</td>\n",
              "      <td>0</td>\n",
              "    </tr>\n",
              "    <tr>\n",
              "      <th>Promo2SinceWeek</th>\n",
              "      <td>1</td>\n",
              "      <td>13</td>\n",
              "      <td>14</td>\n",
              "      <td>1</td>\n",
              "      <td>1</td>\n",
              "    </tr>\n",
              "    <tr>\n",
              "      <th>Promo2SinceYear</th>\n",
              "      <td>1900</td>\n",
              "      <td>2010</td>\n",
              "      <td>2011</td>\n",
              "      <td>1900</td>\n",
              "      <td>1900</td>\n",
              "    </tr>\n",
              "    <tr>\n",
              "      <th>PromoInterval</th>\n",
              "      <td>NaN</td>\n",
              "      <td>Jan,Apr,Jul,Oct</td>\n",
              "      <td>Jan,Apr,Jul,Oct</td>\n",
              "      <td>NaN</td>\n",
              "      <td>NaN</td>\n",
              "    </tr>\n",
              "    <tr>\n",
              "      <th>State</th>\n",
              "      <td>HE</td>\n",
              "      <td>TH</td>\n",
              "      <td>NW</td>\n",
              "      <td>BE</td>\n",
              "      <td>SN</td>\n",
              "    </tr>\n",
              "    <tr>\n",
              "      <th>file</th>\n",
              "      <td>Rossmann_DE_HE</td>\n",
              "      <td>Rossmann_DE_TH</td>\n",
              "      <td>Rossmann_DE_NW</td>\n",
              "      <td>Rossmann_DE_BE</td>\n",
              "      <td>Rossmann_DE_SN</td>\n",
              "    </tr>\n",
              "    <tr>\n",
              "      <th>week</th>\n",
              "      <td>2015-08-02 - 2015-08-08</td>\n",
              "      <td>2015-08-02 - 2015-08-08</td>\n",
              "      <td>2015-08-02 - 2015-08-08</td>\n",
              "      <td>2015-08-02 - 2015-08-08</td>\n",
              "      <td>2015-08-02 - 2015-08-08</td>\n",
              "    </tr>\n",
              "    <tr>\n",
              "      <th>trend</th>\n",
              "      <td>85</td>\n",
              "      <td>80</td>\n",
              "      <td>86</td>\n",
              "      <td>74</td>\n",
              "      <td>82</td>\n",
              "    </tr>\n",
              "    <tr>\n",
              "      <th>file_DE</th>\n",
              "      <td>Rossmann_DE</td>\n",
              "      <td>Rossmann_DE</td>\n",
              "      <td>Rossmann_DE</td>\n",
              "      <td>Rossmann_DE</td>\n",
              "      <td>Rossmann_DE</td>\n",
              "    </tr>\n",
              "    <tr>\n",
              "      <th>week_DE</th>\n",
              "      <td>2015-08-02 - 2015-08-08</td>\n",
              "      <td>2015-08-02 - 2015-08-08</td>\n",
              "      <td>2015-08-02 - 2015-08-08</td>\n",
              "      <td>2015-08-02 - 2015-08-08</td>\n",
              "      <td>2015-08-02 - 2015-08-08</td>\n",
              "    </tr>\n",
              "    <tr>\n",
              "      <th>trend_DE</th>\n",
              "      <td>83</td>\n",
              "      <td>83</td>\n",
              "      <td>83</td>\n",
              "      <td>83</td>\n",
              "      <td>83</td>\n",
              "    </tr>\n",
              "    <tr>\n",
              "      <th>Date_DE</th>\n",
              "      <td>2015-08-02 00:00:00</td>\n",
              "      <td>2015-08-02 00:00:00</td>\n",
              "      <td>2015-08-02 00:00:00</td>\n",
              "      <td>2015-08-02 00:00:00</td>\n",
              "      <td>2015-08-02 00:00:00</td>\n",
              "    </tr>\n",
              "  </tbody>\n",
              "</table>\n",
              "</div>"
            ],
            "text/plain": [
              "                                                 0                        1  \\\n",
              "index                                            0                        1   \n",
              "Store                                            1                        2   \n",
              "DayOfWeek                                        5                        5   \n",
              "Date                           2015-07-31 00:00:00      2015-07-31 00:00:00   \n",
              "Sales                                         5263                     6064   \n",
              "Customers                                      555                      625   \n",
              "Open                                             1                        1   \n",
              "Promo                                            1                        1   \n",
              "StateHoliday                                 False                    False   \n",
              "SchoolHoliday                                    1                        1   \n",
              "Year                                          2015                     2015   \n",
              "Month                                            7                        7   \n",
              "Week                                            31                       31   \n",
              "Day                                             31                       31   \n",
              "Dayofweek                                        4                        4   \n",
              "Dayofyear                                      212                      212   \n",
              "Is_month_end                                  True                     True   \n",
              "Is_month_start                               False                    False   \n",
              "Is_quarter_end                               False                    False   \n",
              "Is_quarter_start                             False                    False   \n",
              "Is_year_end                                  False                    False   \n",
              "Is_year_start                                False                    False   \n",
              "Elapsed                                 1438300800               1438300800   \n",
              "StoreType                                        c                        a   \n",
              "Assortment                                       a                        a   \n",
              "CompetitionDistance                           1270                      570   \n",
              "CompetitionOpenSinceMonth                        9                       11   \n",
              "CompetitionOpenSinceYear                      2008                     2007   \n",
              "Promo2                                           0                        1   \n",
              "Promo2SinceWeek                                  1                       13   \n",
              "Promo2SinceYear                               1900                     2010   \n",
              "PromoInterval                                  NaN          Jan,Apr,Jul,Oct   \n",
              "State                                           HE                       TH   \n",
              "file                                Rossmann_DE_HE           Rossmann_DE_TH   \n",
              "week                       2015-08-02 - 2015-08-08  2015-08-02 - 2015-08-08   \n",
              "trend                                           85                       80   \n",
              "file_DE                                Rossmann_DE              Rossmann_DE   \n",
              "week_DE                    2015-08-02 - 2015-08-08  2015-08-02 - 2015-08-08   \n",
              "trend_DE                                        83                       83   \n",
              "Date_DE                        2015-08-02 00:00:00      2015-08-02 00:00:00   \n",
              "\n",
              "                                                 2                        3  \\\n",
              "index                                            2                        3   \n",
              "Store                                            3                        4   \n",
              "DayOfWeek                                        5                        5   \n",
              "Date                           2015-07-31 00:00:00      2015-07-31 00:00:00   \n",
              "Sales                                         8314                    13995   \n",
              "Customers                                      821                     1498   \n",
              "Open                                             1                        1   \n",
              "Promo                                            1                        1   \n",
              "StateHoliday                                 False                    False   \n",
              "SchoolHoliday                                    1                        1   \n",
              "Year                                          2015                     2015   \n",
              "Month                                            7                        7   \n",
              "Week                                            31                       31   \n",
              "Day                                             31                       31   \n",
              "Dayofweek                                        4                        4   \n",
              "Dayofyear                                      212                      212   \n",
              "Is_month_end                                  True                     True   \n",
              "Is_month_start                               False                    False   \n",
              "Is_quarter_end                               False                    False   \n",
              "Is_quarter_start                             False                    False   \n",
              "Is_year_end                                  False                    False   \n",
              "Is_year_start                                False                    False   \n",
              "Elapsed                                 1438300800               1438300800   \n",
              "StoreType                                        a                        c   \n",
              "Assortment                                       a                        c   \n",
              "CompetitionDistance                          14130                      620   \n",
              "CompetitionOpenSinceMonth                       12                        9   \n",
              "CompetitionOpenSinceYear                      2006                     2009   \n",
              "Promo2                                           1                        0   \n",
              "Promo2SinceWeek                                 14                        1   \n",
              "Promo2SinceYear                               2011                     1900   \n",
              "PromoInterval                      Jan,Apr,Jul,Oct                      NaN   \n",
              "State                                           NW                       BE   \n",
              "file                                Rossmann_DE_NW           Rossmann_DE_BE   \n",
              "week                       2015-08-02 - 2015-08-08  2015-08-02 - 2015-08-08   \n",
              "trend                                           86                       74   \n",
              "file_DE                                Rossmann_DE              Rossmann_DE   \n",
              "week_DE                    2015-08-02 - 2015-08-08  2015-08-02 - 2015-08-08   \n",
              "trend_DE                                        83                       83   \n",
              "Date_DE                        2015-08-02 00:00:00      2015-08-02 00:00:00   \n",
              "\n",
              "                                                 4  \n",
              "index                                            4  \n",
              "Store                                            5  \n",
              "DayOfWeek                                        5  \n",
              "Date                           2015-07-31 00:00:00  \n",
              "Sales                                         4822  \n",
              "Customers                                      559  \n",
              "Open                                             1  \n",
              "Promo                                            1  \n",
              "StateHoliday                                 False  \n",
              "SchoolHoliday                                    1  \n",
              "Year                                          2015  \n",
              "Month                                            7  \n",
              "Week                                            31  \n",
              "Day                                             31  \n",
              "Dayofweek                                        4  \n",
              "Dayofyear                                      212  \n",
              "Is_month_end                                  True  \n",
              "Is_month_start                               False  \n",
              "Is_quarter_end                               False  \n",
              "Is_quarter_start                             False  \n",
              "Is_year_end                                  False  \n",
              "Is_year_start                                False  \n",
              "Elapsed                                 1438300800  \n",
              "StoreType                                        a  \n",
              "Assortment                                       a  \n",
              "CompetitionDistance                          29910  \n",
              "CompetitionOpenSinceMonth                        4  \n",
              "CompetitionOpenSinceYear                      2015  \n",
              "Promo2                                           0  \n",
              "Promo2SinceWeek                                  1  \n",
              "Promo2SinceYear                               1900  \n",
              "PromoInterval                                  NaN  \n",
              "State                                           SN  \n",
              "file                                Rossmann_DE_SN  \n",
              "week                       2015-08-02 - 2015-08-08  \n",
              "trend                                           82  \n",
              "file_DE                                Rossmann_DE  \n",
              "week_DE                    2015-08-02 - 2015-08-08  \n",
              "trend_DE                                        83  \n",
              "Date_DE                        2015-08-02 00:00:00  "
            ]
          },
          "metadata": {
            "tags": []
          },
          "execution_count": 0
        }
      ]
    },
    {
      "metadata": {
        "id": "46OOIcUZJk6G",
        "colab_type": "text"
      },
      "cell_type": "markdown",
      "source": [
        "Now that we've engineered all our features, we need to convert to input compatible with a neural network.\n",
        "\n",
        "This includes converting categorical variables into contiguous integers or one-hot encodings, normalizing continuous features to standard normal, etc..."
      ]
    },
    {
      "metadata": {
        "id": "8PtOf19OJk6H",
        "colab_type": "code",
        "outputId": "1ec0e807-6bce-41cb-d79e-ad569407575d",
        "colab": {}
      },
      "cell_type": "code",
      "source": [
        "cat_vars = ['Store', 'DayOfWeek', 'Year', 'Month', 'Day', 'StateHoliday', 'CompetitionMonthsOpen',\n",
        "    'Promo2Weeks', 'StoreType', 'Assortment', 'PromoInterval', 'CompetitionOpenSinceYear', 'Promo2SinceYear',\n",
        "    'State', 'Week', 'Events', 'Promo_fw', 'Promo_bw', 'StateHoliday_fw', 'StateHoliday_bw',\n",
        "    'SchoolHoliday_fw', 'SchoolHoliday_bw']\n",
        "\n",
        "contin_vars = ['CompetitionDistance', 'Max_TemperatureC', 'Mean_TemperatureC', 'Min_TemperatureC',\n",
        "   'Max_Humidity', 'Mean_Humidity', 'Min_Humidity', 'Max_Wind_SpeedKm_h', \n",
        "   'Mean_Wind_SpeedKm_h', 'CloudCover', 'trend', 'trend_DE',\n",
        "   'AfterStateHoliday', 'BeforeStateHoliday', 'Promo', 'SchoolHoliday']\n",
        "\n",
        "n = len(joined); n"
      ],
      "execution_count": 0,
      "outputs": [
        {
          "output_type": "execute_result",
          "data": {
            "text/plain": [
              "844338"
            ]
          },
          "metadata": {
            "tags": []
          },
          "execution_count": 0
        }
      ]
    },
    {
      "metadata": {
        "id": "yY3-OjbgJk6J",
        "colab_type": "code",
        "colab": {}
      },
      "cell_type": "code",
      "source": [
        "dep = 'Sales'\n",
        "joined = joined[cat_vars+contin_vars+[dep, 'Date']].copy()"
      ],
      "execution_count": 0,
      "outputs": []
    },
    {
      "metadata": {
        "id": "gZzT9KBkJk6K",
        "colab_type": "code",
        "colab": {}
      },
      "cell_type": "code",
      "source": [
        "joined_test[dep] = 0\n",
        "joined_test = joined_test[cat_vars+contin_vars+[dep, 'Date', 'Id']].copy()"
      ],
      "execution_count": 0,
      "outputs": []
    },
    {
      "metadata": {
        "id": "2UQzrunnJk6L",
        "colab_type": "code",
        "colab": {}
      },
      "cell_type": "code",
      "source": [
        "for v in cat_vars: joined[v] = joined[v].astype('category').cat.as_ordered()"
      ],
      "execution_count": 0,
      "outputs": []
    },
    {
      "metadata": {
        "id": "wkDrjN3OJk6M",
        "colab_type": "code",
        "colab": {}
      },
      "cell_type": "code",
      "source": [
        "apply_cats(joined_test, joined)"
      ],
      "execution_count": 0,
      "outputs": []
    },
    {
      "metadata": {
        "id": "jnbTS_hjJk6O",
        "colab_type": "code",
        "colab": {}
      },
      "cell_type": "code",
      "source": [
        "for v in contin_vars:\n",
        "    joined[v] = joined[v].fillna(0).astype('float32')\n",
        "    joined_test[v] = joined_test[v].fillna(0).astype('float32')"
      ],
      "execution_count": 0,
      "outputs": []
    },
    {
      "metadata": {
        "id": "lKwqv7KtJk6Q",
        "colab_type": "text"
      },
      "cell_type": "markdown",
      "source": [
        "We're going to run on a sample."
      ]
    },
    {
      "metadata": {
        "id": "3HGu_-v_Jk6R",
        "colab_type": "code",
        "outputId": "99136b07-a861-4bf2-b32f-80222e227ad3",
        "colab": {}
      },
      "cell_type": "code",
      "source": [
        "idxs = get_cv_idxs(n, val_pct=150000/n)\n",
        "joined_samp = joined.iloc[idxs].set_index(\"Date\")\n",
        "samp_size = len(joined_samp); samp_size"
      ],
      "execution_count": 0,
      "outputs": [
        {
          "output_type": "execute_result",
          "data": {
            "text/plain": [
              "150000"
            ]
          },
          "metadata": {
            "tags": []
          },
          "execution_count": 0
        }
      ]
    },
    {
      "metadata": {
        "id": "cvsArt0HJk6U",
        "colab_type": "text"
      },
      "cell_type": "markdown",
      "source": [
        "To run on the full dataset, use this instead:"
      ]
    },
    {
      "metadata": {
        "id": "MFKhqdxuJk6V",
        "colab_type": "code",
        "colab": {}
      },
      "cell_type": "code",
      "source": [
        "samp_size = n\n",
        "joined_samp = joined.set_index(\"Date\")"
      ],
      "execution_count": 0,
      "outputs": []
    },
    {
      "metadata": {
        "id": "CFk5XRtRJk6W",
        "colab_type": "text"
      },
      "cell_type": "markdown",
      "source": [
        "We can now process our data..."
      ]
    },
    {
      "metadata": {
        "id": "6Rg0zVoqJk6W",
        "colab_type": "code",
        "outputId": "95a3e43d-85c3-4741-b5df-5ad64163c998",
        "colab": {}
      },
      "cell_type": "code",
      "source": [
        "joined_samp.head(2)"
      ],
      "execution_count": 0,
      "outputs": [
        {
          "output_type": "execute_result",
          "data": {
            "text/html": [
              "<div>\n",
              "<style scoped>\n",
              "    .dataframe tbody tr th:only-of-type {\n",
              "        vertical-align: middle;\n",
              "    }\n",
              "\n",
              "    .dataframe tbody tr th {\n",
              "        vertical-align: top;\n",
              "    }\n",
              "\n",
              "    .dataframe thead th {\n",
              "        text-align: right;\n",
              "    }\n",
              "</style>\n",
              "<table border=\"1\" class=\"dataframe\">\n",
              "  <thead>\n",
              "    <tr style=\"text-align: right;\">\n",
              "      <th></th>\n",
              "      <th>Store</th>\n",
              "      <th>DayOfWeek</th>\n",
              "      <th>Year</th>\n",
              "      <th>Month</th>\n",
              "      <th>Day</th>\n",
              "      <th>StateHoliday</th>\n",
              "      <th>CompetitionMonthsOpen</th>\n",
              "      <th>Promo2Weeks</th>\n",
              "      <th>StoreType</th>\n",
              "      <th>Assortment</th>\n",
              "      <th>...</th>\n",
              "      <th>Max_Wind_SpeedKm_h</th>\n",
              "      <th>Mean_Wind_SpeedKm_h</th>\n",
              "      <th>CloudCover</th>\n",
              "      <th>trend</th>\n",
              "      <th>trend_DE</th>\n",
              "      <th>AfterStateHoliday</th>\n",
              "      <th>BeforeStateHoliday</th>\n",
              "      <th>Promo</th>\n",
              "      <th>SchoolHoliday</th>\n",
              "      <th>Sales</th>\n",
              "    </tr>\n",
              "    <tr>\n",
              "      <th>Date</th>\n",
              "      <th></th>\n",
              "      <th></th>\n",
              "      <th></th>\n",
              "      <th></th>\n",
              "      <th></th>\n",
              "      <th></th>\n",
              "      <th></th>\n",
              "      <th></th>\n",
              "      <th></th>\n",
              "      <th></th>\n",
              "      <th></th>\n",
              "      <th></th>\n",
              "      <th></th>\n",
              "      <th></th>\n",
              "      <th></th>\n",
              "      <th></th>\n",
              "      <th></th>\n",
              "      <th></th>\n",
              "      <th></th>\n",
              "      <th></th>\n",
              "      <th></th>\n",
              "    </tr>\n",
              "  </thead>\n",
              "  <tbody>\n",
              "    <tr>\n",
              "      <th>2014-01-08</th>\n",
              "      <td>781</td>\n",
              "      <td>3</td>\n",
              "      <td>2014</td>\n",
              "      <td>1</td>\n",
              "      <td>8</td>\n",
              "      <td>False</td>\n",
              "      <td>24</td>\n",
              "      <td>0</td>\n",
              "      <td>a</td>\n",
              "      <td>a</td>\n",
              "      <td>...</td>\n",
              "      <td>29.0</td>\n",
              "      <td>14.0</td>\n",
              "      <td>8.0</td>\n",
              "      <td>45.0</td>\n",
              "      <td>55.0</td>\n",
              "      <td>2.0</td>\n",
              "      <td>-100.0</td>\n",
              "      <td>1.0</td>\n",
              "      <td>0.0</td>\n",
              "      <td>7395</td>\n",
              "    </tr>\n",
              "    <tr>\n",
              "      <th>2014-11-22</th>\n",
              "      <td>626</td>\n",
              "      <td>6</td>\n",
              "      <td>2014</td>\n",
              "      <td>11</td>\n",
              "      <td>22</td>\n",
              "      <td>False</td>\n",
              "      <td>12</td>\n",
              "      <td>0</td>\n",
              "      <td>c</td>\n",
              "      <td>c</td>\n",
              "      <td>...</td>\n",
              "      <td>23.0</td>\n",
              "      <td>14.0</td>\n",
              "      <td>5.0</td>\n",
              "      <td>85.0</td>\n",
              "      <td>84.0</td>\n",
              "      <td>3.0</td>\n",
              "      <td>-33.0</td>\n",
              "      <td>0.0</td>\n",
              "      <td>0.0</td>\n",
              "      <td>7884</td>\n",
              "    </tr>\n",
              "  </tbody>\n",
              "</table>\n",
              "<p>2 rows × 39 columns</p>\n",
              "</div>"
            ],
            "text/plain": [
              "           Store DayOfWeek  Year Month Day StateHoliday CompetitionMonthsOpen  \\\n",
              "Date                                                                            \n",
              "2014-01-08   781         3  2014     1   8        False                    24   \n",
              "2014-11-22   626         6  2014    11  22        False                    12   \n",
              "\n",
              "           Promo2Weeks StoreType Assortment  ...  Max_Wind_SpeedKm_h  \\\n",
              "Date                                         ...                       \n",
              "2014-01-08           0         a          a  ...                29.0   \n",
              "2014-11-22           0         c          c  ...                23.0   \n",
              "\n",
              "           Mean_Wind_SpeedKm_h CloudCover trend trend_DE AfterStateHoliday  \\\n",
              "Date                                                                         \n",
              "2014-01-08                14.0        8.0  45.0     55.0               2.0   \n",
              "2014-11-22                14.0        5.0  85.0     84.0               3.0   \n",
              "\n",
              "           BeforeStateHoliday Promo SchoolHoliday Sales  \n",
              "Date                                                     \n",
              "2014-01-08             -100.0   1.0           0.0  7395  \n",
              "2014-11-22              -33.0   0.0           0.0  7884  \n",
              "\n",
              "[2 rows x 39 columns]"
            ]
          },
          "metadata": {
            "tags": []
          },
          "execution_count": 0
        }
      ]
    },
    {
      "metadata": {
        "id": "Ow7wVxhXJk6Z",
        "colab_type": "code",
        "colab": {}
      },
      "cell_type": "code",
      "source": [
        "df, y, nas, mapper = proc_df(joined_samp, 'Sales', do_scale=True)\n",
        "yl = np.log(y)"
      ],
      "execution_count": 0,
      "outputs": []
    },
    {
      "metadata": {
        "id": "wFORJiVcJk6d",
        "colab_type": "code",
        "colab": {}
      },
      "cell_type": "code",
      "source": [
        "joined_test = joined_test.set_index(\"Date\")"
      ],
      "execution_count": 0,
      "outputs": []
    },
    {
      "metadata": {
        "id": "KFCkyxlOJk6f",
        "colab_type": "code",
        "colab": {}
      },
      "cell_type": "code",
      "source": [
        "df_test, _, nas, mapper = proc_df(joined_test, 'Sales', do_scale=True, skip_flds=['Id'],\n",
        "                                  mapper=mapper, na_dict=nas)"
      ],
      "execution_count": 0,
      "outputs": []
    },
    {
      "metadata": {
        "id": "5_mmhiVxJk6h",
        "colab_type": "code",
        "outputId": "576c87fc-2aff-43b4-82be-529a6f6eadbc",
        "colab": {}
      },
      "cell_type": "code",
      "source": [
        "df.head(2)"
      ],
      "execution_count": 0,
      "outputs": [
        {
          "output_type": "execute_result",
          "data": {
            "text/html": [
              "<div>\n",
              "<style scoped>\n",
              "    .dataframe tbody tr th:only-of-type {\n",
              "        vertical-align: middle;\n",
              "    }\n",
              "\n",
              "    .dataframe tbody tr th {\n",
              "        vertical-align: top;\n",
              "    }\n",
              "\n",
              "    .dataframe thead th {\n",
              "        text-align: right;\n",
              "    }\n",
              "</style>\n",
              "<table border=\"1\" class=\"dataframe\">\n",
              "  <thead>\n",
              "    <tr style=\"text-align: right;\">\n",
              "      <th></th>\n",
              "      <th>Store</th>\n",
              "      <th>DayOfWeek</th>\n",
              "      <th>Year</th>\n",
              "      <th>Month</th>\n",
              "      <th>Day</th>\n",
              "      <th>StateHoliday</th>\n",
              "      <th>CompetitionMonthsOpen</th>\n",
              "      <th>Promo2Weeks</th>\n",
              "      <th>StoreType</th>\n",
              "      <th>Assortment</th>\n",
              "      <th>...</th>\n",
              "      <th>Mean_Wind_SpeedKm_h</th>\n",
              "      <th>CloudCover</th>\n",
              "      <th>trend</th>\n",
              "      <th>trend_DE</th>\n",
              "      <th>AfterStateHoliday</th>\n",
              "      <th>BeforeStateHoliday</th>\n",
              "      <th>Promo</th>\n",
              "      <th>SchoolHoliday</th>\n",
              "      <th>CompetitionDistance_na</th>\n",
              "      <th>CloudCover_na</th>\n",
              "    </tr>\n",
              "    <tr>\n",
              "      <th>Date</th>\n",
              "      <th></th>\n",
              "      <th></th>\n",
              "      <th></th>\n",
              "      <th></th>\n",
              "      <th></th>\n",
              "      <th></th>\n",
              "      <th></th>\n",
              "      <th></th>\n",
              "      <th></th>\n",
              "      <th></th>\n",
              "      <th></th>\n",
              "      <th></th>\n",
              "      <th></th>\n",
              "      <th></th>\n",
              "      <th></th>\n",
              "      <th></th>\n",
              "      <th></th>\n",
              "      <th></th>\n",
              "      <th></th>\n",
              "      <th></th>\n",
              "      <th></th>\n",
              "    </tr>\n",
              "  </thead>\n",
              "  <tbody>\n",
              "    <tr>\n",
              "      <th>2014-01-08</th>\n",
              "      <td>781</td>\n",
              "      <td>3</td>\n",
              "      <td>2</td>\n",
              "      <td>1</td>\n",
              "      <td>8</td>\n",
              "      <td>1</td>\n",
              "      <td>25</td>\n",
              "      <td>1</td>\n",
              "      <td>1</td>\n",
              "      <td>1</td>\n",
              "      <td>...</td>\n",
              "      <td>0.367717</td>\n",
              "      <td>1.497856</td>\n",
              "      <td>-1.766166</td>\n",
              "      <td>-1.156709</td>\n",
              "      <td>0.0</td>\n",
              "      <td>0.0</td>\n",
              "      <td>1.112686</td>\n",
              "      <td>-0.491495</td>\n",
              "      <td>-0.051057</td>\n",
              "      <td>-0.295991</td>\n",
              "    </tr>\n",
              "    <tr>\n",
              "      <th>2014-11-22</th>\n",
              "      <td>626</td>\n",
              "      <td>6</td>\n",
              "      <td>2</td>\n",
              "      <td>11</td>\n",
              "      <td>22</td>\n",
              "      <td>1</td>\n",
              "      <td>13</td>\n",
              "      <td>1</td>\n",
              "      <td>3</td>\n",
              "      <td>3</td>\n",
              "      <td>...</td>\n",
              "      <td>0.367717</td>\n",
              "      <td>-0.348017</td>\n",
              "      <td>1.731215</td>\n",
              "      <td>1.830993</td>\n",
              "      <td>0.0</td>\n",
              "      <td>0.0</td>\n",
              "      <td>-0.898726</td>\n",
              "      <td>-0.491495</td>\n",
              "      <td>-0.051057</td>\n",
              "      <td>-0.295991</td>\n",
              "    </tr>\n",
              "  </tbody>\n",
              "</table>\n",
              "<p>2 rows × 40 columns</p>\n",
              "</div>"
            ],
            "text/plain": [
              "            Store  DayOfWeek  Year  Month  Day  StateHoliday  \\\n",
              "Date                                                           \n",
              "2014-01-08    781          3     2      1    8             1   \n",
              "2014-11-22    626          6     2     11   22             1   \n",
              "\n",
              "            CompetitionMonthsOpen  Promo2Weeks  StoreType  Assortment  \\\n",
              "Date                                                                    \n",
              "2014-01-08                     25            1          1           1   \n",
              "2014-11-22                     13            1          3           3   \n",
              "\n",
              "                ...        Mean_Wind_SpeedKm_h  CloudCover     trend  \\\n",
              "Date            ...                                                    \n",
              "2014-01-08      ...                   0.367717    1.497856 -1.766166   \n",
              "2014-11-22      ...                   0.367717   -0.348017  1.731215   \n",
              "\n",
              "            trend_DE  AfterStateHoliday  BeforeStateHoliday     Promo  \\\n",
              "Date                                                                    \n",
              "2014-01-08 -1.156709                0.0                 0.0  1.112686   \n",
              "2014-11-22  1.830993                0.0                 0.0 -0.898726   \n",
              "\n",
              "            SchoolHoliday  CompetitionDistance_na  CloudCover_na  \n",
              "Date                                                              \n",
              "2014-01-08      -0.491495               -0.051057      -0.295991  \n",
              "2014-11-22      -0.491495               -0.051057      -0.295991  \n",
              "\n",
              "[2 rows x 40 columns]"
            ]
          },
          "metadata": {
            "tags": []
          },
          "execution_count": 0
        }
      ]
    },
    {
      "metadata": {
        "id": "CpV6PK8LJk6k",
        "colab_type": "text"
      },
      "cell_type": "markdown",
      "source": [
        "In time series data, cross-validation is not random. Instead, our holdout data is generally the most recent data, as it would be in real application. This issue is discussed in detail in [this post](http://www.fast.ai/2017/11/13/validation-sets/) on our web site.\n",
        "\n",
        "One approach is to take the last 25% of rows (sorted by date) as our validation set."
      ]
    },
    {
      "metadata": {
        "id": "rmokMXCbJk6k",
        "colab_type": "code",
        "colab": {}
      },
      "cell_type": "code",
      "source": [
        "train_ratio = 0.75\n",
        "# train_ratio = 0.9\n",
        "train_size = int(samp_size * train_ratio); train_size\n",
        "val_idx = list(range(train_size, len(df)))"
      ],
      "execution_count": 0,
      "outputs": []
    },
    {
      "metadata": {
        "id": "jbrvQF3eJk6k",
        "colab_type": "text"
      },
      "cell_type": "markdown",
      "source": [
        "An even better option for picking a validation set is using the exact same length of time period as the test set uses - this is implemented here:"
      ]
    },
    {
      "metadata": {
        "id": "NcXOFJH1Jk6l",
        "colab_type": "code",
        "colab": {}
      },
      "cell_type": "code",
      "source": [
        "val_idx = np.flatnonzero(\n",
        "    (df.index<=datetime.datetime(2014,9,17)) & (df.index>=datetime.datetime(2014,8,1)))"
      ],
      "execution_count": 0,
      "outputs": []
    },
    {
      "metadata": {
        "id": "qu_moMwNJk6m",
        "colab_type": "code",
        "colab": {}
      },
      "cell_type": "code",
      "source": [
        "val_idx=[0]"
      ],
      "execution_count": 0,
      "outputs": []
    },
    {
      "metadata": {
        "id": "g8oX5EqZJk6p",
        "colab_type": "text"
      },
      "cell_type": "markdown",
      "source": [
        "## DL"
      ]
    },
    {
      "metadata": {
        "id": "TCm1PlpgJk6q",
        "colab_type": "text"
      },
      "cell_type": "markdown",
      "source": [
        "We're ready to put together our models.\n",
        "\n",
        "Root-mean-squared percent error is the metric Kaggle used for this competition."
      ]
    },
    {
      "metadata": {
        "id": "L4ZIPTSdJk6q",
        "colab_type": "code",
        "colab": {}
      },
      "cell_type": "code",
      "source": [
        "def inv_y(a): return np.exp(a)\n",
        "\n",
        "def exp_rmspe(y_pred, targ):\n",
        "    targ = inv_y(targ)\n",
        "    pct_var = (targ - inv_y(y_pred))/targ\n",
        "    return math.sqrt((pct_var**2).mean())\n",
        "\n",
        "max_log_y = np.max(yl)\n",
        "y_range = (0, max_log_y*1.2)"
      ],
      "execution_count": 0,
      "outputs": []
    },
    {
      "metadata": {
        "id": "1XfGu6l8Jk6t",
        "colab_type": "text"
      },
      "cell_type": "markdown",
      "source": [
        "We can create a ModelData object directly from out data frame."
      ]
    },
    {
      "metadata": {
        "id": "MJ9Dt2UAJk6u",
        "colab_type": "code",
        "colab": {}
      },
      "cell_type": "code",
      "source": [
        "md = ColumnarModelData.from_data_frame(PATH, val_idx, df, yl.astype(np.float32), cat_flds=cat_vars, bs=128,\n",
        "                                       test_df=df_test)"
      ],
      "execution_count": 0,
      "outputs": []
    },
    {
      "metadata": {
        "id": "kWOIkJUFJk6v",
        "colab_type": "text"
      },
      "cell_type": "markdown",
      "source": [
        "Some categorical variables have a lot more levels than others. Store, in particular, has over a thousand!"
      ]
    },
    {
      "metadata": {
        "id": "-nKuWmPEJk6w",
        "colab_type": "code",
        "colab": {}
      },
      "cell_type": "code",
      "source": [
        "cat_sz = [(c, len(joined_samp[c].cat.categories)+1) for c in cat_vars]"
      ],
      "execution_count": 0,
      "outputs": []
    },
    {
      "metadata": {
        "id": "0l_AtyHUJk6y",
        "colab_type": "code",
        "outputId": "37006c46-977d-4a6c-c0a3-3827169d4ec6",
        "colab": {}
      },
      "cell_type": "code",
      "source": [
        "cat_sz"
      ],
      "execution_count": 0,
      "outputs": [
        {
          "output_type": "execute_result",
          "data": {
            "text/plain": [
              "[('Store', 1116),\n",
              " ('DayOfWeek', 8),\n",
              " ('Year', 4),\n",
              " ('Month', 13),\n",
              " ('Day', 32),\n",
              " ('StateHoliday', 3),\n",
              " ('CompetitionMonthsOpen', 26),\n",
              " ('Promo2Weeks', 27),\n",
              " ('StoreType', 5),\n",
              " ('Assortment', 4),\n",
              " ('PromoInterval', 4),\n",
              " ('CompetitionOpenSinceYear', 24),\n",
              " ('Promo2SinceYear', 9),\n",
              " ('State', 13),\n",
              " ('Week', 53),\n",
              " ('Events', 22),\n",
              " ('Promo_fw', 7),\n",
              " ('Promo_bw', 7),\n",
              " ('StateHoliday_fw', 4),\n",
              " ('StateHoliday_bw', 4),\n",
              " ('SchoolHoliday_fw', 9),\n",
              " ('SchoolHoliday_bw', 9)]"
            ]
          },
          "metadata": {
            "tags": []
          },
          "execution_count": 0
        }
      ]
    },
    {
      "metadata": {
        "id": "Qcn6OjdTJk61",
        "colab_type": "text"
      },
      "cell_type": "markdown",
      "source": [
        "We use the *cardinality* of each variable (that is, its number of unique values) to decide how large to make its *embeddings*. Each level will be associated with a vector with length defined as below."
      ]
    },
    {
      "metadata": {
        "id": "Dk735dYVJk62",
        "colab_type": "code",
        "colab": {}
      },
      "cell_type": "code",
      "source": [
        "emb_szs = [(c, min(50, (c+1)//2)) for _,c in cat_sz]"
      ],
      "execution_count": 0,
      "outputs": []
    },
    {
      "metadata": {
        "id": "qevmnHylJk63",
        "colab_type": "code",
        "outputId": "ee4024d7-7153-4533-df63-cacae2df508e",
        "colab": {}
      },
      "cell_type": "code",
      "source": [
        "emb_szs"
      ],
      "execution_count": 0,
      "outputs": [
        {
          "output_type": "execute_result",
          "data": {
            "text/plain": [
              "[(1116, 50),\n",
              " (8, 4),\n",
              " (4, 2),\n",
              " (13, 7),\n",
              " (32, 16),\n",
              " (3, 2),\n",
              " (26, 13),\n",
              " (27, 14),\n",
              " (5, 3),\n",
              " (4, 2),\n",
              " (4, 2),\n",
              " (24, 12),\n",
              " (9, 5),\n",
              " (13, 7),\n",
              " (53, 27),\n",
              " (22, 11),\n",
              " (7, 4),\n",
              " (7, 4),\n",
              " (4, 2),\n",
              " (4, 2),\n",
              " (9, 5),\n",
              " (9, 5)]"
            ]
          },
          "metadata": {
            "tags": []
          },
          "execution_count": 0
        }
      ]
    },
    {
      "metadata": {
        "id": "_iogTiaxJk66",
        "colab_type": "code",
        "colab": {}
      },
      "cell_type": "code",
      "source": [
        "m = md.get_learner(emb_szs, len(df.columns)-len(cat_vars),\n",
        "                   0.04, 1, [1000,500], [0.001,0.01], y_range=y_range)\n",
        "m.summary()"
      ],
      "execution_count": 0,
      "outputs": []
    },
    {
      "metadata": {
        "id": "DC33i3pUJk67",
        "colab_type": "code",
        "outputId": "ac03cfa6-945c-4dac-f57b-2b2d7718e4bf",
        "colab": {}
      },
      "cell_type": "code",
      "source": [
        "lr = 1e-3\n",
        "m.lr_find()"
      ],
      "execution_count": 0,
      "outputs": [
        {
          "output_type": "display_data",
          "data": {
            "application/vnd.jupyter.widget-view+json": {
              "model_id": "0dcee5fad2f84107975671f29d455619",
              "version_major": 2,
              "version_minor": 0
            },
            "text/plain": [
              "A Jupyter Widget"
            ]
          },
          "metadata": {
            "tags": []
          }
        },
        {
          "output_type": "stream",
          "text": [
            " 70%|██████▉   | 611/879 [00:06<00:02, 110.07it/s, loss=0.234] \n",
            "                                                              \r"
          ],
          "name": "stdout"
        }
      ]
    },
    {
      "metadata": {
        "id": "c49YFrlzJk6_",
        "colab_type": "code",
        "outputId": "19997994-e12a-4240-c96f-dbd43aa54ee3",
        "colab": {}
      },
      "cell_type": "code",
      "source": [
        "m.sched.plot(100)"
      ],
      "execution_count": 0,
      "outputs": [
        {
          "output_type": "display_data",
          "data": {
            "image/png": "[encoded data removed]",
            "text/plain": [
              "<matplotlib.figure.Figure at 0x7f0e1a5a24a8>"
            ]
          },
          "metadata": {
            "tags": []
          }
        }
      ]
    },
    {
      "metadata": {
        "id": "qFbI3vveJk7B",
        "colab_type": "text"
      },
      "cell_type": "markdown",
      "source": [
        "### Sample"
      ]
    },
    {
      "metadata": {
        "id": "p-_UYFnoJk7C",
        "colab_type": "code",
        "colab": {}
      },
      "cell_type": "code",
      "source": [
        "m = md.get_learner(emb_szs, len(df.columns)-len(cat_vars),\n",
        "                   0.04, 1, [1000,500], [0.001,0.01], y_range=y_range)\n",
        "lr = 1e-3"
      ],
      "execution_count": 0,
      "outputs": []
    },
    {
      "metadata": {
        "id": "rDcQomQFJk7D",
        "colab_type": "code",
        "outputId": "920a90cd-1143-49d3-fe5c-28c4f0df1b02",
        "colab": {}
      },
      "cell_type": "code",
      "source": [
        "m.fit(lr, 3, metrics=[exp_rmspe])"
      ],
      "execution_count": 0,
      "outputs": [
        {
          "output_type": "display_data",
          "data": {
            "application/vnd.jupyter.widget-view+json": {
              "model_id": "2127e0eaa44d4189b569de2c6544e6a5",
              "version_major": 2,
              "version_minor": 0
            },
            "text/plain": [
              "A Jupyter Widget"
            ]
          },
          "metadata": {
            "tags": []
          }
        },
        {
          "output_type": "stream",
          "text": [
            "[ 0.       0.02479  0.02205  0.19309]                          \n",
            "[ 1.       0.02044  0.01751  0.18301]                          \n",
            "[ 2.       0.01598  0.01571  0.17248]                          \n",
            "\n"
          ],
          "name": "stdout"
        }
      ]
    },
    {
      "metadata": {
        "id": "XAC2RFT5Jk7F",
        "colab_type": "code",
        "outputId": "7640e940-46c9-478a-accf-4a45a21884f6",
        "colab": {}
      },
      "cell_type": "code",
      "source": [
        "m.fit(lr, 5, metrics=[exp_rmspe], cycle_len=1)"
      ],
      "execution_count": 0,
      "outputs": [
        {
          "output_type": "display_data",
          "data": {
            "application/vnd.jupyter.widget-view+json": {
              "model_id": "e03e0e29fbdb4098b8297a41f50a9054",
              "version_major": 2,
              "version_minor": 0
            },
            "text/plain": [
              "A Jupyter Widget"
            ]
          },
          "metadata": {
            "tags": []
          }
        },
        {
          "output_type": "stream",
          "text": [
            "[ 0.       0.01258  0.01278  0.16   ]                          \n",
            "[ 1.       0.01147  0.01214  0.15758]                          \n",
            "[ 2.       0.01157  0.01157  0.15585]                          \n",
            "[ 3.       0.00984  0.01124  0.15251]                           \n",
            "[ 4.       0.00946  0.01094  0.15197]                           \n",
            "\n"
          ],
          "name": "stdout"
        }
      ]
    },
    {
      "metadata": {
        "id": "FEYOlfGNJk7G",
        "colab_type": "code",
        "outputId": "cd6884e2-92f0-4ad7-b584-9ae96a2cc7f6",
        "colab": {}
      },
      "cell_type": "code",
      "source": [
        "m.fit(lr, 2, metrics=[exp_rmspe], cycle_len=4)"
      ],
      "execution_count": 0,
      "outputs": [
        {
          "output_type": "display_data",
          "data": {
            "application/vnd.jupyter.widget-view+json": {
              "model_id": "1fe2c401969c45a39dc02c2c7c86291d",
              "version_major": 2,
              "version_minor": 0
            },
            "text/plain": [
              "A Jupyter Widget"
            ]
          },
          "metadata": {
            "tags": []
          }
        },
        {
          "output_type": "stream",
          "text": [
            "[ 0.       0.01179  0.01242  0.15512]                           \n",
            "[ 1.       0.00921  0.01098  0.15003]                           \n",
            "[ 2.       0.00771  0.01031  0.14431]                           \n",
            "[ 3.       0.00632  0.01016  0.14358]                           \n",
            "[ 4.       0.01003  0.01305  0.16574]                           \n",
            "[ 5.       0.00827  0.01087  0.14937]                           \n",
            "[ 6.       0.00628  0.01025  0.14506]                           \n",
            "[ 7.       0.0053   0.01     0.14449]                           \n",
            "\n"
          ],
          "name": "stdout"
        }
      ]
    },
    {
      "metadata": {
        "id": "s1W5q-dfJk7J",
        "colab_type": "text"
      },
      "cell_type": "markdown",
      "source": [
        "### All"
      ]
    },
    {
      "metadata": {
        "id": "MrlLrivsJk7J",
        "colab_type": "code",
        "colab": {}
      },
      "cell_type": "code",
      "source": [
        "m = md.get_learner(emb_szs, len(df.columns)-len(cat_vars),\n",
        "                   0.04, 1, [1000,500], [0.001,0.01], y_range=y_range)\n",
        "lr = 1e-3"
      ],
      "execution_count": 0,
      "outputs": []
    },
    {
      "metadata": {
        "id": "MVJm7BFmJk7J",
        "colab_type": "code",
        "outputId": "86f570a5-f094-4523-bf74-3fc83d0f94c9",
        "colab": {}
      },
      "cell_type": "code",
      "source": [
        "m.fit(lr, 1, metrics=[exp_rmspe])"
      ],
      "execution_count": 0,
      "outputs": [
        {
          "output_type": "display_data",
          "data": {
            "application/vnd.jupyter.widget-view+json": {
              "model_id": "15d0c7d5e9634030a624fb91c90b081c",
              "version_major": 2,
              "version_minor": 0
            },
            "text/plain": [
              "A Jupyter Widget"
            ]
          },
          "metadata": {
            "tags": []
          }
        },
        {
          "output_type": "stream",
          "text": [
            "[ 0.       0.01456  0.01544  0.1148 ]                            \n",
            "\n"
          ],
          "name": "stdout"
        }
      ]
    },
    {
      "metadata": {
        "id": "FsO8nrUbJk7L",
        "colab_type": "code",
        "outputId": "6affeafe-580e-4eb6-ee9f-456d8cdddd98",
        "colab": {}
      },
      "cell_type": "code",
      "source": [
        "m.fit(lr, 3, metrics=[exp_rmspe])"
      ],
      "execution_count": 0,
      "outputs": [
        {
          "output_type": "display_data",
          "data": {
            "application/vnd.jupyter.widget-view+json": {
              "model_id": "58bd52a856754c359eae9fa25f951dd6",
              "version_major": 2,
              "version_minor": 0
            },
            "text/html": [
              "<p>Failed to display Jupyter Widget of type <code>HBox</code>.</p>\n",
              "<p>\n",
              "  If you're reading this message in the Jupyter Notebook or JupyterLab Notebook, it may mean\n",
              "  that the widgets JavaScript is still loading. If this message persists, it\n",
              "  likely means that the widgets JavaScript library is either not installed or\n",
              "  not enabled. See the <a href=\"https://ipywidgets.readthedocs.io/en/stable/user_install.html\">Jupyter\n",
              "  Widgets Documentation</a> for setup instructions.\n",
              "</p>\n",
              "<p>\n",
              "  If you're reading this message in another frontend (for example, a static\n",
              "  rendering on GitHub or <a href=\"https://nbviewer.jupyter.org/\">NBViewer</a>),\n",
              "  it may mean that your frontend doesn't currently support widgets.\n",
              "</p>\n"
            ],
            "text/plain": [
              "HBox(children=(IntProgress(value=0, description='Epoch', max=3), HTML(value='')))"
            ]
          },
          "metadata": {
            "tags": []
          }
        },
        {
          "output_type": "stream",
          "text": [
            "[ 0.       0.01418  0.02066  0.12765]                           \n",
            "[ 1.       0.01081  0.01276  0.11221]                           \n",
            "[ 2.       0.00976  0.01233  0.10987]                            \n",
            "\n"
          ],
          "name": "stdout"
        }
      ]
    },
    {
      "metadata": {
        "id": "Knq-gp3DJk7L",
        "colab_type": "code",
        "outputId": "ec4c2020-707d-4767-9599-70b35a50f3c1",
        "colab": {}
      },
      "cell_type": "code",
      "source": [
        "m.fit(lr, 3, metrics=[exp_rmspe], cycle_len=1)"
      ],
      "execution_count": 0,
      "outputs": [
        {
          "output_type": "display_data",
          "data": {
            "application/vnd.jupyter.widget-view+json": {
              "model_id": "738899f6b0574b50be6d3f6efff9e578",
              "version_major": 2,
              "version_minor": 0
            },
            "text/html": [
              "<p>Failed to display Jupyter Widget of type <code>HBox</code>.</p>\n",
              "<p>\n",
              "  If you're reading this message in the Jupyter Notebook or JupyterLab Notebook, it may mean\n",
              "  that the widgets JavaScript is still loading. If this message persists, it\n",
              "  likely means that the widgets JavaScript library is either not installed or\n",
              "  not enabled. See the <a href=\"https://ipywidgets.readthedocs.io/en/stable/user_install.html\">Jupyter\n",
              "  Widgets Documentation</a> for setup instructions.\n",
              "</p>\n",
              "<p>\n",
              "  If you're reading this message in another frontend (for example, a static\n",
              "  rendering on GitHub or <a href=\"https://nbviewer.jupyter.org/\">NBViewer</a>),\n",
              "  it may mean that your frontend doesn't currently support widgets.\n",
              "</p>\n"
            ],
            "text/plain": [
              "HBox(children=(IntProgress(value=0, description='Epoch', max=3), HTML(value='')))"
            ]
          },
          "metadata": {
            "tags": []
          }
        },
        {
          "output_type": "stream",
          "text": [
            "[ 0.       0.00801  0.01081  0.09899]                            \n",
            "[ 1.       0.00714  0.01083  0.09846]                            \n",
            "[ 2.       0.00707  0.01088  0.09878]                            \n",
            "\n"
          ],
          "name": "stdout"
        }
      ]
    },
    {
      "metadata": {
        "id": "oetoBHPXJk7O",
        "colab_type": "text"
      },
      "cell_type": "markdown",
      "source": [
        "### Test"
      ]
    },
    {
      "metadata": {
        "id": "q18H2iMGJk7O",
        "colab_type": "code",
        "colab": {}
      },
      "cell_type": "code",
      "source": [
        "m = md.get_learner(emb_szs, len(df.columns)-len(cat_vars),\n",
        "                   0.04, 1, [1000,500], [0.001,0.01], y_range=y_range)\n",
        "lr = 1e-3"
      ],
      "execution_count": 0,
      "outputs": []
    },
    {
      "metadata": {
        "id": "QUIC8NfYJk7R",
        "colab_type": "code",
        "outputId": "04d2327e-6d4b-4de9-c86f-7855d1ef8127",
        "colab": {}
      },
      "cell_type": "code",
      "source": [
        "m.fit(lr, 3, metrics=[exp_rmspe])"
      ],
      "execution_count": 0,
      "outputs": [
        {
          "output_type": "display_data",
          "data": {
            "application/vnd.jupyter.widget-view+json": {
              "model_id": "74827eff47794b5eb8d09982d30202fe",
              "version_major": 2,
              "version_minor": 0
            },
            "text/html": [
              "<p>Failed to display Jupyter Widget of type <code>HBox</code>.</p>\n",
              "<p>\n",
              "  If you're reading this message in the Jupyter Notebook or JupyterLab Notebook, it may mean\n",
              "  that the widgets JavaScript is still loading. If this message persists, it\n",
              "  likely means that the widgets JavaScript library is either not installed or\n",
              "  not enabled. See the <a href=\"https://ipywidgets.readthedocs.io/en/stable/user_install.html\">Jupyter\n",
              "  Widgets Documentation</a> for setup instructions.\n",
              "</p>\n",
              "<p>\n",
              "  If you're reading this message in another frontend (for example, a static\n",
              "  rendering on GitHub or <a href=\"https://nbviewer.jupyter.org/\">NBViewer</a>),\n",
              "  it may mean that your frontend doesn't currently support widgets.\n",
              "</p>\n"
            ],
            "text/plain": [
              "HBox(children=(IntProgress(value=0, description='Epoch', max=3), HTML(value='')))"
            ]
          },
          "metadata": {
            "tags": []
          }
        },
        {
          "output_type": "stream",
          "text": [
            "[ 0.       0.01413  0.0063   0.07628]                           \n",
            "[ 1.       0.01022  0.00859  0.08851]                           \n",
            "[ 2.       0.00932  0.00001  0.00243]                            \n",
            "\n"
          ],
          "name": "stdout"
        }
      ]
    },
    {
      "metadata": {
        "id": "59M0U3cXJk7R",
        "colab_type": "code",
        "outputId": "04bed19a-4008-4a70-b6cc-22c252ebe84b",
        "colab": {}
      },
      "cell_type": "code",
      "source": [
        "m.fit(lr, 3, metrics=[exp_rmspe], cycle_len=1)"
      ],
      "execution_count": 0,
      "outputs": [
        {
          "output_type": "display_data",
          "data": {
            "application/vnd.jupyter.widget-view+json": {
              "model_id": "07f0b0fea31c4afa8c6770085d233230",
              "version_major": 2,
              "version_minor": 0
            },
            "text/html": [
              "<p>Failed to display Jupyter Widget of type <code>HBox</code>.</p>\n",
              "<p>\n",
              "  If you're reading this message in the Jupyter Notebook or JupyterLab Notebook, it may mean\n",
              "  that the widgets JavaScript is still loading. If this message persists, it\n",
              "  likely means that the widgets JavaScript library is either not installed or\n",
              "  not enabled. See the <a href=\"https://ipywidgets.readthedocs.io/en/stable/user_install.html\">Jupyter\n",
              "  Widgets Documentation</a> for setup instructions.\n",
              "</p>\n",
              "<p>\n",
              "  If you're reading this message in another frontend (for example, a static\n",
              "  rendering on GitHub or <a href=\"https://nbviewer.jupyter.org/\">NBViewer</a>),\n",
              "  it may mean that your frontend doesn't currently support widgets.\n",
              "</p>\n"
            ],
            "text/plain": [
              "HBox(children=(IntProgress(value=0, description='Epoch', max=3), HTML(value='')))"
            ]
          },
          "metadata": {
            "tags": []
          }
        },
        {
          "output_type": "stream",
          "text": [
            "[ 0.       0.00748  0.       0.00167]                            \n",
            "[ 1.       0.00717  0.00009  0.00947]                            \n",
            "[ 2.       0.00643  0.00013  0.01147]                            \n",
            "\n"
          ],
          "name": "stdout"
        }
      ]
    },
    {
      "metadata": {
        "id": "yWlPyBEiJk7U",
        "colab_type": "code",
        "colab": {}
      },
      "cell_type": "code",
      "source": [
        "m.save('val0')"
      ],
      "execution_count": 0,
      "outputs": []
    },
    {
      "metadata": {
        "id": "Wqf0r76GJk7V",
        "colab_type": "code",
        "colab": {}
      },
      "cell_type": "code",
      "source": [
        "m.load('val0')"
      ],
      "execution_count": 0,
      "outputs": []
    },
    {
      "metadata": {
        "id": "P_EFEa68Jk7W",
        "colab_type": "code",
        "colab": {}
      },
      "cell_type": "code",
      "source": [
        "x,y=m.predict_with_targs()"
      ],
      "execution_count": 0,
      "outputs": []
    },
    {
      "metadata": {
        "id": "eeHUDg05Jk7X",
        "colab_type": "code",
        "outputId": "69dc57c2-55a7-460a-c4a3-4a62dd7d1a09",
        "colab": {}
      },
      "cell_type": "code",
      "source": [
        "exp_rmspe(x,y)"
      ],
      "execution_count": 0,
      "outputs": [
        {
          "output_type": "execute_result",
          "data": {
            "text/plain": [
              "0.01147316926177568"
            ]
          },
          "metadata": {
            "tags": []
          },
          "execution_count": 0
        }
      ]
    },
    {
      "metadata": {
        "id": "lqqNc-kAJk7Z",
        "colab_type": "code",
        "colab": {}
      },
      "cell_type": "code",
      "source": [
        "pred_test=m.predict(True)"
      ],
      "execution_count": 0,
      "outputs": []
    },
    {
      "metadata": {
        "id": "AbIAU6ePJk7a",
        "colab_type": "code",
        "colab": {}
      },
      "cell_type": "code",
      "source": [
        "pred_test = np.exp(pred_test)"
      ],
      "execution_count": 0,
      "outputs": []
    },
    {
      "metadata": {
        "id": "161fLTpEJk7a",
        "colab_type": "code",
        "colab": {}
      },
      "cell_type": "code",
      "source": [
        "joined_test['Sales']=pred_test"
      ],
      "execution_count": 0,
      "outputs": []
    },
    {
      "metadata": {
        "id": "8SKqWH-nJk7d",
        "colab_type": "code",
        "colab": {}
      },
      "cell_type": "code",
      "source": [
        "csv_fn=f'{PATH}tmp/sub.csv'"
      ],
      "execution_count": 0,
      "outputs": []
    },
    {
      "metadata": {
        "id": "SAsaoDx2Jk7e",
        "colab_type": "code",
        "colab": {}
      },
      "cell_type": "code",
      "source": [
        "joined_test[['Id','Sales']].to_csv(csv_fn, index=False)"
      ],
      "execution_count": 0,
      "outputs": []
    },
    {
      "metadata": {
        "id": "ILAGRLaqJk7f",
        "colab_type": "code",
        "outputId": "d43e5526-9cc8-4cc3-bdff-fb7aaf45f8fb",
        "colab": {}
      },
      "cell_type": "code",
      "source": [
        "FileLink(csv_fn)"
      ],
      "execution_count": 0,
      "outputs": [
        {
          "output_type": "execute_result",
          "data": {
            "text/html": [
              "<a href='data/rossmann/tmp/sub.csv' target='_blank'>data/rossmann/tmp/sub.csv</a><br>"
            ],
            "text/plain": [
              "/home/ubuntu/fastai/courses/dl1/data/rossmann/tmp/sub.csv"
            ]
          },
          "metadata": {
            "tags": []
          },
          "execution_count": 0
        }
      ]
    },
    {
      "metadata": {
        "id": "I6kXNDOPJk7i",
        "colab_type": "text"
      },
      "cell_type": "markdown",
      "source": [
        "## RF"
      ]
    },
    {
      "metadata": {
        "id": "mIo3nISQJk7i",
        "colab_type": "code",
        "colab": {}
      },
      "cell_type": "code",
      "source": [
        "from sklearn.ensemble import RandomForestRegressor"
      ],
      "execution_count": 0,
      "outputs": []
    },
    {
      "metadata": {
        "id": "7YciNHqaJk7j",
        "colab_type": "code",
        "colab": {}
      },
      "cell_type": "code",
      "source": [
        "((val,trn), (y_val,y_trn)) = split_by_idx(val_idx, df.values, yl)"
      ],
      "execution_count": 0,
      "outputs": []
    },
    {
      "metadata": {
        "id": "JDZgQZQUJk7l",
        "colab_type": "code",
        "colab": {}
      },
      "cell_type": "code",
      "source": [
        "m = RandomForestRegressor(n_estimators=40, max_features=0.99, min_samples_leaf=2,\n",
        "                          n_jobs=-1, oob_score=True)\n",
        "m.fit(trn, y_trn);"
      ],
      "execution_count": 0,
      "outputs": []
    },
    {
      "metadata": {
        "id": "d6sD0zsfJk7l",
        "colab_type": "code",
        "outputId": "18c2b993-8556-436b-ccff-b097e78ea94a",
        "colab": {}
      },
      "cell_type": "code",
      "source": [
        "preds = m.predict(val)\n",
        "m.score(trn, y_trn), m.score(val, y_val), m.oob_score_, exp_rmspe(preds, y_val)"
      ],
      "execution_count": 0,
      "outputs": [
        {
          "output_type": "execute_result",
          "data": {
            "text/plain": [
              "(0.98086411192483902,\n",
              " 0.92614447508562714,\n",
              " 0.9193358549649463,\n",
              " 0.11557443993375387)"
            ]
          },
          "metadata": {
            "tags": []
          },
          "execution_count": 0
        }
      ]
    },
    {
      "metadata": {
        "id": "z8Gj6CV3Jk7p",
        "colab_type": "code",
        "colab": {}
      },
      "cell_type": "code",
      "source": [
        ""
      ],
      "execution_count": 0,
      "outputs": []
    }
  ]
}