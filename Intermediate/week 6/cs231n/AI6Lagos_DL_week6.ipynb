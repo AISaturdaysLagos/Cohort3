{
  "nbformat": 4,
  "nbformat_minor": 0,
  "metadata": {
    "colab": {
      "name": "AI6Lagos DL week6.ipynb",
      "version": "0.3.2",
      "provenance": []
    },
    "kernelspec": {
      "name": "python3",
      "display_name": "Python 3"
    },
    "accelerator": "GPU"
  },
  "cells": [
    {
      "metadata": {
        "id": "y7bH43qZnMud",
        "colab_type": "text"
      },
      "cell_type": "markdown",
      "source": [
        "# Week 6: Convolutional Neural Networks Lab"
      ]
    },
    {
      "metadata": {
        "id": "ND_A753MnVYZ",
        "colab_type": "text"
      },
      "cell_type": "markdown",
      "source": [
        "This week, we explore convolutional neural networks, a neural network architecture at the core of almost all computer vision tasks. We take a good look at how convolution operation is done in tensorflow and then build a simple convolutional neural network in tensorflow."
      ]
    },
    {
      "metadata": {
        "id": "uO60M8EMo7lB",
        "colab_type": "text"
      },
      "cell_type": "markdown",
      "source": [
        "first, we load tensorflow, enable eager execution and import other libraries."
      ]
    },
    {
      "metadata": {
        "id": "o_6kes21nKe2",
        "colab_type": "code",
        "colab": {}
      },
      "cell_type": "code",
      "source": [
        "import tensorflow as tf\n",
        "tf.enable_eager_execution()\n",
        "\n",
        "import matplotlib.pyplot as plt\n",
        "import numpy as np\n",
        "import random"
      ],
      "execution_count": 0,
      "outputs": []
    },
    {
      "metadata": {
        "id": "cnUpoV6rpOh4",
        "colab_type": "text"
      },
      "cell_type": "markdown",
      "source": [
        "Let's use the popular MNIST dataset"
      ]
    },
    {
      "metadata": {
        "id": "u_vGdtdFoVi3",
        "colab_type": "code",
        "colab": {}
      },
      "cell_type": "code",
      "source": [
        "mnist = tf.keras.datasets.mnist\n",
        "(train_images, train_labels), (test_images, test_labels) = mnist.load_data()\n"
      ],
      "execution_count": 0,
      "outputs": []
    },
    {
      "metadata": {
        "id": "BGZsNnHkputk",
        "colab_type": "code",
        "outputId": "14e3c30a-3b0b-4377-b880-23c02c744938",
        "colab": {
          "base_uri": "https://localhost:8080/",
          "height": 34
        }
      },
      "cell_type": "code",
      "source": [
        "train_labels.shape"
      ],
      "execution_count": 0,
      "outputs": [
        {
          "output_type": "execute_result",
          "data": {
            "text/plain": [
              "(60000,)"
            ]
          },
          "metadata": {
            "tags": []
          },
          "execution_count": 3
        }
      ]
    },
    {
      "metadata": {
        "id": "VjxClQQEpkmt",
        "colab_type": "text"
      },
      "cell_type": "markdown",
      "source": [
        "visualize few digits"
      ]
    },
    {
      "metadata": {
        "id": "dQXmj7EOpX8x",
        "colab_type": "code",
        "outputId": "7732cb28-0595-443b-c151-5deaa909de87",
        "colab": {
          "base_uri": "https://localhost:8080/",
          "height": 878
        }
      },
      "cell_type": "code",
      "source": [
        "def plot_samples(n_samples=10):\n",
        "    classes = ['0', '1', '2', '3', '4', '5', '6', '7', '8', '9']\n",
        "    num_classes = len(classes)\n",
        "    samples_per_class = n_samples\n",
        "    plt.figure(figsize=(15,15))\n",
        "    for y, cls in enumerate(classes):\n",
        "        idxs = np.flatnonzero(train_labels == y)\n",
        "        idxs = np.random.choice(idxs, samples_per_class, replace=False)\n",
        "        for i, idx in enumerate(idxs):\n",
        "            plt_idx = i * num_classes + y + 1\n",
        "            plt.subplot(samples_per_class, num_classes, plt_idx)\n",
        "            plt.imshow(train_images[idx].astype('uint8'), cmap='gray')\n",
        "            plt.axis('off')\n",
        "            if i == 0:\n",
        "                plt.title(cls)\n",
        "    plt.show()\n",
        "    \n",
        "plot_samples(10)"
      ],
      "execution_count": 0,
      "outputs": [
        {
          "output_type": "display_data",
          "data": {
            "image/png": "[encoded data removed]",
            "text/plain": [
              "<Figure size 1080x1080 with 100 Axes>"
            ]
          },
          "metadata": {
            "tags": []
          }
        }
      ]
    },
    {
      "metadata": {
        "id": "Xr-uvr_pvOz7",
        "colab_type": "text"
      },
      "cell_type": "markdown",
      "source": [
        "## Convolutions"
      ]
    },
    {
      "metadata": {
        "id": "eaFiCrS7qGfG",
        "colab_type": "text"
      },
      "cell_type": "markdown",
      "source": [
        "Next, we select a random image and try out the convolution operation on it."
      ]
    },
    {
      "metadata": {
        "id": "NzrbLWjkp678",
        "colab_type": "code",
        "outputId": "e51e9ce6-bcf0-4396-87ba-bc532c9bfc18",
        "colab": {
          "base_uri": "https://localhost:8080/",
          "height": 347
        }
      },
      "cell_type": "code",
      "source": [
        "random_image = train_images[random.randint(0,1000)]\n",
        "plt.imshow(random_image, cmap='gray'); plt.axis('off');"
      ],
      "execution_count": 0,
      "outputs": [
        {
          "output_type": "display_data",
          "data": {
            "image/png": "[encoded data removed]",
            "text/plain": [
              "<Figure size 576x396 with 1 Axes>"
            ]
          },
          "metadata": {
            "tags": []
          }
        }
      ]
    },
    {
      "metadata": {
        "id": "CNL7VbqDqtcE",
        "colab_type": "text"
      },
      "cell_type": "markdown",
      "source": [
        "In CNNs, convolutions are carried out by sliding a filter through an input image. "
      ]
    },
    {
      "metadata": {
        "id": "carEo0aoqsi0",
        "colab_type": "code",
        "colab": {}
      },
      "cell_type": "code",
      "source": [
        "conv_filter = tf.random.normal(shape=(3,3,1,32), name='filter') # filter to use 32 3x3 filters\n",
        "input_img = tf.Variable(random_image.reshape((1,28,28,1)), name='input', dtype=tf.float32) # input image\n",
        "output = tf.nn.conv2d(input_img, conv_filter, [1,1,1,1], padding='VALID') # result of convolution"
      ],
      "execution_count": 0,
      "outputs": []
    },
    {
      "metadata": {
        "id": "p4cgb2mFs8R_",
        "colab_type": "text"
      },
      "cell_type": "markdown",
      "source": [
        "input width and height dimension  is 28x28x1\n",
        "\n",
        "resulting output  dimension is 26x26x32 => 32 3x3x1 filters were used.\n"
      ]
    },
    {
      "metadata": {
        "id": "0HX2d19tt7kP",
        "colab_type": "code",
        "outputId": "16f74ea2-732d-4a57-cb0c-e7bf2343dab9",
        "colab": {
          "base_uri": "https://localhost:8080/",
          "height": 34
        }
      },
      "cell_type": "code",
      "source": [
        "input_img.numpy().shape"
      ],
      "execution_count": 0,
      "outputs": [
        {
          "output_type": "execute_result",
          "data": {
            "text/plain": [
              "(1, 28, 28, 1)"
            ]
          },
          "metadata": {
            "tags": []
          },
          "execution_count": 7
        }
      ]
    },
    {
      "metadata": {
        "id": "k3T_fK5aqUaM",
        "colab_type": "code",
        "outputId": "095dafc4-1ed9-4611-f5f6-a53c73f41509",
        "colab": {
          "base_uri": "https://localhost:8080/",
          "height": 34
        }
      },
      "cell_type": "code",
      "source": [
        "output.numpy().shape"
      ],
      "execution_count": 0,
      "outputs": [
        {
          "output_type": "execute_result",
          "data": {
            "text/plain": [
              "(1, 26, 26, 32)"
            ]
          },
          "metadata": {
            "tags": []
          },
          "execution_count": 8
        }
      ]
    },
    {
      "metadata": {
        "id": "Ey4n3QZ9uBnf",
        "colab_type": "text"
      },
      "cell_type": "markdown",
      "source": [
        "Convolutions can also be applied in tensorflow by using a convolutional layer."
      ]
    },
    {
      "metadata": {
        "id": "cJAjv0yMubmD",
        "colab_type": "code",
        "outputId": "a853a951-56cb-49b9-bc6c-0bfd5f7a45fd",
        "colab": {
          "base_uri": "https://localhost:8080/",
          "height": 88
        }
      },
      "cell_type": "code",
      "source": [
        "conv_layer = tf.keras.layers.Conv2D(32, 3, 1, padding='valid')\n",
        "output1 = conv_layer(input_img)"
      ],
      "execution_count": 0,
      "outputs": [
        {
          "output_type": "stream",
          "text": [
            "WARNING:tensorflow:From /usr/local/lib/python3.6/dist-packages/tensorflow/python/ops/resource_variable_ops.py:642: colocate_with (from tensorflow.python.framework.ops) is deprecated and will be removed in a future version.\n",
            "Instructions for updating:\n",
            "Colocations handled automatically by placer.\n"
          ],
          "name": "stdout"
        }
      ]
    },
    {
      "metadata": {
        "id": "XQfW8XWNvEb7",
        "colab_type": "text"
      },
      "cell_type": "markdown",
      "source": [
        "In the code cell above, we defined a convolutional layer  object `conv_layer` using `tf.keras.layers.Conv2D(32, 3, 1, padding='valid')`. The parameters to the Conv2D class contructor defines the filters, strides and padding to be used for the convolutional layer. In the case, above, there are 32 filters of size 3. the stride is 1 and `padding='valid'` means that no padding is used. The input image is then fed into the convolutional layer and an output is obtained.\n",
        "\n",
        "\n",
        "These gave similar results as the convolution operation above, `tf.nn.conv2d` in terms of the output shapes."
      ]
    },
    {
      "metadata": {
        "id": "QCkThgvyvEtN",
        "colab_type": "code",
        "outputId": "c07a3547-c678-4940-cdb7-92c01191c336",
        "colab": {
          "base_uri": "https://localhost:8080/",
          "height": 34
        }
      },
      "cell_type": "code",
      "source": [
        "input_img.numpy().shape"
      ],
      "execution_count": 0,
      "outputs": [
        {
          "output_type": "execute_result",
          "data": {
            "text/plain": [
              "(1, 28, 28, 1)"
            ]
          },
          "metadata": {
            "tags": []
          },
          "execution_count": 10
        }
      ]
    },
    {
      "metadata": {
        "id": "9QGU4ZkJu7iz",
        "colab_type": "code",
        "outputId": "33d88108-43cb-400b-b9cc-6ad04441011a",
        "colab": {
          "base_uri": "https://localhost:8080/",
          "height": 34
        }
      },
      "cell_type": "code",
      "source": [
        "output1.numpy().shape"
      ],
      "execution_count": 0,
      "outputs": [
        {
          "output_type": "execute_result",
          "data": {
            "text/plain": [
              "(1, 26, 26, 32)"
            ]
          },
          "metadata": {
            "tags": []
          },
          "execution_count": 11
        }
      ]
    },
    {
      "metadata": {
        "id": "lPVGyNVYyjaO",
        "colab_type": "code",
        "colab": {}
      },
      "cell_type": "code",
      "source": [
        ""
      ],
      "execution_count": 0,
      "outputs": []
    },
    {
      "metadata": {
        "id": "8_dpZMVQznO-",
        "colab_type": "text"
      },
      "cell_type": "markdown",
      "source": [
        "## building a simple convolutional neural network"
      ]
    },
    {
      "metadata": {
        "id": "1sCg-Sybz3ZU",
        "colab_type": "text"
      },
      "cell_type": "markdown",
      "source": [
        "To build a CNN, the best approach is to use tf.keras layers and Models"
      ]
    },
    {
      "metadata": {
        "id": "hlDVqmkfztqT",
        "colab_type": "code",
        "colab": {}
      },
      "cell_type": "code",
      "source": [
        "def build_cnn():\n",
        "  \n",
        "  # Input layer\n",
        "  input_x = tf.keras.layers.Input(shape=(28,28,1), name='input')\n",
        "  \n",
        "  # First convolutional layer (1)\n",
        "  # Conv1_1\n",
        "  conv1_1 = tf.keras.layers.Conv2D(32, 3, 1, padding='same', activation=tf.nn.relu, name='Conv1_1')(input_x)\n",
        "  \n",
        "  # Pool1_1\n",
        "  pool1_1 = tf.keras.layers.MaxPool2D(pool_size=(2,2), name='Pool1_1')(conv1_1) \n",
        "  \n",
        "  # Second convolutional layer (2)\n",
        "  # Conv2_1 \n",
        "  conv2_1 = tf.keras.layers.Conv2D(64, 3, 1, padding='same', activation=tf.nn.relu, name='Conv2_1')(pool1_1)\n",
        "  \n",
        "  # Pool2_1\n",
        "  pool2_1 = tf.keras.layers.MaxPool2D(pool_size=(2,2), name='Pool2_1')(conv2_1) \n",
        "  \n",
        "  # Flatten conv output\n",
        "  flattened_conv = tf.keras.layers.Flatten(name='flatten')(pool2_1)\n",
        "  \n",
        "  # Fully connected layers\n",
        "  # Fc3 (3)\n",
        "  fc3 = tf.keras.layers.Dense(128, activation=tf.nn.relu, name='Fc3')(flattened_conv)\n",
        "  \n",
        "  # Fc4 (4)\n",
        "  fc4 = tf.keras.layers.Dense(64, activation=tf.nn.relu,  name='Fc4')(fc3)\n",
        "  \n",
        "  # Fc5 (5)\n",
        "  fc5 = tf.keras.layers.Dense(10, activation=tf.nn.softmax,  name='Fc5')(fc4)\n",
        "  \n",
        "  return tf.keras.models.Model(inputs=[input_x], outputs=[fc5])\n",
        "  "
      ],
      "execution_count": 0,
      "outputs": []
    },
    {
      "metadata": {
        "id": "XguOQjzB5o9D",
        "colab_type": "code",
        "colab": {}
      },
      "cell_type": "code",
      "source": [
        "# buid the model\n",
        "model = build_cnn()"
      ],
      "execution_count": 0,
      "outputs": []
    },
    {
      "metadata": {
        "colab_type": "code",
        "outputId": "9e1c9392-98a4-4806-d252-fc25073127f6",
        "id": "Hea5QXkoK7Br",
        "colab": {
          "base_uri": "https://localhost:8080/",
          "height": 442
        }
      },
      "cell_type": "code",
      "source": [
        "model.summary()"
      ],
      "execution_count": 0,
      "outputs": [
        {
          "output_type": "stream",
          "text": [
            "_________________________________________________________________\n",
            "Layer (type)                 Output Shape              Param #   \n",
            "=================================================================\n",
            "input (InputLayer)           (None, 28, 28, 1)         0         \n",
            "_________________________________________________________________\n",
            "Conv1_1 (Conv2D)             (None, 28, 28, 32)        320       \n",
            "_________________________________________________________________\n",
            "Pool1_1 (MaxPooling2D)       (None, 14, 14, 32)        0         \n",
            "_________________________________________________________________\n",
            "Conv2_1 (Conv2D)             (None, 14, 14, 64)        18496     \n",
            "_________________________________________________________________\n",
            "Pool2_1 (MaxPooling2D)       (None, 7, 7, 64)          0         \n",
            "_________________________________________________________________\n",
            "flatten (Flatten)            (None, 3136)              0         \n",
            "_________________________________________________________________\n",
            "Fc3 (Dense)                  (None, 128)               401536    \n",
            "_________________________________________________________________\n",
            "Fc4 (Dense)                  (None, 64)                8256      \n",
            "_________________________________________________________________\n",
            "Fc5 (Dense)                  (None, 10)                650       \n",
            "=================================================================\n",
            "Total params: 429,258\n",
            "Trainable params: 429,258\n",
            "Non-trainable params: 0\n",
            "_________________________________________________________________\n"
          ],
          "name": "stdout"
        }
      ]
    },
    {
      "metadata": {
        "id": "-wBL7sVm6s_7",
        "colab_type": "text"
      },
      "cell_type": "markdown",
      "source": [
        "We've built a basic CNN similar to the LeNet-5 architecture. Let's go ahead and train this network on the MNIST dataset."
      ]
    },
    {
      "metadata": {
        "id": "ImHt-xLjBEbr",
        "colab_type": "code",
        "colab": {}
      },
      "cell_type": "code",
      "source": [
        "train_images = np.expand_dims(train_images, -1)\n"
      ],
      "execution_count": 0,
      "outputs": []
    },
    {
      "metadata": {
        "id": "RBF-gi9o-TtS",
        "colab_type": "code",
        "colab": {}
      },
      "cell_type": "code",
      "source": [
        "model.compile(optimizer=tf.train.GradientDescentOptimizer(learning_rate=1e-3),\n",
        "              loss='sparse_categorical_crossentropy',\n",
        "              metrics=['accuracy'])"
      ],
      "execution_count": 0,
      "outputs": []
    },
    {
      "metadata": {
        "id": "ckDCH8AsHSrf",
        "colab_type": "code",
        "outputId": "c028f575-51a2-4dee-c538-5425094c52bc",
        "colab": {
          "base_uri": "https://localhost:8080/",
          "height": 221
        }
      },
      "cell_type": "code",
      "source": [
        "model.fit(train_images, train_labels, batch_size=5, epochs=5, validation_split=0.2)"
      ],
      "execution_count": 0,
      "outputs": [
        {
          "output_type": "stream",
          "text": [
            "Train on 48000 samples, validate on 12000 samples\n",
            "Epoch 1/5\n",
            "48000/48000 [==============================] - 49s 1ms/sample - loss: 7.9410 - acc: 0.4783 - val_loss: 0.1246 - val_acc: 0.9637\n",
            "Epoch 2/5\n",
            "48000/48000 [==============================] - 49s 1ms/sample - loss: 0.0856 - acc: 0.9737 - val_loss: 0.0638 - val_acc: 0.9802\n",
            "Epoch 3/5\n",
            "48000/48000 [==============================] - 49s 1ms/sample - loss: 0.0502 - acc: 0.9842 - val_loss: 0.0594 - val_acc: 0.9826\n",
            "Epoch 4/5\n",
            "48000/48000 [==============================] - 48s 1ms/sample - loss: 0.0333 - acc: 0.9898 - val_loss: 0.0464 - val_acc: 0.9868\n",
            "Epoch 5/5\n",
            "48000/48000 [==============================] - 48s 1ms/sample - loss: 0.0245 - acc: 0.9922 - val_loss: 0.0461 - val_acc: 0.9868\n"
          ],
          "name": "stdout"
        },
        {
          "output_type": "execute_result",
          "data": {
            "text/plain": [
              "<tensorflow.python.keras.callbacks.History at 0x7f3ba4324438>"
            ]
          },
          "metadata": {
            "tags": []
          },
          "execution_count": 18
        }
      ]
    },
    {
      "metadata": {
        "id": "ghe8pKDHHhan",
        "colab_type": "code",
        "colab": {}
      },
      "cell_type": "code",
      "source": [
        ""
      ],
      "execution_count": 0,
      "outputs": []
    }
  ]
}